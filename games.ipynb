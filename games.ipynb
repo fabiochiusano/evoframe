{
 "cells": [
  {
   "cell_type": "code",
   "execution_count": 1,
   "metadata": {},
   "outputs": [],
   "source": [
    "from evoframe.reward_builders import RewardBuilderGame\n",
    "from evoframe.population_update_builders import PopulationUpdateBuilderStatic\n",
    "from evoframe.selector_function import SelectorFunctionFactory\n",
    "from evoframe import PopulationManager\n",
    "from evoframe.models import FeedForwardNetwork\n",
    "from evoframe.models import ActivationFunctions\n",
    "from evoframe.games import Game\n",
    "from evoframe import get_agent_wrapper_func\n",
    "import evoframe.func_with_context as fwc\n",
    "\n",
    "import numpy as np\n",
    "\n",
    "import matplotlib.pyplot as plt\n",
    "%matplotlib inline"
   ]
  },
  {
   "cell_type": "code",
   "execution_count": 2,
   "metadata": {},
   "outputs": [],
   "source": [
    "def plot_rewards(env):\n",
    "    num_epochs = len(env[\"rewards\"].keys())\n",
    "    xs = np.arange(num_epochs)\n",
    "    ys = [rs[0] for rs in env[\"rewards\"].values()]\n",
    "    plt.plot(xs, ys)"
   ]
  },
  {
   "cell_type": "code",
   "execution_count": 3,
   "metadata": {},
   "outputs": [],
   "source": [
    "import collections\n",
    "\n",
    "def recursively_default_dict():\n",
    "    return collections.defaultdict(recursively_default_dict)"
   ]
  },
  {
   "cell_type": "code",
   "execution_count": 4,
   "metadata": {},
   "outputs": [],
   "source": [
    "def plot_delta_rewards_by_operator(context, hist_range, save=False):\n",
    "    num_epochs = len(context[\"epochs\"])\n",
    "    is_first = True\n",
    "    all_operators = list(set(context[\"epochs\"][2][\"operators\"]))\n",
    "    num_cols = len(all_operators)\n",
    "    num_rows = num_epochs - 1\n",
    "\n",
    "    plt.figure(figsize=(16, num_rows*4))\n",
    "\n",
    "    for i_epoch, epoch in context[\"epochs\"].items():\n",
    "        models = epoch[\"models\"]\n",
    "        rewards = epoch[\"rewards\"]\n",
    "        operators = epoch[\"operators\"]\n",
    "\n",
    "        if is_first:\n",
    "            is_first = False\n",
    "        else:\n",
    "            delta_rewards = [r - prev_best_rewards for r in rewards]\n",
    "            d_rewards = {op:[] for op in all_operators}\n",
    "            for i in range(len(models)):\n",
    "                d_rewards[operators[i]] += [delta_rewards[i]]\n",
    "            for i,op in enumerate(all_operators):\n",
    "                cell = (i_epoch - 2)*3 + i + 1\n",
    "                plt.subplot(num_rows, num_cols, cell)\n",
    "                plt.title(\"Epoch {} - Operator {}\".format(i_epoch, op))\n",
    "                plt.hist(d_rewards[op], 50, range=hist_range)\n",
    "\n",
    "        prev_best_rewards = max(rewards)\n",
    "\n",
    "    if save:\n",
    "        plt.savefig(\"guessfunction.png\")\n",
    "    else:\n",
    "        plt.show()"
   ]
  },
  {
   "cell_type": "markdown",
   "metadata": {},
   "source": [
    "# Guess the point"
   ]
  },
  {
   "cell_type": "code",
   "execution_count": null,
   "metadata": {},
   "outputs": [],
   "source": [
    "from evoframe.games import GuessPoint"
   ]
  },
  {
   "cell_type": "code",
   "execution_count": null,
   "metadata": {
    "scrolled": true
   },
   "outputs": [],
   "source": [
    "# Define global context\n",
    "context = recursively_default_dict()\n",
    "\n",
    "# Game\n",
    "game_creation_func = lambda context: GuessPoint(np.array([0.2,0.8,0.5]), np.array([0.4, 0.5, 10]))\n",
    "game_creation_func = fwc.func_with_context(game_creation_func, context=context)\n",
    "\n",
    "# Model\n",
    "layer_sizes = [3, 5, 3]\n",
    "get_model_func = lambda context: FeedForwardNetwork(layer_sizes, ActivationFunctions.get_sigmoid(), ActivationFunctions.get_id())\n",
    "get_model_func = fwc.func_with_context(get_model_func, context=context)\n",
    "\n",
    "# Game-Model interface\n",
    "predict_func = lambda model, inputs: model.predict(inputs)\n",
    "agent_wrapper_func = get_agent_wrapper_func(predict_func)\n",
    "\n",
    "# Reward function and update env function\n",
    "reward_function = RewardBuilderGame() \\\n",
    ".with_game_creation_function(game_creation_func) \\\n",
    ".with_agent_wrapper_func(agent_wrapper_func) \\\n",
    ".with_context(context) \\\n",
    ".get()\n",
    "\n",
    "# Update population function\n",
    "mutation_perc = 0.6\n",
    "crossover_perc = 0.3\n",
    "copy_perc = 0.1\n",
    "get_new_pop_f = PopulationUpdateBuilderStatic() \\\n",
    ".add_operator(\"es_1_mutation\", mutation_perc, 0.3, 0.3) \\\n",
    ".add_operator(\"es_2_crossover\", crossover_perc, 0.8) \\\n",
    ".add_operator(\"es_1_copy\", copy_perc) \\\n",
    ".add_selector_f(SelectorFunctionFactory.get_geometric_selector_function(0.3)) \\\n",
    ".with_context(context) \\\n",
    ".get()\n",
    "\n",
    "# Population manager\n",
    "pop_size = 500\n",
    "pm = PopulationManager(pop_size, get_model_func, reward_function, get_new_pop_f, context)\n",
    "\n",
    "# Run population manager\n",
    "num_epochs = 10\n",
    "last_pop = pm.run(num_epochs)"
   ]
  },
  {
   "cell_type": "code",
   "execution_count": null,
   "metadata": {
    "scrolled": true
   },
   "outputs": [],
   "source": [
    "plot_delta_rewards_by_operator(context, hist_range=(-20, 5))"
   ]
  },
  {
   "cell_type": "markdown",
   "metadata": {},
   "source": [
    "# Guess the function"
   ]
  },
  {
   "cell_type": "code",
   "execution_count": 5,
   "metadata": {},
   "outputs": [],
   "source": [
    "from evoframe.games import GuessFunction"
   ]
  },
  {
   "cell_type": "code",
   "execution_count": 6,
   "metadata": {
    "scrolled": true
   },
   "outputs": [
    {
     "name": "stdout",
     "output_type": "stream",
     "text": [
      "Epoch 1, best reward is -8108260.599823801\n",
      "Epoch 2, best reward is -7088138.462857202\n"
     ]
    },
    {
     "ename": "KeyboardInterrupt",
     "evalue": "",
     "output_type": "error",
     "traceback": [
      "\u001b[0;31m---------------------------------------------------------------------------\u001b[0m",
      "\u001b[0;31mKeyboardInterrupt\u001b[0m                         Traceback (most recent call last)",
      "\u001b[0;32m<ipython-input-6-30473d6f6c78>\u001b[0m in \u001b[0;36m<module>\u001b[0;34m\u001b[0m\n\u001b[1;32m     41\u001b[0m \u001b[0;31m# Run population manager\u001b[0m\u001b[0;34m\u001b[0m\u001b[0;34m\u001b[0m\u001b[0;34m\u001b[0m\u001b[0m\n\u001b[1;32m     42\u001b[0m \u001b[0mnum_epochs\u001b[0m \u001b[0;34m=\u001b[0m \u001b[0;36m30\u001b[0m\u001b[0;34m\u001b[0m\u001b[0;34m\u001b[0m\u001b[0m\n\u001b[0;32m---> 43\u001b[0;31m \u001b[0mpm\u001b[0m\u001b[0;34m.\u001b[0m\u001b[0mrun\u001b[0m\u001b[0;34m(\u001b[0m\u001b[0mnum_epochs\u001b[0m\u001b[0;34m)\u001b[0m\u001b[0;34m\u001b[0m\u001b[0;34m\u001b[0m\u001b[0m\n\u001b[0m",
      "\u001b[0;32m~/Desktop/evolution/evoframe/population_manager.py\u001b[0m in \u001b[0;36mrun\u001b[0;34m(self, num_epochs)\u001b[0m\n\u001b[1;32m     43\u001b[0m         \u001b[0mpop\u001b[0m \u001b[0;34m=\u001b[0m \u001b[0mself\u001b[0m\u001b[0;34m.\u001b[0m\u001b[0mgenerate_pop\u001b[0m\u001b[0;34m(\u001b[0m\u001b[0;34m)\u001b[0m\u001b[0;34m\u001b[0m\u001b[0;34m\u001b[0m\u001b[0m\n\u001b[1;32m     44\u001b[0m         \u001b[0;32mfor\u001b[0m \u001b[0mcur_epoch\u001b[0m \u001b[0;32min\u001b[0m \u001b[0mrange\u001b[0m\u001b[0;34m(\u001b[0m\u001b[0;36m1\u001b[0m\u001b[0;34m,\u001b[0m \u001b[0mnum_epochs\u001b[0m \u001b[0;34m+\u001b[0m \u001b[0;36m1\u001b[0m\u001b[0;34m)\u001b[0m\u001b[0;34m:\u001b[0m\u001b[0;34m\u001b[0m\u001b[0;34m\u001b[0m\u001b[0m\n\u001b[0;32m---> 45\u001b[0;31m             \u001b[0mrewards\u001b[0m \u001b[0;34m=\u001b[0m \u001b[0mself\u001b[0m\u001b[0;34m.\u001b[0m\u001b[0mcompute_rewards\u001b[0m\u001b[0;34m(\u001b[0m\u001b[0mpool\u001b[0m\u001b[0;34m,\u001b[0m \u001b[0mpop\u001b[0m\u001b[0;34m)\u001b[0m\u001b[0;34m\u001b[0m\u001b[0;34m\u001b[0m\u001b[0m\n\u001b[0m\u001b[1;32m     46\u001b[0m             \u001b[0mpop\u001b[0m\u001b[0;34m,\u001b[0m \u001b[0mrewards\u001b[0m \u001b[0;34m=\u001b[0m \u001b[0mself\u001b[0m\u001b[0;34m.\u001b[0m\u001b[0mrank_pop\u001b[0m\u001b[0;34m(\u001b[0m\u001b[0mpop\u001b[0m\u001b[0;34m,\u001b[0m \u001b[0mrewards\u001b[0m\u001b[0;34m)\u001b[0m\u001b[0;34m\u001b[0m\u001b[0;34m\u001b[0m\u001b[0m\n\u001b[1;32m     47\u001b[0m             \u001b[0;32mif\u001b[0m \u001b[0mcur_epoch\u001b[0m \u001b[0;34m<\u001b[0m \u001b[0mnum_epochs\u001b[0m\u001b[0;34m:\u001b[0m\u001b[0;34m\u001b[0m\u001b[0;34m\u001b[0m\u001b[0m\n",
      "\u001b[0;32m~/Desktop/evolution/evoframe/population_manager.py\u001b[0m in \u001b[0;36mcompute_rewards\u001b[0;34m(self, pool, population)\u001b[0m\n\u001b[1;32m     32\u001b[0m             \u001b[0mrewards\u001b[0m \u001b[0;34m=\u001b[0m \u001b[0mpool\u001b[0m\u001b[0;34m.\u001b[0m\u001b[0mmap\u001b[0m\u001b[0;34m(\u001b[0m\u001b[0mworker_process\u001b[0m\u001b[0;34m,\u001b[0m \u001b[0mworker_args\u001b[0m\u001b[0;34m)\u001b[0m\u001b[0;34m\u001b[0m\u001b[0;34m\u001b[0m\u001b[0m\n\u001b[1;32m     33\u001b[0m         \u001b[0;32melse\u001b[0m\u001b[0;34m:\u001b[0m\u001b[0;34m\u001b[0m\u001b[0;34m\u001b[0m\u001b[0m\n\u001b[0;32m---> 34\u001b[0;31m             \u001b[0mrewards\u001b[0m \u001b[0;34m=\u001b[0m \u001b[0;34m[\u001b[0m\u001b[0mself\u001b[0m\u001b[0;34m.\u001b[0m\u001b[0mreward_f\u001b[0m\u001b[0;34m(\u001b[0m\u001b[0mp\u001b[0m\u001b[0;34m)\u001b[0m \u001b[0;32mfor\u001b[0m \u001b[0mp\u001b[0m \u001b[0;32min\u001b[0m \u001b[0mpopulation\u001b[0m\u001b[0;34m]\u001b[0m\u001b[0;34m\u001b[0m\u001b[0;34m\u001b[0m\u001b[0m\n\u001b[0m\u001b[1;32m     35\u001b[0m         \u001b[0mrewards\u001b[0m \u001b[0;34m=\u001b[0m \u001b[0mnp\u001b[0m\u001b[0;34m.\u001b[0m\u001b[0marray\u001b[0m\u001b[0;34m(\u001b[0m\u001b[0mrewards\u001b[0m\u001b[0;34m)\u001b[0m\u001b[0;34m\u001b[0m\u001b[0;34m\u001b[0m\u001b[0m\n\u001b[1;32m     36\u001b[0m         \u001b[0;32mreturn\u001b[0m \u001b[0mrewards\u001b[0m\u001b[0;34m\u001b[0m\u001b[0;34m\u001b[0m\u001b[0m\n",
      "\u001b[0;32m~/Desktop/evolution/evoframe/population_manager.py\u001b[0m in \u001b[0;36m<listcomp>\u001b[0;34m(.0)\u001b[0m\n\u001b[1;32m     32\u001b[0m             \u001b[0mrewards\u001b[0m \u001b[0;34m=\u001b[0m \u001b[0mpool\u001b[0m\u001b[0;34m.\u001b[0m\u001b[0mmap\u001b[0m\u001b[0;34m(\u001b[0m\u001b[0mworker_process\u001b[0m\u001b[0;34m,\u001b[0m \u001b[0mworker_args\u001b[0m\u001b[0;34m)\u001b[0m\u001b[0;34m\u001b[0m\u001b[0;34m\u001b[0m\u001b[0m\n\u001b[1;32m     33\u001b[0m         \u001b[0;32melse\u001b[0m\u001b[0;34m:\u001b[0m\u001b[0;34m\u001b[0m\u001b[0;34m\u001b[0m\u001b[0m\n\u001b[0;32m---> 34\u001b[0;31m             \u001b[0mrewards\u001b[0m \u001b[0;34m=\u001b[0m \u001b[0;34m[\u001b[0m\u001b[0mself\u001b[0m\u001b[0;34m.\u001b[0m\u001b[0mreward_f\u001b[0m\u001b[0;34m(\u001b[0m\u001b[0mp\u001b[0m\u001b[0;34m)\u001b[0m \u001b[0;32mfor\u001b[0m \u001b[0mp\u001b[0m \u001b[0;32min\u001b[0m \u001b[0mpopulation\u001b[0m\u001b[0;34m]\u001b[0m\u001b[0;34m\u001b[0m\u001b[0;34m\u001b[0m\u001b[0m\n\u001b[0m\u001b[1;32m     35\u001b[0m         \u001b[0mrewards\u001b[0m \u001b[0;34m=\u001b[0m \u001b[0mnp\u001b[0m\u001b[0;34m.\u001b[0m\u001b[0marray\u001b[0m\u001b[0;34m(\u001b[0m\u001b[0mrewards\u001b[0m\u001b[0;34m)\u001b[0m\u001b[0;34m\u001b[0m\u001b[0;34m\u001b[0m\u001b[0m\n\u001b[1;32m     36\u001b[0m         \u001b[0;32mreturn\u001b[0m \u001b[0mrewards\u001b[0m\u001b[0;34m\u001b[0m\u001b[0;34m\u001b[0m\u001b[0m\n",
      "\u001b[0;32m~/Desktop/evolution/evoframe/func_with_context.py\u001b[0m in \u001b[0;36m__call__\u001b[0;34m(self, *args, **kwargs)\u001b[0m\n\u001b[1;32m      5\u001b[0m \u001b[0;34m\u001b[0m\u001b[0m\n\u001b[1;32m      6\u001b[0m     \u001b[0;32mdef\u001b[0m \u001b[0m__call__\u001b[0m\u001b[0;34m(\u001b[0m\u001b[0mself\u001b[0m\u001b[0;34m,\u001b[0m \u001b[0;34m*\u001b[0m\u001b[0margs\u001b[0m\u001b[0;34m,\u001b[0m \u001b[0;34m**\u001b[0m\u001b[0mkwargs\u001b[0m\u001b[0;34m)\u001b[0m\u001b[0;34m:\u001b[0m\u001b[0;34m\u001b[0m\u001b[0;34m\u001b[0m\u001b[0m\n\u001b[0;32m----> 7\u001b[0;31m         \u001b[0;32mreturn\u001b[0m \u001b[0mself\u001b[0m\u001b[0;34m.\u001b[0m\u001b[0minner_func\u001b[0m\u001b[0;34m(\u001b[0m\u001b[0mself\u001b[0m\u001b[0;34m.\u001b[0m\u001b[0mcontext\u001b[0m\u001b[0;34m,\u001b[0m \u001b[0;34m*\u001b[0m\u001b[0margs\u001b[0m\u001b[0;34m,\u001b[0m \u001b[0;34m**\u001b[0m\u001b[0mkwargs\u001b[0m\u001b[0;34m)\u001b[0m\u001b[0;34m\u001b[0m\u001b[0;34m\u001b[0m\u001b[0m\n\u001b[0m",
      "\u001b[0;32m~/Desktop/evolution/evoframe/reward_builders/reward_builder_game.py\u001b[0m in \u001b[0;36mreward_function\u001b[0;34m(context, model)\u001b[0m\n\u001b[1;32m     60\u001b[0m             \u001b[0;32melse\u001b[0m\u001b[0;34m:\u001b[0m\u001b[0;34m\u001b[0m\u001b[0;34m\u001b[0m\u001b[0m\n\u001b[1;32m     61\u001b[0m                 \u001b[0mgame\u001b[0m \u001b[0;34m=\u001b[0m \u001b[0mgame_creation_function\u001b[0m\u001b[0;34m(\u001b[0m\u001b[0;34m)\u001b[0m\u001b[0;34m\u001b[0m\u001b[0;34m\u001b[0m\u001b[0m\n\u001b[0;32m---> 62\u001b[0;31m                 \u001b[0mreward\u001b[0m \u001b[0;34m+=\u001b[0m \u001b[0mgame\u001b[0m\u001b[0;34m.\u001b[0m\u001b[0mplay\u001b[0m\u001b[0;34m(\u001b[0m\u001b[0magent_wrapper_func\u001b[0m\u001b[0;34m(\u001b[0m\u001b[0mmodel\u001b[0m\u001b[0;34m)\u001b[0m\u001b[0;34m)\u001b[0m\u001b[0;34m\u001b[0m\u001b[0;34m\u001b[0m\u001b[0m\n\u001b[0m\u001b[1;32m     63\u001b[0m \u001b[0;34m\u001b[0m\u001b[0m\n\u001b[1;32m     64\u001b[0m             \u001b[0;32mif\u001b[0m \u001b[0mlen\u001b[0m\u001b[0;34m(\u001b[0m\u001b[0mcontext\u001b[0m\u001b[0;34m[\u001b[0m\u001b[0;34m\"epochs\"\u001b[0m\u001b[0;34m]\u001b[0m\u001b[0;34m[\u001b[0m\u001b[0mself\u001b[0m\u001b[0;34m.\u001b[0m\u001b[0mcontext\u001b[0m\u001b[0;34m[\u001b[0m\u001b[0;34m\"cur_epoch\"\u001b[0m\u001b[0;34m]\u001b[0m\u001b[0;34m]\u001b[0m\u001b[0;34m[\u001b[0m\u001b[0;34m\"rewards\"\u001b[0m\u001b[0;34m]\u001b[0m\u001b[0;34m)\u001b[0m \u001b[0;34m==\u001b[0m \u001b[0;36m0\u001b[0m\u001b[0;34m:\u001b[0m\u001b[0;34m\u001b[0m\u001b[0;34m\u001b[0m\u001b[0m\n",
      "\u001b[0;32m~/Desktop/evolution/evoframe/games/guessfunction.py\u001b[0m in \u001b[0;36mplay\u001b[0;34m(self, agent)\u001b[0m\n\u001b[1;32m     29\u001b[0m             \u001b[0minput_array\u001b[0m \u001b[0;34m=\u001b[0m \u001b[0mnp\u001b[0m\u001b[0;34m.\u001b[0m\u001b[0marray\u001b[0m\u001b[0;34m(\u001b[0m\u001b[0minput_tuple\u001b[0m\u001b[0;34m)\u001b[0m\u001b[0;34m\u001b[0m\u001b[0;34m\u001b[0m\u001b[0m\n\u001b[1;32m     30\u001b[0m             \u001b[0mpredictions\u001b[0m \u001b[0;34m=\u001b[0m \u001b[0magent\u001b[0m\u001b[0;34m.\u001b[0m\u001b[0mpredict\u001b[0m\u001b[0;34m(\u001b[0m\u001b[0minput_array\u001b[0m\u001b[0;34m)\u001b[0m\u001b[0;34m\u001b[0m\u001b[0;34m\u001b[0m\u001b[0m\n\u001b[0;32m---> 31\u001b[0;31m             \u001b[0merror\u001b[0m \u001b[0;34m+=\u001b[0m \u001b[0mnp\u001b[0m\u001b[0;34m.\u001b[0m\u001b[0msum\u001b[0m\u001b[0;34m(\u001b[0m\u001b[0mnp\u001b[0m\u001b[0;34m.\u001b[0m\u001b[0msquare\u001b[0m\u001b[0;34m(\u001b[0m\u001b[0mself\u001b[0m\u001b[0;34m.\u001b[0m\u001b[0mfunc\u001b[0m\u001b[0;34m(\u001b[0m\u001b[0minput_array\u001b[0m\u001b[0;34m)\u001b[0m \u001b[0;34m-\u001b[0m \u001b[0mpredictions\u001b[0m\u001b[0;34m)\u001b[0m\u001b[0;34m)\u001b[0m\u001b[0;34m\u001b[0m\u001b[0;34m\u001b[0m\u001b[0m\n\u001b[0m\u001b[1;32m     32\u001b[0m         \u001b[0mreward\u001b[0m \u001b[0;34m=\u001b[0m \u001b[0;34m-\u001b[0m\u001b[0merror\u001b[0m\u001b[0;34m\u001b[0m\u001b[0;34m\u001b[0m\u001b[0m\n\u001b[1;32m     33\u001b[0m         \u001b[0;32mreturn\u001b[0m \u001b[0mreward\u001b[0m\u001b[0;34m\u001b[0m\u001b[0;34m\u001b[0m\u001b[0m\n",
      "\u001b[0;32m<ipython-input-6-30473d6f6c78>\u001b[0m in \u001b[0;36m<lambda>\u001b[0;34m(i)\u001b[0m\n\u001b[1;32m      3\u001b[0m \u001b[0;34m\u001b[0m\u001b[0m\n\u001b[1;32m      4\u001b[0m \u001b[0;31m# Game\u001b[0m\u001b[0;34m\u001b[0m\u001b[0;34m\u001b[0m\u001b[0;34m\u001b[0m\u001b[0m\n\u001b[0;32m----> 5\u001b[0;31m \u001b[0mgame_func\u001b[0m \u001b[0;34m=\u001b[0m \u001b[0;32mlambda\u001b[0m \u001b[0mi\u001b[0m\u001b[0;34m:\u001b[0m \u001b[0mnp\u001b[0m\u001b[0;34m.\u001b[0m\u001b[0marray\u001b[0m\u001b[0;34m(\u001b[0m\u001b[0;34m[\u001b[0m\u001b[0;36m2\u001b[0m\u001b[0;34m*\u001b[0m\u001b[0mi\u001b[0m\u001b[0;34m[\u001b[0m\u001b[0;36m0\u001b[0m\u001b[0;34m]\u001b[0m\u001b[0;34m-\u001b[0m\u001b[0;36m3\u001b[0m\u001b[0;34m*\u001b[0m\u001b[0mi\u001b[0m\u001b[0;34m[\u001b[0m\u001b[0;36m1\u001b[0m\u001b[0;34m]\u001b[0m\u001b[0;34m+\u001b[0m\u001b[0;36m4\u001b[0m\u001b[0;34m,\u001b[0m \u001b[0mi\u001b[0m\u001b[0;34m[\u001b[0m\u001b[0;36m1\u001b[0m\u001b[0;34m]\u001b[0m\u001b[0;34m-\u001b[0m\u001b[0;36m8\u001b[0m\u001b[0;34m*\u001b[0m\u001b[0mi\u001b[0m\u001b[0;34m[\u001b[0m\u001b[0;36m2\u001b[0m\u001b[0;34m]\u001b[0m\u001b[0;34m-\u001b[0m\u001b[0;36m5\u001b[0m\u001b[0;34m]\u001b[0m\u001b[0;34m)\u001b[0m\u001b[0;34m\u001b[0m\u001b[0;34m\u001b[0m\u001b[0m\n\u001b[0m\u001b[1;32m      6\u001b[0m \u001b[0minput_dim\u001b[0m \u001b[0;34m=\u001b[0m \u001b[0;36m3\u001b[0m\u001b[0;34m\u001b[0m\u001b[0;34m\u001b[0m\u001b[0m\n\u001b[1;32m      7\u001b[0m \u001b[0minput_domains\u001b[0m \u001b[0;34m=\u001b[0m \u001b[0;34m[\u001b[0m\u001b[0;34m(\u001b[0m\u001b[0;34m-\u001b[0m\u001b[0;36m1\u001b[0m\u001b[0;34m,\u001b[0m\u001b[0;36m1\u001b[0m\u001b[0;34m)\u001b[0m\u001b[0;34m,\u001b[0m\u001b[0;34m(\u001b[0m\u001b[0;34m-\u001b[0m\u001b[0;36m1\u001b[0m\u001b[0;34m,\u001b[0m\u001b[0;36m1\u001b[0m\u001b[0;34m)\u001b[0m\u001b[0;34m,\u001b[0m\u001b[0;34m(\u001b[0m\u001b[0;36m3\u001b[0m\u001b[0;34m,\u001b[0m\u001b[0;36m7\u001b[0m\u001b[0;34m)\u001b[0m\u001b[0;34m]\u001b[0m\u001b[0;34m\u001b[0m\u001b[0;34m\u001b[0m\u001b[0m\n",
      "\u001b[0;31mKeyboardInterrupt\u001b[0m: "
     ]
    }
   ],
   "source": [
    "# Define global context\n",
    "context = recursively_default_dict()\n",
    "\n",
    "# Game\n",
    "game_func = lambda i: np.array([2*i[0]-3*i[1]+4, i[1]-8*i[2]-5])\n",
    "input_dim = 3\n",
    "input_domains = [(-1,1),(-1,1),(3,7)]\n",
    "sample_every = [0.1, 0.1, 0.3]\n",
    "game_creation_function = lambda context: GuessFunction(game_func, input_dim, input_domains, sample_every)\n",
    "game_creation_function = fwc.func_with_context(game_creation_function, context=context)\n",
    "\n",
    "# Model\n",
    "layer_sizes = [3, 5, 2]\n",
    "get_model_func = lambda context: FeedForwardNetwork(layer_sizes, ActivationFunctions.get_arctan(), ActivationFunctions.get_id())\n",
    "get_model_func = fwc.func_with_context(get_model_func, context=context)\n",
    "\n",
    "# Game-Model interface\n",
    "predict_func = lambda model, inputs: model.predict(inputs)\n",
    "agent_wrapper_func = get_agent_wrapper_func(predict_func)\n",
    "\n",
    "# Reward function and update env function\n",
    "reward_function = RewardBuilderGame() \\\n",
    ".with_game_creation_function(game_creation_function) \\\n",
    ".with_agent_wrapper_func(agent_wrapper_func) \\\n",
    ".with_context(context) \\\n",
    ".get()\n",
    "\n",
    "# Update population function\n",
    "get_new_pop_f = PopulationUpdateBuilderStatic() \\\n",
    ".add_operator(\"es_1_mutation\", 0.6, 0.3, 0.5) \\\n",
    ".add_operator(\"es_2_crossover\", 0.3, 0.1) \\\n",
    ".add_operator(\"es_1_copy\", 0.1) \\\n",
    ".add_selector_f(SelectorFunctionFactory.get_geometric_selector_function(0.3)) \\\n",
    ".with_context(context) \\\n",
    ".get()\n",
    "\n",
    "# Population manager\n",
    "pop_size = 50\n",
    "pm = PopulationManager(pop_size, get_model_func, reward_function, get_new_pop_f, context)\n",
    "\n",
    "# Run population manager\n",
    "num_epochs = 30\n",
    "pm.run(num_epochs)"
   ]
  },
  {
   "cell_type": "code",
   "execution_count": null,
   "metadata": {},
   "outputs": [],
   "source": [
    "plot_delta_rewards_by_operator(context, hist_range=(-5000000, 1000000), save=True)"
   ]
  },
  {
   "cell_type": "code",
   "execution_count": null,
   "metadata": {},
   "outputs": [],
   "source": [
    "test_array = np.array([0.5,0.5,5])\n",
    "context[\"epochs\"][num_epochs][\"models\"][0].predict(test_array), game_func(test_array)"
   ]
  },
  {
   "cell_type": "markdown",
   "metadata": {},
   "source": [
    "# Play Tris"
   ]
  },
  {
   "cell_type": "code",
   "execution_count": 7,
   "metadata": {},
   "outputs": [],
   "source": [
    "from evoframe.reward_builders.reward_builder_game import TournamentMode"
   ]
  },
  {
   "cell_type": "code",
   "execution_count": 8,
   "metadata": {},
   "outputs": [],
   "source": [
    "class Tris(Game):\n",
    "    PLAYER_1 = 1\n",
    "    PLAYER_2 = -1\n",
    "    EMPTY = 0\n",
    "    DRAW = 0\n",
    "    CONTINUE = 2\n",
    "    PLAYERS = [PLAYER_1, PLAYER_2]\n",
    "    \n",
    "    def __init__(self):\n",
    "        self.board = np.array([np.array([Tris.EMPTY for i in range(3)]) for j in range(3)])\n",
    "        \n",
    "    def check_win(self):\n",
    "        # check rows\n",
    "        board = self.board\n",
    "        for row in board:\n",
    "            for player in PLAYERS:\n",
    "                if np.all(np.equal(row, np.full(3, player))):\n",
    "                    return player\n",
    "        \n",
    "        # check cols\n",
    "        board = self.board.transpose()\n",
    "        for row in board:\n",
    "            for player in PLAYERS:\n",
    "                if np.all(np.equal(row, np.full(3, player))):\n",
    "                    return player\n",
    "                \n",
    "        # check diagonals\n",
    "        diags = []\n",
    "        diags.append(np.array([board[i][i] for i in range(3)]))\n",
    "        diags.append(np.array([board[i][3 - i - 1] for i in range(3)]))\n",
    "        for row in diags:\n",
    "            for player in PLAYERS:\n",
    "                if np.all(np.equal(row, np.full(3, player))):\n",
    "                    return player\n",
    "        \n",
    "        # check draw\n",
    "        exist_empty = False\n",
    "        for row in self.board:\n",
    "            for cell in row:\n",
    "                if cell == EMPTY:\n",
    "                    exist_empty = True\n",
    "        if not exist_empty:\n",
    "            return DRAW\n",
    "        \n",
    "        return CONTINUE\n",
    "    \n",
    "    def extract_move(self, prediction):\n",
    "        highest_value = -100000\n",
    "        highest_value_index = -1\n",
    "        for i,pred in enumerate(prediction):\n",
    "            if self.board[i//3][i%3] == EMPTY and pred > highest_value:\n",
    "                highest_value = pred\n",
    "                highest_value_index = i\n",
    "        return highest_value_index\n",
    "    \n",
    "    def do_move(self, move, player):\n",
    "        self.board[move//3][move%3] = player\n",
    "        \n",
    "    def opposite_board(self):\n",
    "        return np.array([np.array([PLAYER_2 if self.board[row][col] == PLAYER_1\n",
    "                                   else PLAYER_1 if self.board[row][col] == PLAYER_2\n",
    "                                   else EMPTY for col in range(3)]) for row in range(3)])\n",
    "    \n",
    "    def play(self, agent_1, agent_2, interactive=False):\n",
    "        player_turn = np.random.choice(PLAYERS)\n",
    "        \n",
    "        if interactive:\n",
    "            self.print_board() \n",
    "        \n",
    "        result = self.check_win()\n",
    "        while result == CONTINUE:\n",
    "            if player_turn == PLAYER_1:\n",
    "                prediction = agent_1.predict(self.board)\n",
    "            else:\n",
    "                prediction = agent_2.predict(self.opposite_board())\n",
    "              \n",
    "            move = self.extract_move(prediction)\n",
    "            self.do_move(move, player_turn)\n",
    "            \n",
    "            if interactive:\n",
    "                self.print_board()\n",
    "            \n",
    "            if player_turn == PLAYER_1:\n",
    "                player_turn = PLAYER_2\n",
    "            else:\n",
    "                player_turn = PLAYER_1\n",
    "                \n",
    "            result = self.check_win()\n",
    "            \n",
    "        if interactive:\n",
    "                self.print_board()    \n",
    "        \n",
    "        return result\n",
    "    \n",
    "    def print_board(self):\n",
    "        for row in self.board:\n",
    "            for cell in row:\n",
    "                print(cell, end=\" \")\n",
    "            print(\"\")\n",
    "        print(\"-\"*30)"
   ]
  },
  {
   "cell_type": "code",
   "execution_count": 11,
   "metadata": {
    "scrolled": true
   },
   "outputs": [
    {
     "ename": "AttributeError",
     "evalue": "module 'evoframe.func_with_context' has no attribute 'CONTEXT_KEY_INDIVIDUALS'",
     "output_type": "error",
     "traceback": [
      "\u001b[0;31m---------------------------------------------------------------------------\u001b[0m",
      "\u001b[0;31mAttributeError\u001b[0m                            Traceback (most recent call last)",
      "\u001b[0;32m<ipython-input-11-8e63b0750984>\u001b[0m in \u001b[0;36m<module>\u001b[0;34m\u001b[0m\n\u001b[1;32m     44\u001b[0m \u001b[0;31m# Run population manager\u001b[0m\u001b[0;34m\u001b[0m\u001b[0;34m\u001b[0m\u001b[0;34m\u001b[0m\u001b[0m\n\u001b[1;32m     45\u001b[0m \u001b[0mnum_epochs\u001b[0m \u001b[0;34m=\u001b[0m \u001b[0;36m100\u001b[0m\u001b[0;34m\u001b[0m\u001b[0;34m\u001b[0m\u001b[0m\n\u001b[0;32m---> 46\u001b[0;31m \u001b[0mpm\u001b[0m\u001b[0;34m.\u001b[0m\u001b[0mrun\u001b[0m\u001b[0;34m(\u001b[0m\u001b[0mnum_epochs\u001b[0m\u001b[0;34m)\u001b[0m\u001b[0;34m\u001b[0m\u001b[0;34m\u001b[0m\u001b[0m\n\u001b[0m",
      "\u001b[0;32m~/Desktop/evolution/evoframe/population_manager.py\u001b[0m in \u001b[0;36mrun\u001b[0;34m(self, num_epochs)\u001b[0m\n\u001b[1;32m     43\u001b[0m         \u001b[0mpop\u001b[0m \u001b[0;34m=\u001b[0m \u001b[0mself\u001b[0m\u001b[0;34m.\u001b[0m\u001b[0mgenerate_pop\u001b[0m\u001b[0;34m(\u001b[0m\u001b[0;34m)\u001b[0m\u001b[0;34m\u001b[0m\u001b[0;34m\u001b[0m\u001b[0m\n\u001b[1;32m     44\u001b[0m         \u001b[0;32mfor\u001b[0m \u001b[0mcur_epoch\u001b[0m \u001b[0;32min\u001b[0m \u001b[0mrange\u001b[0m\u001b[0;34m(\u001b[0m\u001b[0;36m1\u001b[0m\u001b[0;34m,\u001b[0m \u001b[0mnum_epochs\u001b[0m \u001b[0;34m+\u001b[0m \u001b[0;36m1\u001b[0m\u001b[0;34m)\u001b[0m\u001b[0;34m:\u001b[0m\u001b[0;34m\u001b[0m\u001b[0;34m\u001b[0m\u001b[0m\n\u001b[0;32m---> 45\u001b[0;31m             \u001b[0mrewards\u001b[0m \u001b[0;34m=\u001b[0m \u001b[0mself\u001b[0m\u001b[0;34m.\u001b[0m\u001b[0mcompute_rewards\u001b[0m\u001b[0;34m(\u001b[0m\u001b[0mpool\u001b[0m\u001b[0;34m,\u001b[0m \u001b[0mpop\u001b[0m\u001b[0;34m)\u001b[0m\u001b[0;34m\u001b[0m\u001b[0;34m\u001b[0m\u001b[0m\n\u001b[0m\u001b[1;32m     46\u001b[0m             \u001b[0mpop\u001b[0m\u001b[0;34m,\u001b[0m \u001b[0mrewards\u001b[0m \u001b[0;34m=\u001b[0m \u001b[0mself\u001b[0m\u001b[0;34m.\u001b[0m\u001b[0mrank_pop\u001b[0m\u001b[0;34m(\u001b[0m\u001b[0mpop\u001b[0m\u001b[0;34m,\u001b[0m \u001b[0mrewards\u001b[0m\u001b[0;34m)\u001b[0m\u001b[0;34m\u001b[0m\u001b[0;34m\u001b[0m\u001b[0m\n\u001b[1;32m     47\u001b[0m             \u001b[0;32mif\u001b[0m \u001b[0mcur_epoch\u001b[0m \u001b[0;34m<\u001b[0m \u001b[0mnum_epochs\u001b[0m\u001b[0;34m:\u001b[0m\u001b[0;34m\u001b[0m\u001b[0;34m\u001b[0m\u001b[0m\n",
      "\u001b[0;32m~/Desktop/evolution/evoframe/population_manager.py\u001b[0m in \u001b[0;36mcompute_rewards\u001b[0;34m(self, pool, population)\u001b[0m\n\u001b[1;32m     32\u001b[0m             \u001b[0mrewards\u001b[0m \u001b[0;34m=\u001b[0m \u001b[0mpool\u001b[0m\u001b[0;34m.\u001b[0m\u001b[0mmap\u001b[0m\u001b[0;34m(\u001b[0m\u001b[0mworker_process\u001b[0m\u001b[0;34m,\u001b[0m \u001b[0mworker_args\u001b[0m\u001b[0;34m)\u001b[0m\u001b[0;34m\u001b[0m\u001b[0;34m\u001b[0m\u001b[0m\n\u001b[1;32m     33\u001b[0m         \u001b[0;32melse\u001b[0m\u001b[0;34m:\u001b[0m\u001b[0;34m\u001b[0m\u001b[0;34m\u001b[0m\u001b[0m\n\u001b[0;32m---> 34\u001b[0;31m             \u001b[0mrewards\u001b[0m \u001b[0;34m=\u001b[0m \u001b[0;34m[\u001b[0m\u001b[0mself\u001b[0m\u001b[0;34m.\u001b[0m\u001b[0mreward_f\u001b[0m\u001b[0;34m(\u001b[0m\u001b[0mp\u001b[0m\u001b[0;34m)\u001b[0m \u001b[0;32mfor\u001b[0m \u001b[0mp\u001b[0m \u001b[0;32min\u001b[0m \u001b[0mpopulation\u001b[0m\u001b[0;34m]\u001b[0m\u001b[0;34m\u001b[0m\u001b[0;34m\u001b[0m\u001b[0m\n\u001b[0m\u001b[1;32m     35\u001b[0m         \u001b[0mrewards\u001b[0m \u001b[0;34m=\u001b[0m \u001b[0mnp\u001b[0m\u001b[0;34m.\u001b[0m\u001b[0marray\u001b[0m\u001b[0;34m(\u001b[0m\u001b[0mrewards\u001b[0m\u001b[0;34m)\u001b[0m\u001b[0;34m\u001b[0m\u001b[0;34m\u001b[0m\u001b[0m\n\u001b[1;32m     36\u001b[0m         \u001b[0;32mreturn\u001b[0m \u001b[0mrewards\u001b[0m\u001b[0;34m\u001b[0m\u001b[0;34m\u001b[0m\u001b[0m\n",
      "\u001b[0;32m~/Desktop/evolution/evoframe/population_manager.py\u001b[0m in \u001b[0;36m<listcomp>\u001b[0;34m(.0)\u001b[0m\n\u001b[1;32m     32\u001b[0m             \u001b[0mrewards\u001b[0m \u001b[0;34m=\u001b[0m \u001b[0mpool\u001b[0m\u001b[0;34m.\u001b[0m\u001b[0mmap\u001b[0m\u001b[0;34m(\u001b[0m\u001b[0mworker_process\u001b[0m\u001b[0;34m,\u001b[0m \u001b[0mworker_args\u001b[0m\u001b[0;34m)\u001b[0m\u001b[0;34m\u001b[0m\u001b[0;34m\u001b[0m\u001b[0m\n\u001b[1;32m     33\u001b[0m         \u001b[0;32melse\u001b[0m\u001b[0;34m:\u001b[0m\u001b[0;34m\u001b[0m\u001b[0;34m\u001b[0m\u001b[0m\n\u001b[0;32m---> 34\u001b[0;31m             \u001b[0mrewards\u001b[0m \u001b[0;34m=\u001b[0m \u001b[0;34m[\u001b[0m\u001b[0mself\u001b[0m\u001b[0;34m.\u001b[0m\u001b[0mreward_f\u001b[0m\u001b[0;34m(\u001b[0m\u001b[0mp\u001b[0m\u001b[0;34m)\u001b[0m \u001b[0;32mfor\u001b[0m \u001b[0mp\u001b[0m \u001b[0;32min\u001b[0m \u001b[0mpopulation\u001b[0m\u001b[0;34m]\u001b[0m\u001b[0;34m\u001b[0m\u001b[0;34m\u001b[0m\u001b[0m\n\u001b[0m\u001b[1;32m     35\u001b[0m         \u001b[0mrewards\u001b[0m \u001b[0;34m=\u001b[0m \u001b[0mnp\u001b[0m\u001b[0;34m.\u001b[0m\u001b[0marray\u001b[0m\u001b[0;34m(\u001b[0m\u001b[0mrewards\u001b[0m\u001b[0;34m)\u001b[0m\u001b[0;34m\u001b[0m\u001b[0;34m\u001b[0m\u001b[0m\n\u001b[1;32m     36\u001b[0m         \u001b[0;32mreturn\u001b[0m \u001b[0mrewards\u001b[0m\u001b[0;34m\u001b[0m\u001b[0;34m\u001b[0m\u001b[0m\n",
      "\u001b[0;32m~/Desktop/evolution/evoframe/func_with_context.py\u001b[0m in \u001b[0;36m__call__\u001b[0;34m(self, *args, **kwargs)\u001b[0m\n\u001b[1;32m      5\u001b[0m \u001b[0;34m\u001b[0m\u001b[0m\n\u001b[1;32m      6\u001b[0m     \u001b[0;32mdef\u001b[0m \u001b[0m__call__\u001b[0m\u001b[0;34m(\u001b[0m\u001b[0mself\u001b[0m\u001b[0;34m,\u001b[0m \u001b[0;34m*\u001b[0m\u001b[0margs\u001b[0m\u001b[0;34m,\u001b[0m \u001b[0;34m**\u001b[0m\u001b[0mkwargs\u001b[0m\u001b[0;34m)\u001b[0m\u001b[0;34m:\u001b[0m\u001b[0;34m\u001b[0m\u001b[0;34m\u001b[0m\u001b[0m\n\u001b[0;32m----> 7\u001b[0;31m         \u001b[0;32mreturn\u001b[0m \u001b[0mself\u001b[0m\u001b[0;34m.\u001b[0m\u001b[0minner_func\u001b[0m\u001b[0;34m(\u001b[0m\u001b[0mself\u001b[0m\u001b[0;34m.\u001b[0m\u001b[0mcontext\u001b[0m\u001b[0;34m,\u001b[0m \u001b[0;34m*\u001b[0m\u001b[0margs\u001b[0m\u001b[0;34m,\u001b[0m \u001b[0;34m**\u001b[0m\u001b[0mkwargs\u001b[0m\u001b[0;34m)\u001b[0m\u001b[0;34m\u001b[0m\u001b[0;34m\u001b[0m\u001b[0m\n\u001b[0m",
      "\u001b[0;32m~/Desktop/evolution/evoframe/reward_builders/reward_builder_game.py\u001b[0m in \u001b[0;36mreward_function\u001b[0;34m(context, model)\u001b[0m\n\u001b[1;32m     52\u001b[0m             \u001b[0mreward\u001b[0m \u001b[0;34m=\u001b[0m \u001b[0;36m0\u001b[0m\u001b[0;34m\u001b[0m\u001b[0;34m\u001b[0m\u001b[0m\n\u001b[1;32m     53\u001b[0m             \u001b[0;32mif\u001b[0m \u001b[0mcompetitive_tournament\u001b[0m\u001b[0;34m:\u001b[0m\u001b[0;34m\u001b[0m\u001b[0;34m\u001b[0m\u001b[0m\n\u001b[0;32m---> 54\u001b[0;31m                 \u001b[0mprev_bests\u001b[0m \u001b[0;34m=\u001b[0m \u001b[0mcontext\u001b[0m\u001b[0;34m[\u001b[0m\u001b[0mfwc\u001b[0m\u001b[0;34m.\u001b[0m\u001b[0mCONTEXT_KEY_INDIVIDUALS\u001b[0m\u001b[0;34m]\u001b[0m \u001b[0;31m# TODO\u001b[0m\u001b[0;34m\u001b[0m\u001b[0;34m\u001b[0m\u001b[0m\n\u001b[0m\u001b[1;32m     55\u001b[0m                 \u001b[0;32mif\u001b[0m \u001b[0mkeep_only\u001b[0m \u001b[0;34m>=\u001b[0m \u001b[0;36m1\u001b[0m\u001b[0;34m:\u001b[0m\u001b[0;34m\u001b[0m\u001b[0;34m\u001b[0m\u001b[0m\n\u001b[1;32m     56\u001b[0m                     \u001b[0mprev_bests\u001b[0m \u001b[0;34m=\u001b[0m \u001b[0mprev_bests\u001b[0m\u001b[0;34m[\u001b[0m\u001b[0;34m:\u001b[0m\u001b[0mkeep_only\u001b[0m\u001b[0;34m]\u001b[0m\u001b[0;34m\u001b[0m\u001b[0;34m\u001b[0m\u001b[0m\n",
      "\u001b[0;31mAttributeError\u001b[0m: module 'evoframe.func_with_context' has no attribute 'CONTEXT_KEY_INDIVIDUALS'"
     ]
    }
   ],
   "source": [
    "# Define global context\n",
    "context = recursively_default_dict()\n",
    "\n",
    "# Game\n",
    "game_creation_function = lambda context: Tris()\n",
    "game_creation_function = fwc.func_with_context(game_creation_function, context=context)\n",
    "\n",
    "# Model\n",
    "layer_sizes = [9, 5, 5, 9]\n",
    "get_model_func = lambda context: FeedForwardNetwork(layer_sizes, ActivationFunctions.get_sigmoid(), ActivationFunctions.get_sigmoid())\n",
    "get_model_func = fwc.func_with_context(get_model_func, context=context)\n",
    "\n",
    "# Game-Model interface\n",
    "def predict_func(model, inputs):\n",
    "    # In Tris, 'inputs' is a 3x3 np.array, thus we must flatten it to a 9x1 np.array\n",
    "    # output is a 9x1 vector, where the cell with highest value corresponding\n",
    "    # to a valid move will be the chosen move\n",
    "    return model.predict(inputs.flatten())[0]\n",
    "agent_wrapper_func = get_agent_wrapper_func(predict_func)\n",
    "\n",
    "# Reward function and update env function\n",
    "# Since Tris is a two-players game, we can compute the reward with a tournament against the current generation\n",
    "reward_function = RewardBuilderGame() \\\n",
    ".with_game_creation_function(game_creation_function) \\\n",
    ".with_agent_wrapper_func(agent_wrapper_func) \\\n",
    ".with_competitive_tournament(TournamentMode.VS_BEST_OF_EACH_GEN) \\\n",
    ".with_keep_only(30) \\\n",
    ".with_context(context) \\\n",
    ".get()\n",
    "\n",
    "# Update population function\n",
    "get_new_pop_f = PopulationUpdateBuilderStatic() \\\n",
    ".add_operator(\"es_1_mutation\", 0.6, 0.3, 0.5) \\\n",
    ".add_operator(\"es_2_crossover\", 0.3, 0.1) \\\n",
    ".add_operator(\"es_1_copy\", 0.1) \\\n",
    ".add_selector_f(SelectorFunctionFactory.get_geometric_selector_function(0.3)) \\\n",
    ".with_context(context) \\\n",
    ".get()\n",
    "\n",
    "# Population manager\n",
    "pop_size = 10\n",
    "pm = PopulationManager(pop_size, get_model_func, reward_function, get_new_pop_f, context)\n",
    "\n",
    "# Run population manager\n",
    "num_epochs = 100\n",
    "pm.run(num_epochs)"
   ]
  },
  {
   "cell_type": "code",
   "execution_count": null,
   "metadata": {},
   "outputs": [],
   "source": [
    "plot_rewards(env)"
   ]
  },
  {
   "cell_type": "code",
   "execution_count": null,
   "metadata": {
    "scrolled": true
   },
   "outputs": [],
   "source": [
    "# Game\n",
    "game_creation_function = lambda: Tris()\n",
    "\n",
    "# Model\n",
    "layer_sizes = [18, 9, 9]\n",
    "get_model_func = lambda: FeedForwardNetwork(layer_sizes, ActivationFunctions.get_sigmoid(), ActivationFunctions.get_sigmoid())\n",
    "\n",
    "# Game-Model interface\n",
    "def predict_func(model, inputs):\n",
    "    # In Tris, 'inputs' is a 3x3 np.array\n",
    "    # output is a 9x1 vector, where the cell with highest value corresponding\n",
    "    # to a valid move will be the chosen move\n",
    "    board = inputs\n",
    "    inputs = []\n",
    "    for row in board:\n",
    "        for cell in row:\n",
    "            if cell == Tris.PLAYER_1:\n",
    "                inputs += [1, 0]\n",
    "            elif cell == Tris.PLAYER_2:\n",
    "                inputs += [0, 1]\n",
    "            else:\n",
    "                inputs += [0, 0]\n",
    "    return model.predict(np.array(inputs))[0]\n",
    "agent_wrapper_func = get_agent_wrapper_func(predict_func)\n",
    "\n",
    "# Reward function and update env function\n",
    "# Since Tris is a two-players game, we can compute the reward with a tournament against the current generation\n",
    "reward_function, update_env_f = RewardBuilderGame() \\\n",
    ".with_game_creation_function(game_creation_function) \\\n",
    ".with_agent_wrapper_func(agent_wrapper_func) \\\n",
    ".with_competitive_tournament(TournamentMode.VS_BEST_OF_EACH_GEN) \\\n",
    ".with_keep_only(30) \\\n",
    ".get()\n",
    "\n",
    "# Update population function\n",
    "get_new_pop_f = PopulationUpdateBuilderStatic() \\\n",
    ".add_operator(\"es_1_mutation\", 0.6, 0.3, 0.5) \\\n",
    ".add_operator(\"es_2_crossover\", 0.3, 0.1) \\\n",
    ".add_operator(\"es_1_copy\", 0.1) \\\n",
    ".add_selector_f(SelectorFunctionFactory.get_geometric_selector_function(0.3)) \\\n",
    ".get()\n",
    "\n",
    "# Population manager\n",
    "pop_size = 100\n",
    "pm = PopulationManager(pop_size, get_model_func, reward_function, update_env_f, get_new_pop_f)\n",
    "\n",
    "# Run population manager\n",
    "num_epochs = 300\n",
    "last_pop, env = pm.run(num_epochs)"
   ]
  },
  {
   "cell_type": "code",
   "execution_count": null,
   "metadata": {},
   "outputs": [],
   "source": [
    "plot_rewards(env)"
   ]
  },
  {
   "cell_type": "code",
   "execution_count": null,
   "metadata": {},
   "outputs": [],
   "source": [
    "class AgentHuman:\n",
    "    def __init__(self):\n",
    "        pass\n",
    "    \n",
    "    def predict(self, board):\n",
    "        move = int(input(\"Select move: \"))\n",
    "        prediction = [1 if i == move else 0 for i in range(9)]\n",
    "        return prediction"
   ]
  },
  {
   "cell_type": "code",
   "execution_count": null,
   "metadata": {
    "scrolled": true
   },
   "outputs": [],
   "source": [
    "game = Tris()\n",
    "game.play(AgentHuman(), agent_wrapper_func(last_pop[0]), interactive=True)"
   ]
  },
  {
   "cell_type": "markdown",
   "metadata": {},
   "source": [
    "# Func with context"
   ]
  },
  {
   "cell_type": "code",
   "execution_count": null,
   "metadata": {},
   "outputs": [],
   "source": [
    "# Define global context\n",
    "context = recursively_default_dict()\n",
    "\n",
    "# Game\n",
    "game_creation_func = lambda context: GuessPoint(np.array([0.2,0.8,0.5]), np.array([0.4, 0.5, 10]))\n",
    "game_creation_func = fwc.func_with_context(game_creation_func, context=context)\n",
    "\n",
    "# Model\n",
    "layer_sizes = [3, 5, 3]\n",
    "get_model_func = lambda context: FeedForwardNetwork(layer_sizes, ActivationFunctions.get_sigmoid(), ActivationFunctions.get_id())\n",
    "get_model_func = fwc.func_with_context(get_model_func, context=context)\n",
    "\n",
    "# Game-Model interface\n",
    "predict_func = lambda model, inputs: model.predict(inputs)\n",
    "agent_wrapper_func = get_agent_wrapper_func(predict_func)\n",
    "\n",
    "# Reward function and update env function\n",
    "reward_function = RewardBuilderGame() \\\n",
    ".with_game_creation_function(game_creation_func) \\\n",
    ".with_agent_wrapper_func(agent_wrapper_func) \\\n",
    ".with_context(context) \\\n",
    ".get()\n",
    "\n",
    "# Update population function\n",
    "mutation_perc = 0.6\n",
    "crossover_perc = 0.3\n",
    "copy_perc = 0.1\n",
    "get_new_pop_f = PopulationUpdateBuilderStatic() \\\n",
    ".add_operator(\"es_1_mutation\", mutation_perc, 0.3, 0.3) \\\n",
    ".add_operator(\"es_2_crossover\", crossover_perc, 0.8) \\\n",
    ".add_operator(\"es_1_copy\", copy_perc) \\\n",
    ".add_selector_f(SelectorFunctionFactory.get_geometric_selector_function(0.3)) \\\n",
    ".with_context(context) \\\n",
    ".get()\n",
    "\n",
    "# Population manager\n",
    "pop_size = 500\n",
    "pm = PopulationManager(pop_size, get_model_func, reward_function, get_new_pop_f, context)\n",
    "\n",
    "# Run population manager\n",
    "num_epochs = 10\n",
    "last_pop = pm.run(num_epochs)"
   ]
  },
  {
   "cell_type": "code",
   "execution_count": null,
   "metadata": {},
   "outputs": [],
   "source": []
  }
 ],
 "metadata": {
  "kernelspec": {
   "display_name": "Python 3",
   "language": "python",
   "name": "python3"
  },
  "language_info": {
   "codemirror_mode": {
    "name": "ipython",
    "version": 3
   },
   "file_extension": ".py",
   "mimetype": "text/x-python",
   "name": "python",
   "nbconvert_exporter": "python",
   "pygments_lexer": "ipython3",
   "version": "3.6.9"
  }
 },
 "nbformat": 4,
 "nbformat_minor": 2
}
