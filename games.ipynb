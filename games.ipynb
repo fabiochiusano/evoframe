{
 "cells": [
  {
   "cell_type": "code",
   "execution_count": 1,
   "metadata": {},
   "outputs": [],
   "source": [
    "from evoframe.reward_builders import RewardBuilderGame\n",
    "from evoframe.population_update_builders import PopulationUpdateBuilderStatic\n",
    "from evoframe.selector_function import SelectorFunctionFactory\n",
    "from evoframe import EvolutionBuilder\n",
    "from evoframe.models import FeedForwardNetwork\n",
    "from evoframe.models import ActivationFunctions\n",
    "from evoframe.games import Game\n",
    "from evoframe import get_agent_wrapper_func\n",
    "\n",
    "import numpy as np\n",
    "import pandas as pd\n",
    "\n",
    "from ipywidgets import interact, interactive, fixed, interact_manual\n",
    "import ipywidgets as widgets\n",
    "\n",
    "from evoframe.experiment_results import *\n",
    "from evoframe.utility import clean_experiment_directory\n",
    "\n",
    "%matplotlib inline"
   ]
  },
  {
   "cell_type": "code",
   "execution_count": 2,
   "metadata": {
    "scrolled": true
   },
   "outputs": [],
   "source": [
    "import imageio\n",
    "\n",
    "def to_gif(experiment_name, num_epochs, duration=0.5):\n",
    "    for i in range(1, num_epochs+1):\n",
    "        print(i)\n",
    "        f = show_best_fnn_weights(experiment_name, i)\n",
    "        b = f.to_image(format=\"png\")\n",
    "        with open(\"images/image{}.png\".format(i), \"wb\") as fi:\n",
    "            fi.write(b)\n",
    "    images = []\n",
    "    filenames = [\"images/image{}.png\".format(i) for i in range(1, num_epochs+1)]\n",
    "    for i,filename in enumerate(filenames):\n",
    "        print(i)\n",
    "        images.append(imageio.imread(filename))\n",
    "    imageio.mimsave('nn.gif', images, duration=duration)"
   ]
  },
  {
   "cell_type": "markdown",
   "metadata": {},
   "source": [
    "# Guess the point"
   ]
  },
  {
   "cell_type": "code",
   "execution_count": null,
   "metadata": {},
   "outputs": [],
   "source": [
    "from evoframe.games import GuessPoint"
   ]
  },
  {
   "cell_type": "code",
   "execution_count": null,
   "metadata": {
    "scrolled": true
   },
   "outputs": [],
   "source": [
    "# Game\n",
    "game_creation_func = lambda context: GuessPoint(np.array([0.2,0.8,0.5]), np.array([0.4, 0.5, 10]))\n",
    "\n",
    "# Game-Model interface\n",
    "predict_func = lambda model, game: model.predict(game.inputs)\n",
    "agent_wrapper_func = get_agent_wrapper_func(predict_func)\n",
    "\n",
    "# Reward function and update env function\n",
    "reward_func, get_context_func = RewardBuilderGame() \\\n",
    ".with_game_creation_func(game_creation_func) \\\n",
    ".with_agent_wrapper_func(agent_wrapper_func) \\\n",
    ".get()\n",
    "\n",
    "# Model\n",
    "layer_sizes = [3, 5, 3]\n",
    "get_model_func = lambda: FeedForwardNetwork(layer_sizes, ActivationFunctions.get_relu(), ActivationFunctions.get_id())\n",
    "\n",
    "# Update population function\n",
    "get_new_pop_func = PopulationUpdateBuilderStatic() \\\n",
    ".add_operator(\"es_1_mutation\", 1, 0.3, 0.3) \\\n",
    ".add_operator(\"es_2_crossover\", 0.01, 0.8) \\\n",
    ".add_operator(\"es_1_copy\", 0.01) \\\n",
    ".add_operator(\"es_n_rewards_gradient\", 0.01) \\\n",
    ".add_selector_func(SelectorFunctionFactory.get_geometric_selector_function(0.3)) \\\n",
    ".get()\n",
    "\n",
    "# Evolution function\n",
    "evolution_func = EvolutionBuilder() \\\n",
    "    .with_get_model_func(get_model_func) \\\n",
    "    .with_reward_func(reward_func) \\\n",
    "    .with_get_new_pop_func(get_new_pop_func) \\\n",
    "    .with_get_context_func(get_context_func) \\\n",
    "    .get()\n",
    "\n",
    "experiment_name = \"guesspoint\"\n",
    "pop_size = 200\n",
    "num_epochs = 10\n",
    "clean_experiment_directory(experiment_name)\n",
    "evolution_func(experiment_name, pop_size, num_epochs, num_threads=8)"
   ]
  },
  {
   "cell_type": "code",
   "execution_count": null,
   "metadata": {},
   "outputs": [],
   "source": [
    "plot_rewards(experiment_name)"
   ]
  },
  {
   "cell_type": "code",
   "execution_count": null,
   "metadata": {},
   "outputs": [],
   "source": [
    "interact(show_best_fnn_weights,\n",
    "         experiment_name=fixed(experiment_name),\n",
    "         epoch=widgets.IntSlider(min=1, max=num_epochs, step=1, value=1))"
   ]
  },
  {
   "cell_type": "code",
   "execution_count": null,
   "metadata": {},
   "outputs": [],
   "source": [
    "inp = np.array([0.2,0.8,0.5])\n",
    "\n",
    "def get_random_input_func():\n",
    "    global inp\n",
    "    return inp"
   ]
  },
  {
   "cell_type": "code",
   "execution_count": null,
   "metadata": {},
   "outputs": [],
   "source": [
    "plot_behavioural_differences(experiment_name, get_random_input_func, mode=\"first_best\", iterations=1)"
   ]
  },
  {
   "cell_type": "code",
   "execution_count": null,
   "metadata": {},
   "outputs": [],
   "source": [
    "plot_behavioural_differences(experiment_name, get_random_input_func, mode=\"last_best\", iterations=1)"
   ]
  },
  {
   "cell_type": "code",
   "execution_count": null,
   "metadata": {},
   "outputs": [],
   "source": [
    "plot_params_similarity(experiment_name, only_best=False)"
   ]
  },
  {
   "cell_type": "code",
   "execution_count": null,
   "metadata": {},
   "outputs": [],
   "source": [
    "plot_params_similarity(experiment_name, only_best=True)"
   ]
  },
  {
   "cell_type": "code",
   "execution_count": null,
   "metadata": {},
   "outputs": [],
   "source": [
    "plot_params_statistics(experiment_name)"
   ]
  },
  {
   "cell_type": "markdown",
   "metadata": {},
   "source": [
    "# Guess the function"
   ]
  },
  {
   "cell_type": "code",
   "execution_count": null,
   "metadata": {},
   "outputs": [],
   "source": [
    "from evoframe.games import GuessFunction"
   ]
  },
  {
   "cell_type": "code",
   "execution_count": null,
   "metadata": {
    "scrolled": true
   },
   "outputs": [],
   "source": [
    "# Game\n",
    "game_func = lambda i: np.array([2*i[0]-3*i[1]+4, i[1]-8*i[2]-5])\n",
    "input_dim = 3\n",
    "input_domains = [(-1,1),(-1,1),(3,7)]\n",
    "sample_every = [0.1, 0.1, 0.3]\n",
    "game_creation_func = lambda context: GuessFunction(game_func, input_dim, input_domains, sample_every)\n",
    "\n",
    "# Model\n",
    "layer_sizes = [3, 5, 2]\n",
    "get_model_func = lambda: FeedForwardNetwork(layer_sizes, ActivationFunctions.get_arctan(), ActivationFunctions.get_id())\n",
    "\n",
    "# Game-Model interface\n",
    "predict_func = lambda model, inputs: model.predict(inputs)\n",
    "agent_wrapper_func = get_agent_wrapper_func(predict_func)\n",
    "\n",
    "# Reward function and update env function\n",
    "reward_func, get_context_func = RewardBuilderGame() \\\n",
    ".with_game_creation_func(game_creation_func) \\\n",
    ".with_agent_wrapper_func(agent_wrapper_func) \\\n",
    ".get()\n",
    "\n",
    "# Update population function\n",
    "get_new_pop_func = PopulationUpdateBuilderStatic() \\\n",
    ".add_operator(\"es_1_mutation\", 0.2, 0.1, 0.1) \\\n",
    ".add_operator(\"es_1_mutation\", 0.2, 0.1, 0.5) \\\n",
    ".add_operator(\"es_1_mutation\", 0.2, 0.3, 0.3) \\\n",
    ".add_operator(\"es_1_mutation\", 0.2, 0.5, 0.5) \\\n",
    ".add_operator(\"es_1_mutation\", 0.2, 0.5, 0.1) \\\n",
    ".add_operator(\"es_2_crossover\", 0.1, 0.8) \\\n",
    ".add_operator(\"es_1_copy\", 0.1) \\\n",
    ".add_operator(\"es_n_rewards_gradient\", 0.1) \\\n",
    ".add_selector_func(SelectorFunctionFactory.get_geometric_selector_function(0.3)) \\\n",
    ".get()\n",
    "\n",
    "# Evolution function\n",
    "evolution_func = EvolutionBuilder() \\\n",
    "    .with_get_model_func(get_model_func) \\\n",
    "    .with_reward_func(reward_func) \\\n",
    "    .with_get_new_pop_func(get_new_pop_func) \\\n",
    "    .with_get_context_func(get_context_func) \\\n",
    "    .get()\n",
    "\n",
    "pop_size = 40\n",
    "num_epochs = 100\n",
    "experiment_name = \"guessfunction\"\n",
    "clean_experiment_directory(experiment_name)\n",
    "evolution_func(experiment_name, pop_size, num_epochs, num_threads=8)"
   ]
  },
  {
   "cell_type": "code",
   "execution_count": null,
   "metadata": {
    "scrolled": false
   },
   "outputs": [],
   "source": [
    "plot_rewards(experiment_name)"
   ]
  },
  {
   "cell_type": "code",
   "execution_count": null,
   "metadata": {},
   "outputs": [],
   "source": [
    "test_array = np.array([0.5,0.5,5])\n",
    "pickle_load_best_model_of_epoch(experiment_name, num_epochs, pop_size).predict(test_array), game_func(test_array)"
   ]
  },
  {
   "cell_type": "code",
   "execution_count": null,
   "metadata": {
    "scrolled": false
   },
   "outputs": [],
   "source": [
    "interact(show_best_fnn_weights,\n",
    "         experiment_name=fixed(experiment_name),\n",
    "         epoch=widgets.IntSlider(min=1, max=num_epochs, step=1, value=1))"
   ]
  },
  {
   "cell_type": "code",
   "execution_count": null,
   "metadata": {},
   "outputs": [],
   "source": [
    "plot_params_statistics(experiment_name)"
   ]
  },
  {
   "cell_type": "code",
   "execution_count": null,
   "metadata": {},
   "outputs": [],
   "source": [
    "input_domains = [(-1,1),(-1,1),(3,7)]\n",
    "sample_every = [0.1, 0.1, 0.3]\n",
    "\n",
    "def get_random_input_func():\n",
    "    global input_domains\n",
    "    global sample_every\n",
    "    inp = []\n",
    "    for i,input_domain in enumerate(input_domains):\n",
    "        point_i = np.random.randint(low=0, high=int((input_domain[1] - input_domain[0])/sample_every[i]))\n",
    "        point = input_domain[0] + sample_every[i] * point_i\n",
    "        inp.append(point)\n",
    "    inp = np.array(inp)\n",
    "    return inp"
   ]
  },
  {
   "cell_type": "code",
   "execution_count": null,
   "metadata": {},
   "outputs": [],
   "source": [
    "plot_behavioural_differences(experiment_name, get_random_input_func, mode=\"first_best\")"
   ]
  },
  {
   "cell_type": "code",
   "execution_count": null,
   "metadata": {},
   "outputs": [],
   "source": [
    "plot_behavioural_differences(experiment_name, get_random_input_func, mode=\"last_best\")"
   ]
  },
  {
   "cell_type": "code",
   "execution_count": null,
   "metadata": {},
   "outputs": [],
   "source": [
    "plot_behavioural_variances_to_input(experiment_name, get_random_input_func)"
   ]
  },
  {
   "cell_type": "code",
   "execution_count": null,
   "metadata": {},
   "outputs": [],
   "source": [
    "plot_params_similarity(experiment_name, only_best=False, iterations=600)"
   ]
  },
  {
   "cell_type": "code",
   "execution_count": null,
   "metadata": {},
   "outputs": [],
   "source": [
    "plot_params_similarity(experiment_name, only_best=True, iterations=600)"
   ]
  },
  {
   "cell_type": "markdown",
   "metadata": {},
   "source": [
    "# Play Tris, 9 inputs"
   ]
  },
  {
   "cell_type": "code",
   "execution_count": null,
   "metadata": {},
   "outputs": [],
   "source": [
    "from evoframe.reward_builders.reward_builder_game import TournamentMode\n",
    "from evoframe.games import Tris"
   ]
  },
  {
   "cell_type": "code",
   "execution_count": null,
   "metadata": {
    "scrolled": true
   },
   "outputs": [],
   "source": [
    "# Game\n",
    "game_creation_func = lambda context: Tris()\n",
    "\n",
    "# Model\n",
    "layer_sizes = [9, 18, 9]\n",
    "get_model_func = lambda: FeedForwardNetwork(layer_sizes, ActivationFunctions.get_sigmoid(), ActivationFunctions.get_sigmoid())\n",
    "\n",
    "# Game-Model interface\n",
    "def predict_func(model, game):\n",
    "    # In Tris, 'inputs' is a 3x3 np.array, thus we must flatten it to a 9x1 np.array\n",
    "    # output is a 9x1 vector, where the cell with highest value corresponding\n",
    "    # to a valid move will be the chosen move\n",
    "    return model.predict(game.board.flatten())[0]\n",
    "agent_wrapper_func = get_agent_wrapper_func(predict_func)\n",
    "\n",
    "# Reward function and update env function\n",
    "# Since Tris is a two-players game, we can compute the reward with a tournament against the current generation\n",
    "keep_only = 40\n",
    "reward_func, get_context_func = RewardBuilderGame() \\\n",
    ".with_game_creation_func(game_creation_func) \\\n",
    ".with_agent_wrapper_func(agent_wrapper_func) \\\n",
    ".with_competitive_tournament(TournamentMode.VS_CURRENT_POP) \\\n",
    ".with_keep_only(keep_only) \\\n",
    ".with_gradient_operator_reward(0.5) \\\n",
    ".with_weight_normalization(10, 0.1) \\\n",
    ".get()\n",
    "\n",
    "\n",
    "# Update population function\n",
    "get_new_pop_func = PopulationUpdateBuilderStatic() \\\n",
    ".add_operator(\"es_1_mutation\", 0.2, 0.1, 0.1) \\\n",
    ".add_operator(\"es_1_mutation\", 0.2, 0.1, 0.5) \\\n",
    ".add_operator(\"es_1_mutation\", 0.2, 0.3, 0.3) \\\n",
    ".add_operator(\"es_1_mutation\", 0.2, 0.5, 0.5) \\\n",
    ".add_operator(\"es_1_mutation\", 0.2, 0.5, 0.1) \\\n",
    ".add_operator(\"es_2_crossover\", 0.1, 0.8) \\\n",
    ".add_operator(\"es_1_copy\", 0.1) \\\n",
    ".add_operator(\"es_n_rewards_gradient\", 0.1, 0.05) \\\n",
    ".add_operator(\"es_n_rewards_gradient\", 0.1, 0.1) \\\n",
    ".add_operator(\"es_n_rewards_gradient\", 0.1, 0.3) \\\n",
    ".add_operator(\"es_n_rewards_gradient\", 0.1, 0.5) \\\n",
    ".add_operator(\"es_n_rewards_gradient\", 0.1, 1.0) \\\n",
    ".add_selector_func(SelectorFunctionFactory.get_geometric_selector_function(0.3)) \\\n",
    ".get()\n",
    "\n",
    "# Evolution function\n",
    "evolution_func = EvolutionBuilder() \\\n",
    "    .with_get_model_func(get_model_func) \\\n",
    "    .with_reward_func(reward_func) \\\n",
    "    .with_get_new_pop_func(get_new_pop_func) \\\n",
    "    .with_get_context_func(get_context_func) \\\n",
    "    .get()\n",
    "\n",
    "pop_size = 20\n",
    "num_epochs = 10\n",
    "experiment_name = \"tris_vs_cur_pop_with_MOO_gradient_weight_reg\"\n",
    "clean_experiment_directory(experiment_name)\n",
    "evolution_func(experiment_name, pop_size, num_epochs, num_threads=8)"
   ]
  },
  {
   "cell_type": "code",
   "execution_count": null,
   "metadata": {
    "scrolled": false
   },
   "outputs": [],
   "source": [
    "plot_rewards(experiment_name, epochs=list(range(1, 11)))"
   ]
  },
  {
   "cell_type": "code",
   "execution_count": null,
   "metadata": {},
   "outputs": [],
   "source": [
    "interact(show_best_fnn_weights,\n",
    "         experiment_name=fixed(experiment_name),\n",
    "         epoch=widgets.IntSlider(min=1, max=num_epochs, step=1, value=1))"
   ]
  },
  {
   "cell_type": "code",
   "execution_count": null,
   "metadata": {},
   "outputs": [],
   "source": [
    "class AgentHuman:\n",
    "    def __init__(self):\n",
    "        pass\n",
    "    \n",
    "    def predict(self, board):\n",
    "        move = int(input(\"Select move: \"))\n",
    "        prediction = [1 if i == move else 0 for i in range(9)]\n",
    "        return prediction"
   ]
  },
  {
   "cell_type": "code",
   "execution_count": null,
   "metadata": {},
   "outputs": [],
   "source": [
    "# Game-Model interface\n",
    "def predict_func(model, inputs):\n",
    "    # In Tris, 'inputs' is a 3x3 np.array, thus we must flatten it to a 9x1 np.array\n",
    "    # output is a 9x1 vector, where the cell with highest value corresponding\n",
    "    # to a valid move will be the chosen move\n",
    "    return model.predict(inputs.flatten())[0]\n",
    "agent_wrapper_func = get_agent_wrapper_func(predict_func)"
   ]
  },
  {
   "cell_type": "code",
   "execution_count": null,
   "metadata": {
    "scrolled": true
   },
   "outputs": [],
   "source": [
    "game = Tris()\n",
    "game.play(AgentHuman(), agent_wrapper_func(pickle_load_best_model_of_epoch(experiment_name, num_epochs, pop_size)), interactive=True)"
   ]
  },
  {
   "cell_type": "code",
   "execution_count": null,
   "metadata": {},
   "outputs": [],
   "source": [
    "import plotly.express as px\n",
    "\n",
    "def show_predictions(model, inp):\n",
    "    out = agent_wrapper_func(pickle_load_best_model_of_epoch(experiment_name, num_epochs, pop_size)).predict(inp)\n",
    "    out = out.reshape((3,3))\n",
    "    shape = out.shape\n",
    "    data = [(row+1, col+1, out[row][col]) for row in range(shape[0]) for col in range(shape[1])]\n",
    "    columns = [\"neuron_input\", \"neuron_output\", \"value\"]\n",
    "    df = pd.DataFrame(data=data, columns=columns)\n",
    "    return px.density_heatmap(df, x=\"neuron_output\", y=\"neuron_input\", z=\"value\",\n",
    "                                         histfunc=\"sum\", color_continuous_scale=\"RdYlGn\", range_color=(-2,2),\n",
    "                                         nbinsx=shape[1], nbinsy=shape[0],\n",
    "                                         range_x=(0.5, shape[1]+0.5), range_y=(0.5, shape[0]+0.5))"
   ]
  },
  {
   "cell_type": "code",
   "execution_count": null,
   "metadata": {},
   "outputs": [],
   "source": [
    "def get_random_input_func():\n",
    "    return np.array([[np.random.choice([-1,0,1]) for i in range(3)] for j in range(3)])"
   ]
  },
  {
   "cell_type": "code",
   "execution_count": null,
   "metadata": {},
   "outputs": [],
   "source": [
    "model = agent_wrapper_func(pickle_load_best_model_of_epoch(experiment_name, num_epochs, pop_size))\n",
    "inp = get_random_input_func()\n",
    "print(inp)\n",
    "show_predictions(model, inp)"
   ]
  },
  {
   "cell_type": "code",
   "execution_count": null,
   "metadata": {},
   "outputs": [],
   "source": [
    "plot_behavioural_differences(experiment_name, get_random_input_func, mode=\"first_best\")"
   ]
  },
  {
   "cell_type": "code",
   "execution_count": null,
   "metadata": {},
   "outputs": [],
   "source": [
    "plot_behavioural_differences(experiment_name, get_random_input_func, mode=\"last_best\")"
   ]
  },
  {
   "cell_type": "code",
   "execution_count": null,
   "metadata": {
    "scrolled": true
   },
   "outputs": [],
   "source": [
    "plot_params_similarity(experiment_name, only_best=False, iterations=1000)"
   ]
  },
  {
   "cell_type": "code",
   "execution_count": null,
   "metadata": {},
   "outputs": [],
   "source": [
    "plot_params_similarity(experiment_name, only_best=True, iterations=1000)"
   ]
  },
  {
   "cell_type": "code",
   "execution_count": null,
   "metadata": {},
   "outputs": [],
   "source": [
    "plot_behavioural_variances_to_input(experiment_name, get_random_input_func)"
   ]
  },
  {
   "cell_type": "code",
   "execution_count": null,
   "metadata": {},
   "outputs": [],
   "source": [
    "figs = plot_params_statistics(experiment_name)"
   ]
  },
  {
   "cell_type": "code",
   "execution_count": null,
   "metadata": {},
   "outputs": [],
   "source": [
    "figs[0]"
   ]
  },
  {
   "cell_type": "code",
   "execution_count": null,
   "metadata": {},
   "outputs": [],
   "source": [
    "figs[1]"
   ]
  },
  {
   "cell_type": "code",
   "execution_count": null,
   "metadata": {},
   "outputs": [],
   "source": [
    "figs[2]"
   ]
  },
  {
   "cell_type": "code",
   "execution_count": null,
   "metadata": {},
   "outputs": [],
   "source": [
    "figs[3]"
   ]
  },
  {
   "cell_type": "markdown",
   "metadata": {},
   "source": [
    "# Tris with state-value function"
   ]
  },
  {
   "cell_type": "code",
   "execution_count": 3,
   "metadata": {},
   "outputs": [],
   "source": [
    "from evoframe.reward_builders.reward_builder_game import TournamentMode\n",
    "from evoframe.games import Tris"
   ]
  },
  {
   "cell_type": "code",
   "execution_count": null,
   "metadata": {},
   "outputs": [],
   "source": [
    "# Game\n",
    "game_creation_func = lambda context: Tris()\n",
    "\n",
    "# Model\n",
    "layer_sizes = [9, 18, 1]\n",
    "get_model_func = lambda: FeedForwardNetwork(layer_sizes, ActivationFunctions.get_sigmoid(), ActivationFunctions.get_id())\n",
    "\n",
    "# Game-Model interface\n",
    "def predict_func(model, game):\n",
    "    available_actions = game.get_available_actions()\n",
    "    vs = []\n",
    "    for a in available_actions:\n",
    "        next_state = game.get_next_state(a)\n",
    "        vs.append(model.predict(next_state.flatten())[0])\n",
    "    i_max = np.array(vs).argmax()\n",
    "    best_action = available_actions[i_max]\n",
    "    return best_action\n",
    "agent_wrapper_func = get_agent_wrapper_func(predict_func)\n",
    "\n",
    "# Reward function and update env function\n",
    "# Since Tris is a two-players game, we can compute the reward with a tournament against the current generation\n",
    "keep_only = 40\n",
    "reward_func, get_context_func = RewardBuilderGame() \\\n",
    ".with_game_creation_func(game_creation_func) \\\n",
    ".with_agent_wrapper_func(agent_wrapper_func) \\\n",
    ".with_competitive_tournament(TournamentMode.VS_PEAKS) \\\n",
    ".with_keep_only(keep_only) \\\n",
    ".get()\n",
    "#.with_gradient_operator_reward(0.5) \\\n",
    "#.with_weight_normalization(10, 0.1) \\\n",
    "\n",
    "# Update population function\n",
    "get_new_pop_func = PopulationUpdateBuilderStatic() \\\n",
    ".add_operator(\"es_1_mutation\", 0.2, 0.1, 0.1) \\\n",
    ".add_operator(\"es_1_mutation\", 0.2, 0.1, 0.5) \\\n",
    ".add_operator(\"es_1_mutation\", 0.2, 0.3, 0.3) \\\n",
    ".add_operator(\"es_1_mutation\", 0.2, 0.5, 0.5) \\\n",
    ".add_operator(\"es_1_mutation\", 0.2, 0.5, 0.1) \\\n",
    ".add_operator(\"es_2_crossover\", 0.1, 0.8) \\\n",
    ".add_operator(\"es_1_copy\", 0.1) \\\n",
    ".add_operator(\"es_n_rewards_gradient\", 0.1, 0.05) \\\n",
    ".add_operator(\"es_n_rewards_gradient\", 0.1, 0.1) \\\n",
    ".add_operator(\"es_n_rewards_gradient\", 0.1, 0.3) \\\n",
    ".add_operator(\"es_n_rewards_gradient\", 0.1, 0.5) \\\n",
    ".add_operator(\"es_n_rewards_gradient\", 0.1, 1.0) \\\n",
    ".add_selector_func(SelectorFunctionFactory.get_geometric_selector_function(0.3)) \\\n",
    ".get()\n",
    "\n",
    "# Evolution function\n",
    "evolution_func = EvolutionBuilder() \\\n",
    "    .with_get_model_func(get_model_func) \\\n",
    "    .with_reward_func(reward_func) \\\n",
    "    .with_get_new_pop_func(get_new_pop_func) \\\n",
    "    .with_get_context_func(get_context_func) \\\n",
    "    .get()\n",
    "\n",
    "pop_size = 200\n",
    "num_epochs = 200\n",
    "experiment_name = \"tris_state_value_function\"\n",
    "clean_experiment_directory(experiment_name)\n",
    "evolution_func(experiment_name, pop_size, num_epochs, num_threads=8)"
   ]
  },
  {
   "cell_type": "code",
   "execution_count": 22,
   "metadata": {},
   "outputs": [],
   "source": [
    "pop_size = 200\n",
    "num_epochs = 200\n",
    "experiment_name = \"tris_state_value_function\"\n",
    "def predict_func(model, game):\n",
    "    available_actions = game.get_available_actions()\n",
    "    vs = []\n",
    "    for a in available_actions:\n",
    "        next_state = game.get_next_state(a)\n",
    "        vs.append(model.predict(next_state.flatten())[0])\n",
    "    i_max = np.array(vs).argmax()\n",
    "    best_action = available_actions[i_max]\n",
    "    return best_action\n",
    "agent_wrapper_func = get_agent_wrapper_func(predict_func)"
   ]
  },
  {
   "cell_type": "code",
   "execution_count": 18,
   "metadata": {},
   "outputs": [
    {
     "data": {
      "application/vnd.plotly.v1+json": {
       "config": {
        "plotlyServerURL": "https://plot.ly"
       },
       "data": [
        {
         "hoverlabel": {
          "namelength": 0
         },
         "hovertemplate": "category=max<br>epochs=%{x}<br>rewards=%{y}",
         "legendgroup": "category=max",
         "line": {
          "color": "#636efa",
          "dash": "solid"
         },
         "mode": "lines",
         "name": "category=max",
         "showlegend": true,
         "type": "scatter",
         "x": [
          1,
          2,
          3,
          4,
          5,
          6,
          7,
          8,
          9,
          10,
          11,
          12,
          13,
          14,
          15,
          16,
          17,
          18,
          19,
          20,
          21,
          22,
          23,
          24,
          25,
          26,
          27,
          28,
          29,
          30,
          31,
          32,
          33,
          34,
          35,
          36,
          37,
          38,
          39,
          40,
          41,
          42,
          43,
          44,
          45,
          46,
          47,
          48,
          49,
          50,
          51,
          52,
          53,
          54,
          55,
          56,
          57,
          58,
          59,
          60,
          61,
          62,
          63,
          64,
          65,
          66,
          67,
          68,
          69,
          70,
          71,
          72,
          73,
          74,
          75,
          76,
          77,
          78,
          79,
          80,
          81,
          82,
          83,
          84,
          85,
          86,
          87,
          88,
          89,
          90,
          91,
          92,
          93,
          94,
          95,
          96,
          97,
          98,
          99,
          100,
          101,
          102,
          103,
          104,
          105,
          106,
          107,
          108,
          109,
          110,
          111,
          112,
          113,
          114,
          115,
          116,
          117,
          118,
          119,
          120,
          121,
          122,
          123,
          124,
          125,
          126,
          127,
          128,
          129,
          130,
          131,
          132,
          133,
          134,
          135,
          136,
          137,
          138,
          139,
          140,
          141,
          142,
          143,
          144,
          145,
          146,
          147,
          148,
          149,
          150,
          151,
          152,
          153,
          154,
          155,
          156,
          157,
          158,
          159,
          160,
          161,
          162,
          163,
          164,
          165,
          166,
          167,
          168,
          169,
          170,
          171,
          172,
          173,
          174,
          175,
          176,
          177,
          178,
          179,
          180,
          181,
          182,
          183,
          184,
          185,
          186,
          187,
          188,
          189,
          190,
          191,
          192,
          193,
          194,
          195,
          196,
          197,
          198,
          199,
          200
         ],
         "xaxis": "x",
         "y": [
          2,
          4,
          6,
          6,
          10,
          12,
          14,
          14,
          16,
          20,
          22,
          26,
          26,
          32,
          32,
          32,
          32,
          34,
          34,
          34,
          34,
          34,
          34,
          34,
          34,
          34,
          34,
          34,
          34,
          34,
          34,
          36,
          43,
          53,
          58,
          65,
          68,
          70,
          70,
          70,
          70,
          68,
          64,
          62,
          60,
          58,
          56,
          64,
          68,
          68,
          67,
          67,
          66,
          70,
          72,
          70,
          74,
          72,
          76,
          76,
          74,
          74,
          74,
          74,
          72,
          70,
          76,
          76,
          77,
          78,
          79,
          80,
          80,
          80,
          80,
          80,
          80,
          78,
          78,
          78,
          76,
          74,
          72,
          70,
          68,
          66,
          64,
          62,
          58,
          56,
          54,
          55,
          54,
          56,
          54,
          52,
          50,
          49,
          48,
          60,
          76,
          74,
          74,
          80,
          80,
          78,
          78,
          78,
          76,
          76,
          80,
          80,
          78,
          78,
          78,
          76,
          74,
          72,
          70,
          68,
          66,
          64,
          64,
          62,
          60,
          64,
          65,
          69,
          68,
          67,
          66,
          68,
          68,
          64,
          62,
          60,
          58,
          56,
          54,
          52,
          49,
          56,
          80,
          80,
          79,
          80,
          80,
          79,
          79,
          79,
          78,
          80,
          78,
          76,
          76,
          74,
          74,
          72,
          72,
          70,
          68,
          66,
          64,
          62,
          70,
          77,
          78,
          78,
          76,
          76,
          74,
          70,
          70,
          68,
          66,
          67,
          65,
          63,
          63,
          63,
          61,
          59,
          56,
          59,
          62,
          66,
          65,
          65,
          65,
          65,
          65,
          64,
          63,
          64,
          63,
          61,
          60,
          59,
          60,
          59
         ],
         "yaxis": "y"
        },
        {
         "hoverlabel": {
          "namelength": 0
         },
         "hovertemplate": "category=mean<br>epochs=%{x}<br>rewards=%{y}",
         "legendgroup": "category=mean",
         "line": {
          "color": "#EF553B",
          "dash": "solid"
         },
         "mode": "lines",
         "name": "category=mean",
         "showlegend": true,
         "type": "scatter",
         "x": [
          1,
          2,
          3,
          4,
          5,
          6,
          7,
          8,
          9,
          10,
          11,
          12,
          13,
          14,
          15,
          16,
          17,
          18,
          19,
          20,
          21,
          22,
          23,
          24,
          25,
          26,
          27,
          28,
          29,
          30,
          31,
          32,
          33,
          34,
          35,
          36,
          37,
          38,
          39,
          40,
          41,
          42,
          43,
          44,
          45,
          46,
          47,
          48,
          49,
          50,
          51,
          52,
          53,
          54,
          55,
          56,
          57,
          58,
          59,
          60,
          61,
          62,
          63,
          64,
          65,
          66,
          67,
          68,
          69,
          70,
          71,
          72,
          73,
          74,
          75,
          76,
          77,
          78,
          79,
          80,
          81,
          82,
          83,
          84,
          85,
          86,
          87,
          88,
          89,
          90,
          91,
          92,
          93,
          94,
          95,
          96,
          97,
          98,
          99,
          100,
          101,
          102,
          103,
          104,
          105,
          106,
          107,
          108,
          109,
          110,
          111,
          112,
          113,
          114,
          115,
          116,
          117,
          118,
          119,
          120,
          121,
          122,
          123,
          124,
          125,
          126,
          127,
          128,
          129,
          130,
          131,
          132,
          133,
          134,
          135,
          136,
          137,
          138,
          139,
          140,
          141,
          142,
          143,
          144,
          145,
          146,
          147,
          148,
          149,
          150,
          151,
          152,
          153,
          154,
          155,
          156,
          157,
          158,
          159,
          160,
          161,
          162,
          163,
          164,
          165,
          166,
          167,
          168,
          169,
          170,
          171,
          172,
          173,
          174,
          175,
          176,
          177,
          178,
          179,
          180,
          181,
          182,
          183,
          184,
          185,
          186,
          187,
          188,
          189,
          190,
          191,
          192,
          193,
          194,
          195,
          196,
          197,
          198,
          199,
          200
         ],
         "xaxis": "x",
         "y": [
          0.465,
          1.17,
          1.345,
          1.93,
          5.01,
          8.835,
          10.01,
          11.965,
          11.37,
          11.015,
          14.255,
          17.69,
          21.06,
          21.88,
          23.41,
          25.82,
          26.81,
          26.64,
          26.63,
          26.545,
          26.44,
          25.16,
          24.75,
          23.34,
          22.99,
          20.515,
          24.625,
          23.77,
          19.92,
          23.1,
          21.93,
          21.615,
          23.925,
          31.615,
          39.235,
          46.515,
          49.74,
          50.755,
          48.945,
          40.595,
          44.42,
          40.11,
          37.24,
          33.68,
          32.71,
          32.78,
          33.085,
          30.555,
          41.215,
          53.23,
          54.185,
          54.125,
          55.61,
          52.725,
          51.845,
          54.74,
          62.635,
          61.71,
          63.985,
          66.545,
          64.95,
          64.435,
          65.015,
          65.51,
          63.295,
          60.905,
          60.665,
          60.995,
          66.825,
          69.045,
          71.695,
          71.075,
          69.635,
          72.765,
          72.825,
          72.8,
          72.005,
          70.115,
          67.77,
          66.8,
          66.9,
          62.85,
          59.875,
          58.81,
          56.02,
          55.675,
          53.545,
          51.395,
          48.105,
          45.24,
          43.005,
          42.61,
          41.54,
          42.22,
          43.44,
          44.9,
          44.28,
          44.345,
          39.665,
          39.06,
          44.05,
          62.535,
          68.005,
          66.03,
          61.315,
          65.58,
          65.715,
          63.71,
          63.455,
          62.68,
          62.845,
          64.365,
          68.995,
          69.525,
          68.565,
          66.88,
          61.7,
          61.375,
          58.88,
          55.925,
          50.06,
          51,
          48.47,
          43.805,
          41.61,
          41.41,
          40.02,
          40.155,
          37.945,
          36.63,
          34.96,
          31.81,
          29.075,
          30.385,
          28.245,
          22.53,
          18.445,
          17.18,
          22.735,
          20.265,
          17.035,
          20.475,
          34.055,
          55.12,
          56.635,
          65.775,
          63.245,
          57.61,
          58.865,
          56.325,
          54.26,
          56.065,
          62.275,
          58.9,
          57.815,
          59.595,
          60.21,
          57.26,
          55.56,
          56.605,
          55.3,
          53.01,
          49.375,
          48.74,
          49.805,
          46.71,
          60.15,
          61.38,
          60.315,
          59.345,
          54.835,
          54.795,
          47.595,
          52.085,
          52.135,
          48.42,
          42.755,
          37.955,
          42.085,
          42.31,
          40.7,
          36.38,
          32.51,
          31.55,
          35.665,
          37.735,
          50.015,
          48.76,
          46.925,
          51.18,
          42.68,
          41.98,
          48.61,
          50.37,
          43.54,
          41.245,
          37.625,
          36.655,
          40.27,
          42.86
         ],
         "yaxis": "y"
        }
       ],
       "layout": {
        "height": 600,
        "legend": {
         "tracegroupgap": 0
        },
        "margin": {
         "t": 60
        },
        "template": {
         "data": {
          "bar": [
           {
            "error_x": {
             "color": "#2a3f5f"
            },
            "error_y": {
             "color": "#2a3f5f"
            },
            "marker": {
             "line": {
              "color": "#E5ECF6",
              "width": 0.5
             }
            },
            "type": "bar"
           }
          ],
          "barpolar": [
           {
            "marker": {
             "line": {
              "color": "#E5ECF6",
              "width": 0.5
             }
            },
            "type": "barpolar"
           }
          ],
          "carpet": [
           {
            "aaxis": {
             "endlinecolor": "#2a3f5f",
             "gridcolor": "white",
             "linecolor": "white",
             "minorgridcolor": "white",
             "startlinecolor": "#2a3f5f"
            },
            "baxis": {
             "endlinecolor": "#2a3f5f",
             "gridcolor": "white",
             "linecolor": "white",
             "minorgridcolor": "white",
             "startlinecolor": "#2a3f5f"
            },
            "type": "carpet"
           }
          ],
          "choropleth": [
           {
            "colorbar": {
             "outlinewidth": 0,
             "ticks": ""
            },
            "type": "choropleth"
           }
          ],
          "contour": [
           {
            "colorbar": {
             "outlinewidth": 0,
             "ticks": ""
            },
            "colorscale": [
             [
              0,
              "#0d0887"
             ],
             [
              0.1111111111111111,
              "#46039f"
             ],
             [
              0.2222222222222222,
              "#7201a8"
             ],
             [
              0.3333333333333333,
              "#9c179e"
             ],
             [
              0.4444444444444444,
              "#bd3786"
             ],
             [
              0.5555555555555556,
              "#d8576b"
             ],
             [
              0.6666666666666666,
              "#ed7953"
             ],
             [
              0.7777777777777778,
              "#fb9f3a"
             ],
             [
              0.8888888888888888,
              "#fdca26"
             ],
             [
              1,
              "#f0f921"
             ]
            ],
            "type": "contour"
           }
          ],
          "contourcarpet": [
           {
            "colorbar": {
             "outlinewidth": 0,
             "ticks": ""
            },
            "type": "contourcarpet"
           }
          ],
          "heatmap": [
           {
            "colorbar": {
             "outlinewidth": 0,
             "ticks": ""
            },
            "colorscale": [
             [
              0,
              "#0d0887"
             ],
             [
              0.1111111111111111,
              "#46039f"
             ],
             [
              0.2222222222222222,
              "#7201a8"
             ],
             [
              0.3333333333333333,
              "#9c179e"
             ],
             [
              0.4444444444444444,
              "#bd3786"
             ],
             [
              0.5555555555555556,
              "#d8576b"
             ],
             [
              0.6666666666666666,
              "#ed7953"
             ],
             [
              0.7777777777777778,
              "#fb9f3a"
             ],
             [
              0.8888888888888888,
              "#fdca26"
             ],
             [
              1,
              "#f0f921"
             ]
            ],
            "type": "heatmap"
           }
          ],
          "heatmapgl": [
           {
            "colorbar": {
             "outlinewidth": 0,
             "ticks": ""
            },
            "colorscale": [
             [
              0,
              "#0d0887"
             ],
             [
              0.1111111111111111,
              "#46039f"
             ],
             [
              0.2222222222222222,
              "#7201a8"
             ],
             [
              0.3333333333333333,
              "#9c179e"
             ],
             [
              0.4444444444444444,
              "#bd3786"
             ],
             [
              0.5555555555555556,
              "#d8576b"
             ],
             [
              0.6666666666666666,
              "#ed7953"
             ],
             [
              0.7777777777777778,
              "#fb9f3a"
             ],
             [
              0.8888888888888888,
              "#fdca26"
             ],
             [
              1,
              "#f0f921"
             ]
            ],
            "type": "heatmapgl"
           }
          ],
          "histogram": [
           {
            "marker": {
             "colorbar": {
              "outlinewidth": 0,
              "ticks": ""
             }
            },
            "type": "histogram"
           }
          ],
          "histogram2d": [
           {
            "colorbar": {
             "outlinewidth": 0,
             "ticks": ""
            },
            "colorscale": [
             [
              0,
              "#0d0887"
             ],
             [
              0.1111111111111111,
              "#46039f"
             ],
             [
              0.2222222222222222,
              "#7201a8"
             ],
             [
              0.3333333333333333,
              "#9c179e"
             ],
             [
              0.4444444444444444,
              "#bd3786"
             ],
             [
              0.5555555555555556,
              "#d8576b"
             ],
             [
              0.6666666666666666,
              "#ed7953"
             ],
             [
              0.7777777777777778,
              "#fb9f3a"
             ],
             [
              0.8888888888888888,
              "#fdca26"
             ],
             [
              1,
              "#f0f921"
             ]
            ],
            "type": "histogram2d"
           }
          ],
          "histogram2dcontour": [
           {
            "colorbar": {
             "outlinewidth": 0,
             "ticks": ""
            },
            "colorscale": [
             [
              0,
              "#0d0887"
             ],
             [
              0.1111111111111111,
              "#46039f"
             ],
             [
              0.2222222222222222,
              "#7201a8"
             ],
             [
              0.3333333333333333,
              "#9c179e"
             ],
             [
              0.4444444444444444,
              "#bd3786"
             ],
             [
              0.5555555555555556,
              "#d8576b"
             ],
             [
              0.6666666666666666,
              "#ed7953"
             ],
             [
              0.7777777777777778,
              "#fb9f3a"
             ],
             [
              0.8888888888888888,
              "#fdca26"
             ],
             [
              1,
              "#f0f921"
             ]
            ],
            "type": "histogram2dcontour"
           }
          ],
          "mesh3d": [
           {
            "colorbar": {
             "outlinewidth": 0,
             "ticks": ""
            },
            "type": "mesh3d"
           }
          ],
          "parcoords": [
           {
            "line": {
             "colorbar": {
              "outlinewidth": 0,
              "ticks": ""
             }
            },
            "type": "parcoords"
           }
          ],
          "scatter": [
           {
            "marker": {
             "colorbar": {
              "outlinewidth": 0,
              "ticks": ""
             }
            },
            "type": "scatter"
           }
          ],
          "scatter3d": [
           {
            "line": {
             "colorbar": {
              "outlinewidth": 0,
              "ticks": ""
             }
            },
            "marker": {
             "colorbar": {
              "outlinewidth": 0,
              "ticks": ""
             }
            },
            "type": "scatter3d"
           }
          ],
          "scattercarpet": [
           {
            "marker": {
             "colorbar": {
              "outlinewidth": 0,
              "ticks": ""
             }
            },
            "type": "scattercarpet"
           }
          ],
          "scattergeo": [
           {
            "marker": {
             "colorbar": {
              "outlinewidth": 0,
              "ticks": ""
             }
            },
            "type": "scattergeo"
           }
          ],
          "scattergl": [
           {
            "marker": {
             "colorbar": {
              "outlinewidth": 0,
              "ticks": ""
             }
            },
            "type": "scattergl"
           }
          ],
          "scattermapbox": [
           {
            "marker": {
             "colorbar": {
              "outlinewidth": 0,
              "ticks": ""
             }
            },
            "type": "scattermapbox"
           }
          ],
          "scatterpolar": [
           {
            "marker": {
             "colorbar": {
              "outlinewidth": 0,
              "ticks": ""
             }
            },
            "type": "scatterpolar"
           }
          ],
          "scatterpolargl": [
           {
            "marker": {
             "colorbar": {
              "outlinewidth": 0,
              "ticks": ""
             }
            },
            "type": "scatterpolargl"
           }
          ],
          "scatterternary": [
           {
            "marker": {
             "colorbar": {
              "outlinewidth": 0,
              "ticks": ""
             }
            },
            "type": "scatterternary"
           }
          ],
          "surface": [
           {
            "colorbar": {
             "outlinewidth": 0,
             "ticks": ""
            },
            "colorscale": [
             [
              0,
              "#0d0887"
             ],
             [
              0.1111111111111111,
              "#46039f"
             ],
             [
              0.2222222222222222,
              "#7201a8"
             ],
             [
              0.3333333333333333,
              "#9c179e"
             ],
             [
              0.4444444444444444,
              "#bd3786"
             ],
             [
              0.5555555555555556,
              "#d8576b"
             ],
             [
              0.6666666666666666,
              "#ed7953"
             ],
             [
              0.7777777777777778,
              "#fb9f3a"
             ],
             [
              0.8888888888888888,
              "#fdca26"
             ],
             [
              1,
              "#f0f921"
             ]
            ],
            "type": "surface"
           }
          ],
          "table": [
           {
            "cells": {
             "fill": {
              "color": "#EBF0F8"
             },
             "line": {
              "color": "white"
             }
            },
            "header": {
             "fill": {
              "color": "#C8D4E3"
             },
             "line": {
              "color": "white"
             }
            },
            "type": "table"
           }
          ]
         },
         "layout": {
          "annotationdefaults": {
           "arrowcolor": "#2a3f5f",
           "arrowhead": 0,
           "arrowwidth": 1
          },
          "colorscale": {
           "diverging": [
            [
             0,
             "#8e0152"
            ],
            [
             0.1,
             "#c51b7d"
            ],
            [
             0.2,
             "#de77ae"
            ],
            [
             0.3,
             "#f1b6da"
            ],
            [
             0.4,
             "#fde0ef"
            ],
            [
             0.5,
             "#f7f7f7"
            ],
            [
             0.6,
             "#e6f5d0"
            ],
            [
             0.7,
             "#b8e186"
            ],
            [
             0.8,
             "#7fbc41"
            ],
            [
             0.9,
             "#4d9221"
            ],
            [
             1,
             "#276419"
            ]
           ],
           "sequential": [
            [
             0,
             "#0d0887"
            ],
            [
             0.1111111111111111,
             "#46039f"
            ],
            [
             0.2222222222222222,
             "#7201a8"
            ],
            [
             0.3333333333333333,
             "#9c179e"
            ],
            [
             0.4444444444444444,
             "#bd3786"
            ],
            [
             0.5555555555555556,
             "#d8576b"
            ],
            [
             0.6666666666666666,
             "#ed7953"
            ],
            [
             0.7777777777777778,
             "#fb9f3a"
            ],
            [
             0.8888888888888888,
             "#fdca26"
            ],
            [
             1,
             "#f0f921"
            ]
           ],
           "sequentialminus": [
            [
             0,
             "#0d0887"
            ],
            [
             0.1111111111111111,
             "#46039f"
            ],
            [
             0.2222222222222222,
             "#7201a8"
            ],
            [
             0.3333333333333333,
             "#9c179e"
            ],
            [
             0.4444444444444444,
             "#bd3786"
            ],
            [
             0.5555555555555556,
             "#d8576b"
            ],
            [
             0.6666666666666666,
             "#ed7953"
            ],
            [
             0.7777777777777778,
             "#fb9f3a"
            ],
            [
             0.8888888888888888,
             "#fdca26"
            ],
            [
             1,
             "#f0f921"
            ]
           ]
          },
          "colorway": [
           "#636efa",
           "#EF553B",
           "#00cc96",
           "#ab63fa",
           "#FFA15A",
           "#19d3f3",
           "#FF6692",
           "#B6E880",
           "#FF97FF",
           "#FECB52"
          ],
          "font": {
           "color": "#2a3f5f"
          },
          "geo": {
           "bgcolor": "white",
           "lakecolor": "white",
           "landcolor": "#E5ECF6",
           "showlakes": true,
           "showland": true,
           "subunitcolor": "white"
          },
          "hoverlabel": {
           "align": "left"
          },
          "hovermode": "closest",
          "mapbox": {
           "style": "light"
          },
          "paper_bgcolor": "white",
          "plot_bgcolor": "#E5ECF6",
          "polar": {
           "angularaxis": {
            "gridcolor": "white",
            "linecolor": "white",
            "ticks": ""
           },
           "bgcolor": "#E5ECF6",
           "radialaxis": {
            "gridcolor": "white",
            "linecolor": "white",
            "ticks": ""
           }
          },
          "scene": {
           "xaxis": {
            "backgroundcolor": "#E5ECF6",
            "gridcolor": "white",
            "gridwidth": 2,
            "linecolor": "white",
            "showbackground": true,
            "ticks": "",
            "zerolinecolor": "white"
           },
           "yaxis": {
            "backgroundcolor": "#E5ECF6",
            "gridcolor": "white",
            "gridwidth": 2,
            "linecolor": "white",
            "showbackground": true,
            "ticks": "",
            "zerolinecolor": "white"
           },
           "zaxis": {
            "backgroundcolor": "#E5ECF6",
            "gridcolor": "white",
            "gridwidth": 2,
            "linecolor": "white",
            "showbackground": true,
            "ticks": "",
            "zerolinecolor": "white"
           }
          },
          "shapedefaults": {
           "line": {
            "color": "#2a3f5f"
           }
          },
          "ternary": {
           "aaxis": {
            "gridcolor": "white",
            "linecolor": "white",
            "ticks": ""
           },
           "baxis": {
            "gridcolor": "white",
            "linecolor": "white",
            "ticks": ""
           },
           "bgcolor": "#E5ECF6",
           "caxis": {
            "gridcolor": "white",
            "linecolor": "white",
            "ticks": ""
           }
          },
          "title": {
           "x": 0.05
          },
          "xaxis": {
           "automargin": true,
           "gridcolor": "white",
           "linecolor": "white",
           "ticks": "",
           "zerolinecolor": "white",
           "zerolinewidth": 2
          },
          "yaxis": {
           "automargin": true,
           "gridcolor": "white",
           "linecolor": "white",
           "ticks": "",
           "zerolinecolor": "white",
           "zerolinewidth": 2
          }
         }
        },
        "xaxis": {
         "anchor": "y",
         "domain": [
          0,
          0.98
         ],
         "title": {
          "text": "epochs"
         }
        },
        "yaxis": {
         "anchor": "x",
         "domain": [
          0,
          1
         ],
         "title": {
          "text": "rewards"
         }
        }
       }
      },
      "text/html": [
       "<div>\n",
       "        \n",
       "        \n",
       "            <div id=\"c4f1c6b9-68ac-4a6b-b7f4-c02a34227bcd\" class=\"plotly-graph-div\" style=\"height:600px; width:100%;\"></div>\n",
       "            <script type=\"text/javascript\">\n",
       "                require([\"plotly\"], function(Plotly) {\n",
       "                    window.PLOTLYENV=window.PLOTLYENV || {};\n",
       "                    \n",
       "                if (document.getElementById(\"c4f1c6b9-68ac-4a6b-b7f4-c02a34227bcd\")) {\n",
       "                    Plotly.newPlot(\n",
       "                        'c4f1c6b9-68ac-4a6b-b7f4-c02a34227bcd',\n",
       "                        [{\"hoverlabel\": {\"namelength\": 0}, \"hovertemplate\": \"category=max<br>epochs=%{x}<br>rewards=%{y}\", \"legendgroup\": \"category=max\", \"line\": {\"color\": \"#636efa\", \"dash\": \"solid\"}, \"mode\": \"lines\", \"name\": \"category=max\", \"showlegend\": true, \"type\": \"scatter\", \"x\": [1, 2, 3, 4, 5, 6, 7, 8, 9, 10, 11, 12, 13, 14, 15, 16, 17, 18, 19, 20, 21, 22, 23, 24, 25, 26, 27, 28, 29, 30, 31, 32, 33, 34, 35, 36, 37, 38, 39, 40, 41, 42, 43, 44, 45, 46, 47, 48, 49, 50, 51, 52, 53, 54, 55, 56, 57, 58, 59, 60, 61, 62, 63, 64, 65, 66, 67, 68, 69, 70, 71, 72, 73, 74, 75, 76, 77, 78, 79, 80, 81, 82, 83, 84, 85, 86, 87, 88, 89, 90, 91, 92, 93, 94, 95, 96, 97, 98, 99, 100, 101, 102, 103, 104, 105, 106, 107, 108, 109, 110, 111, 112, 113, 114, 115, 116, 117, 118, 119, 120, 121, 122, 123, 124, 125, 126, 127, 128, 129, 130, 131, 132, 133, 134, 135, 136, 137, 138, 139, 140, 141, 142, 143, 144, 145, 146, 147, 148, 149, 150, 151, 152, 153, 154, 155, 156, 157, 158, 159, 160, 161, 162, 163, 164, 165, 166, 167, 168, 169, 170, 171, 172, 173, 174, 175, 176, 177, 178, 179, 180, 181, 182, 183, 184, 185, 186, 187, 188, 189, 190, 191, 192, 193, 194, 195, 196, 197, 198, 199, 200], \"xaxis\": \"x\", \"y\": [2.0, 4.0, 6.0, 6.0, 10.0, 12.0, 14.0, 14.0, 16.0, 20.0, 22.0, 26.0, 26.0, 32.0, 32.0, 32.0, 32.0, 34.0, 34.0, 34.0, 34.0, 34.0, 34.0, 34.0, 34.0, 34.0, 34.0, 34.0, 34.0, 34.0, 34.0, 36.0, 43.0, 53.0, 58.0, 65.0, 68.0, 70.0, 70.0, 70.0, 70.0, 68.0, 64.0, 62.0, 60.0, 58.0, 56.0, 64.0, 68.0, 68.0, 67.0, 67.0, 66.0, 70.0, 72.0, 70.0, 74.0, 72.0, 76.0, 76.0, 74.0, 74.0, 74.0, 74.0, 72.0, 70.0, 76.0, 76.0, 77.0, 78.0, 79.0, 80.0, 80.0, 80.0, 80.0, 80.0, 80.0, 78.0, 78.0, 78.0, 76.0, 74.0, 72.0, 70.0, 68.0, 66.0, 64.0, 62.0, 58.0, 56.0, 54.0, 55.0, 54.0, 56.0, 54.0, 52.0, 50.0, 49.0, 48.0, 60.0, 76.0, 74.0, 74.0, 80.0, 80.0, 78.0, 78.0, 78.0, 76.0, 76.0, 80.0, 80.0, 78.0, 78.0, 78.0, 76.0, 74.0, 72.0, 70.0, 68.0, 66.0, 64.0, 64.0, 62.0, 60.0, 64.0, 65.0, 69.0, 68.0, 67.0, 66.0, 68.0, 68.0, 64.0, 62.0, 60.0, 58.0, 56.0, 54.0, 52.0, 49.0, 56.0, 80.0, 80.0, 79.0, 80.0, 80.0, 79.0, 79.0, 79.0, 78.0, 80.0, 78.0, 76.0, 76.0, 74.0, 74.0, 72.0, 72.0, 70.0, 68.0, 66.0, 64.0, 62.0, 70.0, 77.0, 78.0, 78.0, 76.0, 76.0, 74.0, 70.0, 70.0, 68.0, 66.0, 67.0, 65.0, 63.0, 63.0, 63.0, 61.0, 59.0, 56.0, 59.0, 62.0, 66.0, 65.0, 65.0, 65.0, 65.0, 65.0, 64.0, 63.0, 64.0, 63.0, 61.0, 60.0, 59.0, 60.0, 59.0], \"yaxis\": \"y\"}, {\"hoverlabel\": {\"namelength\": 0}, \"hovertemplate\": \"category=mean<br>epochs=%{x}<br>rewards=%{y}\", \"legendgroup\": \"category=mean\", \"line\": {\"color\": \"#EF553B\", \"dash\": \"solid\"}, \"mode\": \"lines\", \"name\": \"category=mean\", \"showlegend\": true, \"type\": \"scatter\", \"x\": [1, 2, 3, 4, 5, 6, 7, 8, 9, 10, 11, 12, 13, 14, 15, 16, 17, 18, 19, 20, 21, 22, 23, 24, 25, 26, 27, 28, 29, 30, 31, 32, 33, 34, 35, 36, 37, 38, 39, 40, 41, 42, 43, 44, 45, 46, 47, 48, 49, 50, 51, 52, 53, 54, 55, 56, 57, 58, 59, 60, 61, 62, 63, 64, 65, 66, 67, 68, 69, 70, 71, 72, 73, 74, 75, 76, 77, 78, 79, 80, 81, 82, 83, 84, 85, 86, 87, 88, 89, 90, 91, 92, 93, 94, 95, 96, 97, 98, 99, 100, 101, 102, 103, 104, 105, 106, 107, 108, 109, 110, 111, 112, 113, 114, 115, 116, 117, 118, 119, 120, 121, 122, 123, 124, 125, 126, 127, 128, 129, 130, 131, 132, 133, 134, 135, 136, 137, 138, 139, 140, 141, 142, 143, 144, 145, 146, 147, 148, 149, 150, 151, 152, 153, 154, 155, 156, 157, 158, 159, 160, 161, 162, 163, 164, 165, 166, 167, 168, 169, 170, 171, 172, 173, 174, 175, 176, 177, 178, 179, 180, 181, 182, 183, 184, 185, 186, 187, 188, 189, 190, 191, 192, 193, 194, 195, 196, 197, 198, 199, 200], \"xaxis\": \"x\", \"y\": [0.465, 1.17, 1.345, 1.93, 5.01, 8.835, 10.01, 11.965, 11.37, 11.015, 14.255, 17.69, 21.06, 21.88, 23.41, 25.82, 26.81, 26.64, 26.63, 26.545, 26.44, 25.16, 24.75, 23.34, 22.99, 20.515, 24.625, 23.77, 19.92, 23.1, 21.93, 21.615, 23.925, 31.615, 39.235, 46.515, 49.74, 50.755, 48.945, 40.595, 44.42, 40.11, 37.24, 33.68, 32.71, 32.78, 33.085, 30.555, 41.215, 53.23, 54.185, 54.125, 55.61, 52.725, 51.845, 54.74, 62.635, 61.71, 63.985, 66.545, 64.95, 64.435, 65.015, 65.51, 63.295, 60.905, 60.665, 60.995, 66.825, 69.045, 71.695, 71.075, 69.635, 72.765, 72.825, 72.8, 72.005, 70.115, 67.77, 66.8, 66.9, 62.85, 59.875, 58.81, 56.02, 55.675, 53.545, 51.395, 48.105, 45.24, 43.005, 42.61, 41.54, 42.22, 43.44, 44.9, 44.28, 44.345, 39.665, 39.06, 44.05, 62.535, 68.005, 66.03, 61.315, 65.58, 65.715, 63.71, 63.455, 62.68, 62.845, 64.365, 68.995, 69.525, 68.565, 66.88, 61.7, 61.375, 58.88, 55.925, 50.06, 51.0, 48.47, 43.805, 41.61, 41.41, 40.02, 40.155, 37.945, 36.63, 34.96, 31.81, 29.075, 30.385, 28.245, 22.53, 18.445, 17.18, 22.735, 20.265, 17.035, 20.475, 34.055, 55.12, 56.635, 65.775, 63.245, 57.61, 58.865, 56.325, 54.26, 56.065, 62.275, 58.9, 57.815, 59.595, 60.21, 57.26, 55.56, 56.605, 55.3, 53.01, 49.375, 48.74, 49.805, 46.71, 60.15, 61.38, 60.315, 59.345, 54.835, 54.795, 47.595, 52.085, 52.135, 48.42, 42.755, 37.955, 42.085, 42.31, 40.7, 36.38, 32.51, 31.55, 35.665, 37.735, 50.015, 48.76, 46.925, 51.18, 42.68, 41.98, 48.61, 50.37, 43.54, 41.245, 37.625, 36.655, 40.27, 42.86], \"yaxis\": \"y\"}],\n",
       "                        {\"height\": 600, \"legend\": {\"tracegroupgap\": 0}, \"margin\": {\"t\": 60}, \"template\": {\"data\": {\"bar\": [{\"error_x\": {\"color\": \"#2a3f5f\"}, \"error_y\": {\"color\": \"#2a3f5f\"}, \"marker\": {\"line\": {\"color\": \"#E5ECF6\", \"width\": 0.5}}, \"type\": \"bar\"}], \"barpolar\": [{\"marker\": {\"line\": {\"color\": \"#E5ECF6\", \"width\": 0.5}}, \"type\": \"barpolar\"}], \"carpet\": [{\"aaxis\": {\"endlinecolor\": \"#2a3f5f\", \"gridcolor\": \"white\", \"linecolor\": \"white\", \"minorgridcolor\": \"white\", \"startlinecolor\": \"#2a3f5f\"}, \"baxis\": {\"endlinecolor\": \"#2a3f5f\", \"gridcolor\": \"white\", \"linecolor\": \"white\", \"minorgridcolor\": \"white\", \"startlinecolor\": \"#2a3f5f\"}, \"type\": \"carpet\"}], \"choropleth\": [{\"colorbar\": {\"outlinewidth\": 0, \"ticks\": \"\"}, \"type\": \"choropleth\"}], \"contour\": [{\"colorbar\": {\"outlinewidth\": 0, \"ticks\": \"\"}, \"colorscale\": [[0.0, \"#0d0887\"], [0.1111111111111111, \"#46039f\"], [0.2222222222222222, \"#7201a8\"], [0.3333333333333333, \"#9c179e\"], [0.4444444444444444, \"#bd3786\"], [0.5555555555555556, \"#d8576b\"], [0.6666666666666666, \"#ed7953\"], [0.7777777777777778, \"#fb9f3a\"], [0.8888888888888888, \"#fdca26\"], [1.0, \"#f0f921\"]], \"type\": \"contour\"}], \"contourcarpet\": [{\"colorbar\": {\"outlinewidth\": 0, \"ticks\": \"\"}, \"type\": \"contourcarpet\"}], \"heatmap\": [{\"colorbar\": {\"outlinewidth\": 0, \"ticks\": \"\"}, \"colorscale\": [[0.0, \"#0d0887\"], [0.1111111111111111, \"#46039f\"], [0.2222222222222222, \"#7201a8\"], [0.3333333333333333, \"#9c179e\"], [0.4444444444444444, \"#bd3786\"], [0.5555555555555556, \"#d8576b\"], [0.6666666666666666, \"#ed7953\"], [0.7777777777777778, \"#fb9f3a\"], [0.8888888888888888, \"#fdca26\"], [1.0, \"#f0f921\"]], \"type\": \"heatmap\"}], \"heatmapgl\": [{\"colorbar\": {\"outlinewidth\": 0, \"ticks\": \"\"}, \"colorscale\": [[0.0, \"#0d0887\"], [0.1111111111111111, \"#46039f\"], [0.2222222222222222, \"#7201a8\"], [0.3333333333333333, \"#9c179e\"], [0.4444444444444444, \"#bd3786\"], [0.5555555555555556, \"#d8576b\"], [0.6666666666666666, \"#ed7953\"], [0.7777777777777778, \"#fb9f3a\"], [0.8888888888888888, \"#fdca26\"], [1.0, \"#f0f921\"]], \"type\": \"heatmapgl\"}], \"histogram\": [{\"marker\": {\"colorbar\": {\"outlinewidth\": 0, \"ticks\": \"\"}}, \"type\": \"histogram\"}], \"histogram2d\": [{\"colorbar\": {\"outlinewidth\": 0, \"ticks\": \"\"}, \"colorscale\": [[0.0, \"#0d0887\"], [0.1111111111111111, \"#46039f\"], [0.2222222222222222, \"#7201a8\"], [0.3333333333333333, \"#9c179e\"], [0.4444444444444444, \"#bd3786\"], [0.5555555555555556, \"#d8576b\"], [0.6666666666666666, \"#ed7953\"], [0.7777777777777778, \"#fb9f3a\"], [0.8888888888888888, \"#fdca26\"], [1.0, \"#f0f921\"]], \"type\": \"histogram2d\"}], \"histogram2dcontour\": [{\"colorbar\": {\"outlinewidth\": 0, \"ticks\": \"\"}, \"colorscale\": [[0.0, \"#0d0887\"], [0.1111111111111111, \"#46039f\"], [0.2222222222222222, \"#7201a8\"], [0.3333333333333333, \"#9c179e\"], [0.4444444444444444, \"#bd3786\"], [0.5555555555555556, \"#d8576b\"], [0.6666666666666666, \"#ed7953\"], [0.7777777777777778, \"#fb9f3a\"], [0.8888888888888888, \"#fdca26\"], [1.0, \"#f0f921\"]], \"type\": \"histogram2dcontour\"}], \"mesh3d\": [{\"colorbar\": {\"outlinewidth\": 0, \"ticks\": \"\"}, \"type\": \"mesh3d\"}], \"parcoords\": [{\"line\": {\"colorbar\": {\"outlinewidth\": 0, \"ticks\": \"\"}}, \"type\": \"parcoords\"}], \"scatter\": [{\"marker\": {\"colorbar\": {\"outlinewidth\": 0, \"ticks\": \"\"}}, \"type\": \"scatter\"}], \"scatter3d\": [{\"line\": {\"colorbar\": {\"outlinewidth\": 0, \"ticks\": \"\"}}, \"marker\": {\"colorbar\": {\"outlinewidth\": 0, \"ticks\": \"\"}}, \"type\": \"scatter3d\"}], \"scattercarpet\": [{\"marker\": {\"colorbar\": {\"outlinewidth\": 0, \"ticks\": \"\"}}, \"type\": \"scattercarpet\"}], \"scattergeo\": [{\"marker\": {\"colorbar\": {\"outlinewidth\": 0, \"ticks\": \"\"}}, \"type\": \"scattergeo\"}], \"scattergl\": [{\"marker\": {\"colorbar\": {\"outlinewidth\": 0, \"ticks\": \"\"}}, \"type\": \"scattergl\"}], \"scattermapbox\": [{\"marker\": {\"colorbar\": {\"outlinewidth\": 0, \"ticks\": \"\"}}, \"type\": \"scattermapbox\"}], \"scatterpolar\": [{\"marker\": {\"colorbar\": {\"outlinewidth\": 0, \"ticks\": \"\"}}, \"type\": \"scatterpolar\"}], \"scatterpolargl\": [{\"marker\": {\"colorbar\": {\"outlinewidth\": 0, \"ticks\": \"\"}}, \"type\": \"scatterpolargl\"}], \"scatterternary\": [{\"marker\": {\"colorbar\": {\"outlinewidth\": 0, \"ticks\": \"\"}}, \"type\": \"scatterternary\"}], \"surface\": [{\"colorbar\": {\"outlinewidth\": 0, \"ticks\": \"\"}, \"colorscale\": [[0.0, \"#0d0887\"], [0.1111111111111111, \"#46039f\"], [0.2222222222222222, \"#7201a8\"], [0.3333333333333333, \"#9c179e\"], [0.4444444444444444, \"#bd3786\"], [0.5555555555555556, \"#d8576b\"], [0.6666666666666666, \"#ed7953\"], [0.7777777777777778, \"#fb9f3a\"], [0.8888888888888888, \"#fdca26\"], [1.0, \"#f0f921\"]], \"type\": \"surface\"}], \"table\": [{\"cells\": {\"fill\": {\"color\": \"#EBF0F8\"}, \"line\": {\"color\": \"white\"}}, \"header\": {\"fill\": {\"color\": \"#C8D4E3\"}, \"line\": {\"color\": \"white\"}}, \"type\": \"table\"}]}, \"layout\": {\"annotationdefaults\": {\"arrowcolor\": \"#2a3f5f\", \"arrowhead\": 0, \"arrowwidth\": 1}, \"colorscale\": {\"diverging\": [[0, \"#8e0152\"], [0.1, \"#c51b7d\"], [0.2, \"#de77ae\"], [0.3, \"#f1b6da\"], [0.4, \"#fde0ef\"], [0.5, \"#f7f7f7\"], [0.6, \"#e6f5d0\"], [0.7, \"#b8e186\"], [0.8, \"#7fbc41\"], [0.9, \"#4d9221\"], [1, \"#276419\"]], \"sequential\": [[0.0, \"#0d0887\"], [0.1111111111111111, \"#46039f\"], [0.2222222222222222, \"#7201a8\"], [0.3333333333333333, \"#9c179e\"], [0.4444444444444444, \"#bd3786\"], [0.5555555555555556, \"#d8576b\"], [0.6666666666666666, \"#ed7953\"], [0.7777777777777778, \"#fb9f3a\"], [0.8888888888888888, \"#fdca26\"], [1.0, \"#f0f921\"]], \"sequentialminus\": [[0.0, \"#0d0887\"], [0.1111111111111111, \"#46039f\"], [0.2222222222222222, \"#7201a8\"], [0.3333333333333333, \"#9c179e\"], [0.4444444444444444, \"#bd3786\"], [0.5555555555555556, \"#d8576b\"], [0.6666666666666666, \"#ed7953\"], [0.7777777777777778, \"#fb9f3a\"], [0.8888888888888888, \"#fdca26\"], [1.0, \"#f0f921\"]]}, \"colorway\": [\"#636efa\", \"#EF553B\", \"#00cc96\", \"#ab63fa\", \"#FFA15A\", \"#19d3f3\", \"#FF6692\", \"#B6E880\", \"#FF97FF\", \"#FECB52\"], \"font\": {\"color\": \"#2a3f5f\"}, \"geo\": {\"bgcolor\": \"white\", \"lakecolor\": \"white\", \"landcolor\": \"#E5ECF6\", \"showlakes\": true, \"showland\": true, \"subunitcolor\": \"white\"}, \"hoverlabel\": {\"align\": \"left\"}, \"hovermode\": \"closest\", \"mapbox\": {\"style\": \"light\"}, \"paper_bgcolor\": \"white\", \"plot_bgcolor\": \"#E5ECF6\", \"polar\": {\"angularaxis\": {\"gridcolor\": \"white\", \"linecolor\": \"white\", \"ticks\": \"\"}, \"bgcolor\": \"#E5ECF6\", \"radialaxis\": {\"gridcolor\": \"white\", \"linecolor\": \"white\", \"ticks\": \"\"}}, \"scene\": {\"xaxis\": {\"backgroundcolor\": \"#E5ECF6\", \"gridcolor\": \"white\", \"gridwidth\": 2, \"linecolor\": \"white\", \"showbackground\": true, \"ticks\": \"\", \"zerolinecolor\": \"white\"}, \"yaxis\": {\"backgroundcolor\": \"#E5ECF6\", \"gridcolor\": \"white\", \"gridwidth\": 2, \"linecolor\": \"white\", \"showbackground\": true, \"ticks\": \"\", \"zerolinecolor\": \"white\"}, \"zaxis\": {\"backgroundcolor\": \"#E5ECF6\", \"gridcolor\": \"white\", \"gridwidth\": 2, \"linecolor\": \"white\", \"showbackground\": true, \"ticks\": \"\", \"zerolinecolor\": \"white\"}}, \"shapedefaults\": {\"line\": {\"color\": \"#2a3f5f\"}}, \"ternary\": {\"aaxis\": {\"gridcolor\": \"white\", \"linecolor\": \"white\", \"ticks\": \"\"}, \"baxis\": {\"gridcolor\": \"white\", \"linecolor\": \"white\", \"ticks\": \"\"}, \"bgcolor\": \"#E5ECF6\", \"caxis\": {\"gridcolor\": \"white\", \"linecolor\": \"white\", \"ticks\": \"\"}}, \"title\": {\"x\": 0.05}, \"xaxis\": {\"automargin\": true, \"gridcolor\": \"white\", \"linecolor\": \"white\", \"ticks\": \"\", \"zerolinecolor\": \"white\", \"zerolinewidth\": 2}, \"yaxis\": {\"automargin\": true, \"gridcolor\": \"white\", \"linecolor\": \"white\", \"ticks\": \"\", \"zerolinecolor\": \"white\", \"zerolinewidth\": 2}}}, \"xaxis\": {\"anchor\": \"y\", \"domain\": [0.0, 0.98], \"title\": {\"text\": \"epochs\"}}, \"yaxis\": {\"anchor\": \"x\", \"domain\": [0.0, 1.0], \"title\": {\"text\": \"rewards\"}}},\n",
       "                        {\"responsive\": true}\n",
       "                    ).then(function(){\n",
       "                            \n",
       "var gd = document.getElementById('c4f1c6b9-68ac-4a6b-b7f4-c02a34227bcd');\n",
       "var x = new MutationObserver(function (mutations, observer) {{\n",
       "        var display = window.getComputedStyle(gd).display;\n",
       "        if (!display || display === 'none') {{\n",
       "            console.log([gd, 'removed!']);\n",
       "            Plotly.purge(gd);\n",
       "            observer.disconnect();\n",
       "        }}\n",
       "}});\n",
       "\n",
       "// Listen for the removal of the full notebook cells\n",
       "var notebookContainer = gd.closest('#notebook-container');\n",
       "if (notebookContainer) {{\n",
       "    x.observe(notebookContainer, {childList: true});\n",
       "}}\n",
       "\n",
       "// Listen for the clearing of the current output cell\n",
       "var outputEl = gd.closest('.output');\n",
       "if (outputEl) {{\n",
       "    x.observe(outputEl, {childList: true});\n",
       "}}\n",
       "\n",
       "                        })\n",
       "                };\n",
       "                });\n",
       "            </script>\n",
       "        </div>"
      ]
     },
     "metadata": {},
     "output_type": "display_data"
    }
   ],
   "source": [
    "plot_rewards(experiment_name)"
   ]
  },
  {
   "cell_type": "code",
   "execution_count": 6,
   "metadata": {},
   "outputs": [
    {
     "data": {
      "application/vnd.jupyter.widget-view+json": {
       "model_id": "3dddbea8499f435e8478912f0e5dc763",
       "version_major": 2,
       "version_minor": 0
      },
      "text/plain": [
       "interactive(children=(IntSlider(value=1, description='epoch', max=200, min=1), Output()), _dom_classes=('widge…"
      ]
     },
     "metadata": {},
     "output_type": "display_data"
    },
    {
     "data": {
      "text/plain": [
       "<function evoframe.experiment_results.show_best_fnn_weights(experiment_name, epoch)>"
      ]
     },
     "execution_count": 6,
     "metadata": {},
     "output_type": "execute_result"
    }
   ],
   "source": [
    "interact(show_best_fnn_weights,\n",
    "         experiment_name=fixed(experiment_name),\n",
    "         epoch=widgets.IntSlider(min=1, max=num_epochs, step=1, value=1))"
   ]
  },
  {
   "cell_type": "code",
   "execution_count": 23,
   "metadata": {},
   "outputs": [],
   "source": [
    "class AgentHuman:\n",
    "    def __init__(self):\n",
    "        pass\n",
    "    \n",
    "    def predict(self, board):\n",
    "        move = int(input(\"Select move: \"))\n",
    "        prediction = [1 if i == move else 0 for i in range(9)]\n",
    "        return prediction"
   ]
  },
  {
   "cell_type": "code",
   "execution_count": 24,
   "metadata": {},
   "outputs": [
    {
     "name": "stdout",
     "output_type": "stream",
     "text": [
      "0 0 0 \n",
      "0 0 0 \n",
      "0 0 0 \n",
      "------------------------------\n",
      "Select move: 0\n",
      "1 0 0 \n",
      "0 0 0 \n",
      "0 0 0 \n",
      "------------------------------\n",
      "1 0 0 \n",
      "0 0 0 \n",
      "-1 0 0 \n",
      "------------------------------\n",
      "Select move: 1\n",
      "1 1 0 \n",
      "0 0 0 \n",
      "-1 0 0 \n",
      "------------------------------\n",
      "1 1 0 \n",
      "0 -1 0 \n",
      "-1 0 0 \n",
      "------------------------------\n",
      "Select move: 3\n",
      "1 1 0 \n",
      "1 -1 0 \n",
      "-1 0 0 \n",
      "------------------------------\n",
      "1 1 0 \n",
      "1 -1 -1 \n",
      "-1 0 0 \n",
      "------------------------------\n",
      "Select move: 0\n",
      "1 1 1 \n",
      "1 -1 -1 \n",
      "-1 0 0 \n",
      "------------------------------\n",
      "1 1 1 \n",
      "1 -1 -1 \n",
      "-1 0 0 \n",
      "------------------------------\n"
     ]
    },
    {
     "data": {
      "text/plain": [
       "(1, -1)"
      ]
     },
     "execution_count": 24,
     "metadata": {},
     "output_type": "execute_result"
    }
   ],
   "source": [
    "game = Tris()\n",
    "game.play(AgentHuman(), agent_wrapper_func(pickle_load_best_model_of_epoch(experiment_name, num_epochs, pop_size)), interactive=True)"
   ]
  },
  {
   "cell_type": "code",
   "execution_count": 28,
   "metadata": {},
   "outputs": [],
   "source": [
    "# import plotly.express as px\n",
    "\n",
    "def show_predictions(model, inp):\n",
    "    out = model.predict(inp)\n",
    "    out = out.reshape((3,3))\n",
    "    shape = out.shape\n",
    "    data = [(row+1, col+1, out[row][col]) for row in range(shape[0]) for col in range(shape[1])]\n",
    "    columns = [\"neuron_input\", \"neuron_output\", \"value\"]\n",
    "    df = pd.DataFrame(data=data, columns=columns)\n",
    "    return px.density_heatmap(df, x=\"neuron_output\", y=\"neuron_input\", z=\"value\",\n",
    "                                         histfunc=\"sum\", color_continuous_scale=\"RdYlGn\", range_color=(-2,2),\n",
    "                                         nbinsx=shape[1], nbinsy=shape[0],\n",
    "                                         range_x=(0.5, shape[1]+0.5), range_y=(0.5, shape[0]+0.5))"
   ]
  },
  {
   "cell_type": "code",
   "execution_count": 29,
   "metadata": {},
   "outputs": [],
   "source": [
    "def get_random_input_func():\n",
    "    return np.array([[np.random.choice([-1,0,1]) for i in range(3)] for j in range(3)])"
   ]
  },
  {
   "cell_type": "code",
   "execution_count": 30,
   "metadata": {
    "scrolled": true
   },
   "outputs": [
    {
     "name": "stdout",
     "output_type": "stream",
     "text": [
      "[[ 0  1  1]\n",
      " [ 0 -1 -1]\n",
      " [-1  0  0]]\n"
     ]
    },
    {
     "ename": "AttributeError",
     "evalue": "'numpy.ndarray' object has no attribute 'get_available_actions'",
     "output_type": "error",
     "traceback": [
      "\u001b[0;31m---------------------------------------------------------------------------\u001b[0m",
      "\u001b[0;31mAttributeError\u001b[0m                            Traceback (most recent call last)",
      "\u001b[0;32m<ipython-input-30-89201586db2c>\u001b[0m in \u001b[0;36m<module>\u001b[0;34m\u001b[0m\n\u001b[1;32m      2\u001b[0m \u001b[0minp\u001b[0m \u001b[0;34m=\u001b[0m \u001b[0mget_random_input_func\u001b[0m\u001b[0;34m(\u001b[0m\u001b[0;34m)\u001b[0m\u001b[0;34m\u001b[0m\u001b[0;34m\u001b[0m\u001b[0m\n\u001b[1;32m      3\u001b[0m \u001b[0mprint\u001b[0m\u001b[0;34m(\u001b[0m\u001b[0minp\u001b[0m\u001b[0;34m)\u001b[0m\u001b[0;34m\u001b[0m\u001b[0;34m\u001b[0m\u001b[0m\n\u001b[0;32m----> 4\u001b[0;31m \u001b[0mshow_predictions\u001b[0m\u001b[0;34m(\u001b[0m\u001b[0mmodel\u001b[0m\u001b[0;34m,\u001b[0m \u001b[0minp\u001b[0m\u001b[0;34m)\u001b[0m\u001b[0;34m\u001b[0m\u001b[0;34m\u001b[0m\u001b[0m\n\u001b[0m",
      "\u001b[0;32m<ipython-input-28-f9a3d84d592f>\u001b[0m in \u001b[0;36mshow_predictions\u001b[0;34m(model, inp)\u001b[0m\n\u001b[1;32m      2\u001b[0m \u001b[0;34m\u001b[0m\u001b[0m\n\u001b[1;32m      3\u001b[0m \u001b[0;32mdef\u001b[0m \u001b[0mshow_predictions\u001b[0m\u001b[0;34m(\u001b[0m\u001b[0mmodel\u001b[0m\u001b[0;34m,\u001b[0m \u001b[0minp\u001b[0m\u001b[0;34m)\u001b[0m\u001b[0;34m:\u001b[0m\u001b[0;34m\u001b[0m\u001b[0;34m\u001b[0m\u001b[0m\n\u001b[0;32m----> 4\u001b[0;31m     \u001b[0mout\u001b[0m \u001b[0;34m=\u001b[0m \u001b[0mmodel\u001b[0m\u001b[0;34m.\u001b[0m\u001b[0mpredict\u001b[0m\u001b[0;34m(\u001b[0m\u001b[0minp\u001b[0m\u001b[0;34m)\u001b[0m\u001b[0;34m\u001b[0m\u001b[0;34m\u001b[0m\u001b[0m\n\u001b[0m\u001b[1;32m      5\u001b[0m     \u001b[0mout\u001b[0m \u001b[0;34m=\u001b[0m \u001b[0mout\u001b[0m\u001b[0;34m.\u001b[0m\u001b[0mreshape\u001b[0m\u001b[0;34m(\u001b[0m\u001b[0;34m(\u001b[0m\u001b[0;36m3\u001b[0m\u001b[0;34m,\u001b[0m\u001b[0;36m3\u001b[0m\u001b[0;34m)\u001b[0m\u001b[0;34m)\u001b[0m\u001b[0;34m\u001b[0m\u001b[0;34m\u001b[0m\u001b[0m\n\u001b[1;32m      6\u001b[0m     \u001b[0mshape\u001b[0m \u001b[0;34m=\u001b[0m \u001b[0mout\u001b[0m\u001b[0;34m.\u001b[0m\u001b[0mshape\u001b[0m\u001b[0;34m\u001b[0m\u001b[0;34m\u001b[0m\u001b[0m\n",
      "\u001b[0;32m~/Desktop/evolution/evoframe/agent.py\u001b[0m in \u001b[0;36mpredict\u001b[0;34m(self, game)\u001b[0m\n\u001b[1;32m      5\u001b[0m \u001b[0;34m\u001b[0m\u001b[0m\n\u001b[1;32m      6\u001b[0m     \u001b[0;32mdef\u001b[0m \u001b[0mpredict\u001b[0m\u001b[0;34m(\u001b[0m\u001b[0mself\u001b[0m\u001b[0;34m,\u001b[0m \u001b[0mgame\u001b[0m\u001b[0;34m)\u001b[0m\u001b[0;34m:\u001b[0m\u001b[0;34m\u001b[0m\u001b[0;34m\u001b[0m\u001b[0m\n\u001b[0;32m----> 7\u001b[0;31m         \u001b[0;32mreturn\u001b[0m \u001b[0mself\u001b[0m\u001b[0;34m.\u001b[0m\u001b[0mpredict_func\u001b[0m\u001b[0;34m(\u001b[0m\u001b[0mself\u001b[0m\u001b[0;34m.\u001b[0m\u001b[0mmodel\u001b[0m\u001b[0;34m,\u001b[0m \u001b[0mgame\u001b[0m\u001b[0;34m)\u001b[0m\u001b[0;34m\u001b[0m\u001b[0;34m\u001b[0m\u001b[0m\n\u001b[0m\u001b[1;32m      8\u001b[0m \u001b[0;34m\u001b[0m\u001b[0m\n\u001b[1;32m      9\u001b[0m \u001b[0;32mdef\u001b[0m \u001b[0mget_agent_wrapper_func\u001b[0m\u001b[0;34m(\u001b[0m\u001b[0mpredict_func\u001b[0m\u001b[0;34m)\u001b[0m\u001b[0;34m:\u001b[0m\u001b[0;34m\u001b[0m\u001b[0;34m\u001b[0m\u001b[0m\n",
      "\u001b[0;32m<ipython-input-22-caf77377be5b>\u001b[0m in \u001b[0;36mpredict_func\u001b[0;34m(model, game)\u001b[0m\n\u001b[1;32m      3\u001b[0m \u001b[0mexperiment_name\u001b[0m \u001b[0;34m=\u001b[0m \u001b[0;34m\"tris_state_value_function\"\u001b[0m\u001b[0;34m\u001b[0m\u001b[0;34m\u001b[0m\u001b[0m\n\u001b[1;32m      4\u001b[0m \u001b[0;32mdef\u001b[0m \u001b[0mpredict_func\u001b[0m\u001b[0;34m(\u001b[0m\u001b[0mmodel\u001b[0m\u001b[0;34m,\u001b[0m \u001b[0mgame\u001b[0m\u001b[0;34m)\u001b[0m\u001b[0;34m:\u001b[0m\u001b[0;34m\u001b[0m\u001b[0;34m\u001b[0m\u001b[0m\n\u001b[0;32m----> 5\u001b[0;31m     \u001b[0mavailable_actions\u001b[0m \u001b[0;34m=\u001b[0m \u001b[0mgame\u001b[0m\u001b[0;34m.\u001b[0m\u001b[0mget_available_actions\u001b[0m\u001b[0;34m(\u001b[0m\u001b[0;34m)\u001b[0m\u001b[0;34m\u001b[0m\u001b[0;34m\u001b[0m\u001b[0m\n\u001b[0m\u001b[1;32m      6\u001b[0m     \u001b[0mvs\u001b[0m \u001b[0;34m=\u001b[0m \u001b[0;34m[\u001b[0m\u001b[0;34m]\u001b[0m\u001b[0;34m\u001b[0m\u001b[0;34m\u001b[0m\u001b[0m\n\u001b[1;32m      7\u001b[0m     \u001b[0;32mfor\u001b[0m \u001b[0ma\u001b[0m \u001b[0;32min\u001b[0m \u001b[0mavailable_actions\u001b[0m\u001b[0;34m:\u001b[0m\u001b[0;34m\u001b[0m\u001b[0;34m\u001b[0m\u001b[0m\n",
      "\u001b[0;31mAttributeError\u001b[0m: 'numpy.ndarray' object has no attribute 'get_available_actions'"
     ]
    }
   ],
   "source": [
    "model = agent_wrapper_func(pickle_load_best_model_of_epoch(experiment_name, num_epochs, pop_size))\n",
    "inp = get_random_input_func()\n",
    "print(inp)\n",
    "show_predictions(model, inp)"
   ]
  },
  {
   "cell_type": "code",
   "execution_count": 31,
   "metadata": {},
   "outputs": [
    {
     "data": {
      "application/vnd.plotly.v1+json": {
       "config": {
        "plotlyServerURL": "https://plot.ly"
       },
       "data": [
        {
         "hoverlabel": {
          "namelength": 0
         },
         "hovertemplate": "epochs=%{x}<br>behavioural differences=%{y}",
         "legendgroup": "",
         "line": {
          "color": "#636efa",
          "dash": "solid"
         },
         "mode": "lines",
         "name": "",
         "showlegend": false,
         "type": "scatter",
         "x": [
          1,
          2,
          3,
          4,
          5,
          6,
          7,
          8,
          9,
          10,
          11,
          12,
          13,
          14,
          15,
          16,
          17,
          18,
          19,
          20,
          21,
          22,
          23,
          24,
          25,
          26,
          27,
          28,
          29,
          30,
          31,
          32,
          33,
          34,
          35,
          36,
          37,
          38,
          39,
          40,
          41,
          42,
          43,
          44,
          45,
          46,
          47,
          48,
          49,
          50,
          51,
          52,
          53,
          54,
          55,
          56,
          57,
          58,
          59,
          60,
          61,
          62,
          63,
          64,
          65,
          66,
          67,
          68,
          69,
          70,
          71,
          72,
          73,
          74,
          75,
          76,
          77,
          78,
          79,
          80,
          81,
          82,
          83,
          84,
          85,
          86,
          87,
          88,
          89,
          90,
          91,
          92,
          93,
          94,
          95,
          96,
          97,
          98,
          99,
          100,
          101,
          102,
          103,
          104,
          105,
          106,
          107,
          108,
          109,
          110,
          111,
          112,
          113,
          114,
          115,
          116,
          117,
          118,
          119,
          120,
          121,
          122,
          123,
          124,
          125,
          126,
          127,
          128,
          129,
          130,
          131,
          132,
          133,
          134,
          135,
          136,
          137,
          138,
          139,
          140,
          141,
          142,
          143,
          144,
          145,
          146,
          147,
          148,
          149,
          150,
          151,
          152,
          153,
          154,
          155,
          156,
          157,
          158,
          159,
          160,
          161,
          162,
          163,
          164,
          165,
          166,
          167,
          168,
          169,
          170,
          171,
          172,
          173,
          174,
          175,
          176,
          177,
          178,
          179,
          180,
          181,
          182,
          183,
          184,
          185,
          186,
          187,
          188,
          189,
          190,
          191,
          192,
          193,
          194,
          195,
          196,
          197,
          198,
          199,
          200
         ],
         "xaxis": "x",
         "y": [
          0,
          80.85103227909123,
          45.65617375113096,
          59.05097058526508,
          28.359886910434547,
          72.02042522709671,
          26.005881310432652,
          26.358394452651464,
          20.74048439783503,
          28.469966952622226,
          30.066197519288487,
          23.656674636444297,
          23.50390177946263,
          25.7140718266607,
          25.884850402365775,
          26.3212551618611,
          28.050350207952526,
          30.082066702347447,
          28.305749161679007,
          28.615049274994583,
          29.355784052738368,
          29.193028567700498,
          30.31201528068938,
          30.59703791206292,
          27.83800321758998,
          31.211187979065368,
          30.120397411831735,
          28.066574830308817,
          31.287226566032196,
          33.07979709386004,
          32.23575464626394,
          33.84794347817603,
          34.339291167270126,
          37.60829055056886,
          29.10897460466427,
          29.547030149884908,
          29.442626054953823,
          32.81050416951547,
          32.928516383265716,
          33.90856376735834,
          35.59151661389202,
          36.06323888195885,
          33.52896908713622,
          34.68644066820972,
          33.45959184160893,
          38.27664119116297,
          37.4042062261162,
          27.479881396191445,
          27.395373344843804,
          28.210199739858357,
          27.24639403218471,
          27.62012150442571,
          26.767829461034143,
          37.05751661672572,
          28.41416642866336,
          28.89467238365868,
          28.997103750514622,
          29.03446017077148,
          30.01804380842784,
          29.1440574431481,
          29.20520049798624,
          29.494727159094804,
          29.65428184079445,
          29.41826744926645,
          29.118834699654585,
          29.815004352354883,
          42.89098206925147,
          39.18736746613658,
          40.82505201391726,
          37.92858483419256,
          72.01969646752208,
          27.732766242564182,
          48.52838776237559,
          48.80692803907444,
          48.60349320284153,
          50.92258488587394,
          51.22164195171221,
          46.47446629964333,
          54.54288095903379,
          52.83339272096081,
          59.124874245485465,
          47.03100690345561,
          52.70352029130285,
          51.633198886195274,
          52.004396585571186,
          51.876975231022584,
          58.34985422345339,
          56.424533758701926,
          54.789414633780495,
          57.43994076642329,
          56.660160493592414,
          68.35997954776646,
          56.42599510692161,
          52.44823040198821,
          38.79827095269023,
          37.660460946772794,
          37.63885239871973,
          37.799056389344,
          37.07137978779465,
          49.79802249486852,
          63.14889859831834,
          61.42574763359697,
          49.187326964409834,
          35.061493360326764,
          34.77708524155047,
          35.79242005686242,
          35.992482572584436,
          37.29576093490566,
          33.685652532878606,
          39.972514304212034,
          52.98843065240567,
          53.37275028246497,
          60.71769660109519,
          61.90910207084081,
          62.29161126679396,
          49.10394942391925,
          48.61347537174638,
          52.945756654360345,
          52.38128643443411,
          50.62268640877601,
          50.18977904381513,
          53.65737917754294,
          60.89348361789727,
          57.05408539270737,
          58.28730203338431,
          38.55626076914702,
          37.449408391475885,
          33.40226694063362,
          33.42983731036874,
          33.78812692782581,
          34.3624909100711,
          33.90089883732221,
          32.940635750612586,
          32.971045818643454,
          32.920105197413996,
          33.850030017688496,
          33.263670715714085,
          35.584276012019345,
          36.22101149031905,
          32.2744856173043,
          42.46485367609018,
          40.508900292483304,
          46.981964418875435,
          40.919565860143535,
          45.663515967321565,
          79.96612479444126,
          80.68183460896266,
          47.976894834829714,
          68.38731607182712,
          48.45039835319168,
          44.75789125877121,
          61.43689862602343,
          44.03089078700804,
          61.651696116379675,
          60.36713868668575,
          65.02410741236191,
          54.272423569897725,
          53.55971474137923,
          51.56746390336987,
          51.26089865248766,
          52.659142300037125,
          51.2796071841537,
          51.530847603796865,
          53.73452831958624,
          87.06106549317317,
          53.58036964589469,
          53.86602658274453,
          54.48622181896147,
          53.9089856993122,
          51.36453914327563,
          55.724211380633726,
          55.77327568611953,
          73.18328150866945,
          74.48990370458043,
          66.92122848285574,
          50.29088716146834,
          49.586757122399696,
          49.41836197876079,
          54.73857499051632,
          52.90277127250089,
          51.74425788976717,
          51.25920760424964,
          46.01308373200184,
          49.2308126185612,
          64.3047715885032,
          63.73491381376905,
          63.3608812149108,
          61.70145672235596,
          62.783167731238464,
          64.21537895598023,
          62.17065624789768,
          54.123658139651454,
          60.61882826245815,
          52.378615667972184,
          54.99287760515386,
          54.105702028329276,
          57.243325328442594,
          59.29216601793441,
          60.25075777945937,
          55.65690618758415
         ],
         "yaxis": "y"
        }
       ],
       "layout": {
        "height": 600,
        "legend": {
         "tracegroupgap": 0
        },
        "margin": {
         "t": 60
        },
        "template": {
         "data": {
          "bar": [
           {
            "error_x": {
             "color": "#2a3f5f"
            },
            "error_y": {
             "color": "#2a3f5f"
            },
            "marker": {
             "line": {
              "color": "#E5ECF6",
              "width": 0.5
             }
            },
            "type": "bar"
           }
          ],
          "barpolar": [
           {
            "marker": {
             "line": {
              "color": "#E5ECF6",
              "width": 0.5
             }
            },
            "type": "barpolar"
           }
          ],
          "carpet": [
           {
            "aaxis": {
             "endlinecolor": "#2a3f5f",
             "gridcolor": "white",
             "linecolor": "white",
             "minorgridcolor": "white",
             "startlinecolor": "#2a3f5f"
            },
            "baxis": {
             "endlinecolor": "#2a3f5f",
             "gridcolor": "white",
             "linecolor": "white",
             "minorgridcolor": "white",
             "startlinecolor": "#2a3f5f"
            },
            "type": "carpet"
           }
          ],
          "choropleth": [
           {
            "colorbar": {
             "outlinewidth": 0,
             "ticks": ""
            },
            "type": "choropleth"
           }
          ],
          "contour": [
           {
            "colorbar": {
             "outlinewidth": 0,
             "ticks": ""
            },
            "colorscale": [
             [
              0,
              "#0d0887"
             ],
             [
              0.1111111111111111,
              "#46039f"
             ],
             [
              0.2222222222222222,
              "#7201a8"
             ],
             [
              0.3333333333333333,
              "#9c179e"
             ],
             [
              0.4444444444444444,
              "#bd3786"
             ],
             [
              0.5555555555555556,
              "#d8576b"
             ],
             [
              0.6666666666666666,
              "#ed7953"
             ],
             [
              0.7777777777777778,
              "#fb9f3a"
             ],
             [
              0.8888888888888888,
              "#fdca26"
             ],
             [
              1,
              "#f0f921"
             ]
            ],
            "type": "contour"
           }
          ],
          "contourcarpet": [
           {
            "colorbar": {
             "outlinewidth": 0,
             "ticks": ""
            },
            "type": "contourcarpet"
           }
          ],
          "heatmap": [
           {
            "colorbar": {
             "outlinewidth": 0,
             "ticks": ""
            },
            "colorscale": [
             [
              0,
              "#0d0887"
             ],
             [
              0.1111111111111111,
              "#46039f"
             ],
             [
              0.2222222222222222,
              "#7201a8"
             ],
             [
              0.3333333333333333,
              "#9c179e"
             ],
             [
              0.4444444444444444,
              "#bd3786"
             ],
             [
              0.5555555555555556,
              "#d8576b"
             ],
             [
              0.6666666666666666,
              "#ed7953"
             ],
             [
              0.7777777777777778,
              "#fb9f3a"
             ],
             [
              0.8888888888888888,
              "#fdca26"
             ],
             [
              1,
              "#f0f921"
             ]
            ],
            "type": "heatmap"
           }
          ],
          "heatmapgl": [
           {
            "colorbar": {
             "outlinewidth": 0,
             "ticks": ""
            },
            "colorscale": [
             [
              0,
              "#0d0887"
             ],
             [
              0.1111111111111111,
              "#46039f"
             ],
             [
              0.2222222222222222,
              "#7201a8"
             ],
             [
              0.3333333333333333,
              "#9c179e"
             ],
             [
              0.4444444444444444,
              "#bd3786"
             ],
             [
              0.5555555555555556,
              "#d8576b"
             ],
             [
              0.6666666666666666,
              "#ed7953"
             ],
             [
              0.7777777777777778,
              "#fb9f3a"
             ],
             [
              0.8888888888888888,
              "#fdca26"
             ],
             [
              1,
              "#f0f921"
             ]
            ],
            "type": "heatmapgl"
           }
          ],
          "histogram": [
           {
            "marker": {
             "colorbar": {
              "outlinewidth": 0,
              "ticks": ""
             }
            },
            "type": "histogram"
           }
          ],
          "histogram2d": [
           {
            "colorbar": {
             "outlinewidth": 0,
             "ticks": ""
            },
            "colorscale": [
             [
              0,
              "#0d0887"
             ],
             [
              0.1111111111111111,
              "#46039f"
             ],
             [
              0.2222222222222222,
              "#7201a8"
             ],
             [
              0.3333333333333333,
              "#9c179e"
             ],
             [
              0.4444444444444444,
              "#bd3786"
             ],
             [
              0.5555555555555556,
              "#d8576b"
             ],
             [
              0.6666666666666666,
              "#ed7953"
             ],
             [
              0.7777777777777778,
              "#fb9f3a"
             ],
             [
              0.8888888888888888,
              "#fdca26"
             ],
             [
              1,
              "#f0f921"
             ]
            ],
            "type": "histogram2d"
           }
          ],
          "histogram2dcontour": [
           {
            "colorbar": {
             "outlinewidth": 0,
             "ticks": ""
            },
            "colorscale": [
             [
              0,
              "#0d0887"
             ],
             [
              0.1111111111111111,
              "#46039f"
             ],
             [
              0.2222222222222222,
              "#7201a8"
             ],
             [
              0.3333333333333333,
              "#9c179e"
             ],
             [
              0.4444444444444444,
              "#bd3786"
             ],
             [
              0.5555555555555556,
              "#d8576b"
             ],
             [
              0.6666666666666666,
              "#ed7953"
             ],
             [
              0.7777777777777778,
              "#fb9f3a"
             ],
             [
              0.8888888888888888,
              "#fdca26"
             ],
             [
              1,
              "#f0f921"
             ]
            ],
            "type": "histogram2dcontour"
           }
          ],
          "mesh3d": [
           {
            "colorbar": {
             "outlinewidth": 0,
             "ticks": ""
            },
            "type": "mesh3d"
           }
          ],
          "parcoords": [
           {
            "line": {
             "colorbar": {
              "outlinewidth": 0,
              "ticks": ""
             }
            },
            "type": "parcoords"
           }
          ],
          "scatter": [
           {
            "marker": {
             "colorbar": {
              "outlinewidth": 0,
              "ticks": ""
             }
            },
            "type": "scatter"
           }
          ],
          "scatter3d": [
           {
            "line": {
             "colorbar": {
              "outlinewidth": 0,
              "ticks": ""
             }
            },
            "marker": {
             "colorbar": {
              "outlinewidth": 0,
              "ticks": ""
             }
            },
            "type": "scatter3d"
           }
          ],
          "scattercarpet": [
           {
            "marker": {
             "colorbar": {
              "outlinewidth": 0,
              "ticks": ""
             }
            },
            "type": "scattercarpet"
           }
          ],
          "scattergeo": [
           {
            "marker": {
             "colorbar": {
              "outlinewidth": 0,
              "ticks": ""
             }
            },
            "type": "scattergeo"
           }
          ],
          "scattergl": [
           {
            "marker": {
             "colorbar": {
              "outlinewidth": 0,
              "ticks": ""
             }
            },
            "type": "scattergl"
           }
          ],
          "scattermapbox": [
           {
            "marker": {
             "colorbar": {
              "outlinewidth": 0,
              "ticks": ""
             }
            },
            "type": "scattermapbox"
           }
          ],
          "scatterpolar": [
           {
            "marker": {
             "colorbar": {
              "outlinewidth": 0,
              "ticks": ""
             }
            },
            "type": "scatterpolar"
           }
          ],
          "scatterpolargl": [
           {
            "marker": {
             "colorbar": {
              "outlinewidth": 0,
              "ticks": ""
             }
            },
            "type": "scatterpolargl"
           }
          ],
          "scatterternary": [
           {
            "marker": {
             "colorbar": {
              "outlinewidth": 0,
              "ticks": ""
             }
            },
            "type": "scatterternary"
           }
          ],
          "surface": [
           {
            "colorbar": {
             "outlinewidth": 0,
             "ticks": ""
            },
            "colorscale": [
             [
              0,
              "#0d0887"
             ],
             [
              0.1111111111111111,
              "#46039f"
             ],
             [
              0.2222222222222222,
              "#7201a8"
             ],
             [
              0.3333333333333333,
              "#9c179e"
             ],
             [
              0.4444444444444444,
              "#bd3786"
             ],
             [
              0.5555555555555556,
              "#d8576b"
             ],
             [
              0.6666666666666666,
              "#ed7953"
             ],
             [
              0.7777777777777778,
              "#fb9f3a"
             ],
             [
              0.8888888888888888,
              "#fdca26"
             ],
             [
              1,
              "#f0f921"
             ]
            ],
            "type": "surface"
           }
          ],
          "table": [
           {
            "cells": {
             "fill": {
              "color": "#EBF0F8"
             },
             "line": {
              "color": "white"
             }
            },
            "header": {
             "fill": {
              "color": "#C8D4E3"
             },
             "line": {
              "color": "white"
             }
            },
            "type": "table"
           }
          ]
         },
         "layout": {
          "annotationdefaults": {
           "arrowcolor": "#2a3f5f",
           "arrowhead": 0,
           "arrowwidth": 1
          },
          "colorscale": {
           "diverging": [
            [
             0,
             "#8e0152"
            ],
            [
             0.1,
             "#c51b7d"
            ],
            [
             0.2,
             "#de77ae"
            ],
            [
             0.3,
             "#f1b6da"
            ],
            [
             0.4,
             "#fde0ef"
            ],
            [
             0.5,
             "#f7f7f7"
            ],
            [
             0.6,
             "#e6f5d0"
            ],
            [
             0.7,
             "#b8e186"
            ],
            [
             0.8,
             "#7fbc41"
            ],
            [
             0.9,
             "#4d9221"
            ],
            [
             1,
             "#276419"
            ]
           ],
           "sequential": [
            [
             0,
             "#0d0887"
            ],
            [
             0.1111111111111111,
             "#46039f"
            ],
            [
             0.2222222222222222,
             "#7201a8"
            ],
            [
             0.3333333333333333,
             "#9c179e"
            ],
            [
             0.4444444444444444,
             "#bd3786"
            ],
            [
             0.5555555555555556,
             "#d8576b"
            ],
            [
             0.6666666666666666,
             "#ed7953"
            ],
            [
             0.7777777777777778,
             "#fb9f3a"
            ],
            [
             0.8888888888888888,
             "#fdca26"
            ],
            [
             1,
             "#f0f921"
            ]
           ],
           "sequentialminus": [
            [
             0,
             "#0d0887"
            ],
            [
             0.1111111111111111,
             "#46039f"
            ],
            [
             0.2222222222222222,
             "#7201a8"
            ],
            [
             0.3333333333333333,
             "#9c179e"
            ],
            [
             0.4444444444444444,
             "#bd3786"
            ],
            [
             0.5555555555555556,
             "#d8576b"
            ],
            [
             0.6666666666666666,
             "#ed7953"
            ],
            [
             0.7777777777777778,
             "#fb9f3a"
            ],
            [
             0.8888888888888888,
             "#fdca26"
            ],
            [
             1,
             "#f0f921"
            ]
           ]
          },
          "colorway": [
           "#636efa",
           "#EF553B",
           "#00cc96",
           "#ab63fa",
           "#FFA15A",
           "#19d3f3",
           "#FF6692",
           "#B6E880",
           "#FF97FF",
           "#FECB52"
          ],
          "font": {
           "color": "#2a3f5f"
          },
          "geo": {
           "bgcolor": "white",
           "lakecolor": "white",
           "landcolor": "#E5ECF6",
           "showlakes": true,
           "showland": true,
           "subunitcolor": "white"
          },
          "hoverlabel": {
           "align": "left"
          },
          "hovermode": "closest",
          "mapbox": {
           "style": "light"
          },
          "paper_bgcolor": "white",
          "plot_bgcolor": "#E5ECF6",
          "polar": {
           "angularaxis": {
            "gridcolor": "white",
            "linecolor": "white",
            "ticks": ""
           },
           "bgcolor": "#E5ECF6",
           "radialaxis": {
            "gridcolor": "white",
            "linecolor": "white",
            "ticks": ""
           }
          },
          "scene": {
           "xaxis": {
            "backgroundcolor": "#E5ECF6",
            "gridcolor": "white",
            "gridwidth": 2,
            "linecolor": "white",
            "showbackground": true,
            "ticks": "",
            "zerolinecolor": "white"
           },
           "yaxis": {
            "backgroundcolor": "#E5ECF6",
            "gridcolor": "white",
            "gridwidth": 2,
            "linecolor": "white",
            "showbackground": true,
            "ticks": "",
            "zerolinecolor": "white"
           },
           "zaxis": {
            "backgroundcolor": "#E5ECF6",
            "gridcolor": "white",
            "gridwidth": 2,
            "linecolor": "white",
            "showbackground": true,
            "ticks": "",
            "zerolinecolor": "white"
           }
          },
          "shapedefaults": {
           "line": {
            "color": "#2a3f5f"
           }
          },
          "ternary": {
           "aaxis": {
            "gridcolor": "white",
            "linecolor": "white",
            "ticks": ""
           },
           "baxis": {
            "gridcolor": "white",
            "linecolor": "white",
            "ticks": ""
           },
           "bgcolor": "#E5ECF6",
           "caxis": {
            "gridcolor": "white",
            "linecolor": "white",
            "ticks": ""
           }
          },
          "title": {
           "x": 0.05
          },
          "xaxis": {
           "automargin": true,
           "gridcolor": "white",
           "linecolor": "white",
           "ticks": "",
           "zerolinecolor": "white",
           "zerolinewidth": 2
          },
          "yaxis": {
           "automargin": true,
           "gridcolor": "white",
           "linecolor": "white",
           "ticks": "",
           "zerolinecolor": "white",
           "zerolinewidth": 2
          }
         }
        },
        "xaxis": {
         "anchor": "y",
         "domain": [
          0,
          0.98
         ],
         "title": {
          "text": "epochs"
         }
        },
        "yaxis": {
         "anchor": "x",
         "domain": [
          0,
          1
         ],
         "title": {
          "text": "behavioural differences"
         }
        }
       }
      },
      "text/html": [
       "<div>\n",
       "        \n",
       "        \n",
       "            <div id=\"3e8b1ed2-275f-421f-aaf9-5a34d792dd8f\" class=\"plotly-graph-div\" style=\"height:600px; width:100%;\"></div>\n",
       "            <script type=\"text/javascript\">\n",
       "                require([\"plotly\"], function(Plotly) {\n",
       "                    window.PLOTLYENV=window.PLOTLYENV || {};\n",
       "                    \n",
       "                if (document.getElementById(\"3e8b1ed2-275f-421f-aaf9-5a34d792dd8f\")) {\n",
       "                    Plotly.newPlot(\n",
       "                        '3e8b1ed2-275f-421f-aaf9-5a34d792dd8f',\n",
       "                        [{\"hoverlabel\": {\"namelength\": 0}, \"hovertemplate\": \"epochs=%{x}<br>behavioural differences=%{y}\", \"legendgroup\": \"\", \"line\": {\"color\": \"#636efa\", \"dash\": \"solid\"}, \"mode\": \"lines\", \"name\": \"\", \"showlegend\": false, \"type\": \"scatter\", \"x\": [1, 2, 3, 4, 5, 6, 7, 8, 9, 10, 11, 12, 13, 14, 15, 16, 17, 18, 19, 20, 21, 22, 23, 24, 25, 26, 27, 28, 29, 30, 31, 32, 33, 34, 35, 36, 37, 38, 39, 40, 41, 42, 43, 44, 45, 46, 47, 48, 49, 50, 51, 52, 53, 54, 55, 56, 57, 58, 59, 60, 61, 62, 63, 64, 65, 66, 67, 68, 69, 70, 71, 72, 73, 74, 75, 76, 77, 78, 79, 80, 81, 82, 83, 84, 85, 86, 87, 88, 89, 90, 91, 92, 93, 94, 95, 96, 97, 98, 99, 100, 101, 102, 103, 104, 105, 106, 107, 108, 109, 110, 111, 112, 113, 114, 115, 116, 117, 118, 119, 120, 121, 122, 123, 124, 125, 126, 127, 128, 129, 130, 131, 132, 133, 134, 135, 136, 137, 138, 139, 140, 141, 142, 143, 144, 145, 146, 147, 148, 149, 150, 151, 152, 153, 154, 155, 156, 157, 158, 159, 160, 161, 162, 163, 164, 165, 166, 167, 168, 169, 170, 171, 172, 173, 174, 175, 176, 177, 178, 179, 180, 181, 182, 183, 184, 185, 186, 187, 188, 189, 190, 191, 192, 193, 194, 195, 196, 197, 198, 199, 200], \"xaxis\": \"x\", \"y\": [0.0, 80.85103227909123, 45.65617375113096, 59.05097058526508, 28.359886910434547, 72.02042522709671, 26.005881310432652, 26.358394452651464, 20.74048439783503, 28.469966952622226, 30.066197519288487, 23.656674636444297, 23.50390177946263, 25.7140718266607, 25.884850402365775, 26.3212551618611, 28.050350207952526, 30.082066702347447, 28.305749161679007, 28.615049274994583, 29.355784052738368, 29.193028567700498, 30.31201528068938, 30.59703791206292, 27.83800321758998, 31.211187979065368, 30.120397411831735, 28.066574830308817, 31.287226566032196, 33.07979709386004, 32.23575464626394, 33.84794347817603, 34.339291167270126, 37.60829055056886, 29.10897460466427, 29.547030149884908, 29.442626054953823, 32.81050416951547, 32.928516383265716, 33.90856376735834, 35.59151661389202, 36.06323888195885, 33.52896908713622, 34.68644066820972, 33.45959184160893, 38.27664119116297, 37.4042062261162, 27.479881396191445, 27.395373344843804, 28.210199739858357, 27.24639403218471, 27.62012150442571, 26.767829461034143, 37.05751661672572, 28.41416642866336, 28.89467238365868, 28.997103750514622, 29.03446017077148, 30.01804380842784, 29.1440574431481, 29.20520049798624, 29.494727159094804, 29.65428184079445, 29.41826744926645, 29.118834699654585, 29.815004352354883, 42.89098206925147, 39.18736746613658, 40.82505201391726, 37.92858483419256, 72.01969646752208, 27.732766242564182, 48.52838776237559, 48.80692803907444, 48.60349320284153, 50.92258488587394, 51.22164195171221, 46.47446629964333, 54.54288095903379, 52.83339272096081, 59.124874245485465, 47.03100690345561, 52.70352029130285, 51.633198886195274, 52.004396585571186, 51.876975231022584, 58.34985422345339, 56.424533758701926, 54.789414633780495, 57.43994076642329, 56.660160493592414, 68.35997954776646, 56.42599510692161, 52.44823040198821, 38.79827095269023, 37.660460946772794, 37.63885239871973, 37.799056389344, 37.07137978779465, 49.79802249486852, 63.14889859831834, 61.42574763359697, 49.187326964409834, 35.061493360326764, 34.77708524155047, 35.79242005686242, 35.992482572584436, 37.29576093490566, 33.685652532878606, 39.972514304212034, 52.98843065240567, 53.37275028246497, 60.71769660109519, 61.90910207084081, 62.29161126679396, 49.10394942391925, 48.61347537174638, 52.945756654360345, 52.38128643443411, 50.62268640877601, 50.18977904381513, 53.65737917754294, 60.89348361789727, 57.05408539270737, 58.28730203338431, 38.55626076914702, 37.449408391475885, 33.40226694063362, 33.42983731036874, 33.78812692782581, 34.3624909100711, 33.90089883732221, 32.940635750612586, 32.971045818643454, 32.920105197413996, 33.850030017688496, 33.263670715714085, 35.584276012019345, 36.22101149031905, 32.2744856173043, 42.46485367609018, 40.508900292483304, 46.981964418875435, 40.919565860143535, 45.663515967321565, 79.96612479444126, 80.68183460896266, 47.976894834829714, 68.38731607182712, 48.45039835319168, 44.75789125877121, 61.43689862602343, 44.03089078700804, 61.651696116379675, 60.36713868668575, 65.02410741236191, 54.272423569897725, 53.55971474137923, 51.56746390336987, 51.26089865248766, 52.659142300037125, 51.2796071841537, 51.530847603796865, 53.73452831958624, 87.06106549317317, 53.58036964589469, 53.86602658274453, 54.48622181896147, 53.9089856993122, 51.36453914327563, 55.724211380633726, 55.77327568611953, 73.18328150866945, 74.48990370458043, 66.92122848285574, 50.29088716146834, 49.586757122399696, 49.41836197876079, 54.73857499051632, 52.90277127250089, 51.74425788976717, 51.25920760424964, 46.01308373200184, 49.2308126185612, 64.3047715885032, 63.73491381376905, 63.3608812149108, 61.70145672235596, 62.783167731238464, 64.21537895598023, 62.17065624789768, 54.123658139651454, 60.61882826245815, 52.378615667972184, 54.99287760515386, 54.105702028329276, 57.243325328442594, 59.29216601793441, 60.25075777945937, 55.65690618758415], \"yaxis\": \"y\"}],\n",
       "                        {\"height\": 600, \"legend\": {\"tracegroupgap\": 0}, \"margin\": {\"t\": 60}, \"template\": {\"data\": {\"bar\": [{\"error_x\": {\"color\": \"#2a3f5f\"}, \"error_y\": {\"color\": \"#2a3f5f\"}, \"marker\": {\"line\": {\"color\": \"#E5ECF6\", \"width\": 0.5}}, \"type\": \"bar\"}], \"barpolar\": [{\"marker\": {\"line\": {\"color\": \"#E5ECF6\", \"width\": 0.5}}, \"type\": \"barpolar\"}], \"carpet\": [{\"aaxis\": {\"endlinecolor\": \"#2a3f5f\", \"gridcolor\": \"white\", \"linecolor\": \"white\", \"minorgridcolor\": \"white\", \"startlinecolor\": \"#2a3f5f\"}, \"baxis\": {\"endlinecolor\": \"#2a3f5f\", \"gridcolor\": \"white\", \"linecolor\": \"white\", \"minorgridcolor\": \"white\", \"startlinecolor\": \"#2a3f5f\"}, \"type\": \"carpet\"}], \"choropleth\": [{\"colorbar\": {\"outlinewidth\": 0, \"ticks\": \"\"}, \"type\": \"choropleth\"}], \"contour\": [{\"colorbar\": {\"outlinewidth\": 0, \"ticks\": \"\"}, \"colorscale\": [[0.0, \"#0d0887\"], [0.1111111111111111, \"#46039f\"], [0.2222222222222222, \"#7201a8\"], [0.3333333333333333, \"#9c179e\"], [0.4444444444444444, \"#bd3786\"], [0.5555555555555556, \"#d8576b\"], [0.6666666666666666, \"#ed7953\"], [0.7777777777777778, \"#fb9f3a\"], [0.8888888888888888, \"#fdca26\"], [1.0, \"#f0f921\"]], \"type\": \"contour\"}], \"contourcarpet\": [{\"colorbar\": {\"outlinewidth\": 0, \"ticks\": \"\"}, \"type\": \"contourcarpet\"}], \"heatmap\": [{\"colorbar\": {\"outlinewidth\": 0, \"ticks\": \"\"}, \"colorscale\": [[0.0, \"#0d0887\"], [0.1111111111111111, \"#46039f\"], [0.2222222222222222, \"#7201a8\"], [0.3333333333333333, \"#9c179e\"], [0.4444444444444444, \"#bd3786\"], [0.5555555555555556, \"#d8576b\"], [0.6666666666666666, \"#ed7953\"], [0.7777777777777778, \"#fb9f3a\"], [0.8888888888888888, \"#fdca26\"], [1.0, \"#f0f921\"]], \"type\": \"heatmap\"}], \"heatmapgl\": [{\"colorbar\": {\"outlinewidth\": 0, \"ticks\": \"\"}, \"colorscale\": [[0.0, \"#0d0887\"], [0.1111111111111111, \"#46039f\"], [0.2222222222222222, \"#7201a8\"], [0.3333333333333333, \"#9c179e\"], [0.4444444444444444, \"#bd3786\"], [0.5555555555555556, \"#d8576b\"], [0.6666666666666666, \"#ed7953\"], [0.7777777777777778, \"#fb9f3a\"], [0.8888888888888888, \"#fdca26\"], [1.0, \"#f0f921\"]], \"type\": \"heatmapgl\"}], \"histogram\": [{\"marker\": {\"colorbar\": {\"outlinewidth\": 0, \"ticks\": \"\"}}, \"type\": \"histogram\"}], \"histogram2d\": [{\"colorbar\": {\"outlinewidth\": 0, \"ticks\": \"\"}, \"colorscale\": [[0.0, \"#0d0887\"], [0.1111111111111111, \"#46039f\"], [0.2222222222222222, \"#7201a8\"], [0.3333333333333333, \"#9c179e\"], [0.4444444444444444, \"#bd3786\"], [0.5555555555555556, \"#d8576b\"], [0.6666666666666666, \"#ed7953\"], [0.7777777777777778, \"#fb9f3a\"], [0.8888888888888888, \"#fdca26\"], [1.0, \"#f0f921\"]], \"type\": \"histogram2d\"}], \"histogram2dcontour\": [{\"colorbar\": {\"outlinewidth\": 0, \"ticks\": \"\"}, \"colorscale\": [[0.0, \"#0d0887\"], [0.1111111111111111, \"#46039f\"], [0.2222222222222222, \"#7201a8\"], [0.3333333333333333, \"#9c179e\"], [0.4444444444444444, \"#bd3786\"], [0.5555555555555556, \"#d8576b\"], [0.6666666666666666, \"#ed7953\"], [0.7777777777777778, \"#fb9f3a\"], [0.8888888888888888, \"#fdca26\"], [1.0, \"#f0f921\"]], \"type\": \"histogram2dcontour\"}], \"mesh3d\": [{\"colorbar\": {\"outlinewidth\": 0, \"ticks\": \"\"}, \"type\": \"mesh3d\"}], \"parcoords\": [{\"line\": {\"colorbar\": {\"outlinewidth\": 0, \"ticks\": \"\"}}, \"type\": \"parcoords\"}], \"scatter\": [{\"marker\": {\"colorbar\": {\"outlinewidth\": 0, \"ticks\": \"\"}}, \"type\": \"scatter\"}], \"scatter3d\": [{\"line\": {\"colorbar\": {\"outlinewidth\": 0, \"ticks\": \"\"}}, \"marker\": {\"colorbar\": {\"outlinewidth\": 0, \"ticks\": \"\"}}, \"type\": \"scatter3d\"}], \"scattercarpet\": [{\"marker\": {\"colorbar\": {\"outlinewidth\": 0, \"ticks\": \"\"}}, \"type\": \"scattercarpet\"}], \"scattergeo\": [{\"marker\": {\"colorbar\": {\"outlinewidth\": 0, \"ticks\": \"\"}}, \"type\": \"scattergeo\"}], \"scattergl\": [{\"marker\": {\"colorbar\": {\"outlinewidth\": 0, \"ticks\": \"\"}}, \"type\": \"scattergl\"}], \"scattermapbox\": [{\"marker\": {\"colorbar\": {\"outlinewidth\": 0, \"ticks\": \"\"}}, \"type\": \"scattermapbox\"}], \"scatterpolar\": [{\"marker\": {\"colorbar\": {\"outlinewidth\": 0, \"ticks\": \"\"}}, \"type\": \"scatterpolar\"}], \"scatterpolargl\": [{\"marker\": {\"colorbar\": {\"outlinewidth\": 0, \"ticks\": \"\"}}, \"type\": \"scatterpolargl\"}], \"scatterternary\": [{\"marker\": {\"colorbar\": {\"outlinewidth\": 0, \"ticks\": \"\"}}, \"type\": \"scatterternary\"}], \"surface\": [{\"colorbar\": {\"outlinewidth\": 0, \"ticks\": \"\"}, \"colorscale\": [[0.0, \"#0d0887\"], [0.1111111111111111, \"#46039f\"], [0.2222222222222222, \"#7201a8\"], [0.3333333333333333, \"#9c179e\"], [0.4444444444444444, \"#bd3786\"], [0.5555555555555556, \"#d8576b\"], [0.6666666666666666, \"#ed7953\"], [0.7777777777777778, \"#fb9f3a\"], [0.8888888888888888, \"#fdca26\"], [1.0, \"#f0f921\"]], \"type\": \"surface\"}], \"table\": [{\"cells\": {\"fill\": {\"color\": \"#EBF0F8\"}, \"line\": {\"color\": \"white\"}}, \"header\": {\"fill\": {\"color\": \"#C8D4E3\"}, \"line\": {\"color\": \"white\"}}, \"type\": \"table\"}]}, \"layout\": {\"annotationdefaults\": {\"arrowcolor\": \"#2a3f5f\", \"arrowhead\": 0, \"arrowwidth\": 1}, \"colorscale\": {\"diverging\": [[0, \"#8e0152\"], [0.1, \"#c51b7d\"], [0.2, \"#de77ae\"], [0.3, \"#f1b6da\"], [0.4, \"#fde0ef\"], [0.5, \"#f7f7f7\"], [0.6, \"#e6f5d0\"], [0.7, \"#b8e186\"], [0.8, \"#7fbc41\"], [0.9, \"#4d9221\"], [1, \"#276419\"]], \"sequential\": [[0.0, \"#0d0887\"], [0.1111111111111111, \"#46039f\"], [0.2222222222222222, \"#7201a8\"], [0.3333333333333333, \"#9c179e\"], [0.4444444444444444, \"#bd3786\"], [0.5555555555555556, \"#d8576b\"], [0.6666666666666666, \"#ed7953\"], [0.7777777777777778, \"#fb9f3a\"], [0.8888888888888888, \"#fdca26\"], [1.0, \"#f0f921\"]], \"sequentialminus\": [[0.0, \"#0d0887\"], [0.1111111111111111, \"#46039f\"], [0.2222222222222222, \"#7201a8\"], [0.3333333333333333, \"#9c179e\"], [0.4444444444444444, \"#bd3786\"], [0.5555555555555556, \"#d8576b\"], [0.6666666666666666, \"#ed7953\"], [0.7777777777777778, \"#fb9f3a\"], [0.8888888888888888, \"#fdca26\"], [1.0, \"#f0f921\"]]}, \"colorway\": [\"#636efa\", \"#EF553B\", \"#00cc96\", \"#ab63fa\", \"#FFA15A\", \"#19d3f3\", \"#FF6692\", \"#B6E880\", \"#FF97FF\", \"#FECB52\"], \"font\": {\"color\": \"#2a3f5f\"}, \"geo\": {\"bgcolor\": \"white\", \"lakecolor\": \"white\", \"landcolor\": \"#E5ECF6\", \"showlakes\": true, \"showland\": true, \"subunitcolor\": \"white\"}, \"hoverlabel\": {\"align\": \"left\"}, \"hovermode\": \"closest\", \"mapbox\": {\"style\": \"light\"}, \"paper_bgcolor\": \"white\", \"plot_bgcolor\": \"#E5ECF6\", \"polar\": {\"angularaxis\": {\"gridcolor\": \"white\", \"linecolor\": \"white\", \"ticks\": \"\"}, \"bgcolor\": \"#E5ECF6\", \"radialaxis\": {\"gridcolor\": \"white\", \"linecolor\": \"white\", \"ticks\": \"\"}}, \"scene\": {\"xaxis\": {\"backgroundcolor\": \"#E5ECF6\", \"gridcolor\": \"white\", \"gridwidth\": 2, \"linecolor\": \"white\", \"showbackground\": true, \"ticks\": \"\", \"zerolinecolor\": \"white\"}, \"yaxis\": {\"backgroundcolor\": \"#E5ECF6\", \"gridcolor\": \"white\", \"gridwidth\": 2, \"linecolor\": \"white\", \"showbackground\": true, \"ticks\": \"\", \"zerolinecolor\": \"white\"}, \"zaxis\": {\"backgroundcolor\": \"#E5ECF6\", \"gridcolor\": \"white\", \"gridwidth\": 2, \"linecolor\": \"white\", \"showbackground\": true, \"ticks\": \"\", \"zerolinecolor\": \"white\"}}, \"shapedefaults\": {\"line\": {\"color\": \"#2a3f5f\"}}, \"ternary\": {\"aaxis\": {\"gridcolor\": \"white\", \"linecolor\": \"white\", \"ticks\": \"\"}, \"baxis\": {\"gridcolor\": \"white\", \"linecolor\": \"white\", \"ticks\": \"\"}, \"bgcolor\": \"#E5ECF6\", \"caxis\": {\"gridcolor\": \"white\", \"linecolor\": \"white\", \"ticks\": \"\"}}, \"title\": {\"x\": 0.05}, \"xaxis\": {\"automargin\": true, \"gridcolor\": \"white\", \"linecolor\": \"white\", \"ticks\": \"\", \"zerolinecolor\": \"white\", \"zerolinewidth\": 2}, \"yaxis\": {\"automargin\": true, \"gridcolor\": \"white\", \"linecolor\": \"white\", \"ticks\": \"\", \"zerolinecolor\": \"white\", \"zerolinewidth\": 2}}}, \"xaxis\": {\"anchor\": \"y\", \"domain\": [0.0, 0.98], \"title\": {\"text\": \"epochs\"}}, \"yaxis\": {\"anchor\": \"x\", \"domain\": [0.0, 1.0], \"title\": {\"text\": \"behavioural differences\"}}},\n",
       "                        {\"responsive\": true}\n",
       "                    ).then(function(){\n",
       "                            \n",
       "var gd = document.getElementById('3e8b1ed2-275f-421f-aaf9-5a34d792dd8f');\n",
       "var x = new MutationObserver(function (mutations, observer) {{\n",
       "        var display = window.getComputedStyle(gd).display;\n",
       "        if (!display || display === 'none') {{\n",
       "            console.log([gd, 'removed!']);\n",
       "            Plotly.purge(gd);\n",
       "            observer.disconnect();\n",
       "        }}\n",
       "}});\n",
       "\n",
       "// Listen for the removal of the full notebook cells\n",
       "var notebookContainer = gd.closest('#notebook-container');\n",
       "if (notebookContainer) {{\n",
       "    x.observe(notebookContainer, {childList: true});\n",
       "}}\n",
       "\n",
       "// Listen for the clearing of the current output cell\n",
       "var outputEl = gd.closest('.output');\n",
       "if (outputEl) {{\n",
       "    x.observe(outputEl, {childList: true});\n",
       "}}\n",
       "\n",
       "                        })\n",
       "                };\n",
       "                });\n",
       "            </script>\n",
       "        </div>"
      ]
     },
     "metadata": {},
     "output_type": "display_data"
    }
   ],
   "source": [
    "plot_behavioural_differences(experiment_name, get_random_input_func, mode=\"first_best\")"
   ]
  },
  {
   "cell_type": "code",
   "execution_count": 32,
   "metadata": {},
   "outputs": [
    {
     "data": {
      "application/vnd.plotly.v1+json": {
       "config": {
        "plotlyServerURL": "https://plot.ly"
       },
       "data": [
        {
         "hoverlabel": {
          "namelength": 0
         },
         "hovertemplate": "epochs=%{x}<br>behavioural differences=%{y}",
         "legendgroup": "",
         "line": {
          "color": "#636efa",
          "dash": "solid"
         },
         "mode": "lines",
         "name": "",
         "showlegend": false,
         "type": "scatter",
         "x": [
          1,
          2,
          3,
          4,
          5,
          6,
          7,
          8,
          9,
          10,
          11,
          12,
          13,
          14,
          15,
          16,
          17,
          18,
          19,
          20,
          21,
          22,
          23,
          24,
          25,
          26,
          27,
          28,
          29,
          30,
          31,
          32,
          33,
          34,
          35,
          36,
          37,
          38,
          39,
          40,
          41,
          42,
          43,
          44,
          45,
          46,
          47,
          48,
          49,
          50,
          51,
          52,
          53,
          54,
          55,
          56,
          57,
          58,
          59,
          60,
          61,
          62,
          63,
          64,
          65,
          66,
          67,
          68,
          69,
          70,
          71,
          72,
          73,
          74,
          75,
          76,
          77,
          78,
          79,
          80,
          81,
          82,
          83,
          84,
          85,
          86,
          87,
          88,
          89,
          90,
          91,
          92,
          93,
          94,
          95,
          96,
          97,
          98,
          99,
          100,
          101,
          102,
          103,
          104,
          105,
          106,
          107,
          108,
          109,
          110,
          111,
          112,
          113,
          114,
          115,
          116,
          117,
          118,
          119,
          120,
          121,
          122,
          123,
          124,
          125,
          126,
          127,
          128,
          129,
          130,
          131,
          132,
          133,
          134,
          135,
          136,
          137,
          138,
          139,
          140,
          141,
          142,
          143,
          144,
          145,
          146,
          147,
          148,
          149,
          150,
          151,
          152,
          153,
          154,
          155,
          156,
          157,
          158,
          159,
          160,
          161,
          162,
          163,
          164,
          165,
          166,
          167,
          168,
          169,
          170,
          171,
          172,
          173,
          174,
          175,
          176,
          177,
          178,
          179,
          180,
          181,
          182,
          183,
          184,
          185,
          186,
          187,
          188,
          189,
          190,
          191,
          192,
          193,
          194,
          195,
          196,
          197,
          198,
          199,
          200
         ],
         "xaxis": "x",
         "y": [
          0,
          82.53078623392948,
          48.12996830149777,
          15.75058165730453,
          42.096476902568185,
          56.466383328900584,
          66.11929613796866,
          0.7695277327310679,
          15.016852041781487,
          24.141239793767465,
          1.8679055330240706,
          19.45528203711467,
          0.6911116866706551,
          7.861152331104337,
          0.674447225838663,
          2.3452488720393747,
          3.52744086424815,
          3.665694858735372,
          5.783404701417579,
          0.7527682048706577,
          5.363502703553074,
          0.45562683548961924,
          2.295482061511802,
          0.9106238141643656,
          7.397611059448329,
          7.782091478083062,
          5.410818711005051,
          3.3196787500561267,
          4.461307627038589,
          4.689629737904716,
          4.073657479364547,
          8.287069530185342,
          0.8914199472213628,
          5.6434657336706495,
          14.55586818753977,
          5.915800714540326,
          0.5677810470624425,
          6.430277157503469,
          0.40582501567431883,
          1.5064760426117842,
          2.682860031723503,
          0.7573666811105327,
          3.33056033709517,
          1.8645926263721186,
          2.1753137048668045,
          6.234554573630525,
          1.0164586007185201,
          24.342315057250346,
          0.4434601402747374,
          3.4546464039925056,
          5.016122283771155,
          1.4352664348838815,
          2.864586685298075,
          23.078640785022902,
          38.02827061045308,
          1.8768137389937745,
          20.886870235400934,
          1.0577086019692625,
          5.30778314339469,
          3.183888948589309,
          0.8878784267920672,
          1.2811361161070474,
          0.6550816929114659,
          3.7020088268993048,
          1.0412223291265599,
          1.9502544538896738,
          41.233384924258544,
          5.187869412106173,
          6.145939565138553,
          5.686654537641929,
          42.76737704234497,
          60.35237301865802,
          33.09398363900436,
          0.5923600854074367,
          0.8999400798215971,
          3.1931734211499334,
          1.8113368536896421,
          7.142342249389884,
          12.004411631745997,
          3.8927223210556283,
          8.942470817551467,
          16.799369336009594,
          7.913044875722996,
          1.5794014375541028,
          1.1263604133136413,
          1.9112486770455328,
          8.431846628910002,
          2.210536815869645,
          2.3554738924076073,
          3.3292604244046284,
          1.6147314736123568,
          15.935303006050761,
          22.65130980066387,
          4.896156299309869,
          27.19973766411564,
          4.655406510831994,
          3.121648979981038,
          3.3518881699835053,
          10.051008200383354,
          33.48332136651034,
          80.88026239799159,
          2.4724284924664977,
          16.26670792949539,
          19.65400996722222,
          0.7425005257436039,
          1.8786566577758537,
          1.0662837192637769,
          2.763046381614101,
          5.8644447068478875,
          9.581559161747705,
          17.11475695481411,
          0.6843277042409717,
          8.597934813926578,
          1.840829132431971,
          0.8743293456049408,
          16.169066244405677,
          0.9114288580332333,
          5.938870901755858,
          1.2413088824468022,
          2.830924564520266,
          3.247401194160101,
          5.78770697568031,
          8.781147591804123,
          4.557451036661357,
          1.6413688831025233,
          71.10108464576052,
          1.9642944735758157,
          15.722710592693272,
          1.3438502083392672,
          2.8892524698621416,
          1.62288059184037,
          2.4273511936961034,
          10.631075798020367,
          5.475240955421068,
          3.8759357331796194,
          8.321760051989203,
          7.166595237539373,
          17.3468911315525,
          1.7600869018760537,
          17.498824767759587,
          29.58970347311793,
          49.431262114175915,
          10.116532747524591,
          9.752031339466642,
          47.48012918156714,
          46.40612286117946,
          1.0585426308794461,
          45.62981601095396,
          32.00851337824758,
          30.90976513299694,
          50.459412254226116,
          25.234332544758193,
          24.862343580273016,
          25.011323838948925,
          3.5123789944483983,
          6.523141669384957,
          14.137690140121498,
          1.162068100495519,
          2.908630041470432,
          4.44415799026306,
          2.2492261671723814,
          4.718417059844009,
          1.1847975724621036,
          2.933726476630552,
          40.61878993204052,
          39.998877459909835,
          0.6297699185061094,
          1.5866229086412165,
          1.1888524971946575,
          3.743427237473128,
          6.510944000189656,
          0.7101057372395533,
          25.325146232014024,
          1.623472604929187,
          9.542300412904343,
          23.776389217059318,
          2.6236217005930667,
          1.0166433286596863,
          9.95918571630674,
          2.373189391561998,
          2.9767609394008723,
          3.1001803838688606,
          15.130347463105933,
          8.547958452793337,
          25.584815218815564,
          1.6551764516758392,
          1.1109781214297383,
          2.759675202657622,
          2.6632849129618354,
          2.4346779683629527,
          3.4848286203595866,
          13.194756490182536,
          12.43434682211832,
          14.965273987224315,
          7.134281179876622,
          4.780456840793772,
          10.019314304148928,
          2.755261750318411,
          2.6135917103686492,
          8.407298986231549
         ],
         "yaxis": "y"
        }
       ],
       "layout": {
        "height": 600,
        "legend": {
         "tracegroupgap": 0
        },
        "margin": {
         "t": 60
        },
        "template": {
         "data": {
          "bar": [
           {
            "error_x": {
             "color": "#2a3f5f"
            },
            "error_y": {
             "color": "#2a3f5f"
            },
            "marker": {
             "line": {
              "color": "#E5ECF6",
              "width": 0.5
             }
            },
            "type": "bar"
           }
          ],
          "barpolar": [
           {
            "marker": {
             "line": {
              "color": "#E5ECF6",
              "width": 0.5
             }
            },
            "type": "barpolar"
           }
          ],
          "carpet": [
           {
            "aaxis": {
             "endlinecolor": "#2a3f5f",
             "gridcolor": "white",
             "linecolor": "white",
             "minorgridcolor": "white",
             "startlinecolor": "#2a3f5f"
            },
            "baxis": {
             "endlinecolor": "#2a3f5f",
             "gridcolor": "white",
             "linecolor": "white",
             "minorgridcolor": "white",
             "startlinecolor": "#2a3f5f"
            },
            "type": "carpet"
           }
          ],
          "choropleth": [
           {
            "colorbar": {
             "outlinewidth": 0,
             "ticks": ""
            },
            "type": "choropleth"
           }
          ],
          "contour": [
           {
            "colorbar": {
             "outlinewidth": 0,
             "ticks": ""
            },
            "colorscale": [
             [
              0,
              "#0d0887"
             ],
             [
              0.1111111111111111,
              "#46039f"
             ],
             [
              0.2222222222222222,
              "#7201a8"
             ],
             [
              0.3333333333333333,
              "#9c179e"
             ],
             [
              0.4444444444444444,
              "#bd3786"
             ],
             [
              0.5555555555555556,
              "#d8576b"
             ],
             [
              0.6666666666666666,
              "#ed7953"
             ],
             [
              0.7777777777777778,
              "#fb9f3a"
             ],
             [
              0.8888888888888888,
              "#fdca26"
             ],
             [
              1,
              "#f0f921"
             ]
            ],
            "type": "contour"
           }
          ],
          "contourcarpet": [
           {
            "colorbar": {
             "outlinewidth": 0,
             "ticks": ""
            },
            "type": "contourcarpet"
           }
          ],
          "heatmap": [
           {
            "colorbar": {
             "outlinewidth": 0,
             "ticks": ""
            },
            "colorscale": [
             [
              0,
              "#0d0887"
             ],
             [
              0.1111111111111111,
              "#46039f"
             ],
             [
              0.2222222222222222,
              "#7201a8"
             ],
             [
              0.3333333333333333,
              "#9c179e"
             ],
             [
              0.4444444444444444,
              "#bd3786"
             ],
             [
              0.5555555555555556,
              "#d8576b"
             ],
             [
              0.6666666666666666,
              "#ed7953"
             ],
             [
              0.7777777777777778,
              "#fb9f3a"
             ],
             [
              0.8888888888888888,
              "#fdca26"
             ],
             [
              1,
              "#f0f921"
             ]
            ],
            "type": "heatmap"
           }
          ],
          "heatmapgl": [
           {
            "colorbar": {
             "outlinewidth": 0,
             "ticks": ""
            },
            "colorscale": [
             [
              0,
              "#0d0887"
             ],
             [
              0.1111111111111111,
              "#46039f"
             ],
             [
              0.2222222222222222,
              "#7201a8"
             ],
             [
              0.3333333333333333,
              "#9c179e"
             ],
             [
              0.4444444444444444,
              "#bd3786"
             ],
             [
              0.5555555555555556,
              "#d8576b"
             ],
             [
              0.6666666666666666,
              "#ed7953"
             ],
             [
              0.7777777777777778,
              "#fb9f3a"
             ],
             [
              0.8888888888888888,
              "#fdca26"
             ],
             [
              1,
              "#f0f921"
             ]
            ],
            "type": "heatmapgl"
           }
          ],
          "histogram": [
           {
            "marker": {
             "colorbar": {
              "outlinewidth": 0,
              "ticks": ""
             }
            },
            "type": "histogram"
           }
          ],
          "histogram2d": [
           {
            "colorbar": {
             "outlinewidth": 0,
             "ticks": ""
            },
            "colorscale": [
             [
              0,
              "#0d0887"
             ],
             [
              0.1111111111111111,
              "#46039f"
             ],
             [
              0.2222222222222222,
              "#7201a8"
             ],
             [
              0.3333333333333333,
              "#9c179e"
             ],
             [
              0.4444444444444444,
              "#bd3786"
             ],
             [
              0.5555555555555556,
              "#d8576b"
             ],
             [
              0.6666666666666666,
              "#ed7953"
             ],
             [
              0.7777777777777778,
              "#fb9f3a"
             ],
             [
              0.8888888888888888,
              "#fdca26"
             ],
             [
              1,
              "#f0f921"
             ]
            ],
            "type": "histogram2d"
           }
          ],
          "histogram2dcontour": [
           {
            "colorbar": {
             "outlinewidth": 0,
             "ticks": ""
            },
            "colorscale": [
             [
              0,
              "#0d0887"
             ],
             [
              0.1111111111111111,
              "#46039f"
             ],
             [
              0.2222222222222222,
              "#7201a8"
             ],
             [
              0.3333333333333333,
              "#9c179e"
             ],
             [
              0.4444444444444444,
              "#bd3786"
             ],
             [
              0.5555555555555556,
              "#d8576b"
             ],
             [
              0.6666666666666666,
              "#ed7953"
             ],
             [
              0.7777777777777778,
              "#fb9f3a"
             ],
             [
              0.8888888888888888,
              "#fdca26"
             ],
             [
              1,
              "#f0f921"
             ]
            ],
            "type": "histogram2dcontour"
           }
          ],
          "mesh3d": [
           {
            "colorbar": {
             "outlinewidth": 0,
             "ticks": ""
            },
            "type": "mesh3d"
           }
          ],
          "parcoords": [
           {
            "line": {
             "colorbar": {
              "outlinewidth": 0,
              "ticks": ""
             }
            },
            "type": "parcoords"
           }
          ],
          "scatter": [
           {
            "marker": {
             "colorbar": {
              "outlinewidth": 0,
              "ticks": ""
             }
            },
            "type": "scatter"
           }
          ],
          "scatter3d": [
           {
            "line": {
             "colorbar": {
              "outlinewidth": 0,
              "ticks": ""
             }
            },
            "marker": {
             "colorbar": {
              "outlinewidth": 0,
              "ticks": ""
             }
            },
            "type": "scatter3d"
           }
          ],
          "scattercarpet": [
           {
            "marker": {
             "colorbar": {
              "outlinewidth": 0,
              "ticks": ""
             }
            },
            "type": "scattercarpet"
           }
          ],
          "scattergeo": [
           {
            "marker": {
             "colorbar": {
              "outlinewidth": 0,
              "ticks": ""
             }
            },
            "type": "scattergeo"
           }
          ],
          "scattergl": [
           {
            "marker": {
             "colorbar": {
              "outlinewidth": 0,
              "ticks": ""
             }
            },
            "type": "scattergl"
           }
          ],
          "scattermapbox": [
           {
            "marker": {
             "colorbar": {
              "outlinewidth": 0,
              "ticks": ""
             }
            },
            "type": "scattermapbox"
           }
          ],
          "scatterpolar": [
           {
            "marker": {
             "colorbar": {
              "outlinewidth": 0,
              "ticks": ""
             }
            },
            "type": "scatterpolar"
           }
          ],
          "scatterpolargl": [
           {
            "marker": {
             "colorbar": {
              "outlinewidth": 0,
              "ticks": ""
             }
            },
            "type": "scatterpolargl"
           }
          ],
          "scatterternary": [
           {
            "marker": {
             "colorbar": {
              "outlinewidth": 0,
              "ticks": ""
             }
            },
            "type": "scatterternary"
           }
          ],
          "surface": [
           {
            "colorbar": {
             "outlinewidth": 0,
             "ticks": ""
            },
            "colorscale": [
             [
              0,
              "#0d0887"
             ],
             [
              0.1111111111111111,
              "#46039f"
             ],
             [
              0.2222222222222222,
              "#7201a8"
             ],
             [
              0.3333333333333333,
              "#9c179e"
             ],
             [
              0.4444444444444444,
              "#bd3786"
             ],
             [
              0.5555555555555556,
              "#d8576b"
             ],
             [
              0.6666666666666666,
              "#ed7953"
             ],
             [
              0.7777777777777778,
              "#fb9f3a"
             ],
             [
              0.8888888888888888,
              "#fdca26"
             ],
             [
              1,
              "#f0f921"
             ]
            ],
            "type": "surface"
           }
          ],
          "table": [
           {
            "cells": {
             "fill": {
              "color": "#EBF0F8"
             },
             "line": {
              "color": "white"
             }
            },
            "header": {
             "fill": {
              "color": "#C8D4E3"
             },
             "line": {
              "color": "white"
             }
            },
            "type": "table"
           }
          ]
         },
         "layout": {
          "annotationdefaults": {
           "arrowcolor": "#2a3f5f",
           "arrowhead": 0,
           "arrowwidth": 1
          },
          "colorscale": {
           "diverging": [
            [
             0,
             "#8e0152"
            ],
            [
             0.1,
             "#c51b7d"
            ],
            [
             0.2,
             "#de77ae"
            ],
            [
             0.3,
             "#f1b6da"
            ],
            [
             0.4,
             "#fde0ef"
            ],
            [
             0.5,
             "#f7f7f7"
            ],
            [
             0.6,
             "#e6f5d0"
            ],
            [
             0.7,
             "#b8e186"
            ],
            [
             0.8,
             "#7fbc41"
            ],
            [
             0.9,
             "#4d9221"
            ],
            [
             1,
             "#276419"
            ]
           ],
           "sequential": [
            [
             0,
             "#0d0887"
            ],
            [
             0.1111111111111111,
             "#46039f"
            ],
            [
             0.2222222222222222,
             "#7201a8"
            ],
            [
             0.3333333333333333,
             "#9c179e"
            ],
            [
             0.4444444444444444,
             "#bd3786"
            ],
            [
             0.5555555555555556,
             "#d8576b"
            ],
            [
             0.6666666666666666,
             "#ed7953"
            ],
            [
             0.7777777777777778,
             "#fb9f3a"
            ],
            [
             0.8888888888888888,
             "#fdca26"
            ],
            [
             1,
             "#f0f921"
            ]
           ],
           "sequentialminus": [
            [
             0,
             "#0d0887"
            ],
            [
             0.1111111111111111,
             "#46039f"
            ],
            [
             0.2222222222222222,
             "#7201a8"
            ],
            [
             0.3333333333333333,
             "#9c179e"
            ],
            [
             0.4444444444444444,
             "#bd3786"
            ],
            [
             0.5555555555555556,
             "#d8576b"
            ],
            [
             0.6666666666666666,
             "#ed7953"
            ],
            [
             0.7777777777777778,
             "#fb9f3a"
            ],
            [
             0.8888888888888888,
             "#fdca26"
            ],
            [
             1,
             "#f0f921"
            ]
           ]
          },
          "colorway": [
           "#636efa",
           "#EF553B",
           "#00cc96",
           "#ab63fa",
           "#FFA15A",
           "#19d3f3",
           "#FF6692",
           "#B6E880",
           "#FF97FF",
           "#FECB52"
          ],
          "font": {
           "color": "#2a3f5f"
          },
          "geo": {
           "bgcolor": "white",
           "lakecolor": "white",
           "landcolor": "#E5ECF6",
           "showlakes": true,
           "showland": true,
           "subunitcolor": "white"
          },
          "hoverlabel": {
           "align": "left"
          },
          "hovermode": "closest",
          "mapbox": {
           "style": "light"
          },
          "paper_bgcolor": "white",
          "plot_bgcolor": "#E5ECF6",
          "polar": {
           "angularaxis": {
            "gridcolor": "white",
            "linecolor": "white",
            "ticks": ""
           },
           "bgcolor": "#E5ECF6",
           "radialaxis": {
            "gridcolor": "white",
            "linecolor": "white",
            "ticks": ""
           }
          },
          "scene": {
           "xaxis": {
            "backgroundcolor": "#E5ECF6",
            "gridcolor": "white",
            "gridwidth": 2,
            "linecolor": "white",
            "showbackground": true,
            "ticks": "",
            "zerolinecolor": "white"
           },
           "yaxis": {
            "backgroundcolor": "#E5ECF6",
            "gridcolor": "white",
            "gridwidth": 2,
            "linecolor": "white",
            "showbackground": true,
            "ticks": "",
            "zerolinecolor": "white"
           },
           "zaxis": {
            "backgroundcolor": "#E5ECF6",
            "gridcolor": "white",
            "gridwidth": 2,
            "linecolor": "white",
            "showbackground": true,
            "ticks": "",
            "zerolinecolor": "white"
           }
          },
          "shapedefaults": {
           "line": {
            "color": "#2a3f5f"
           }
          },
          "ternary": {
           "aaxis": {
            "gridcolor": "white",
            "linecolor": "white",
            "ticks": ""
           },
           "baxis": {
            "gridcolor": "white",
            "linecolor": "white",
            "ticks": ""
           },
           "bgcolor": "#E5ECF6",
           "caxis": {
            "gridcolor": "white",
            "linecolor": "white",
            "ticks": ""
           }
          },
          "title": {
           "x": 0.05
          },
          "xaxis": {
           "automargin": true,
           "gridcolor": "white",
           "linecolor": "white",
           "ticks": "",
           "zerolinecolor": "white",
           "zerolinewidth": 2
          },
          "yaxis": {
           "automargin": true,
           "gridcolor": "white",
           "linecolor": "white",
           "ticks": "",
           "zerolinecolor": "white",
           "zerolinewidth": 2
          }
         }
        },
        "xaxis": {
         "anchor": "y",
         "domain": [
          0,
          0.98
         ],
         "title": {
          "text": "epochs"
         }
        },
        "yaxis": {
         "anchor": "x",
         "domain": [
          0,
          1
         ],
         "title": {
          "text": "behavioural differences"
         }
        }
       }
      },
      "text/html": [
       "<div>\n",
       "        \n",
       "        \n",
       "            <div id=\"b5843b48-cd0d-4845-b455-4c2c1a8e2b6a\" class=\"plotly-graph-div\" style=\"height:600px; width:100%;\"></div>\n",
       "            <script type=\"text/javascript\">\n",
       "                require([\"plotly\"], function(Plotly) {\n",
       "                    window.PLOTLYENV=window.PLOTLYENV || {};\n",
       "                    \n",
       "                if (document.getElementById(\"b5843b48-cd0d-4845-b455-4c2c1a8e2b6a\")) {\n",
       "                    Plotly.newPlot(\n",
       "                        'b5843b48-cd0d-4845-b455-4c2c1a8e2b6a',\n",
       "                        [{\"hoverlabel\": {\"namelength\": 0}, \"hovertemplate\": \"epochs=%{x}<br>behavioural differences=%{y}\", \"legendgroup\": \"\", \"line\": {\"color\": \"#636efa\", \"dash\": \"solid\"}, \"mode\": \"lines\", \"name\": \"\", \"showlegend\": false, \"type\": \"scatter\", \"x\": [1, 2, 3, 4, 5, 6, 7, 8, 9, 10, 11, 12, 13, 14, 15, 16, 17, 18, 19, 20, 21, 22, 23, 24, 25, 26, 27, 28, 29, 30, 31, 32, 33, 34, 35, 36, 37, 38, 39, 40, 41, 42, 43, 44, 45, 46, 47, 48, 49, 50, 51, 52, 53, 54, 55, 56, 57, 58, 59, 60, 61, 62, 63, 64, 65, 66, 67, 68, 69, 70, 71, 72, 73, 74, 75, 76, 77, 78, 79, 80, 81, 82, 83, 84, 85, 86, 87, 88, 89, 90, 91, 92, 93, 94, 95, 96, 97, 98, 99, 100, 101, 102, 103, 104, 105, 106, 107, 108, 109, 110, 111, 112, 113, 114, 115, 116, 117, 118, 119, 120, 121, 122, 123, 124, 125, 126, 127, 128, 129, 130, 131, 132, 133, 134, 135, 136, 137, 138, 139, 140, 141, 142, 143, 144, 145, 146, 147, 148, 149, 150, 151, 152, 153, 154, 155, 156, 157, 158, 159, 160, 161, 162, 163, 164, 165, 166, 167, 168, 169, 170, 171, 172, 173, 174, 175, 176, 177, 178, 179, 180, 181, 182, 183, 184, 185, 186, 187, 188, 189, 190, 191, 192, 193, 194, 195, 196, 197, 198, 199, 200], \"xaxis\": \"x\", \"y\": [0.0, 82.53078623392948, 48.12996830149777, 15.75058165730453, 42.096476902568185, 56.466383328900584, 66.11929613796866, 0.7695277327310679, 15.016852041781487, 24.141239793767465, 1.8679055330240706, 19.45528203711467, 0.6911116866706551, 7.861152331104337, 0.674447225838663, 2.3452488720393747, 3.52744086424815, 3.665694858735372, 5.783404701417579, 0.7527682048706577, 5.363502703553074, 0.45562683548961924, 2.295482061511802, 0.9106238141643656, 7.397611059448329, 7.782091478083062, 5.410818711005051, 3.3196787500561267, 4.461307627038589, 4.689629737904716, 4.073657479364547, 8.287069530185342, 0.8914199472213628, 5.6434657336706495, 14.55586818753977, 5.915800714540326, 0.5677810470624425, 6.430277157503469, 0.40582501567431883, 1.5064760426117842, 2.682860031723503, 0.7573666811105327, 3.33056033709517, 1.8645926263721186, 2.1753137048668045, 6.234554573630525, 1.0164586007185201, 24.342315057250346, 0.4434601402747374, 3.4546464039925056, 5.016122283771155, 1.4352664348838815, 2.864586685298075, 23.078640785022902, 38.02827061045308, 1.8768137389937745, 20.886870235400934, 1.0577086019692625, 5.30778314339469, 3.183888948589309, 0.8878784267920672, 1.2811361161070474, 0.6550816929114659, 3.7020088268993048, 1.0412223291265599, 1.9502544538896738, 41.233384924258544, 5.187869412106173, 6.145939565138553, 5.686654537641929, 42.76737704234497, 60.35237301865802, 33.09398363900436, 0.5923600854074367, 0.8999400798215971, 3.1931734211499334, 1.8113368536896421, 7.142342249389884, 12.004411631745997, 3.8927223210556283, 8.942470817551467, 16.799369336009594, 7.913044875722996, 1.5794014375541028, 1.1263604133136413, 1.9112486770455328, 8.431846628910002, 2.210536815869645, 2.3554738924076073, 3.3292604244046284, 1.6147314736123568, 15.935303006050761, 22.65130980066387, 4.896156299309869, 27.19973766411564, 4.655406510831994, 3.121648979981038, 3.3518881699835053, 10.051008200383354, 33.48332136651034, 80.88026239799159, 2.4724284924664977, 16.26670792949539, 19.65400996722222, 0.7425005257436039, 1.8786566577758537, 1.0662837192637769, 2.763046381614101, 5.8644447068478875, 9.581559161747705, 17.11475695481411, 0.6843277042409717, 8.597934813926578, 1.840829132431971, 0.8743293456049408, 16.169066244405677, 0.9114288580332333, 5.938870901755858, 1.2413088824468022, 2.830924564520266, 3.247401194160101, 5.78770697568031, 8.781147591804123, 4.557451036661357, 1.6413688831025233, 71.10108464576052, 1.9642944735758157, 15.722710592693272, 1.3438502083392672, 2.8892524698621416, 1.62288059184037, 2.4273511936961034, 10.631075798020367, 5.475240955421068, 3.8759357331796194, 8.321760051989203, 7.166595237539373, 17.3468911315525, 1.7600869018760537, 17.498824767759587, 29.58970347311793, 49.431262114175915, 10.116532747524591, 9.752031339466642, 47.48012918156714, 46.40612286117946, 1.0585426308794461, 45.62981601095396, 32.00851337824758, 30.90976513299694, 50.459412254226116, 25.234332544758193, 24.862343580273016, 25.011323838948925, 3.5123789944483983, 6.523141669384957, 14.137690140121498, 1.162068100495519, 2.908630041470432, 4.44415799026306, 2.2492261671723814, 4.718417059844009, 1.1847975724621036, 2.933726476630552, 40.61878993204052, 39.998877459909835, 0.6297699185061094, 1.5866229086412165, 1.1888524971946575, 3.743427237473128, 6.510944000189656, 0.7101057372395533, 25.325146232014024, 1.623472604929187, 9.542300412904343, 23.776389217059318, 2.6236217005930667, 1.0166433286596863, 9.95918571630674, 2.373189391561998, 2.9767609394008723, 3.1001803838688606, 15.130347463105933, 8.547958452793337, 25.584815218815564, 1.6551764516758392, 1.1109781214297383, 2.759675202657622, 2.6632849129618354, 2.4346779683629527, 3.4848286203595866, 13.194756490182536, 12.43434682211832, 14.965273987224315, 7.134281179876622, 4.780456840793772, 10.019314304148928, 2.755261750318411, 2.6135917103686492, 8.407298986231549], \"yaxis\": \"y\"}],\n",
       "                        {\"height\": 600, \"legend\": {\"tracegroupgap\": 0}, \"margin\": {\"t\": 60}, \"template\": {\"data\": {\"bar\": [{\"error_x\": {\"color\": \"#2a3f5f\"}, \"error_y\": {\"color\": \"#2a3f5f\"}, \"marker\": {\"line\": {\"color\": \"#E5ECF6\", \"width\": 0.5}}, \"type\": \"bar\"}], \"barpolar\": [{\"marker\": {\"line\": {\"color\": \"#E5ECF6\", \"width\": 0.5}}, \"type\": \"barpolar\"}], \"carpet\": [{\"aaxis\": {\"endlinecolor\": \"#2a3f5f\", \"gridcolor\": \"white\", \"linecolor\": \"white\", \"minorgridcolor\": \"white\", \"startlinecolor\": \"#2a3f5f\"}, \"baxis\": {\"endlinecolor\": \"#2a3f5f\", \"gridcolor\": \"white\", \"linecolor\": \"white\", \"minorgridcolor\": \"white\", \"startlinecolor\": \"#2a3f5f\"}, \"type\": \"carpet\"}], \"choropleth\": [{\"colorbar\": {\"outlinewidth\": 0, \"ticks\": \"\"}, \"type\": \"choropleth\"}], \"contour\": [{\"colorbar\": {\"outlinewidth\": 0, \"ticks\": \"\"}, \"colorscale\": [[0.0, \"#0d0887\"], [0.1111111111111111, \"#46039f\"], [0.2222222222222222, \"#7201a8\"], [0.3333333333333333, \"#9c179e\"], [0.4444444444444444, \"#bd3786\"], [0.5555555555555556, \"#d8576b\"], [0.6666666666666666, \"#ed7953\"], [0.7777777777777778, \"#fb9f3a\"], [0.8888888888888888, \"#fdca26\"], [1.0, \"#f0f921\"]], \"type\": \"contour\"}], \"contourcarpet\": [{\"colorbar\": {\"outlinewidth\": 0, \"ticks\": \"\"}, \"type\": \"contourcarpet\"}], \"heatmap\": [{\"colorbar\": {\"outlinewidth\": 0, \"ticks\": \"\"}, \"colorscale\": [[0.0, \"#0d0887\"], [0.1111111111111111, \"#46039f\"], [0.2222222222222222, \"#7201a8\"], [0.3333333333333333, \"#9c179e\"], [0.4444444444444444, \"#bd3786\"], [0.5555555555555556, \"#d8576b\"], [0.6666666666666666, \"#ed7953\"], [0.7777777777777778, \"#fb9f3a\"], [0.8888888888888888, \"#fdca26\"], [1.0, \"#f0f921\"]], \"type\": \"heatmap\"}], \"heatmapgl\": [{\"colorbar\": {\"outlinewidth\": 0, \"ticks\": \"\"}, \"colorscale\": [[0.0, \"#0d0887\"], [0.1111111111111111, \"#46039f\"], [0.2222222222222222, \"#7201a8\"], [0.3333333333333333, \"#9c179e\"], [0.4444444444444444, \"#bd3786\"], [0.5555555555555556, \"#d8576b\"], [0.6666666666666666, \"#ed7953\"], [0.7777777777777778, \"#fb9f3a\"], [0.8888888888888888, \"#fdca26\"], [1.0, \"#f0f921\"]], \"type\": \"heatmapgl\"}], \"histogram\": [{\"marker\": {\"colorbar\": {\"outlinewidth\": 0, \"ticks\": \"\"}}, \"type\": \"histogram\"}], \"histogram2d\": [{\"colorbar\": {\"outlinewidth\": 0, \"ticks\": \"\"}, \"colorscale\": [[0.0, \"#0d0887\"], [0.1111111111111111, \"#46039f\"], [0.2222222222222222, \"#7201a8\"], [0.3333333333333333, \"#9c179e\"], [0.4444444444444444, \"#bd3786\"], [0.5555555555555556, \"#d8576b\"], [0.6666666666666666, \"#ed7953\"], [0.7777777777777778, \"#fb9f3a\"], [0.8888888888888888, \"#fdca26\"], [1.0, \"#f0f921\"]], \"type\": \"histogram2d\"}], \"histogram2dcontour\": [{\"colorbar\": {\"outlinewidth\": 0, \"ticks\": \"\"}, \"colorscale\": [[0.0, \"#0d0887\"], [0.1111111111111111, \"#46039f\"], [0.2222222222222222, \"#7201a8\"], [0.3333333333333333, \"#9c179e\"], [0.4444444444444444, \"#bd3786\"], [0.5555555555555556, \"#d8576b\"], [0.6666666666666666, \"#ed7953\"], [0.7777777777777778, \"#fb9f3a\"], [0.8888888888888888, \"#fdca26\"], [1.0, \"#f0f921\"]], \"type\": \"histogram2dcontour\"}], \"mesh3d\": [{\"colorbar\": {\"outlinewidth\": 0, \"ticks\": \"\"}, \"type\": \"mesh3d\"}], \"parcoords\": [{\"line\": {\"colorbar\": {\"outlinewidth\": 0, \"ticks\": \"\"}}, \"type\": \"parcoords\"}], \"scatter\": [{\"marker\": {\"colorbar\": {\"outlinewidth\": 0, \"ticks\": \"\"}}, \"type\": \"scatter\"}], \"scatter3d\": [{\"line\": {\"colorbar\": {\"outlinewidth\": 0, \"ticks\": \"\"}}, \"marker\": {\"colorbar\": {\"outlinewidth\": 0, \"ticks\": \"\"}}, \"type\": \"scatter3d\"}], \"scattercarpet\": [{\"marker\": {\"colorbar\": {\"outlinewidth\": 0, \"ticks\": \"\"}}, \"type\": \"scattercarpet\"}], \"scattergeo\": [{\"marker\": {\"colorbar\": {\"outlinewidth\": 0, \"ticks\": \"\"}}, \"type\": \"scattergeo\"}], \"scattergl\": [{\"marker\": {\"colorbar\": {\"outlinewidth\": 0, \"ticks\": \"\"}}, \"type\": \"scattergl\"}], \"scattermapbox\": [{\"marker\": {\"colorbar\": {\"outlinewidth\": 0, \"ticks\": \"\"}}, \"type\": \"scattermapbox\"}], \"scatterpolar\": [{\"marker\": {\"colorbar\": {\"outlinewidth\": 0, \"ticks\": \"\"}}, \"type\": \"scatterpolar\"}], \"scatterpolargl\": [{\"marker\": {\"colorbar\": {\"outlinewidth\": 0, \"ticks\": \"\"}}, \"type\": \"scatterpolargl\"}], \"scatterternary\": [{\"marker\": {\"colorbar\": {\"outlinewidth\": 0, \"ticks\": \"\"}}, \"type\": \"scatterternary\"}], \"surface\": [{\"colorbar\": {\"outlinewidth\": 0, \"ticks\": \"\"}, \"colorscale\": [[0.0, \"#0d0887\"], [0.1111111111111111, \"#46039f\"], [0.2222222222222222, \"#7201a8\"], [0.3333333333333333, \"#9c179e\"], [0.4444444444444444, \"#bd3786\"], [0.5555555555555556, \"#d8576b\"], [0.6666666666666666, \"#ed7953\"], [0.7777777777777778, \"#fb9f3a\"], [0.8888888888888888, \"#fdca26\"], [1.0, \"#f0f921\"]], \"type\": \"surface\"}], \"table\": [{\"cells\": {\"fill\": {\"color\": \"#EBF0F8\"}, \"line\": {\"color\": \"white\"}}, \"header\": {\"fill\": {\"color\": \"#C8D4E3\"}, \"line\": {\"color\": \"white\"}}, \"type\": \"table\"}]}, \"layout\": {\"annotationdefaults\": {\"arrowcolor\": \"#2a3f5f\", \"arrowhead\": 0, \"arrowwidth\": 1}, \"colorscale\": {\"diverging\": [[0, \"#8e0152\"], [0.1, \"#c51b7d\"], [0.2, \"#de77ae\"], [0.3, \"#f1b6da\"], [0.4, \"#fde0ef\"], [0.5, \"#f7f7f7\"], [0.6, \"#e6f5d0\"], [0.7, \"#b8e186\"], [0.8, \"#7fbc41\"], [0.9, \"#4d9221\"], [1, \"#276419\"]], \"sequential\": [[0.0, \"#0d0887\"], [0.1111111111111111, \"#46039f\"], [0.2222222222222222, \"#7201a8\"], [0.3333333333333333, \"#9c179e\"], [0.4444444444444444, \"#bd3786\"], [0.5555555555555556, \"#d8576b\"], [0.6666666666666666, \"#ed7953\"], [0.7777777777777778, \"#fb9f3a\"], [0.8888888888888888, \"#fdca26\"], [1.0, \"#f0f921\"]], \"sequentialminus\": [[0.0, \"#0d0887\"], [0.1111111111111111, \"#46039f\"], [0.2222222222222222, \"#7201a8\"], [0.3333333333333333, \"#9c179e\"], [0.4444444444444444, \"#bd3786\"], [0.5555555555555556, \"#d8576b\"], [0.6666666666666666, \"#ed7953\"], [0.7777777777777778, \"#fb9f3a\"], [0.8888888888888888, \"#fdca26\"], [1.0, \"#f0f921\"]]}, \"colorway\": [\"#636efa\", \"#EF553B\", \"#00cc96\", \"#ab63fa\", \"#FFA15A\", \"#19d3f3\", \"#FF6692\", \"#B6E880\", \"#FF97FF\", \"#FECB52\"], \"font\": {\"color\": \"#2a3f5f\"}, \"geo\": {\"bgcolor\": \"white\", \"lakecolor\": \"white\", \"landcolor\": \"#E5ECF6\", \"showlakes\": true, \"showland\": true, \"subunitcolor\": \"white\"}, \"hoverlabel\": {\"align\": \"left\"}, \"hovermode\": \"closest\", \"mapbox\": {\"style\": \"light\"}, \"paper_bgcolor\": \"white\", \"plot_bgcolor\": \"#E5ECF6\", \"polar\": {\"angularaxis\": {\"gridcolor\": \"white\", \"linecolor\": \"white\", \"ticks\": \"\"}, \"bgcolor\": \"#E5ECF6\", \"radialaxis\": {\"gridcolor\": \"white\", \"linecolor\": \"white\", \"ticks\": \"\"}}, \"scene\": {\"xaxis\": {\"backgroundcolor\": \"#E5ECF6\", \"gridcolor\": \"white\", \"gridwidth\": 2, \"linecolor\": \"white\", \"showbackground\": true, \"ticks\": \"\", \"zerolinecolor\": \"white\"}, \"yaxis\": {\"backgroundcolor\": \"#E5ECF6\", \"gridcolor\": \"white\", \"gridwidth\": 2, \"linecolor\": \"white\", \"showbackground\": true, \"ticks\": \"\", \"zerolinecolor\": \"white\"}, \"zaxis\": {\"backgroundcolor\": \"#E5ECF6\", \"gridcolor\": \"white\", \"gridwidth\": 2, \"linecolor\": \"white\", \"showbackground\": true, \"ticks\": \"\", \"zerolinecolor\": \"white\"}}, \"shapedefaults\": {\"line\": {\"color\": \"#2a3f5f\"}}, \"ternary\": {\"aaxis\": {\"gridcolor\": \"white\", \"linecolor\": \"white\", \"ticks\": \"\"}, \"baxis\": {\"gridcolor\": \"white\", \"linecolor\": \"white\", \"ticks\": \"\"}, \"bgcolor\": \"#E5ECF6\", \"caxis\": {\"gridcolor\": \"white\", \"linecolor\": \"white\", \"ticks\": \"\"}}, \"title\": {\"x\": 0.05}, \"xaxis\": {\"automargin\": true, \"gridcolor\": \"white\", \"linecolor\": \"white\", \"ticks\": \"\", \"zerolinecolor\": \"white\", \"zerolinewidth\": 2}, \"yaxis\": {\"automargin\": true, \"gridcolor\": \"white\", \"linecolor\": \"white\", \"ticks\": \"\", \"zerolinecolor\": \"white\", \"zerolinewidth\": 2}}}, \"xaxis\": {\"anchor\": \"y\", \"domain\": [0.0, 0.98], \"title\": {\"text\": \"epochs\"}}, \"yaxis\": {\"anchor\": \"x\", \"domain\": [0.0, 1.0], \"title\": {\"text\": \"behavioural differences\"}}},\n",
       "                        {\"responsive\": true}\n",
       "                    ).then(function(){\n",
       "                            \n",
       "var gd = document.getElementById('b5843b48-cd0d-4845-b455-4c2c1a8e2b6a');\n",
       "var x = new MutationObserver(function (mutations, observer) {{\n",
       "        var display = window.getComputedStyle(gd).display;\n",
       "        if (!display || display === 'none') {{\n",
       "            console.log([gd, 'removed!']);\n",
       "            Plotly.purge(gd);\n",
       "            observer.disconnect();\n",
       "        }}\n",
       "}});\n",
       "\n",
       "// Listen for the removal of the full notebook cells\n",
       "var notebookContainer = gd.closest('#notebook-container');\n",
       "if (notebookContainer) {{\n",
       "    x.observe(notebookContainer, {childList: true});\n",
       "}}\n",
       "\n",
       "// Listen for the clearing of the current output cell\n",
       "var outputEl = gd.closest('.output');\n",
       "if (outputEl) {{\n",
       "    x.observe(outputEl, {childList: true});\n",
       "}}\n",
       "\n",
       "                        })\n",
       "                };\n",
       "                });\n",
       "            </script>\n",
       "        </div>"
      ]
     },
     "metadata": {},
     "output_type": "display_data"
    }
   ],
   "source": [
    "plot_behavioural_differences(experiment_name, get_random_input_func, mode=\"last_best\")"
   ]
  },
  {
   "cell_type": "code",
   "execution_count": null,
   "metadata": {},
   "outputs": [],
   "source": [
    "plot_params_similarity(experiment_name, only_best=False, iterations=1000)"
   ]
  },
  {
   "cell_type": "code",
   "execution_count": 33,
   "metadata": {},
   "outputs": [
    {
     "name": "stdout",
     "output_type": "stream",
     "text": [
      "[t-SNE] Computing 121 nearest neighbors...\n",
      "[t-SNE] Indexed 200 samples in 0.000s...\n",
      "[t-SNE] Computed neighbors for 200 samples in 0.023s...\n",
      "[t-SNE] Computed conditional probabilities for sample 200 / 200\n",
      "[t-SNE] Mean sigma: 5.497232\n",
      "[t-SNE] KL divergence after 250 iterations with early exaggeration: 48.965408\n",
      "[t-SNE] KL divergence after 750 iterations: 0.046903\n"
     ]
    },
    {
     "data": {
      "application/vnd.plotly.v1+json": {
       "config": {
        "plotlyServerURL": "https://plot.ly"
       },
       "data": [
        {
         "hoverlabel": {
          "namelength": 0
         },
         "hovertemplate": "xs=%{x}<br>ys=%{y}<br>zs=%{marker.color}",
         "legendgroup": "",
         "marker": {
          "color": [
           1,
           2,
           3,
           4,
           5,
           6,
           7,
           8,
           9,
           10,
           11,
           12,
           13,
           14,
           15,
           16,
           17,
           18,
           19,
           20,
           21,
           22,
           23,
           24,
           25,
           26,
           27,
           28,
           29,
           30,
           31,
           32,
           33,
           34,
           35,
           36,
           37,
           38,
           39,
           40,
           41,
           42,
           43,
           44,
           45,
           46,
           47,
           48,
           49,
           50,
           51,
           52,
           53,
           54,
           55,
           56,
           57,
           58,
           59,
           60,
           61,
           62,
           63,
           64,
           65,
           66,
           67,
           68,
           69,
           70,
           71,
           72,
           73,
           74,
           75,
           76,
           77,
           78,
           79,
           80,
           81,
           82,
           83,
           84,
           85,
           86,
           87,
           88,
           89,
           90,
           91,
           92,
           93,
           94,
           95,
           96,
           97,
           98,
           99,
           100,
           101,
           102,
           103,
           104,
           105,
           106,
           107,
           108,
           109,
           110,
           111,
           112,
           113,
           114,
           115,
           116,
           117,
           118,
           119,
           120,
           121,
           122,
           123,
           124,
           125,
           126,
           127,
           128,
           129,
           130,
           131,
           132,
           133,
           134,
           135,
           136,
           137,
           138,
           139,
           140,
           141,
           142,
           143,
           144,
           145,
           146,
           147,
           148,
           149,
           150,
           151,
           152,
           153,
           154,
           155,
           156,
           157,
           158,
           159,
           160,
           161,
           162,
           163,
           164,
           165,
           166,
           167,
           168,
           169,
           170,
           171,
           172,
           173,
           174,
           175,
           176,
           177,
           178,
           179,
           180,
           181,
           182,
           183,
           184,
           185,
           186,
           187,
           188,
           189,
           190,
           191,
           192,
           193,
           194,
           195,
           196,
           197,
           198,
           199,
           200
          ],
          "coloraxis": "coloraxis",
          "symbol": "circle"
         },
         "mode": "markers",
         "name": "",
         "showlegend": false,
         "type": "scatter",
         "x": [
          9.984609603881836,
          9.938262939453125,
          9.142881393432617,
          9.249139785766602,
          8.869467735290527,
          9.254053115844727,
          8.747903823852539,
          8.742069244384766,
          8.690652847290039,
          8.7344388961792,
          8.734426498413086,
          8.61443042755127,
          8.615154266357422,
          8.12018871307373,
          8.153196334838867,
          8.128243446350098,
          8.157219886779785,
          8.150266647338867,
          8.09220027923584,
          8.026512145996094,
          7.819895267486572,
          7.825577735900879,
          7.816806316375732,
          7.80011510848999,
          7.714167594909668,
          7.812777042388916,
          8.232404708862305,
          7.818708896636963,
          7.786243915557861,
          7.983058452606201,
          7.724328994750977,
          7.033834934234619,
          7.030572891235352,
          6.673373222351074,
          6.424376010894775,
          6.375473976135254,
          6.353632926940918,
          6.426614761352539,
          6.4330925941467285,
          6.448796272277832,
          6.436367034912109,
          6.419487953186035,
          6.405223369598389,
          6.4633049964904785,
          6.3959479331970215,
          6.501072406768799,
          6.509286880493164,
          5.777273654937744,
          5.777091979980469,
          5.782383441925049,
          5.7661967277526855,
          5.766946315765381,
          5.761565685272217,
          5.5406928062438965,
          3.8270394802093506,
          3.8249714374542236,
          3.34600567817688,
          3.340332508087158,
          3.2513606548309326,
          3.2560338973999023,
          3.252669334411621,
          3.23769474029541,
          3.2353248596191406,
          3.2301061153411865,
          3.233036518096924,
          3.232520818710327,
          2.355428457260132,
          2.350752830505371,
          2.3022241592407227,
          2.5006144046783447,
          1.3526145219802856,
          1.1175388097763062,
          1.7873207330703735,
          1.7184606790542603,
          1.690557599067688,
          1.7497247457504272,
          1.6582287549972534,
          1.7726538181304932,
          2.1274242401123047,
          1.5877214670181274,
          2.128171920776367,
          1.5650662183761597,
          1.6657023429870605,
          1.6315137147903442,
          1.6106077432632446,
          1.6946532726287842,
          2.1125328540802,
          2.1305184364318848,
          2.1112582683563232,
          2.083376407623291,
          2.102182149887085,
          1.3345012664794922,
          0.8660314679145813,
          0.7960852980613708,
          0.5329063534736633,
          0.5384199023246765,
          0.5365208387374878,
          0.5219447016716003,
          -0.1765756607055664,
          -0.21592645347118378,
          -1.2413086891174316,
          -1.239072561264038,
          -1.840575098991394,
          -1.8411051034927368,
          -1.8345319032669067,
          -1.8243671655654907,
          -1.8317954540252686,
          -1.8059570789337158,
          -1.7970384359359741,
          -1.8728502988815308,
          -2.6263506412506104,
          -2.623140573501587,
          -2.6827797889709473,
          -2.692816972732544,
          -2.713660717010498,
          -2.4449915885925293,
          -2.390610933303833,
          -2.563272714614868,
          -2.347662925720215,
          -2.6420724391937256,
          -2.3182425498962402,
          -2.352896213531494,
          -2.5256264209747314,
          -2.539914846420288,
          -2.539665699005127,
          -3.4967308044433594,
          -3.5087549686431885,
          -3.890218496322632,
          -3.9717624187469482,
          -4.003633499145508,
          -3.8055570125579834,
          -3.9155168533325195,
          -4.049160003662109,
          -3.917982816696167,
          -3.906674385070801,
          -4.027188777923584,
          -4.108236312866211,
          -3.9876410961151123,
          -3.999497413635254,
          -4.095954895019531,
          -3.672348976135254,
          -4.472177505493164,
          -4.511869430541992,
          -4.486972808837891,
          -5.853466033935547,
          -5.72687292098999,
          -5.722876071929932,
          -5.837531566619873,
          -5.700104236602783,
          -5.840009689331055,
          -7.181652545928955,
          -7.422404766082764,
          -7.293310165405273,
          -7.422845840454102,
          -7.37998104095459,
          -7.353975296020508,
          -7.499456882476807,
          -7.504541397094727,
          -7.501350402832031,
          -7.317535877227783,
          -7.312668800354004,
          -7.529460906982422,
          -7.545228958129883,
          -7.545517444610596,
          -8.24523639678955,
          -9.064213752746582,
          -9.061704635620117,
          -9.071361541748047,
          -9.073953628540039,
          -9.06611156463623,
          -9.086930274963379,
          -9.08623218536377,
          -10.083198547363281,
          -10.081927299499512,
          -10.091649055480957,
          -10.281625747680664,
          -10.284348487854004,
          -10.290304183959961,
          -10.3248291015625,
          -10.330309867858887,
          -10.287367820739746,
          -10.323371887207031,
          -10.541738510131836,
          -10.54374885559082,
          -11.273634910583496,
          -11.336029052734375,
          -11.311104774475098,
          -11.386637687683105,
          -11.38791561126709,
          -11.412019729614258,
          -11.171398162841797,
          -11.492158889770508,
          -11.089570045471191,
          -11.489797592163086,
          -11.07097339630127,
          -11.4761962890625,
          -11.138675689697266,
          -11.134639739990234,
          -11.157008171081543,
          -11.108285903930664
         ],
         "xaxis": "x",
         "y": [
          -14.64876937866211,
          -14.645332336425781,
          -14.736175537109375,
          -14.816011428833008,
          -14.583148956298828,
          -14.992230415344238,
          -14.508536338806152,
          -14.510516166687012,
          -13.89284896850586,
          -13.991037368774414,
          -13.988364219665527,
          -13.54750919342041,
          -13.547435760498047,
          -13.443916320800781,
          -13.461517333984375,
          -13.560152053833008,
          -13.327588081359863,
          -13.528746604919434,
          -13.295032501220703,
          -13.300821304321289,
          -13.853069305419922,
          -13.873238563537598,
          -13.900834083557129,
          -13.902761459350586,
          -13.763894081115723,
          -13.905056953430176,
          -13.216479301452637,
          -13.986082077026367,
          -13.921367645263672,
          -13.235397338867188,
          -13.833038330078125,
          -12.657052040100098,
          -12.652918815612793,
          -12.842467308044434,
          -11.815041542053223,
          -11.679121017456055,
          -11.658892631530762,
          -11.374456405639648,
          -11.368303298950195,
          -11.368372917175293,
          -11.354738235473633,
          -11.36069393157959,
          -11.351607322692871,
          -11.356439590454102,
          -11.342222213745117,
          -11.362174034118652,
          -11.3507661819458,
          -10.621743202209473,
          -10.619908332824707,
          -10.629656791687012,
          -10.604545593261719,
          -10.60777473449707,
          -10.599540710449219,
          -10.270734786987305,
          -7.888567924499512,
          -7.886368751525879,
          -7.237312316894531,
          -7.227053642272949,
          -7.111094951629639,
          -7.120687961578369,
          -7.116089820861816,
          -7.095514297485352,
          -7.090745449066162,
          -7.078434467315674,
          -7.083652496337891,
          -7.078939914703369,
          -6.048811435699463,
          -6.048303127288818,
          -5.875646591186523,
          -5.810754776000977,
          -6.257726669311523,
          -6.385775566101074,
          -5.550826549530029,
          -5.543337345123291,
          -5.508212566375732,
          -5.607367992401123,
          -5.478519439697266,
          -5.653692245483398,
          -5.27849006652832,
          -5.343319416046143,
          -5.219844341278076,
          -5.3309125900268555,
          -5.052867412567139,
          -5.084405899047852,
          -5.102774620056152,
          -5.030951023101807,
          -5.099460601806641,
          -5.101525783538818,
          -5.053300857543945,
          -5.013492107391357,
          -5.016944885253906,
          -4.188636779785156,
          -5.245626449584961,
          -5.215765953063965,
          -3.1078879833221436,
          -3.115823268890381,
          -3.1147499084472656,
          -3.0921242237091064,
          -2.0932271480560303,
          -2.0317649841308594,
          -0.616338312625885,
          -0.6107964515686035,
          0.08414681255817413,
          0.4042019248008728,
          0.40127691626548767,
          0.4171573221683502,
          0.39166533946990967,
          0.4316052496433258,
          0.4270782172679901,
          0.404977411031723,
          0.8553608059883118,
          0.822999119758606,
          0.7949779629707336,
          0.7672277688980103,
          0.7623847126960754,
          1.0715893507003784,
          1.1301469802856445,
          1.0189473628997803,
          1.1460998058319092,
          0.9640459418296814,
          1.1896977424621582,
          1.2325416803359985,
          1.559795618057251,
          1.5613027811050415,
          1.5710574388504028,
          2.313138723373413,
          2.2945542335510254,
          2.4536960124969482,
          2.3291893005371094,
          2.3129725456237793,
          2.481646776199341,
          2.6804845333099365,
          2.286726474761963,
          2.6907994747161865,
          2.696439504623413,
          2.253143548965454,
          2.272157907485962,
          2.7532525062561035,
          2.7599070072174072,
          2.236091136932373,
          3.327369451522827,
          2.8469717502593994,
          2.848306655883789,
          2.861016035079956,
          3.895953416824341,
          4.2331037521362305,
          4.235637664794922,
          3.853558301925659,
          4.2397685050964355,
          3.8462986946105957,
          4.8541035652160645,
          5.086020469665527,
          4.798321723937988,
          5.08393669128418,
          5.122623920440674,
          5.134284019470215,
          5.1026153564453125,
          5.101570129394531,
          5.10189151763916,
          5.148488998413086,
          5.158604621887207,
          5.093799114227295,
          5.095389366149902,
          5.097377300262451,
          5.510488986968994,
          5.895792484283447,
          5.894604206085205,
          5.900201797485352,
          5.902176380157471,
          5.8968987464904785,
          5.907633304595947,
          5.906268119812012,
          6.3614983558654785,
          6.35014009475708,
          6.36688756942749,
          6.327034950256348,
          6.321821212768555,
          6.31630802154541,
          6.352252006530762,
          6.3541460037231445,
          6.32785701751709,
          6.337644100189209,
          7.073171615600586,
          7.0977396965026855,
          7.485630989074707,
          7.465878009796143,
          7.443668842315674,
          7.450725555419922,
          7.435239791870117,
          7.420567989349365,
          7.600760459899902,
          7.41400146484375,
          7.677865982055664,
          7.380150318145752,
          7.697184085845947,
          7.362109184265137,
          7.94317102432251,
          7.94570255279541,
          7.965921878814697,
          7.953127861022949
         ],
         "yaxis": "y"
        }
       ],
       "layout": {
        "coloraxis": {
         "colorbar": {
          "title": {
           "text": "zs"
          }
         },
         "colorscale": [
          [
           0,
           "#0d0887"
          ],
          [
           0.1111111111111111,
           "#46039f"
          ],
          [
           0.2222222222222222,
           "#7201a8"
          ],
          [
           0.3333333333333333,
           "#9c179e"
          ],
          [
           0.4444444444444444,
           "#bd3786"
          ],
          [
           0.5555555555555556,
           "#d8576b"
          ],
          [
           0.6666666666666666,
           "#ed7953"
          ],
          [
           0.7777777777777778,
           "#fb9f3a"
          ],
          [
           0.8888888888888888,
           "#fdca26"
          ],
          [
           1,
           "#f0f921"
          ]
         ]
        },
        "height": 600,
        "legend": {
         "tracegroupgap": 0
        },
        "margin": {
         "t": 60
        },
        "template": {
         "data": {
          "bar": [
           {
            "error_x": {
             "color": "#2a3f5f"
            },
            "error_y": {
             "color": "#2a3f5f"
            },
            "marker": {
             "line": {
              "color": "#E5ECF6",
              "width": 0.5
             }
            },
            "type": "bar"
           }
          ],
          "barpolar": [
           {
            "marker": {
             "line": {
              "color": "#E5ECF6",
              "width": 0.5
             }
            },
            "type": "barpolar"
           }
          ],
          "carpet": [
           {
            "aaxis": {
             "endlinecolor": "#2a3f5f",
             "gridcolor": "white",
             "linecolor": "white",
             "minorgridcolor": "white",
             "startlinecolor": "#2a3f5f"
            },
            "baxis": {
             "endlinecolor": "#2a3f5f",
             "gridcolor": "white",
             "linecolor": "white",
             "minorgridcolor": "white",
             "startlinecolor": "#2a3f5f"
            },
            "type": "carpet"
           }
          ],
          "choropleth": [
           {
            "colorbar": {
             "outlinewidth": 0,
             "ticks": ""
            },
            "type": "choropleth"
           }
          ],
          "contour": [
           {
            "colorbar": {
             "outlinewidth": 0,
             "ticks": ""
            },
            "colorscale": [
             [
              0,
              "#0d0887"
             ],
             [
              0.1111111111111111,
              "#46039f"
             ],
             [
              0.2222222222222222,
              "#7201a8"
             ],
             [
              0.3333333333333333,
              "#9c179e"
             ],
             [
              0.4444444444444444,
              "#bd3786"
             ],
             [
              0.5555555555555556,
              "#d8576b"
             ],
             [
              0.6666666666666666,
              "#ed7953"
             ],
             [
              0.7777777777777778,
              "#fb9f3a"
             ],
             [
              0.8888888888888888,
              "#fdca26"
             ],
             [
              1,
              "#f0f921"
             ]
            ],
            "type": "contour"
           }
          ],
          "contourcarpet": [
           {
            "colorbar": {
             "outlinewidth": 0,
             "ticks": ""
            },
            "type": "contourcarpet"
           }
          ],
          "heatmap": [
           {
            "colorbar": {
             "outlinewidth": 0,
             "ticks": ""
            },
            "colorscale": [
             [
              0,
              "#0d0887"
             ],
             [
              0.1111111111111111,
              "#46039f"
             ],
             [
              0.2222222222222222,
              "#7201a8"
             ],
             [
              0.3333333333333333,
              "#9c179e"
             ],
             [
              0.4444444444444444,
              "#bd3786"
             ],
             [
              0.5555555555555556,
              "#d8576b"
             ],
             [
              0.6666666666666666,
              "#ed7953"
             ],
             [
              0.7777777777777778,
              "#fb9f3a"
             ],
             [
              0.8888888888888888,
              "#fdca26"
             ],
             [
              1,
              "#f0f921"
             ]
            ],
            "type": "heatmap"
           }
          ],
          "heatmapgl": [
           {
            "colorbar": {
             "outlinewidth": 0,
             "ticks": ""
            },
            "colorscale": [
             [
              0,
              "#0d0887"
             ],
             [
              0.1111111111111111,
              "#46039f"
             ],
             [
              0.2222222222222222,
              "#7201a8"
             ],
             [
              0.3333333333333333,
              "#9c179e"
             ],
             [
              0.4444444444444444,
              "#bd3786"
             ],
             [
              0.5555555555555556,
              "#d8576b"
             ],
             [
              0.6666666666666666,
              "#ed7953"
             ],
             [
              0.7777777777777778,
              "#fb9f3a"
             ],
             [
              0.8888888888888888,
              "#fdca26"
             ],
             [
              1,
              "#f0f921"
             ]
            ],
            "type": "heatmapgl"
           }
          ],
          "histogram": [
           {
            "marker": {
             "colorbar": {
              "outlinewidth": 0,
              "ticks": ""
             }
            },
            "type": "histogram"
           }
          ],
          "histogram2d": [
           {
            "colorbar": {
             "outlinewidth": 0,
             "ticks": ""
            },
            "colorscale": [
             [
              0,
              "#0d0887"
             ],
             [
              0.1111111111111111,
              "#46039f"
             ],
             [
              0.2222222222222222,
              "#7201a8"
             ],
             [
              0.3333333333333333,
              "#9c179e"
             ],
             [
              0.4444444444444444,
              "#bd3786"
             ],
             [
              0.5555555555555556,
              "#d8576b"
             ],
             [
              0.6666666666666666,
              "#ed7953"
             ],
             [
              0.7777777777777778,
              "#fb9f3a"
             ],
             [
              0.8888888888888888,
              "#fdca26"
             ],
             [
              1,
              "#f0f921"
             ]
            ],
            "type": "histogram2d"
           }
          ],
          "histogram2dcontour": [
           {
            "colorbar": {
             "outlinewidth": 0,
             "ticks": ""
            },
            "colorscale": [
             [
              0,
              "#0d0887"
             ],
             [
              0.1111111111111111,
              "#46039f"
             ],
             [
              0.2222222222222222,
              "#7201a8"
             ],
             [
              0.3333333333333333,
              "#9c179e"
             ],
             [
              0.4444444444444444,
              "#bd3786"
             ],
             [
              0.5555555555555556,
              "#d8576b"
             ],
             [
              0.6666666666666666,
              "#ed7953"
             ],
             [
              0.7777777777777778,
              "#fb9f3a"
             ],
             [
              0.8888888888888888,
              "#fdca26"
             ],
             [
              1,
              "#f0f921"
             ]
            ],
            "type": "histogram2dcontour"
           }
          ],
          "mesh3d": [
           {
            "colorbar": {
             "outlinewidth": 0,
             "ticks": ""
            },
            "type": "mesh3d"
           }
          ],
          "parcoords": [
           {
            "line": {
             "colorbar": {
              "outlinewidth": 0,
              "ticks": ""
             }
            },
            "type": "parcoords"
           }
          ],
          "scatter": [
           {
            "marker": {
             "colorbar": {
              "outlinewidth": 0,
              "ticks": ""
             }
            },
            "type": "scatter"
           }
          ],
          "scatter3d": [
           {
            "line": {
             "colorbar": {
              "outlinewidth": 0,
              "ticks": ""
             }
            },
            "marker": {
             "colorbar": {
              "outlinewidth": 0,
              "ticks": ""
             }
            },
            "type": "scatter3d"
           }
          ],
          "scattercarpet": [
           {
            "marker": {
             "colorbar": {
              "outlinewidth": 0,
              "ticks": ""
             }
            },
            "type": "scattercarpet"
           }
          ],
          "scattergeo": [
           {
            "marker": {
             "colorbar": {
              "outlinewidth": 0,
              "ticks": ""
             }
            },
            "type": "scattergeo"
           }
          ],
          "scattergl": [
           {
            "marker": {
             "colorbar": {
              "outlinewidth": 0,
              "ticks": ""
             }
            },
            "type": "scattergl"
           }
          ],
          "scattermapbox": [
           {
            "marker": {
             "colorbar": {
              "outlinewidth": 0,
              "ticks": ""
             }
            },
            "type": "scattermapbox"
           }
          ],
          "scatterpolar": [
           {
            "marker": {
             "colorbar": {
              "outlinewidth": 0,
              "ticks": ""
             }
            },
            "type": "scatterpolar"
           }
          ],
          "scatterpolargl": [
           {
            "marker": {
             "colorbar": {
              "outlinewidth": 0,
              "ticks": ""
             }
            },
            "type": "scatterpolargl"
           }
          ],
          "scatterternary": [
           {
            "marker": {
             "colorbar": {
              "outlinewidth": 0,
              "ticks": ""
             }
            },
            "type": "scatterternary"
           }
          ],
          "surface": [
           {
            "colorbar": {
             "outlinewidth": 0,
             "ticks": ""
            },
            "colorscale": [
             [
              0,
              "#0d0887"
             ],
             [
              0.1111111111111111,
              "#46039f"
             ],
             [
              0.2222222222222222,
              "#7201a8"
             ],
             [
              0.3333333333333333,
              "#9c179e"
             ],
             [
              0.4444444444444444,
              "#bd3786"
             ],
             [
              0.5555555555555556,
              "#d8576b"
             ],
             [
              0.6666666666666666,
              "#ed7953"
             ],
             [
              0.7777777777777778,
              "#fb9f3a"
             ],
             [
              0.8888888888888888,
              "#fdca26"
             ],
             [
              1,
              "#f0f921"
             ]
            ],
            "type": "surface"
           }
          ],
          "table": [
           {
            "cells": {
             "fill": {
              "color": "#EBF0F8"
             },
             "line": {
              "color": "white"
             }
            },
            "header": {
             "fill": {
              "color": "#C8D4E3"
             },
             "line": {
              "color": "white"
             }
            },
            "type": "table"
           }
          ]
         },
         "layout": {
          "annotationdefaults": {
           "arrowcolor": "#2a3f5f",
           "arrowhead": 0,
           "arrowwidth": 1
          },
          "colorscale": {
           "diverging": [
            [
             0,
             "#8e0152"
            ],
            [
             0.1,
             "#c51b7d"
            ],
            [
             0.2,
             "#de77ae"
            ],
            [
             0.3,
             "#f1b6da"
            ],
            [
             0.4,
             "#fde0ef"
            ],
            [
             0.5,
             "#f7f7f7"
            ],
            [
             0.6,
             "#e6f5d0"
            ],
            [
             0.7,
             "#b8e186"
            ],
            [
             0.8,
             "#7fbc41"
            ],
            [
             0.9,
             "#4d9221"
            ],
            [
             1,
             "#276419"
            ]
           ],
           "sequential": [
            [
             0,
             "#0d0887"
            ],
            [
             0.1111111111111111,
             "#46039f"
            ],
            [
             0.2222222222222222,
             "#7201a8"
            ],
            [
             0.3333333333333333,
             "#9c179e"
            ],
            [
             0.4444444444444444,
             "#bd3786"
            ],
            [
             0.5555555555555556,
             "#d8576b"
            ],
            [
             0.6666666666666666,
             "#ed7953"
            ],
            [
             0.7777777777777778,
             "#fb9f3a"
            ],
            [
             0.8888888888888888,
             "#fdca26"
            ],
            [
             1,
             "#f0f921"
            ]
           ],
           "sequentialminus": [
            [
             0,
             "#0d0887"
            ],
            [
             0.1111111111111111,
             "#46039f"
            ],
            [
             0.2222222222222222,
             "#7201a8"
            ],
            [
             0.3333333333333333,
             "#9c179e"
            ],
            [
             0.4444444444444444,
             "#bd3786"
            ],
            [
             0.5555555555555556,
             "#d8576b"
            ],
            [
             0.6666666666666666,
             "#ed7953"
            ],
            [
             0.7777777777777778,
             "#fb9f3a"
            ],
            [
             0.8888888888888888,
             "#fdca26"
            ],
            [
             1,
             "#f0f921"
            ]
           ]
          },
          "colorway": [
           "#636efa",
           "#EF553B",
           "#00cc96",
           "#ab63fa",
           "#FFA15A",
           "#19d3f3",
           "#FF6692",
           "#B6E880",
           "#FF97FF",
           "#FECB52"
          ],
          "font": {
           "color": "#2a3f5f"
          },
          "geo": {
           "bgcolor": "white",
           "lakecolor": "white",
           "landcolor": "#E5ECF6",
           "showlakes": true,
           "showland": true,
           "subunitcolor": "white"
          },
          "hoverlabel": {
           "align": "left"
          },
          "hovermode": "closest",
          "mapbox": {
           "style": "light"
          },
          "paper_bgcolor": "white",
          "plot_bgcolor": "#E5ECF6",
          "polar": {
           "angularaxis": {
            "gridcolor": "white",
            "linecolor": "white",
            "ticks": ""
           },
           "bgcolor": "#E5ECF6",
           "radialaxis": {
            "gridcolor": "white",
            "linecolor": "white",
            "ticks": ""
           }
          },
          "scene": {
           "xaxis": {
            "backgroundcolor": "#E5ECF6",
            "gridcolor": "white",
            "gridwidth": 2,
            "linecolor": "white",
            "showbackground": true,
            "ticks": "",
            "zerolinecolor": "white"
           },
           "yaxis": {
            "backgroundcolor": "#E5ECF6",
            "gridcolor": "white",
            "gridwidth": 2,
            "linecolor": "white",
            "showbackground": true,
            "ticks": "",
            "zerolinecolor": "white"
           },
           "zaxis": {
            "backgroundcolor": "#E5ECF6",
            "gridcolor": "white",
            "gridwidth": 2,
            "linecolor": "white",
            "showbackground": true,
            "ticks": "",
            "zerolinecolor": "white"
           }
          },
          "shapedefaults": {
           "line": {
            "color": "#2a3f5f"
           }
          },
          "ternary": {
           "aaxis": {
            "gridcolor": "white",
            "linecolor": "white",
            "ticks": ""
           },
           "baxis": {
            "gridcolor": "white",
            "linecolor": "white",
            "ticks": ""
           },
           "bgcolor": "#E5ECF6",
           "caxis": {
            "gridcolor": "white",
            "linecolor": "white",
            "ticks": ""
           }
          },
          "title": {
           "x": 0.05
          },
          "xaxis": {
           "automargin": true,
           "gridcolor": "white",
           "linecolor": "white",
           "ticks": "",
           "zerolinecolor": "white",
           "zerolinewidth": 2
          },
          "yaxis": {
           "automargin": true,
           "gridcolor": "white",
           "linecolor": "white",
           "ticks": "",
           "zerolinecolor": "white",
           "zerolinewidth": 2
          }
         }
        },
        "xaxis": {
         "anchor": "y",
         "domain": [
          0,
          0.98
         ],
         "title": {
          "text": "xs"
         }
        },
        "yaxis": {
         "anchor": "x",
         "domain": [
          0,
          1
         ],
         "title": {
          "text": "ys"
         }
        }
       }
      },
      "text/html": [
       "<div>\n",
       "        \n",
       "        \n",
       "            <div id=\"b20c9bc1-4dd1-4ec9-86e8-660a09d3a528\" class=\"plotly-graph-div\" style=\"height:600px; width:100%;\"></div>\n",
       "            <script type=\"text/javascript\">\n",
       "                require([\"plotly\"], function(Plotly) {\n",
       "                    window.PLOTLYENV=window.PLOTLYENV || {};\n",
       "                    \n",
       "                if (document.getElementById(\"b20c9bc1-4dd1-4ec9-86e8-660a09d3a528\")) {\n",
       "                    Plotly.newPlot(\n",
       "                        'b20c9bc1-4dd1-4ec9-86e8-660a09d3a528',\n",
       "                        [{\"hoverlabel\": {\"namelength\": 0}, \"hovertemplate\": \"xs=%{x}<br>ys=%{y}<br>zs=%{marker.color}\", \"legendgroup\": \"\", \"marker\": {\"color\": [1, 2, 3, 4, 5, 6, 7, 8, 9, 10, 11, 12, 13, 14, 15, 16, 17, 18, 19, 20, 21, 22, 23, 24, 25, 26, 27, 28, 29, 30, 31, 32, 33, 34, 35, 36, 37, 38, 39, 40, 41, 42, 43, 44, 45, 46, 47, 48, 49, 50, 51, 52, 53, 54, 55, 56, 57, 58, 59, 60, 61, 62, 63, 64, 65, 66, 67, 68, 69, 70, 71, 72, 73, 74, 75, 76, 77, 78, 79, 80, 81, 82, 83, 84, 85, 86, 87, 88, 89, 90, 91, 92, 93, 94, 95, 96, 97, 98, 99, 100, 101, 102, 103, 104, 105, 106, 107, 108, 109, 110, 111, 112, 113, 114, 115, 116, 117, 118, 119, 120, 121, 122, 123, 124, 125, 126, 127, 128, 129, 130, 131, 132, 133, 134, 135, 136, 137, 138, 139, 140, 141, 142, 143, 144, 145, 146, 147, 148, 149, 150, 151, 152, 153, 154, 155, 156, 157, 158, 159, 160, 161, 162, 163, 164, 165, 166, 167, 168, 169, 170, 171, 172, 173, 174, 175, 176, 177, 178, 179, 180, 181, 182, 183, 184, 185, 186, 187, 188, 189, 190, 191, 192, 193, 194, 195, 196, 197, 198, 199, 200], \"coloraxis\": \"coloraxis\", \"symbol\": \"circle\"}, \"mode\": \"markers\", \"name\": \"\", \"showlegend\": false, \"type\": \"scatter\", \"x\": [9.984609603881836, 9.938262939453125, 9.142881393432617, 9.249139785766602, 8.869467735290527, 9.254053115844727, 8.747903823852539, 8.742069244384766, 8.690652847290039, 8.7344388961792, 8.734426498413086, 8.61443042755127, 8.615154266357422, 8.12018871307373, 8.153196334838867, 8.128243446350098, 8.157219886779785, 8.150266647338867, 8.09220027923584, 8.026512145996094, 7.819895267486572, 7.825577735900879, 7.816806316375732, 7.80011510848999, 7.714167594909668, 7.812777042388916, 8.232404708862305, 7.818708896636963, 7.786243915557861, 7.983058452606201, 7.724328994750977, 7.033834934234619, 7.030572891235352, 6.673373222351074, 6.424376010894775, 6.375473976135254, 6.353632926940918, 6.426614761352539, 6.4330925941467285, 6.448796272277832, 6.436367034912109, 6.419487953186035, 6.405223369598389, 6.4633049964904785, 6.3959479331970215, 6.501072406768799, 6.509286880493164, 5.777273654937744, 5.777091979980469, 5.782383441925049, 5.7661967277526855, 5.766946315765381, 5.761565685272217, 5.5406928062438965, 3.8270394802093506, 3.8249714374542236, 3.34600567817688, 3.340332508087158, 3.2513606548309326, 3.2560338973999023, 3.252669334411621, 3.23769474029541, 3.2353248596191406, 3.2301061153411865, 3.233036518096924, 3.232520818710327, 2.355428457260132, 2.350752830505371, 2.3022241592407227, 2.5006144046783447, 1.3526145219802856, 1.1175388097763062, 1.7873207330703735, 1.7184606790542603, 1.690557599067688, 1.7497247457504272, 1.6582287549972534, 1.7726538181304932, 2.1274242401123047, 1.5877214670181274, 2.128171920776367, 1.5650662183761597, 1.6657023429870605, 1.6315137147903442, 1.6106077432632446, 1.6946532726287842, 2.1125328540802, 2.1305184364318848, 2.1112582683563232, 2.083376407623291, 2.102182149887085, 1.3345012664794922, 0.8660314679145813, 0.7960852980613708, 0.5329063534736633, 0.5384199023246765, 0.5365208387374878, 0.5219447016716003, -0.1765756607055664, -0.21592645347118378, -1.2413086891174316, -1.239072561264038, -1.840575098991394, -1.8411051034927368, -1.8345319032669067, -1.8243671655654907, -1.8317954540252686, -1.8059570789337158, -1.7970384359359741, -1.8728502988815308, -2.6263506412506104, -2.623140573501587, -2.6827797889709473, -2.692816972732544, -2.713660717010498, -2.4449915885925293, -2.390610933303833, -2.563272714614868, -2.347662925720215, -2.6420724391937256, -2.3182425498962402, -2.352896213531494, -2.5256264209747314, -2.539914846420288, -2.539665699005127, -3.4967308044433594, -3.5087549686431885, -3.890218496322632, -3.9717624187469482, -4.003633499145508, -3.8055570125579834, -3.9155168533325195, -4.049160003662109, -3.917982816696167, -3.906674385070801, -4.027188777923584, -4.108236312866211, -3.9876410961151123, -3.999497413635254, -4.095954895019531, -3.672348976135254, -4.472177505493164, -4.511869430541992, -4.486972808837891, -5.853466033935547, -5.72687292098999, -5.722876071929932, -5.837531566619873, -5.700104236602783, -5.840009689331055, -7.181652545928955, -7.422404766082764, -7.293310165405273, -7.422845840454102, -7.37998104095459, -7.353975296020508, -7.499456882476807, -7.504541397094727, -7.501350402832031, -7.317535877227783, -7.312668800354004, -7.529460906982422, -7.545228958129883, -7.545517444610596, -8.24523639678955, -9.064213752746582, -9.061704635620117, -9.071361541748047, -9.073953628540039, -9.06611156463623, -9.086930274963379, -9.08623218536377, -10.083198547363281, -10.081927299499512, -10.091649055480957, -10.281625747680664, -10.284348487854004, -10.290304183959961, -10.3248291015625, -10.330309867858887, -10.287367820739746, -10.323371887207031, -10.541738510131836, -10.54374885559082, -11.273634910583496, -11.336029052734375, -11.311104774475098, -11.386637687683105, -11.38791561126709, -11.412019729614258, -11.171398162841797, -11.492158889770508, -11.089570045471191, -11.489797592163086, -11.07097339630127, -11.4761962890625, -11.138675689697266, -11.134639739990234, -11.157008171081543, -11.108285903930664], \"xaxis\": \"x\", \"y\": [-14.64876937866211, -14.645332336425781, -14.736175537109375, -14.816011428833008, -14.583148956298828, -14.992230415344238, -14.508536338806152, -14.510516166687012, -13.89284896850586, -13.991037368774414, -13.988364219665527, -13.54750919342041, -13.547435760498047, -13.443916320800781, -13.461517333984375, -13.560152053833008, -13.327588081359863, -13.528746604919434, -13.295032501220703, -13.300821304321289, -13.853069305419922, -13.873238563537598, -13.900834083557129, -13.902761459350586, -13.763894081115723, -13.905056953430176, -13.216479301452637, -13.986082077026367, -13.921367645263672, -13.235397338867188, -13.833038330078125, -12.657052040100098, -12.652918815612793, -12.842467308044434, -11.815041542053223, -11.679121017456055, -11.658892631530762, -11.374456405639648, -11.368303298950195, -11.368372917175293, -11.354738235473633, -11.36069393157959, -11.351607322692871, -11.356439590454102, -11.342222213745117, -11.362174034118652, -11.3507661819458, -10.621743202209473, -10.619908332824707, -10.629656791687012, -10.604545593261719, -10.60777473449707, -10.599540710449219, -10.270734786987305, -7.888567924499512, -7.886368751525879, -7.237312316894531, -7.227053642272949, -7.111094951629639, -7.120687961578369, -7.116089820861816, -7.095514297485352, -7.090745449066162, -7.078434467315674, -7.083652496337891, -7.078939914703369, -6.048811435699463, -6.048303127288818, -5.875646591186523, -5.810754776000977, -6.257726669311523, -6.385775566101074, -5.550826549530029, -5.543337345123291, -5.508212566375732, -5.607367992401123, -5.478519439697266, -5.653692245483398, -5.27849006652832, -5.343319416046143, -5.219844341278076, -5.3309125900268555, -5.052867412567139, -5.084405899047852, -5.102774620056152, -5.030951023101807, -5.099460601806641, -5.101525783538818, -5.053300857543945, -5.013492107391357, -5.016944885253906, -4.188636779785156, -5.245626449584961, -5.215765953063965, -3.1078879833221436, -3.115823268890381, -3.1147499084472656, -3.0921242237091064, -2.0932271480560303, -2.0317649841308594, -0.616338312625885, -0.6107964515686035, 0.08414681255817413, 0.4042019248008728, 0.40127691626548767, 0.4171573221683502, 0.39166533946990967, 0.4316052496433258, 0.4270782172679901, 0.404977411031723, 0.8553608059883118, 0.822999119758606, 0.7949779629707336, 0.7672277688980103, 0.7623847126960754, 1.0715893507003784, 1.1301469802856445, 1.0189473628997803, 1.1460998058319092, 0.9640459418296814, 1.1896977424621582, 1.2325416803359985, 1.559795618057251, 1.5613027811050415, 1.5710574388504028, 2.313138723373413, 2.2945542335510254, 2.4536960124969482, 2.3291893005371094, 2.3129725456237793, 2.481646776199341, 2.6804845333099365, 2.286726474761963, 2.6907994747161865, 2.696439504623413, 2.253143548965454, 2.272157907485962, 2.7532525062561035, 2.7599070072174072, 2.236091136932373, 3.327369451522827, 2.8469717502593994, 2.848306655883789, 2.861016035079956, 3.895953416824341, 4.2331037521362305, 4.235637664794922, 3.853558301925659, 4.2397685050964355, 3.8462986946105957, 4.8541035652160645, 5.086020469665527, 4.798321723937988, 5.08393669128418, 5.122623920440674, 5.134284019470215, 5.1026153564453125, 5.101570129394531, 5.10189151763916, 5.148488998413086, 5.158604621887207, 5.093799114227295, 5.095389366149902, 5.097377300262451, 5.510488986968994, 5.895792484283447, 5.894604206085205, 5.900201797485352, 5.902176380157471, 5.8968987464904785, 5.907633304595947, 5.906268119812012, 6.3614983558654785, 6.35014009475708, 6.36688756942749, 6.327034950256348, 6.321821212768555, 6.31630802154541, 6.352252006530762, 6.3541460037231445, 6.32785701751709, 6.337644100189209, 7.073171615600586, 7.0977396965026855, 7.485630989074707, 7.465878009796143, 7.443668842315674, 7.450725555419922, 7.435239791870117, 7.420567989349365, 7.600760459899902, 7.41400146484375, 7.677865982055664, 7.380150318145752, 7.697184085845947, 7.362109184265137, 7.94317102432251, 7.94570255279541, 7.965921878814697, 7.953127861022949], \"yaxis\": \"y\"}],\n",
       "                        {\"coloraxis\": {\"colorbar\": {\"title\": {\"text\": \"zs\"}}, \"colorscale\": [[0.0, \"#0d0887\"], [0.1111111111111111, \"#46039f\"], [0.2222222222222222, \"#7201a8\"], [0.3333333333333333, \"#9c179e\"], [0.4444444444444444, \"#bd3786\"], [0.5555555555555556, \"#d8576b\"], [0.6666666666666666, \"#ed7953\"], [0.7777777777777778, \"#fb9f3a\"], [0.8888888888888888, \"#fdca26\"], [1.0, \"#f0f921\"]]}, \"height\": 600, \"legend\": {\"tracegroupgap\": 0}, \"margin\": {\"t\": 60}, \"template\": {\"data\": {\"bar\": [{\"error_x\": {\"color\": \"#2a3f5f\"}, \"error_y\": {\"color\": \"#2a3f5f\"}, \"marker\": {\"line\": {\"color\": \"#E5ECF6\", \"width\": 0.5}}, \"type\": \"bar\"}], \"barpolar\": [{\"marker\": {\"line\": {\"color\": \"#E5ECF6\", \"width\": 0.5}}, \"type\": \"barpolar\"}], \"carpet\": [{\"aaxis\": {\"endlinecolor\": \"#2a3f5f\", \"gridcolor\": \"white\", \"linecolor\": \"white\", \"minorgridcolor\": \"white\", \"startlinecolor\": \"#2a3f5f\"}, \"baxis\": {\"endlinecolor\": \"#2a3f5f\", \"gridcolor\": \"white\", \"linecolor\": \"white\", \"minorgridcolor\": \"white\", \"startlinecolor\": \"#2a3f5f\"}, \"type\": \"carpet\"}], \"choropleth\": [{\"colorbar\": {\"outlinewidth\": 0, \"ticks\": \"\"}, \"type\": \"choropleth\"}], \"contour\": [{\"colorbar\": {\"outlinewidth\": 0, \"ticks\": \"\"}, \"colorscale\": [[0.0, \"#0d0887\"], [0.1111111111111111, \"#46039f\"], [0.2222222222222222, \"#7201a8\"], [0.3333333333333333, \"#9c179e\"], [0.4444444444444444, \"#bd3786\"], [0.5555555555555556, \"#d8576b\"], [0.6666666666666666, \"#ed7953\"], [0.7777777777777778, \"#fb9f3a\"], [0.8888888888888888, \"#fdca26\"], [1.0, \"#f0f921\"]], \"type\": \"contour\"}], \"contourcarpet\": [{\"colorbar\": {\"outlinewidth\": 0, \"ticks\": \"\"}, \"type\": \"contourcarpet\"}], \"heatmap\": [{\"colorbar\": {\"outlinewidth\": 0, \"ticks\": \"\"}, \"colorscale\": [[0.0, \"#0d0887\"], [0.1111111111111111, \"#46039f\"], [0.2222222222222222, \"#7201a8\"], [0.3333333333333333, \"#9c179e\"], [0.4444444444444444, \"#bd3786\"], [0.5555555555555556, \"#d8576b\"], [0.6666666666666666, \"#ed7953\"], [0.7777777777777778, \"#fb9f3a\"], [0.8888888888888888, \"#fdca26\"], [1.0, \"#f0f921\"]], \"type\": \"heatmap\"}], \"heatmapgl\": [{\"colorbar\": {\"outlinewidth\": 0, \"ticks\": \"\"}, \"colorscale\": [[0.0, \"#0d0887\"], [0.1111111111111111, \"#46039f\"], [0.2222222222222222, \"#7201a8\"], [0.3333333333333333, \"#9c179e\"], [0.4444444444444444, \"#bd3786\"], [0.5555555555555556, \"#d8576b\"], [0.6666666666666666, \"#ed7953\"], [0.7777777777777778, \"#fb9f3a\"], [0.8888888888888888, \"#fdca26\"], [1.0, \"#f0f921\"]], \"type\": \"heatmapgl\"}], \"histogram\": [{\"marker\": {\"colorbar\": {\"outlinewidth\": 0, \"ticks\": \"\"}}, \"type\": \"histogram\"}], \"histogram2d\": [{\"colorbar\": {\"outlinewidth\": 0, \"ticks\": \"\"}, \"colorscale\": [[0.0, \"#0d0887\"], [0.1111111111111111, \"#46039f\"], [0.2222222222222222, \"#7201a8\"], [0.3333333333333333, \"#9c179e\"], [0.4444444444444444, \"#bd3786\"], [0.5555555555555556, \"#d8576b\"], [0.6666666666666666, \"#ed7953\"], [0.7777777777777778, \"#fb9f3a\"], [0.8888888888888888, \"#fdca26\"], [1.0, \"#f0f921\"]], \"type\": \"histogram2d\"}], \"histogram2dcontour\": [{\"colorbar\": {\"outlinewidth\": 0, \"ticks\": \"\"}, \"colorscale\": [[0.0, \"#0d0887\"], [0.1111111111111111, \"#46039f\"], [0.2222222222222222, \"#7201a8\"], [0.3333333333333333, \"#9c179e\"], [0.4444444444444444, \"#bd3786\"], [0.5555555555555556, \"#d8576b\"], [0.6666666666666666, \"#ed7953\"], [0.7777777777777778, \"#fb9f3a\"], [0.8888888888888888, \"#fdca26\"], [1.0, \"#f0f921\"]], \"type\": \"histogram2dcontour\"}], \"mesh3d\": [{\"colorbar\": {\"outlinewidth\": 0, \"ticks\": \"\"}, \"type\": \"mesh3d\"}], \"parcoords\": [{\"line\": {\"colorbar\": {\"outlinewidth\": 0, \"ticks\": \"\"}}, \"type\": \"parcoords\"}], \"scatter\": [{\"marker\": {\"colorbar\": {\"outlinewidth\": 0, \"ticks\": \"\"}}, \"type\": \"scatter\"}], \"scatter3d\": [{\"line\": {\"colorbar\": {\"outlinewidth\": 0, \"ticks\": \"\"}}, \"marker\": {\"colorbar\": {\"outlinewidth\": 0, \"ticks\": \"\"}}, \"type\": \"scatter3d\"}], \"scattercarpet\": [{\"marker\": {\"colorbar\": {\"outlinewidth\": 0, \"ticks\": \"\"}}, \"type\": \"scattercarpet\"}], \"scattergeo\": [{\"marker\": {\"colorbar\": {\"outlinewidth\": 0, \"ticks\": \"\"}}, \"type\": \"scattergeo\"}], \"scattergl\": [{\"marker\": {\"colorbar\": {\"outlinewidth\": 0, \"ticks\": \"\"}}, \"type\": \"scattergl\"}], \"scattermapbox\": [{\"marker\": {\"colorbar\": {\"outlinewidth\": 0, \"ticks\": \"\"}}, \"type\": \"scattermapbox\"}], \"scatterpolar\": [{\"marker\": {\"colorbar\": {\"outlinewidth\": 0, \"ticks\": \"\"}}, \"type\": \"scatterpolar\"}], \"scatterpolargl\": [{\"marker\": {\"colorbar\": {\"outlinewidth\": 0, \"ticks\": \"\"}}, \"type\": \"scatterpolargl\"}], \"scatterternary\": [{\"marker\": {\"colorbar\": {\"outlinewidth\": 0, \"ticks\": \"\"}}, \"type\": \"scatterternary\"}], \"surface\": [{\"colorbar\": {\"outlinewidth\": 0, \"ticks\": \"\"}, \"colorscale\": [[0.0, \"#0d0887\"], [0.1111111111111111, \"#46039f\"], [0.2222222222222222, \"#7201a8\"], [0.3333333333333333, \"#9c179e\"], [0.4444444444444444, \"#bd3786\"], [0.5555555555555556, \"#d8576b\"], [0.6666666666666666, \"#ed7953\"], [0.7777777777777778, \"#fb9f3a\"], [0.8888888888888888, \"#fdca26\"], [1.0, \"#f0f921\"]], \"type\": \"surface\"}], \"table\": [{\"cells\": {\"fill\": {\"color\": \"#EBF0F8\"}, \"line\": {\"color\": \"white\"}}, \"header\": {\"fill\": {\"color\": \"#C8D4E3\"}, \"line\": {\"color\": \"white\"}}, \"type\": \"table\"}]}, \"layout\": {\"annotationdefaults\": {\"arrowcolor\": \"#2a3f5f\", \"arrowhead\": 0, \"arrowwidth\": 1}, \"colorscale\": {\"diverging\": [[0, \"#8e0152\"], [0.1, \"#c51b7d\"], [0.2, \"#de77ae\"], [0.3, \"#f1b6da\"], [0.4, \"#fde0ef\"], [0.5, \"#f7f7f7\"], [0.6, \"#e6f5d0\"], [0.7, \"#b8e186\"], [0.8, \"#7fbc41\"], [0.9, \"#4d9221\"], [1, \"#276419\"]], \"sequential\": [[0.0, \"#0d0887\"], [0.1111111111111111, \"#46039f\"], [0.2222222222222222, \"#7201a8\"], [0.3333333333333333, \"#9c179e\"], [0.4444444444444444, \"#bd3786\"], [0.5555555555555556, \"#d8576b\"], [0.6666666666666666, \"#ed7953\"], [0.7777777777777778, \"#fb9f3a\"], [0.8888888888888888, \"#fdca26\"], [1.0, \"#f0f921\"]], \"sequentialminus\": [[0.0, \"#0d0887\"], [0.1111111111111111, \"#46039f\"], [0.2222222222222222, \"#7201a8\"], [0.3333333333333333, \"#9c179e\"], [0.4444444444444444, \"#bd3786\"], [0.5555555555555556, \"#d8576b\"], [0.6666666666666666, \"#ed7953\"], [0.7777777777777778, \"#fb9f3a\"], [0.8888888888888888, \"#fdca26\"], [1.0, \"#f0f921\"]]}, \"colorway\": [\"#636efa\", \"#EF553B\", \"#00cc96\", \"#ab63fa\", \"#FFA15A\", \"#19d3f3\", \"#FF6692\", \"#B6E880\", \"#FF97FF\", \"#FECB52\"], \"font\": {\"color\": \"#2a3f5f\"}, \"geo\": {\"bgcolor\": \"white\", \"lakecolor\": \"white\", \"landcolor\": \"#E5ECF6\", \"showlakes\": true, \"showland\": true, \"subunitcolor\": \"white\"}, \"hoverlabel\": {\"align\": \"left\"}, \"hovermode\": \"closest\", \"mapbox\": {\"style\": \"light\"}, \"paper_bgcolor\": \"white\", \"plot_bgcolor\": \"#E5ECF6\", \"polar\": {\"angularaxis\": {\"gridcolor\": \"white\", \"linecolor\": \"white\", \"ticks\": \"\"}, \"bgcolor\": \"#E5ECF6\", \"radialaxis\": {\"gridcolor\": \"white\", \"linecolor\": \"white\", \"ticks\": \"\"}}, \"scene\": {\"xaxis\": {\"backgroundcolor\": \"#E5ECF6\", \"gridcolor\": \"white\", \"gridwidth\": 2, \"linecolor\": \"white\", \"showbackground\": true, \"ticks\": \"\", \"zerolinecolor\": \"white\"}, \"yaxis\": {\"backgroundcolor\": \"#E5ECF6\", \"gridcolor\": \"white\", \"gridwidth\": 2, \"linecolor\": \"white\", \"showbackground\": true, \"ticks\": \"\", \"zerolinecolor\": \"white\"}, \"zaxis\": {\"backgroundcolor\": \"#E5ECF6\", \"gridcolor\": \"white\", \"gridwidth\": 2, \"linecolor\": \"white\", \"showbackground\": true, \"ticks\": \"\", \"zerolinecolor\": \"white\"}}, \"shapedefaults\": {\"line\": {\"color\": \"#2a3f5f\"}}, \"ternary\": {\"aaxis\": {\"gridcolor\": \"white\", \"linecolor\": \"white\", \"ticks\": \"\"}, \"baxis\": {\"gridcolor\": \"white\", \"linecolor\": \"white\", \"ticks\": \"\"}, \"bgcolor\": \"#E5ECF6\", \"caxis\": {\"gridcolor\": \"white\", \"linecolor\": \"white\", \"ticks\": \"\"}}, \"title\": {\"x\": 0.05}, \"xaxis\": {\"automargin\": true, \"gridcolor\": \"white\", \"linecolor\": \"white\", \"ticks\": \"\", \"zerolinecolor\": \"white\", \"zerolinewidth\": 2}, \"yaxis\": {\"automargin\": true, \"gridcolor\": \"white\", \"linecolor\": \"white\", \"ticks\": \"\", \"zerolinecolor\": \"white\", \"zerolinewidth\": 2}}}, \"xaxis\": {\"anchor\": \"y\", \"domain\": [0.0, 0.98], \"title\": {\"text\": \"xs\"}}, \"yaxis\": {\"anchor\": \"x\", \"domain\": [0.0, 1.0], \"title\": {\"text\": \"ys\"}}},\n",
       "                        {\"responsive\": true}\n",
       "                    ).then(function(){\n",
       "                            \n",
       "var gd = document.getElementById('b20c9bc1-4dd1-4ec9-86e8-660a09d3a528');\n",
       "var x = new MutationObserver(function (mutations, observer) {{\n",
       "        var display = window.getComputedStyle(gd).display;\n",
       "        if (!display || display === 'none') {{\n",
       "            console.log([gd, 'removed!']);\n",
       "            Plotly.purge(gd);\n",
       "            observer.disconnect();\n",
       "        }}\n",
       "}});\n",
       "\n",
       "// Listen for the removal of the full notebook cells\n",
       "var notebookContainer = gd.closest('#notebook-container');\n",
       "if (notebookContainer) {{\n",
       "    x.observe(notebookContainer, {childList: true});\n",
       "}}\n",
       "\n",
       "// Listen for the clearing of the current output cell\n",
       "var outputEl = gd.closest('.output');\n",
       "if (outputEl) {{\n",
       "    x.observe(outputEl, {childList: true});\n",
       "}}\n",
       "\n",
       "                        })\n",
       "                };\n",
       "                });\n",
       "            </script>\n",
       "        </div>"
      ]
     },
     "metadata": {},
     "output_type": "display_data"
    }
   ],
   "source": [
    "plot_params_similarity(experiment_name, only_best=True, iterations=1000)"
   ]
  },
  {
   "cell_type": "code",
   "execution_count": 34,
   "metadata": {},
   "outputs": [
    {
     "data": {
      "application/vnd.plotly.v1+json": {
       "config": {
        "plotlyServerURL": "https://plot.ly"
       },
       "data": [
        {
         "hoverlabel": {
          "namelength": 0
         },
         "hovertemplate": "epochs=%{x}<br>behavioural_variances_to_input=%{y}",
         "legendgroup": "",
         "line": {
          "color": "#636efa",
          "dash": "solid"
         },
         "mode": "lines",
         "name": "",
         "showlegend": false,
         "type": "scatter",
         "x": [
          1,
          2,
          3,
          4,
          5,
          6,
          7,
          8,
          9,
          10,
          11,
          12,
          13,
          14,
          15,
          16,
          17,
          18,
          19,
          20,
          21,
          22,
          23,
          24,
          25,
          26,
          27,
          28,
          29,
          30,
          31,
          32,
          33,
          34,
          35,
          36,
          37,
          38,
          39,
          40,
          41,
          42,
          43,
          44,
          45,
          46,
          47,
          48,
          49,
          50,
          51,
          52,
          53,
          54,
          55,
          56,
          57,
          58,
          59,
          60,
          61,
          62,
          63,
          64,
          65,
          66,
          67,
          68,
          69,
          70,
          71,
          72,
          73,
          74,
          75,
          76,
          77,
          78,
          79,
          80,
          81,
          82,
          83,
          84,
          85,
          86,
          87,
          88,
          89,
          90,
          91,
          92,
          93,
          94,
          95,
          96,
          97,
          98,
          99,
          100,
          101,
          102,
          103,
          104,
          105,
          106,
          107,
          108,
          109,
          110,
          111,
          112,
          113,
          114,
          115,
          116,
          117,
          118,
          119,
          120,
          121,
          122,
          123,
          124,
          125,
          126,
          127,
          128,
          129,
          130,
          131,
          132,
          133,
          134,
          135,
          136,
          137,
          138,
          139,
          140,
          141,
          142,
          143,
          144,
          145,
          146,
          147,
          148,
          149,
          150,
          151,
          152,
          153,
          154,
          155,
          156,
          157,
          158,
          159,
          160,
          161,
          162,
          163,
          164,
          165,
          166,
          167,
          168,
          169,
          170,
          171,
          172,
          173,
          174,
          175,
          176,
          177,
          178,
          179,
          180,
          181,
          182,
          183,
          184,
          185,
          186,
          187,
          188,
          189,
          190,
          191,
          192,
          193,
          194,
          195,
          196,
          197,
          198,
          199,
          200
         ],
         "xaxis": "x",
         "y": [
          2.657693178301497,
          2.8806729749542925,
          2.9148547738340898,
          3.6629011716408657,
          5.25737790183771,
          2.691923982677922,
          6.553816847419955,
          6.6539672289167155,
          5.821069554779342,
          5.304421740566721,
          5.394385435717561,
          6.209977355580178,
          6.13302585959394,
          6.0456633965791635,
          6.148216138007918,
          5.876028892623011,
          6.005587449627959,
          5.9987998936545885,
          6.7530155536793925,
          6.795123979556762,
          6.29514430414863,
          6.173875744704807,
          6.002704016825975,
          5.962823102305425,
          6.65736693330481,
          6.02106779934795,
          6.470427731915801,
          6.141762854498865,
          6.478447621544587,
          6.624681419622911,
          6.4340407700041,
          7.777554837327483,
          7.718464789817251,
          7.590753531598665,
          5.179211966896658,
          4.097841815917059,
          3.9543624713332384,
          3.848126747218424,
          3.872370131496861,
          3.9003685332062714,
          3.8722754292216264,
          3.888699836426378,
          3.754273494500764,
          3.9469137189001957,
          3.8020469632988916,
          3.979659110064225,
          3.876975861818674,
          4.077014097697647,
          4.114493500035401,
          4.201370461023341,
          4.0189409196100625,
          4.137801430721169,
          3.570419346347084,
          4.646563924280456,
          3.3951252736034774,
          3.3732772844070187,
          4.307545723681805,
          4.231656074570751,
          4.294165284237968,
          4.325974578322373,
          4.335047697731443,
          4.489918501431592,
          4.488357262869658,
          4.3223132061984515,
          4.338195293462335,
          4.412849718851948,
          5.75042238792968,
          5.732692194824709,
          6.20559044212531,
          6.492320330889891,
          7.43359826719225,
          6.040746915301135,
          7.889672982216521,
          7.883063657995775,
          7.811899610321001,
          8.226403793691512,
          8.113030109006743,
          8.643491120317892,
          7.569346995465242,
          8.037942550193664,
          7.487155936386404,
          8.197337363270348,
          7.987126236684847,
          7.972127236398021,
          8.119520724740156,
          7.642491489530541,
          7.345719493079209,
          7.26129952865943,
          7.294971620175189,
          7.277525019323287,
          7.407223755790829,
          7.01440745869857,
          9.352549690705455,
          8.123818379835244,
          9.033295201342193,
          9.316501644996803,
          9.704212694384692,
          9.468840454246887,
          8.33772235664713,
          13.359311194248846,
          7.77425832288359,
          7.9619806565771185,
          5.8915044064826825,
          5.171436509781768,
          5.173288732716148,
          5.247602280307273,
          5.152764010700305,
          5.079363923935422,
          4.98107886909547,
          5.362556467306893,
          6.956162477120132,
          7.093777115056781,
          7.2669342857387775,
          7.185509876158999,
          7.298121182457274,
          7.155923825383954,
          7.144622138115544,
          6.93618397707701,
          6.994908606525552,
          6.886540288828432,
          7.230221407694735,
          6.6640878642813774,
          7.575465977896236,
          7.600648355173286,
          7.515669440636804,
          6.342719739639556,
          6.297807815595057,
          7.017550064442816,
          7.098976627938567,
          6.9980163561096775,
          7.231127352413149,
          6.784601722107293,
          7.1231580162783965,
          6.90041661563702,
          6.975025623640782,
          7.1358203405366085,
          7.361811186422637,
          6.306927777651171,
          6.393367239146321,
          6.699133103475938,
          5.87610951193082,
          7.305643813998239,
          7.580209101965404,
          7.444792868601644,
          9.032526856782729,
          8.667232920805477,
          8.665175579718943,
          9.027536595802948,
          8.449439471753678,
          9.123462043639325,
          10.166287580419098,
          10.790992047993514,
          9.446219910620501,
          10.768090487153392,
          11.09870085034677,
          11.088114381756759,
          10.302123758379643,
          10.352035748418215,
          10.318996622594454,
          11.487572875612388,
          11.605549966308715,
          10.014967989908273,
          10.28089792341929,
          10.536347542333111,
          10.594059540462046,
          10.52673432758065,
          10.580494414345754,
          10.60253771554059,
          10.585431576545856,
          10.664535330310695,
          10.67943532138991,
          10.575870230213095,
          12.411829499052235,
          12.287672114870109,
          12.331591914614382,
          12.50698909831119,
          12.856236625338035,
          12.89741984360105,
          12.562818390682757,
          12.356135921414184,
          12.088110989291215,
          12.447006965932509,
          13.615351966472497,
          13.338252071917566,
          13.992068548925984,
          14.089252950723237,
          13.961077986420841,
          13.844492148753964,
          13.844405819127655,
          13.631534410309978,
          13.76803603274905,
          13.786785493533534,
          13.491639454908732,
          13.698917805341807,
          13.619709973432247,
          13.640986743334283,
          13.398757479705939,
          13.621162656918933,
          13.072329743678578,
          13.429266858449104
         ],
         "yaxis": "y"
        }
       ],
       "layout": {
        "height": 600,
        "legend": {
         "tracegroupgap": 0
        },
        "margin": {
         "t": 60
        },
        "template": {
         "data": {
          "bar": [
           {
            "error_x": {
             "color": "#2a3f5f"
            },
            "error_y": {
             "color": "#2a3f5f"
            },
            "marker": {
             "line": {
              "color": "#E5ECF6",
              "width": 0.5
             }
            },
            "type": "bar"
           }
          ],
          "barpolar": [
           {
            "marker": {
             "line": {
              "color": "#E5ECF6",
              "width": 0.5
             }
            },
            "type": "barpolar"
           }
          ],
          "carpet": [
           {
            "aaxis": {
             "endlinecolor": "#2a3f5f",
             "gridcolor": "white",
             "linecolor": "white",
             "minorgridcolor": "white",
             "startlinecolor": "#2a3f5f"
            },
            "baxis": {
             "endlinecolor": "#2a3f5f",
             "gridcolor": "white",
             "linecolor": "white",
             "minorgridcolor": "white",
             "startlinecolor": "#2a3f5f"
            },
            "type": "carpet"
           }
          ],
          "choropleth": [
           {
            "colorbar": {
             "outlinewidth": 0,
             "ticks": ""
            },
            "type": "choropleth"
           }
          ],
          "contour": [
           {
            "colorbar": {
             "outlinewidth": 0,
             "ticks": ""
            },
            "colorscale": [
             [
              0,
              "#0d0887"
             ],
             [
              0.1111111111111111,
              "#46039f"
             ],
             [
              0.2222222222222222,
              "#7201a8"
             ],
             [
              0.3333333333333333,
              "#9c179e"
             ],
             [
              0.4444444444444444,
              "#bd3786"
             ],
             [
              0.5555555555555556,
              "#d8576b"
             ],
             [
              0.6666666666666666,
              "#ed7953"
             ],
             [
              0.7777777777777778,
              "#fb9f3a"
             ],
             [
              0.8888888888888888,
              "#fdca26"
             ],
             [
              1,
              "#f0f921"
             ]
            ],
            "type": "contour"
           }
          ],
          "contourcarpet": [
           {
            "colorbar": {
             "outlinewidth": 0,
             "ticks": ""
            },
            "type": "contourcarpet"
           }
          ],
          "heatmap": [
           {
            "colorbar": {
             "outlinewidth": 0,
             "ticks": ""
            },
            "colorscale": [
             [
              0,
              "#0d0887"
             ],
             [
              0.1111111111111111,
              "#46039f"
             ],
             [
              0.2222222222222222,
              "#7201a8"
             ],
             [
              0.3333333333333333,
              "#9c179e"
             ],
             [
              0.4444444444444444,
              "#bd3786"
             ],
             [
              0.5555555555555556,
              "#d8576b"
             ],
             [
              0.6666666666666666,
              "#ed7953"
             ],
             [
              0.7777777777777778,
              "#fb9f3a"
             ],
             [
              0.8888888888888888,
              "#fdca26"
             ],
             [
              1,
              "#f0f921"
             ]
            ],
            "type": "heatmap"
           }
          ],
          "heatmapgl": [
           {
            "colorbar": {
             "outlinewidth": 0,
             "ticks": ""
            },
            "colorscale": [
             [
              0,
              "#0d0887"
             ],
             [
              0.1111111111111111,
              "#46039f"
             ],
             [
              0.2222222222222222,
              "#7201a8"
             ],
             [
              0.3333333333333333,
              "#9c179e"
             ],
             [
              0.4444444444444444,
              "#bd3786"
             ],
             [
              0.5555555555555556,
              "#d8576b"
             ],
             [
              0.6666666666666666,
              "#ed7953"
             ],
             [
              0.7777777777777778,
              "#fb9f3a"
             ],
             [
              0.8888888888888888,
              "#fdca26"
             ],
             [
              1,
              "#f0f921"
             ]
            ],
            "type": "heatmapgl"
           }
          ],
          "histogram": [
           {
            "marker": {
             "colorbar": {
              "outlinewidth": 0,
              "ticks": ""
             }
            },
            "type": "histogram"
           }
          ],
          "histogram2d": [
           {
            "colorbar": {
             "outlinewidth": 0,
             "ticks": ""
            },
            "colorscale": [
             [
              0,
              "#0d0887"
             ],
             [
              0.1111111111111111,
              "#46039f"
             ],
             [
              0.2222222222222222,
              "#7201a8"
             ],
             [
              0.3333333333333333,
              "#9c179e"
             ],
             [
              0.4444444444444444,
              "#bd3786"
             ],
             [
              0.5555555555555556,
              "#d8576b"
             ],
             [
              0.6666666666666666,
              "#ed7953"
             ],
             [
              0.7777777777777778,
              "#fb9f3a"
             ],
             [
              0.8888888888888888,
              "#fdca26"
             ],
             [
              1,
              "#f0f921"
             ]
            ],
            "type": "histogram2d"
           }
          ],
          "histogram2dcontour": [
           {
            "colorbar": {
             "outlinewidth": 0,
             "ticks": ""
            },
            "colorscale": [
             [
              0,
              "#0d0887"
             ],
             [
              0.1111111111111111,
              "#46039f"
             ],
             [
              0.2222222222222222,
              "#7201a8"
             ],
             [
              0.3333333333333333,
              "#9c179e"
             ],
             [
              0.4444444444444444,
              "#bd3786"
             ],
             [
              0.5555555555555556,
              "#d8576b"
             ],
             [
              0.6666666666666666,
              "#ed7953"
             ],
             [
              0.7777777777777778,
              "#fb9f3a"
             ],
             [
              0.8888888888888888,
              "#fdca26"
             ],
             [
              1,
              "#f0f921"
             ]
            ],
            "type": "histogram2dcontour"
           }
          ],
          "mesh3d": [
           {
            "colorbar": {
             "outlinewidth": 0,
             "ticks": ""
            },
            "type": "mesh3d"
           }
          ],
          "parcoords": [
           {
            "line": {
             "colorbar": {
              "outlinewidth": 0,
              "ticks": ""
             }
            },
            "type": "parcoords"
           }
          ],
          "scatter": [
           {
            "marker": {
             "colorbar": {
              "outlinewidth": 0,
              "ticks": ""
             }
            },
            "type": "scatter"
           }
          ],
          "scatter3d": [
           {
            "line": {
             "colorbar": {
              "outlinewidth": 0,
              "ticks": ""
             }
            },
            "marker": {
             "colorbar": {
              "outlinewidth": 0,
              "ticks": ""
             }
            },
            "type": "scatter3d"
           }
          ],
          "scattercarpet": [
           {
            "marker": {
             "colorbar": {
              "outlinewidth": 0,
              "ticks": ""
             }
            },
            "type": "scattercarpet"
           }
          ],
          "scattergeo": [
           {
            "marker": {
             "colorbar": {
              "outlinewidth": 0,
              "ticks": ""
             }
            },
            "type": "scattergeo"
           }
          ],
          "scattergl": [
           {
            "marker": {
             "colorbar": {
              "outlinewidth": 0,
              "ticks": ""
             }
            },
            "type": "scattergl"
           }
          ],
          "scattermapbox": [
           {
            "marker": {
             "colorbar": {
              "outlinewidth": 0,
              "ticks": ""
             }
            },
            "type": "scattermapbox"
           }
          ],
          "scatterpolar": [
           {
            "marker": {
             "colorbar": {
              "outlinewidth": 0,
              "ticks": ""
             }
            },
            "type": "scatterpolar"
           }
          ],
          "scatterpolargl": [
           {
            "marker": {
             "colorbar": {
              "outlinewidth": 0,
              "ticks": ""
             }
            },
            "type": "scatterpolargl"
           }
          ],
          "scatterternary": [
           {
            "marker": {
             "colorbar": {
              "outlinewidth": 0,
              "ticks": ""
             }
            },
            "type": "scatterternary"
           }
          ],
          "surface": [
           {
            "colorbar": {
             "outlinewidth": 0,
             "ticks": ""
            },
            "colorscale": [
             [
              0,
              "#0d0887"
             ],
             [
              0.1111111111111111,
              "#46039f"
             ],
             [
              0.2222222222222222,
              "#7201a8"
             ],
             [
              0.3333333333333333,
              "#9c179e"
             ],
             [
              0.4444444444444444,
              "#bd3786"
             ],
             [
              0.5555555555555556,
              "#d8576b"
             ],
             [
              0.6666666666666666,
              "#ed7953"
             ],
             [
              0.7777777777777778,
              "#fb9f3a"
             ],
             [
              0.8888888888888888,
              "#fdca26"
             ],
             [
              1,
              "#f0f921"
             ]
            ],
            "type": "surface"
           }
          ],
          "table": [
           {
            "cells": {
             "fill": {
              "color": "#EBF0F8"
             },
             "line": {
              "color": "white"
             }
            },
            "header": {
             "fill": {
              "color": "#C8D4E3"
             },
             "line": {
              "color": "white"
             }
            },
            "type": "table"
           }
          ]
         },
         "layout": {
          "annotationdefaults": {
           "arrowcolor": "#2a3f5f",
           "arrowhead": 0,
           "arrowwidth": 1
          },
          "colorscale": {
           "diverging": [
            [
             0,
             "#8e0152"
            ],
            [
             0.1,
             "#c51b7d"
            ],
            [
             0.2,
             "#de77ae"
            ],
            [
             0.3,
             "#f1b6da"
            ],
            [
             0.4,
             "#fde0ef"
            ],
            [
             0.5,
             "#f7f7f7"
            ],
            [
             0.6,
             "#e6f5d0"
            ],
            [
             0.7,
             "#b8e186"
            ],
            [
             0.8,
             "#7fbc41"
            ],
            [
             0.9,
             "#4d9221"
            ],
            [
             1,
             "#276419"
            ]
           ],
           "sequential": [
            [
             0,
             "#0d0887"
            ],
            [
             0.1111111111111111,
             "#46039f"
            ],
            [
             0.2222222222222222,
             "#7201a8"
            ],
            [
             0.3333333333333333,
             "#9c179e"
            ],
            [
             0.4444444444444444,
             "#bd3786"
            ],
            [
             0.5555555555555556,
             "#d8576b"
            ],
            [
             0.6666666666666666,
             "#ed7953"
            ],
            [
             0.7777777777777778,
             "#fb9f3a"
            ],
            [
             0.8888888888888888,
             "#fdca26"
            ],
            [
             1,
             "#f0f921"
            ]
           ],
           "sequentialminus": [
            [
             0,
             "#0d0887"
            ],
            [
             0.1111111111111111,
             "#46039f"
            ],
            [
             0.2222222222222222,
             "#7201a8"
            ],
            [
             0.3333333333333333,
             "#9c179e"
            ],
            [
             0.4444444444444444,
             "#bd3786"
            ],
            [
             0.5555555555555556,
             "#d8576b"
            ],
            [
             0.6666666666666666,
             "#ed7953"
            ],
            [
             0.7777777777777778,
             "#fb9f3a"
            ],
            [
             0.8888888888888888,
             "#fdca26"
            ],
            [
             1,
             "#f0f921"
            ]
           ]
          },
          "colorway": [
           "#636efa",
           "#EF553B",
           "#00cc96",
           "#ab63fa",
           "#FFA15A",
           "#19d3f3",
           "#FF6692",
           "#B6E880",
           "#FF97FF",
           "#FECB52"
          ],
          "font": {
           "color": "#2a3f5f"
          },
          "geo": {
           "bgcolor": "white",
           "lakecolor": "white",
           "landcolor": "#E5ECF6",
           "showlakes": true,
           "showland": true,
           "subunitcolor": "white"
          },
          "hoverlabel": {
           "align": "left"
          },
          "hovermode": "closest",
          "mapbox": {
           "style": "light"
          },
          "paper_bgcolor": "white",
          "plot_bgcolor": "#E5ECF6",
          "polar": {
           "angularaxis": {
            "gridcolor": "white",
            "linecolor": "white",
            "ticks": ""
           },
           "bgcolor": "#E5ECF6",
           "radialaxis": {
            "gridcolor": "white",
            "linecolor": "white",
            "ticks": ""
           }
          },
          "scene": {
           "xaxis": {
            "backgroundcolor": "#E5ECF6",
            "gridcolor": "white",
            "gridwidth": 2,
            "linecolor": "white",
            "showbackground": true,
            "ticks": "",
            "zerolinecolor": "white"
           },
           "yaxis": {
            "backgroundcolor": "#E5ECF6",
            "gridcolor": "white",
            "gridwidth": 2,
            "linecolor": "white",
            "showbackground": true,
            "ticks": "",
            "zerolinecolor": "white"
           },
           "zaxis": {
            "backgroundcolor": "#E5ECF6",
            "gridcolor": "white",
            "gridwidth": 2,
            "linecolor": "white",
            "showbackground": true,
            "ticks": "",
            "zerolinecolor": "white"
           }
          },
          "shapedefaults": {
           "line": {
            "color": "#2a3f5f"
           }
          },
          "ternary": {
           "aaxis": {
            "gridcolor": "white",
            "linecolor": "white",
            "ticks": ""
           },
           "baxis": {
            "gridcolor": "white",
            "linecolor": "white",
            "ticks": ""
           },
           "bgcolor": "#E5ECF6",
           "caxis": {
            "gridcolor": "white",
            "linecolor": "white",
            "ticks": ""
           }
          },
          "title": {
           "x": 0.05
          },
          "xaxis": {
           "automargin": true,
           "gridcolor": "white",
           "linecolor": "white",
           "ticks": "",
           "zerolinecolor": "white",
           "zerolinewidth": 2
          },
          "yaxis": {
           "automargin": true,
           "gridcolor": "white",
           "linecolor": "white",
           "ticks": "",
           "zerolinecolor": "white",
           "zerolinewidth": 2
          }
         }
        },
        "xaxis": {
         "anchor": "y",
         "domain": [
          0,
          0.98
         ],
         "title": {
          "text": "epochs"
         }
        },
        "yaxis": {
         "anchor": "x",
         "domain": [
          0,
          1
         ],
         "title": {
          "text": "behavioural_variances_to_input"
         }
        }
       }
      },
      "text/html": [
       "<div>\n",
       "        \n",
       "        \n",
       "            <div id=\"ee1a8c2f-0e2c-4b0e-bd68-e0ef73c2fd40\" class=\"plotly-graph-div\" style=\"height:600px; width:100%;\"></div>\n",
       "            <script type=\"text/javascript\">\n",
       "                require([\"plotly\"], function(Plotly) {\n",
       "                    window.PLOTLYENV=window.PLOTLYENV || {};\n",
       "                    \n",
       "                if (document.getElementById(\"ee1a8c2f-0e2c-4b0e-bd68-e0ef73c2fd40\")) {\n",
       "                    Plotly.newPlot(\n",
       "                        'ee1a8c2f-0e2c-4b0e-bd68-e0ef73c2fd40',\n",
       "                        [{\"hoverlabel\": {\"namelength\": 0}, \"hovertemplate\": \"epochs=%{x}<br>behavioural_variances_to_input=%{y}\", \"legendgroup\": \"\", \"line\": {\"color\": \"#636efa\", \"dash\": \"solid\"}, \"mode\": \"lines\", \"name\": \"\", \"showlegend\": false, \"type\": \"scatter\", \"x\": [1, 2, 3, 4, 5, 6, 7, 8, 9, 10, 11, 12, 13, 14, 15, 16, 17, 18, 19, 20, 21, 22, 23, 24, 25, 26, 27, 28, 29, 30, 31, 32, 33, 34, 35, 36, 37, 38, 39, 40, 41, 42, 43, 44, 45, 46, 47, 48, 49, 50, 51, 52, 53, 54, 55, 56, 57, 58, 59, 60, 61, 62, 63, 64, 65, 66, 67, 68, 69, 70, 71, 72, 73, 74, 75, 76, 77, 78, 79, 80, 81, 82, 83, 84, 85, 86, 87, 88, 89, 90, 91, 92, 93, 94, 95, 96, 97, 98, 99, 100, 101, 102, 103, 104, 105, 106, 107, 108, 109, 110, 111, 112, 113, 114, 115, 116, 117, 118, 119, 120, 121, 122, 123, 124, 125, 126, 127, 128, 129, 130, 131, 132, 133, 134, 135, 136, 137, 138, 139, 140, 141, 142, 143, 144, 145, 146, 147, 148, 149, 150, 151, 152, 153, 154, 155, 156, 157, 158, 159, 160, 161, 162, 163, 164, 165, 166, 167, 168, 169, 170, 171, 172, 173, 174, 175, 176, 177, 178, 179, 180, 181, 182, 183, 184, 185, 186, 187, 188, 189, 190, 191, 192, 193, 194, 195, 196, 197, 198, 199, 200], \"xaxis\": \"x\", \"y\": [2.657693178301497, 2.8806729749542925, 2.9148547738340898, 3.6629011716408657, 5.25737790183771, 2.691923982677922, 6.553816847419955, 6.6539672289167155, 5.821069554779342, 5.304421740566721, 5.394385435717561, 6.209977355580178, 6.13302585959394, 6.0456633965791635, 6.148216138007918, 5.876028892623011, 6.005587449627959, 5.9987998936545885, 6.7530155536793925, 6.795123979556762, 6.29514430414863, 6.173875744704807, 6.002704016825975, 5.962823102305425, 6.65736693330481, 6.02106779934795, 6.470427731915801, 6.141762854498865, 6.478447621544587, 6.624681419622911, 6.4340407700041, 7.777554837327483, 7.718464789817251, 7.590753531598665, 5.179211966896658, 4.097841815917059, 3.9543624713332384, 3.848126747218424, 3.872370131496861, 3.9003685332062714, 3.8722754292216264, 3.888699836426378, 3.754273494500764, 3.9469137189001957, 3.8020469632988916, 3.979659110064225, 3.876975861818674, 4.077014097697647, 4.114493500035401, 4.201370461023341, 4.0189409196100625, 4.137801430721169, 3.570419346347084, 4.646563924280456, 3.3951252736034774, 3.3732772844070187, 4.307545723681805, 4.231656074570751, 4.294165284237968, 4.325974578322373, 4.335047697731443, 4.489918501431592, 4.488357262869658, 4.3223132061984515, 4.338195293462335, 4.412849718851948, 5.75042238792968, 5.732692194824709, 6.20559044212531, 6.492320330889891, 7.43359826719225, 6.040746915301135, 7.889672982216521, 7.883063657995775, 7.811899610321001, 8.226403793691512, 8.113030109006743, 8.643491120317892, 7.569346995465242, 8.037942550193664, 7.487155936386404, 8.197337363270348, 7.987126236684847, 7.972127236398021, 8.119520724740156, 7.642491489530541, 7.345719493079209, 7.26129952865943, 7.294971620175189, 7.277525019323287, 7.407223755790829, 7.01440745869857, 9.352549690705455, 8.123818379835244, 9.033295201342193, 9.316501644996803, 9.704212694384692, 9.468840454246887, 8.33772235664713, 13.359311194248846, 7.77425832288359, 7.9619806565771185, 5.8915044064826825, 5.171436509781768, 5.173288732716148, 5.247602280307273, 5.152764010700305, 5.079363923935422, 4.98107886909547, 5.362556467306893, 6.956162477120132, 7.093777115056781, 7.2669342857387775, 7.185509876158999, 7.298121182457274, 7.155923825383954, 7.144622138115544, 6.93618397707701, 6.994908606525552, 6.886540288828432, 7.230221407694735, 6.6640878642813774, 7.575465977896236, 7.600648355173286, 7.515669440636804, 6.342719739639556, 6.297807815595057, 7.017550064442816, 7.098976627938567, 6.9980163561096775, 7.231127352413149, 6.784601722107293, 7.1231580162783965, 6.90041661563702, 6.975025623640782, 7.1358203405366085, 7.361811186422637, 6.306927777651171, 6.393367239146321, 6.699133103475938, 5.87610951193082, 7.305643813998239, 7.580209101965404, 7.444792868601644, 9.032526856782729, 8.667232920805477, 8.665175579718943, 9.027536595802948, 8.449439471753678, 9.123462043639325, 10.166287580419098, 10.790992047993514, 9.446219910620501, 10.768090487153392, 11.09870085034677, 11.088114381756759, 10.302123758379643, 10.352035748418215, 10.318996622594454, 11.487572875612388, 11.605549966308715, 10.014967989908273, 10.28089792341929, 10.536347542333111, 10.594059540462046, 10.52673432758065, 10.580494414345754, 10.60253771554059, 10.585431576545856, 10.664535330310695, 10.67943532138991, 10.575870230213095, 12.411829499052235, 12.287672114870109, 12.331591914614382, 12.50698909831119, 12.856236625338035, 12.89741984360105, 12.562818390682757, 12.356135921414184, 12.088110989291215, 12.447006965932509, 13.615351966472497, 13.338252071917566, 13.992068548925984, 14.089252950723237, 13.961077986420841, 13.844492148753964, 13.844405819127655, 13.631534410309978, 13.76803603274905, 13.786785493533534, 13.491639454908732, 13.698917805341807, 13.619709973432247, 13.640986743334283, 13.398757479705939, 13.621162656918933, 13.072329743678578, 13.429266858449104], \"yaxis\": \"y\"}],\n",
       "                        {\"height\": 600, \"legend\": {\"tracegroupgap\": 0}, \"margin\": {\"t\": 60}, \"template\": {\"data\": {\"bar\": [{\"error_x\": {\"color\": \"#2a3f5f\"}, \"error_y\": {\"color\": \"#2a3f5f\"}, \"marker\": {\"line\": {\"color\": \"#E5ECF6\", \"width\": 0.5}}, \"type\": \"bar\"}], \"barpolar\": [{\"marker\": {\"line\": {\"color\": \"#E5ECF6\", \"width\": 0.5}}, \"type\": \"barpolar\"}], \"carpet\": [{\"aaxis\": {\"endlinecolor\": \"#2a3f5f\", \"gridcolor\": \"white\", \"linecolor\": \"white\", \"minorgridcolor\": \"white\", \"startlinecolor\": \"#2a3f5f\"}, \"baxis\": {\"endlinecolor\": \"#2a3f5f\", \"gridcolor\": \"white\", \"linecolor\": \"white\", \"minorgridcolor\": \"white\", \"startlinecolor\": \"#2a3f5f\"}, \"type\": \"carpet\"}], \"choropleth\": [{\"colorbar\": {\"outlinewidth\": 0, \"ticks\": \"\"}, \"type\": \"choropleth\"}], \"contour\": [{\"colorbar\": {\"outlinewidth\": 0, \"ticks\": \"\"}, \"colorscale\": [[0.0, \"#0d0887\"], [0.1111111111111111, \"#46039f\"], [0.2222222222222222, \"#7201a8\"], [0.3333333333333333, \"#9c179e\"], [0.4444444444444444, \"#bd3786\"], [0.5555555555555556, \"#d8576b\"], [0.6666666666666666, \"#ed7953\"], [0.7777777777777778, \"#fb9f3a\"], [0.8888888888888888, \"#fdca26\"], [1.0, \"#f0f921\"]], \"type\": \"contour\"}], \"contourcarpet\": [{\"colorbar\": {\"outlinewidth\": 0, \"ticks\": \"\"}, \"type\": \"contourcarpet\"}], \"heatmap\": [{\"colorbar\": {\"outlinewidth\": 0, \"ticks\": \"\"}, \"colorscale\": [[0.0, \"#0d0887\"], [0.1111111111111111, \"#46039f\"], [0.2222222222222222, \"#7201a8\"], [0.3333333333333333, \"#9c179e\"], [0.4444444444444444, \"#bd3786\"], [0.5555555555555556, \"#d8576b\"], [0.6666666666666666, \"#ed7953\"], [0.7777777777777778, \"#fb9f3a\"], [0.8888888888888888, \"#fdca26\"], [1.0, \"#f0f921\"]], \"type\": \"heatmap\"}], \"heatmapgl\": [{\"colorbar\": {\"outlinewidth\": 0, \"ticks\": \"\"}, \"colorscale\": [[0.0, \"#0d0887\"], [0.1111111111111111, \"#46039f\"], [0.2222222222222222, \"#7201a8\"], [0.3333333333333333, \"#9c179e\"], [0.4444444444444444, \"#bd3786\"], [0.5555555555555556, \"#d8576b\"], [0.6666666666666666, \"#ed7953\"], [0.7777777777777778, \"#fb9f3a\"], [0.8888888888888888, \"#fdca26\"], [1.0, \"#f0f921\"]], \"type\": \"heatmapgl\"}], \"histogram\": [{\"marker\": {\"colorbar\": {\"outlinewidth\": 0, \"ticks\": \"\"}}, \"type\": \"histogram\"}], \"histogram2d\": [{\"colorbar\": {\"outlinewidth\": 0, \"ticks\": \"\"}, \"colorscale\": [[0.0, \"#0d0887\"], [0.1111111111111111, \"#46039f\"], [0.2222222222222222, \"#7201a8\"], [0.3333333333333333, \"#9c179e\"], [0.4444444444444444, \"#bd3786\"], [0.5555555555555556, \"#d8576b\"], [0.6666666666666666, \"#ed7953\"], [0.7777777777777778, \"#fb9f3a\"], [0.8888888888888888, \"#fdca26\"], [1.0, \"#f0f921\"]], \"type\": \"histogram2d\"}], \"histogram2dcontour\": [{\"colorbar\": {\"outlinewidth\": 0, \"ticks\": \"\"}, \"colorscale\": [[0.0, \"#0d0887\"], [0.1111111111111111, \"#46039f\"], [0.2222222222222222, \"#7201a8\"], [0.3333333333333333, \"#9c179e\"], [0.4444444444444444, \"#bd3786\"], [0.5555555555555556, \"#d8576b\"], [0.6666666666666666, \"#ed7953\"], [0.7777777777777778, \"#fb9f3a\"], [0.8888888888888888, \"#fdca26\"], [1.0, \"#f0f921\"]], \"type\": \"histogram2dcontour\"}], \"mesh3d\": [{\"colorbar\": {\"outlinewidth\": 0, \"ticks\": \"\"}, \"type\": \"mesh3d\"}], \"parcoords\": [{\"line\": {\"colorbar\": {\"outlinewidth\": 0, \"ticks\": \"\"}}, \"type\": \"parcoords\"}], \"scatter\": [{\"marker\": {\"colorbar\": {\"outlinewidth\": 0, \"ticks\": \"\"}}, \"type\": \"scatter\"}], \"scatter3d\": [{\"line\": {\"colorbar\": {\"outlinewidth\": 0, \"ticks\": \"\"}}, \"marker\": {\"colorbar\": {\"outlinewidth\": 0, \"ticks\": \"\"}}, \"type\": \"scatter3d\"}], \"scattercarpet\": [{\"marker\": {\"colorbar\": {\"outlinewidth\": 0, \"ticks\": \"\"}}, \"type\": \"scattercarpet\"}], \"scattergeo\": [{\"marker\": {\"colorbar\": {\"outlinewidth\": 0, \"ticks\": \"\"}}, \"type\": \"scattergeo\"}], \"scattergl\": [{\"marker\": {\"colorbar\": {\"outlinewidth\": 0, \"ticks\": \"\"}}, \"type\": \"scattergl\"}], \"scattermapbox\": [{\"marker\": {\"colorbar\": {\"outlinewidth\": 0, \"ticks\": \"\"}}, \"type\": \"scattermapbox\"}], \"scatterpolar\": [{\"marker\": {\"colorbar\": {\"outlinewidth\": 0, \"ticks\": \"\"}}, \"type\": \"scatterpolar\"}], \"scatterpolargl\": [{\"marker\": {\"colorbar\": {\"outlinewidth\": 0, \"ticks\": \"\"}}, \"type\": \"scatterpolargl\"}], \"scatterternary\": [{\"marker\": {\"colorbar\": {\"outlinewidth\": 0, \"ticks\": \"\"}}, \"type\": \"scatterternary\"}], \"surface\": [{\"colorbar\": {\"outlinewidth\": 0, \"ticks\": \"\"}, \"colorscale\": [[0.0, \"#0d0887\"], [0.1111111111111111, \"#46039f\"], [0.2222222222222222, \"#7201a8\"], [0.3333333333333333, \"#9c179e\"], [0.4444444444444444, \"#bd3786\"], [0.5555555555555556, \"#d8576b\"], [0.6666666666666666, \"#ed7953\"], [0.7777777777777778, \"#fb9f3a\"], [0.8888888888888888, \"#fdca26\"], [1.0, \"#f0f921\"]], \"type\": \"surface\"}], \"table\": [{\"cells\": {\"fill\": {\"color\": \"#EBF0F8\"}, \"line\": {\"color\": \"white\"}}, \"header\": {\"fill\": {\"color\": \"#C8D4E3\"}, \"line\": {\"color\": \"white\"}}, \"type\": \"table\"}]}, \"layout\": {\"annotationdefaults\": {\"arrowcolor\": \"#2a3f5f\", \"arrowhead\": 0, \"arrowwidth\": 1}, \"colorscale\": {\"diverging\": [[0, \"#8e0152\"], [0.1, \"#c51b7d\"], [0.2, \"#de77ae\"], [0.3, \"#f1b6da\"], [0.4, \"#fde0ef\"], [0.5, \"#f7f7f7\"], [0.6, \"#e6f5d0\"], [0.7, \"#b8e186\"], [0.8, \"#7fbc41\"], [0.9, \"#4d9221\"], [1, \"#276419\"]], \"sequential\": [[0.0, \"#0d0887\"], [0.1111111111111111, \"#46039f\"], [0.2222222222222222, \"#7201a8\"], [0.3333333333333333, \"#9c179e\"], [0.4444444444444444, \"#bd3786\"], [0.5555555555555556, \"#d8576b\"], [0.6666666666666666, \"#ed7953\"], [0.7777777777777778, \"#fb9f3a\"], [0.8888888888888888, \"#fdca26\"], [1.0, \"#f0f921\"]], \"sequentialminus\": [[0.0, \"#0d0887\"], [0.1111111111111111, \"#46039f\"], [0.2222222222222222, \"#7201a8\"], [0.3333333333333333, \"#9c179e\"], [0.4444444444444444, \"#bd3786\"], [0.5555555555555556, \"#d8576b\"], [0.6666666666666666, \"#ed7953\"], [0.7777777777777778, \"#fb9f3a\"], [0.8888888888888888, \"#fdca26\"], [1.0, \"#f0f921\"]]}, \"colorway\": [\"#636efa\", \"#EF553B\", \"#00cc96\", \"#ab63fa\", \"#FFA15A\", \"#19d3f3\", \"#FF6692\", \"#B6E880\", \"#FF97FF\", \"#FECB52\"], \"font\": {\"color\": \"#2a3f5f\"}, \"geo\": {\"bgcolor\": \"white\", \"lakecolor\": \"white\", \"landcolor\": \"#E5ECF6\", \"showlakes\": true, \"showland\": true, \"subunitcolor\": \"white\"}, \"hoverlabel\": {\"align\": \"left\"}, \"hovermode\": \"closest\", \"mapbox\": {\"style\": \"light\"}, \"paper_bgcolor\": \"white\", \"plot_bgcolor\": \"#E5ECF6\", \"polar\": {\"angularaxis\": {\"gridcolor\": \"white\", \"linecolor\": \"white\", \"ticks\": \"\"}, \"bgcolor\": \"#E5ECF6\", \"radialaxis\": {\"gridcolor\": \"white\", \"linecolor\": \"white\", \"ticks\": \"\"}}, \"scene\": {\"xaxis\": {\"backgroundcolor\": \"#E5ECF6\", \"gridcolor\": \"white\", \"gridwidth\": 2, \"linecolor\": \"white\", \"showbackground\": true, \"ticks\": \"\", \"zerolinecolor\": \"white\"}, \"yaxis\": {\"backgroundcolor\": \"#E5ECF6\", \"gridcolor\": \"white\", \"gridwidth\": 2, \"linecolor\": \"white\", \"showbackground\": true, \"ticks\": \"\", \"zerolinecolor\": \"white\"}, \"zaxis\": {\"backgroundcolor\": \"#E5ECF6\", \"gridcolor\": \"white\", \"gridwidth\": 2, \"linecolor\": \"white\", \"showbackground\": true, \"ticks\": \"\", \"zerolinecolor\": \"white\"}}, \"shapedefaults\": {\"line\": {\"color\": \"#2a3f5f\"}}, \"ternary\": {\"aaxis\": {\"gridcolor\": \"white\", \"linecolor\": \"white\", \"ticks\": \"\"}, \"baxis\": {\"gridcolor\": \"white\", \"linecolor\": \"white\", \"ticks\": \"\"}, \"bgcolor\": \"#E5ECF6\", \"caxis\": {\"gridcolor\": \"white\", \"linecolor\": \"white\", \"ticks\": \"\"}}, \"title\": {\"x\": 0.05}, \"xaxis\": {\"automargin\": true, \"gridcolor\": \"white\", \"linecolor\": \"white\", \"ticks\": \"\", \"zerolinecolor\": \"white\", \"zerolinewidth\": 2}, \"yaxis\": {\"automargin\": true, \"gridcolor\": \"white\", \"linecolor\": \"white\", \"ticks\": \"\", \"zerolinecolor\": \"white\", \"zerolinewidth\": 2}}}, \"xaxis\": {\"anchor\": \"y\", \"domain\": [0.0, 0.98], \"title\": {\"text\": \"epochs\"}}, \"yaxis\": {\"anchor\": \"x\", \"domain\": [0.0, 1.0], \"title\": {\"text\": \"behavioural_variances_to_input\"}}},\n",
       "                        {\"responsive\": true}\n",
       "                    ).then(function(){\n",
       "                            \n",
       "var gd = document.getElementById('ee1a8c2f-0e2c-4b0e-bd68-e0ef73c2fd40');\n",
       "var x = new MutationObserver(function (mutations, observer) {{\n",
       "        var display = window.getComputedStyle(gd).display;\n",
       "        if (!display || display === 'none') {{\n",
       "            console.log([gd, 'removed!']);\n",
       "            Plotly.purge(gd);\n",
       "            observer.disconnect();\n",
       "        }}\n",
       "}});\n",
       "\n",
       "// Listen for the removal of the full notebook cells\n",
       "var notebookContainer = gd.closest('#notebook-container');\n",
       "if (notebookContainer) {{\n",
       "    x.observe(notebookContainer, {childList: true});\n",
       "}}\n",
       "\n",
       "// Listen for the clearing of the current output cell\n",
       "var outputEl = gd.closest('.output');\n",
       "if (outputEl) {{\n",
       "    x.observe(outputEl, {childList: true});\n",
       "}}\n",
       "\n",
       "                        })\n",
       "                };\n",
       "                });\n",
       "            </script>\n",
       "        </div>"
      ]
     },
     "metadata": {},
     "output_type": "display_data"
    }
   ],
   "source": [
    "plot_behavioural_variances_to_input(experiment_name, get_random_input_func)"
   ]
  },
  {
   "cell_type": "code",
   "execution_count": 36,
   "metadata": {},
   "outputs": [],
   "source": [
    "figs = plot_params_statistics(experiment_name)"
   ]
  },
  {
   "cell_type": "code",
   "execution_count": 37,
   "metadata": {},
   "outputs": [
    {
     "data": {
      "application/vnd.plotly.v1+json": {
       "config": {
        "plotlyServerURL": "https://plot.ly"
       },
       "data": [
        {
         "hoverlabel": {
          "namelength": 0
         },
         "hovertemplate": "category=weights_0<br>epoch=%{x}<br>mean=%{y}",
         "legendgroup": "category=weights_0",
         "line": {
          "color": "#636efa",
          "dash": "solid"
         },
         "mode": "lines",
         "name": "category=weights_0",
         "showlegend": true,
         "type": "scatter",
         "x": [
          1,
          2,
          3,
          4,
          5,
          6,
          7,
          8,
          9,
          10,
          11,
          12,
          13,
          14,
          15,
          16,
          17,
          18,
          19,
          20,
          21,
          22,
          23,
          24,
          25,
          26,
          27,
          28,
          29,
          30,
          31,
          32,
          33,
          34,
          35,
          36,
          37,
          38,
          39,
          40,
          41,
          42,
          43,
          44,
          45,
          46,
          47,
          48,
          49,
          50,
          51,
          52,
          53,
          54,
          55,
          56,
          57,
          58,
          59,
          60,
          61,
          62,
          63,
          64,
          65,
          66,
          67,
          68,
          69,
          70,
          71,
          72,
          73,
          74,
          75,
          76,
          77,
          78,
          79,
          80,
          81,
          82,
          83,
          84,
          85,
          86,
          87,
          88,
          89,
          90,
          91,
          92,
          93,
          94,
          95,
          96,
          97,
          98,
          99,
          100,
          101,
          102,
          103,
          104,
          105,
          106,
          107,
          108,
          109,
          110,
          111,
          112,
          113,
          114,
          115,
          116,
          117,
          118,
          119,
          120,
          121,
          122,
          123,
          124,
          125,
          126,
          127,
          128,
          129,
          130,
          131,
          132,
          133,
          134,
          135,
          136,
          137,
          138,
          139,
          140,
          141,
          142,
          143,
          144,
          145,
          146,
          147,
          148,
          149,
          150,
          151,
          152,
          153,
          154,
          155,
          156,
          157,
          158,
          159,
          160,
          161,
          162,
          163,
          164,
          165,
          166,
          167,
          168,
          169,
          170,
          171,
          172,
          173,
          174,
          175,
          176,
          177,
          178,
          179,
          180,
          181,
          182,
          183,
          184,
          185,
          186,
          187,
          188,
          189,
          190,
          191,
          192,
          193,
          194,
          195,
          196,
          197,
          198,
          199,
          200
         ],
         "xaxis": "x",
         "y": [
          -0.1087899861884376,
          -0.047864409788107326,
          0.005890475823269845,
          0.0018375462656731686,
          -0.010936467827767233,
          0.020749931324562473,
          -0.005937902360934283,
          -0.003769333591780922,
          0.03275380147859326,
          0.019744162811811076,
          0.02134560285686719,
          0.07691165676731951,
          0.07660440308395423,
          0.07057219706115528,
          0.06912029015552829,
          0.06798036107712507,
          0.0693048079393135,
          0.06665640036714535,
          0.07057178853351315,
          0.06431592109407647,
          0.06582613843954818,
          0.06734589957730602,
          0.06562614874690495,
          0.06511038643337119,
          0.06285552807788432,
          0.06414862934340376,
          0.0750122138031974,
          0.06257328065902897,
          0.06872477250656302,
          0.05728434779589694,
          0.06875768687867308,
          0.06169049871216763,
          0.05892560358800688,
          0.01669064901684991,
          0.06839113652637427,
          0.07517665600404777,
          0.07721388261502726,
          0.06476222772957288,
          0.06135587663852661,
          0.06440777091155214,
          0.06833198570380886,
          0.0673812870099102,
          0.06790956378827018,
          0.06915366137678175,
          0.06794952643706945,
          0.0720381183758003,
          0.07351876290678572,
          0.040241318314120283,
          0.04052789101876472,
          0.04152798434104955,
          0.05151587874640581,
          0.054914335130811,
          0.05058644560785195,
          0.10415963010009542,
          0.05155059176164599,
          0.0471695949392127,
          0.020482353120277505,
          0.022894770959356298,
          0.016606716864538597,
          0.023113639690532293,
          0.02325481842498322,
          0.024051719072918906,
          0.025815984715579,
          0.011488565902498983,
          0.011690397332204491,
          0.00953470099203419,
          0.02224292077192125,
          0.02059970589479429,
          -0.0021130739722785784,
          -0.0026230444859757216,
          0.024901026015083698,
          0.012727934210382126,
          -0.0024339068482867963,
          -0.005515632907594889,
          -0.009031314661834107,
          -0.005479389793238436,
          -0.008936796226015044,
          -0.01461370230895331,
          -0.003173219988075917,
          -0.008311693162481192,
          3.2523390160511246e-05,
          -0.008997567950334849,
          -0.008369005444228316,
          -0.005626743186266746,
          -0.004878133165477592,
          -0.007175397308465194,
          -0.010002587491679054,
          -0.013953656997310089,
          -0.006411988342230311,
          -0.004815264459405497,
          -0.005519957234651941,
          0.016294431298557944,
          0.021242058102984258,
          0.025911533132155436,
          0.01063757997765341,
          0.0037730973035316863,
          0.00898193262379543,
          0.01235121038615554,
          -0.032008715711118095,
          -0.00871402854228461,
          -0.05232900549446913,
          -0.05714339952813704,
          -0.019457698079175485,
          -0.03945484280557034,
          -0.043389097716347226,
          -0.037922326632986635,
          -0.038666479090391906,
          -0.042791592977375115,
          -0.04156959778119265,
          -0.0369025819114681,
          -0.0448076602368013,
          -0.044320809389664616,
          -0.046684594692400494,
          -0.04079934693292288,
          -0.04325908647942471,
          -0.04293916693661053,
          -0.041655705060965935,
          -0.04422302930007636,
          -0.042229919359008196,
          -0.04222534458009469,
          -0.046377726338917714,
          -0.049090567303780856,
          -0.03173320612860754,
          -0.03473476229376545,
          -0.03310369380160994,
          -0.02870922622668501,
          -0.03185258282562203,
          -0.01692173595975196,
          -0.01684646988163411,
          -0.019467661666041264,
          -0.012935200348553916,
          -0.02446825321599287,
          -0.01825737400052412,
          -0.028838395737792375,
          -0.026802268776639642,
          -0.012566973048457145,
          -0.012968250035534543,
          -0.012726815123190663,
          -0.01311039617631353,
          -0.009941458203079215,
          -0.048104632298675266,
          -0.01088086537714054,
          -0.006951712164835522,
          -0.011754530411093478,
          -0.04591638674671068,
          -0.08672910846448505,
          -0.08791157383596303,
          -0.03471936036892713,
          -0.07384922237138619,
          -0.029545069391345866,
          -0.08764040237230443,
          -0.06136743423550336,
          -0.07823726050188519,
          -0.06371086829065693,
          -0.06468122939686763,
          -0.06853204854058391,
          -0.05995486956833343,
          -0.05793848757789861,
          -0.05850483396937405,
          -0.07366718992027096,
          -0.07201465861023718,
          -0.053623847761012686,
          -0.05385033160960569,
          -0.05423306983645442,
          -0.06765263864854829,
          -0.06487083609438589,
          -0.06178590805711178,
          -0.05989136809733524,
          -0.06326606567013253,
          -0.055686294163271526,
          -0.06620726831535384,
          -0.06700240420757328,
          -0.05403143660122514,
          -0.05460472055467021,
          -0.0533743081074072,
          -0.04852153798937475,
          -0.047131371697955116,
          -0.05280710448028725,
          -0.05080371359747076,
          -0.04959016530601073,
          -0.05236446046946646,
          -0.049477395262673696,
          -0.07189904763559103,
          -0.06534216862842587,
          -0.09626446025481473,
          -0.09829578108836466,
          -0.0966544150804753,
          -0.09171565857024153,
          -0.10302534697543571,
          -0.10542208676509077,
          -0.09925284770900307,
          -0.10388325842747047,
          -0.10245818793085366,
          -0.10260985684877341,
          -0.10409367754766961,
          -0.10314151613631914,
          -0.12389700695379298,
          -0.1271718312467604,
          -0.12278628114259162,
          -0.12216865800180715
         ],
         "yaxis": "y"
        },
        {
         "hoverlabel": {
          "namelength": 0
         },
         "hovertemplate": "category=weights_1<br>epoch=%{x}<br>mean=%{y}",
         "legendgroup": "category=weights_1",
         "line": {
          "color": "#EF553B",
          "dash": "solid"
         },
         "mode": "lines",
         "name": "category=weights_1",
         "showlegend": true,
         "type": "scatter",
         "x": [
          1,
          2,
          3,
          4,
          5,
          6,
          7,
          8,
          9,
          10,
          11,
          12,
          13,
          14,
          15,
          16,
          17,
          18,
          19,
          20,
          21,
          22,
          23,
          24,
          25,
          26,
          27,
          28,
          29,
          30,
          31,
          32,
          33,
          34,
          35,
          36,
          37,
          38,
          39,
          40,
          41,
          42,
          43,
          44,
          45,
          46,
          47,
          48,
          49,
          50,
          51,
          52,
          53,
          54,
          55,
          56,
          57,
          58,
          59,
          60,
          61,
          62,
          63,
          64,
          65,
          66,
          67,
          68,
          69,
          70,
          71,
          72,
          73,
          74,
          75,
          76,
          77,
          78,
          79,
          80,
          81,
          82,
          83,
          84,
          85,
          86,
          87,
          88,
          89,
          90,
          91,
          92,
          93,
          94,
          95,
          96,
          97,
          98,
          99,
          100,
          101,
          102,
          103,
          104,
          105,
          106,
          107,
          108,
          109,
          110,
          111,
          112,
          113,
          114,
          115,
          116,
          117,
          118,
          119,
          120,
          121,
          122,
          123,
          124,
          125,
          126,
          127,
          128,
          129,
          130,
          131,
          132,
          133,
          134,
          135,
          136,
          137,
          138,
          139,
          140,
          141,
          142,
          143,
          144,
          145,
          146,
          147,
          148,
          149,
          150,
          151,
          152,
          153,
          154,
          155,
          156,
          157,
          158,
          159,
          160,
          161,
          162,
          163,
          164,
          165,
          166,
          167,
          168,
          169,
          170,
          171,
          172,
          173,
          174,
          175,
          176,
          177,
          178,
          179,
          180,
          181,
          182,
          183,
          184,
          185,
          186,
          187,
          188,
          189,
          190,
          191,
          192,
          193,
          194,
          195,
          196,
          197,
          198,
          199,
          200
         ],
         "xaxis": "x",
         "y": [
          0.203225907708577,
          0.05474569059561965,
          0.27387547717443367,
          0.39930306522557424,
          0.2578383855085141,
          0.42513012623725877,
          0.181216368217071,
          0.17131001198392093,
          0.17603596067829488,
          0.10593319629973548,
          0.09780973823886195,
          0.1599079765845136,
          0.15692360819406673,
          0.18415811710683683,
          0.1795879908093719,
          0.17884539646997602,
          0.17082598075889985,
          0.18246572048279625,
          0.20614690832108373,
          0.19725006966299874,
          0.20917215142743592,
          0.20573892502885172,
          0.20282252167882495,
          0.19708812585727692,
          0.18919056977811965,
          0.18937438045802765,
          0.19676323160604886,
          0.21478436217283414,
          0.2161053006480714,
          0.19678497639071718,
          0.21189878440450272,
          0.25224585480426825,
          0.2520887026319722,
          0.3710040188183654,
          0.23069061781536146,
          0.24241723450441777,
          0.23716161500797142,
          0.20177214305857452,
          0.20101767811926924,
          0.2010670457629643,
          0.2020586492311356,
          0.20142613810073964,
          0.21457776502593562,
          0.21371873529188445,
          0.21944207011620334,
          0.19889160240373935,
          0.19253554551661192,
          0.2900884332986473,
          0.2922444843050165,
          0.2808389996376699,
          0.2854844373495882,
          0.2782802342185299,
          0.2654661136166559,
          0.3320411251568181,
          0.28389418514750314,
          0.28934322915944427,
          0.28904042705191285,
          0.29829042645818,
          0.29636875153092296,
          0.2939513642168792,
          0.29165005130911376,
          0.2843925386498386,
          0.2839285044655004,
          0.28364571361197,
          0.2812936889331042,
          0.2866623230904332,
          0.40697558415631874,
          0.4129945719964425,
          0.4334706207614306,
          0.46140572625744664,
          0.44857137447959466,
          0.36522083807531386,
          0.38334694316896856,
          0.3820790312455642,
          0.3818300317914402,
          0.3772269345523861,
          0.3857733717157415,
          0.3732227644613298,
          0.3943782075820998,
          0.3798748016100325,
          0.39075708625590566,
          0.3853920114930701,
          0.38451851958719324,
          0.3840708333467985,
          0.38428560389444627,
          0.39966958332853936,
          0.38034846556485113,
          0.37551984027152696,
          0.38785967132608784,
          0.3790298033147796,
          0.3942106334147172,
          0.38845786619023537,
          0.3245745125674623,
          0.3456431562297105,
          0.24801414736538815,
          0.2504627986043335,
          0.24046745991131585,
          0.2456610789463928,
          0.2733612261178465,
          0.1574940929423475,
          0.19051394610102831,
          0.19563244177191952,
          0.09017658023047737,
          0.05396484815554132,
          0.05588733474573223,
          0.0445486261715302,
          0.05439158758036241,
          0.05107543760655156,
          0.06004492804185277,
          0.049614880604641795,
          0.07562804800723702,
          0.07227201475659652,
          0.062398911278731574,
          0.06280455049662788,
          0.060523925820468186,
          0.09452447642894944,
          0.09492858567495477,
          0.10689245932553942,
          0.11055542594183994,
          0.08975543619261236,
          0.09077270354924419,
          0.06047409923703525,
          0.016608017723529638,
          0.02219215320187125,
          0.02175677937783586,
          0.0935561095686947,
          0.09181204525918824,
          0.06246177305993888,
          0.06570615794197858,
          0.059258187291718806,
          0.07701159727016697,
          0.09247593155097451,
          0.07246871468888884,
          0.08858117514464231,
          0.08322352355471765,
          0.07587348105177279,
          0.05340867063570473,
          0.08623884662178552,
          0.07253890670608597,
          0.08971540847236659,
          -0.03551564206143146,
          0.07597245552516925,
          0.07810627339683653,
          0.07913921562017254,
          0.20701804249929529,
          0.18860590115353226,
          0.184118780151811,
          0.23600254653512576,
          0.1933032207271363,
          0.2209351962330378,
          0.2421644875157335,
          0.2688379205605646,
          0.2593359643725852,
          0.27761813190747997,
          0.26560457688875877,
          0.26418739027568033,
          0.25715243302741114,
          0.2539742395510959,
          0.2499505543617115,
          0.2813133777637222,
          0.28279390423800155,
          0.25135843346745873,
          0.26052648673427736,
          0.26743984006748156,
          0.32554927257200156,
          0.30804270129367295,
          0.3067847760647282,
          0.305493526721049,
          0.31249857782470203,
          0.31468928948896363,
          0.3162098316989791,
          0.3181618912834432,
          0.23213075866215277,
          0.233164237545893,
          0.2294645660684275,
          0.18088245623746896,
          0.1787650823670227,
          0.17982846395998117,
          0.17169151003059566,
          0.17444658722040113,
          0.1659733893123453,
          0.1576577582491163,
          0.24764716136780163,
          0.2821230963302299,
          0.19826704681632712,
          0.20970460830539805,
          0.20092091785259303,
          0.21338314743367393,
          0.1973246441056606,
          0.20235184277134455,
          0.2031647000564486,
          0.2086024080008527,
          0.18140103575533015,
          0.19369657129802081,
          0.18880222138106667,
          0.18827247830771682,
          0.1740211129321455,
          0.17370436854687027,
          0.17033569837051774,
          0.1858959652211265
         ],
         "yaxis": "y"
        },
        {
         "hoverlabel": {
          "namelength": 0
         },
         "hovertemplate": "category=weights_2<br>epoch=%{x}<br>mean=%{y}",
         "legendgroup": "category=weights_2",
         "line": {
          "color": "#00cc96",
          "dash": "solid"
         },
         "mode": "lines",
         "name": "category=weights_2",
         "showlegend": true,
         "type": "scatter",
         "x": [
          1,
          2,
          3,
          4,
          5,
          6,
          7,
          8,
          9,
          10,
          11,
          12,
          13,
          14,
          15,
          16,
          17,
          18,
          19,
          20,
          21,
          22,
          23,
          24,
          25,
          26,
          27,
          28,
          29,
          30,
          31,
          32,
          33,
          34,
          35,
          36,
          37,
          38,
          39,
          40,
          41,
          42,
          43,
          44,
          45,
          46,
          47,
          48,
          49,
          50,
          51,
          52,
          53,
          54,
          55,
          56,
          57,
          58,
          59,
          60,
          61,
          62,
          63,
          64,
          65,
          66,
          67,
          68,
          69,
          70,
          71,
          72,
          73,
          74,
          75,
          76,
          77,
          78,
          79,
          80,
          81,
          82,
          83,
          84,
          85,
          86,
          87,
          88,
          89,
          90,
          91,
          92,
          93,
          94,
          95,
          96,
          97,
          98,
          99,
          100,
          101,
          102,
          103,
          104,
          105,
          106,
          107,
          108,
          109,
          110,
          111,
          112,
          113,
          114,
          115,
          116,
          117,
          118,
          119,
          120,
          121,
          122,
          123,
          124,
          125,
          126,
          127,
          128,
          129,
          130,
          131,
          132,
          133,
          134,
          135,
          136,
          137,
          138,
          139,
          140,
          141,
          142,
          143,
          144,
          145,
          146,
          147,
          148,
          149,
          150,
          151,
          152,
          153,
          154,
          155,
          156,
          157,
          158,
          159,
          160,
          161,
          162,
          163,
          164,
          165,
          166,
          167,
          168,
          169,
          170,
          171,
          172,
          173,
          174,
          175,
          176,
          177,
          178,
          179,
          180,
          181,
          182,
          183,
          184,
          185,
          186,
          187,
          188,
          189,
          190,
          191,
          192,
          193,
          194,
          195,
          196,
          197,
          198,
          199,
          200
         ],
         "xaxis": "x",
         "y": [
          0.3652970862266956,
          -0.15000094860470367,
          -0.1980175594093869,
          -0.24206585999674607,
          -0.18507967103873318,
          -0.3135130646711569,
          -0.12001161848047877,
          -0.1127631244491877,
          -0.18948505058312043,
          -0.1795319533680981,
          -0.18099437550072264,
          -0.22232026524481466,
          -0.22330384833512978,
          -0.14435218087782978,
          -0.14204211084498952,
          -0.14353376915142008,
          -0.15933589113000687,
          -0.11432974711388158,
          -0.16498621310593967,
          -0.1719688513285091,
          -0.1505202719161788,
          -0.15407202828563976,
          -0.15964875578632132,
          -0.16047206924388163,
          -0.15093375070803397,
          -0.15343221625630749,
          -0.19571313910192506,
          -0.149702086590573,
          -0.15989479716755411,
          -0.18458340694124098,
          -0.15465214773939262,
          -0.12861670050914858,
          -0.13556761484660862,
          0.024592014787499197,
          -0.23038976297105856,
          -0.1744794053053536,
          -0.18230689651947202,
          -0.23315500627611785,
          -0.23364037511909974,
          -0.22577132370217498,
          -0.24447524590836023,
          -0.2495319601691004,
          -0.24973811782443178,
          -0.251801600418724,
          -0.2560581599314726,
          -0.2544116307941462,
          -0.25737230658060173,
          -0.3475438423145747,
          -0.3476369035160938,
          -0.3497331993382521,
          -0.34628951817872244,
          -0.34531611979164883,
          -0.342771124937516,
          -0.2912710968668462,
          -0.5928426789075748,
          -0.5895182155593275,
          -0.6344572111374323,
          -0.6273523125610416,
          -0.5667233537360947,
          -0.562786281069348,
          -0.5603057283195388,
          -0.5677638356015096,
          -0.5643658950799799,
          -0.5591683361187832,
          -0.5634331772458635,
          -0.558683744771596,
          -0.5928505297043076,
          -0.6020148512496747,
          -0.6089059477366104,
          -0.6138743932894601,
          -0.5559964594083449,
          -0.5609857635052826,
          -0.6928405549208456,
          -0.6910626013399094,
          -0.6910772190964173,
          -0.696102148216026,
          -0.6823844964683093,
          -0.6765491668911762,
          -0.6763842644807934,
          -0.6803818221087488,
          -0.6760377913251605,
          -0.6866687045625084,
          -0.6752510750659533,
          -0.6682577819292896,
          -0.6650280409658246,
          -0.6964956877160202,
          -0.6855558198118578,
          -0.6721272456676137,
          -0.6930936201789749,
          -0.6919439304447967,
          -0.6891935738675848,
          -0.7585292928237563,
          -0.6781420586119665,
          -0.6976231071981044,
          -0.9163864073168622,
          -0.9175277209743662,
          -0.9086777546955133,
          -0.9342732134583722,
          -0.9521926980183273,
          -1.020090637716954,
          -0.9944353223181065,
          -0.999409986704307,
          -0.9366951861966432,
          -0.9482942156359141,
          -0.9487021256651145,
          -0.9520139228954724,
          -0.9484284861540382,
          -0.947436430636258,
          -0.9544639325355,
          -0.9509255582235847,
          -0.9170861723272155,
          -0.9170406683710512,
          -0.8942889790662887,
          -0.8930133902329115,
          -0.8939515594305892,
          -0.9221123099662878,
          -0.9249444068958022,
          -0.9027021026039154,
          -0.9068077302386653,
          -0.9083932391218005,
          -0.9335896047949989,
          -0.9353001507526201,
          -0.9840388536344249,
          -0.9813652782953063,
          -0.986972176942279,
          -1.0540391115597367,
          -1.0633133265618453,
          -1.1294368351329254,
          -1.1253215934193106,
          -1.1311476058656618,
          -1.117682562648299,
          -1.1320834838597165,
          -1.125209331437601,
          -1.119819325901272,
          -1.1188921669443892,
          -1.1206562601940084,
          -1.1169302609972316,
          -1.148972710296739,
          -1.1468167719189266,
          -1.1161740113066718,
          -1.0461457843721391,
          -1.1942168900856482,
          -1.1902460288565717,
          -1.2032266995555314,
          -1.1334019876079744,
          -1.2320298783734631,
          -1.234603198228637,
          -1.127207461194772,
          -1.2558523336654357,
          -1.141820410029697,
          -1.1498049397257761,
          -1.2131930862491598,
          -1.127691482716801,
          -1.2120395290587933,
          -1.2025768549657307,
          -1.2137622098240186,
          -1.2092766213412638,
          -1.2083132064748054,
          -1.2132513801734628,
          -1.1698732670192857,
          -1.174496824464191,
          -1.2155377820147217,
          -1.21483230836033,
          -1.219550288349903,
          -1.2242820559613654,
          -1.2934044447721889,
          -1.2971775951254907,
          -1.2851194179342478,
          -1.2836009659858556,
          -1.2823658193916254,
          -1.2877512010086531,
          -1.2885367087397182,
          -1.2397658714555502,
          -1.2338512342482817,
          -1.2267435694416668,
          -1.1849570081949317,
          -1.181050415649713,
          -1.1833253655131923,
          -1.1948923910575582,
          -1.2112815077939365,
          -1.1847071780419711,
          -1.2065280320237244,
          -1.1533432406849178,
          -1.1595173351978427,
          -0.9719711408811355,
          -0.9714807574870394,
          -0.9825658330754281,
          -0.9624880192917876,
          -0.9853930980753406,
          -0.9792090983469287,
          -0.9826876502305182,
          -0.944632450822185,
          -0.9950390483376249,
          -0.9461755263719623,
          -1.002402645273821,
          -0.9361814289329897,
          -1.0007972023153342,
          -0.9963109033488047,
          -1.003723456126194,
          -0.9796831957775637
         ],
         "yaxis": "y"
        },
        {
         "hoverlabel": {
          "namelength": 0
         },
         "hovertemplate": "category=weights_3<br>epoch=%{x}<br>mean=%{y}",
         "legendgroup": "category=weights_3",
         "line": {
          "color": "#ab63fa",
          "dash": "solid"
         },
         "mode": "lines",
         "name": "category=weights_3",
         "showlegend": true,
         "type": "scatter",
         "x": [
          1,
          2,
          3,
          4,
          5,
          6,
          7,
          8,
          9,
          10,
          11,
          12,
          13,
          14,
          15,
          16,
          17,
          18,
          19,
          20,
          21,
          22,
          23,
          24,
          25,
          26,
          27,
          28,
          29,
          30,
          31,
          32,
          33,
          34,
          35,
          36,
          37,
          38,
          39,
          40,
          41,
          42,
          43,
          44,
          45,
          46,
          47,
          48,
          49,
          50,
          51,
          52,
          53,
          54,
          55,
          56,
          57,
          58,
          59,
          60,
          61,
          62,
          63,
          64,
          65,
          66,
          67,
          68,
          69,
          70,
          71,
          72,
          73,
          74,
          75,
          76,
          77,
          78,
          79,
          80,
          81,
          82,
          83,
          84,
          85,
          86,
          87,
          88,
          89,
          90,
          91,
          92,
          93,
          94,
          95,
          96,
          97,
          98,
          99,
          100,
          101,
          102,
          103,
          104,
          105,
          106,
          107,
          108,
          109,
          110,
          111,
          112,
          113,
          114,
          115,
          116,
          117,
          118,
          119,
          120,
          121,
          122,
          123,
          124,
          125,
          126,
          127,
          128,
          129,
          130,
          131,
          132,
          133,
          134,
          135,
          136,
          137,
          138,
          139,
          140,
          141,
          142,
          143,
          144,
          145,
          146,
          147,
          148,
          149,
          150,
          151,
          152,
          153,
          154,
          155,
          156,
          157,
          158,
          159,
          160,
          161,
          162,
          163,
          164,
          165,
          166,
          167,
          168,
          169,
          170,
          171,
          172,
          173,
          174,
          175,
          176,
          177,
          178,
          179,
          180,
          181,
          182,
          183,
          184,
          185,
          186,
          187,
          188,
          189,
          190,
          191,
          192,
          193,
          194,
          195,
          196,
          197,
          198,
          199,
          200
         ],
         "xaxis": "x",
         "y": [
          -0.12852681772153746,
          0.6133047471048445,
          -0.25677995591326735,
          -0.1007413050255564,
          -0.25677995591326735,
          -0.1007413050255564,
          -0.25677995591326735,
          -0.25677995591326735,
          -0.25677995591326735,
          -0.25677995591326735,
          -0.25677995591326735,
          -0.2567941347276757,
          -0.2567941347276757,
          -0.2567941347276757,
          -0.2567941347276757,
          -0.2567941347276757,
          -0.2567941347276757,
          -0.2567941347276757,
          -0.2567941347276757,
          -0.2567941347276757,
          -0.2567941347276757,
          -0.2567941347276757,
          -0.2567941347276757,
          -0.2567941347276757,
          -0.2567941347276757,
          -0.2567941347276757,
          -0.2567941347276757,
          -0.2567941347276757,
          -0.2567941347276757,
          -0.2567941347276757,
          -0.2567941347276757,
          -0.2567941347276757,
          -0.2567941347276757,
          -0.2567941347276757,
          -0.2567941347276757,
          -0.2567941347276757,
          -0.2567941347276757,
          -0.2567941347276757,
          -0.2567941347276757,
          -0.2567941347276757,
          -0.2567941347276757,
          -0.2567941347276757,
          -0.2567941347276757,
          -0.2567941347276757,
          -0.2567941347276757,
          -0.2567941347276757,
          -0.2567941347276757,
          -0.2567941347276757,
          -0.2567941347276757,
          -0.2567941347276757,
          -0.2567941347276757,
          -0.2567941347276757,
          -0.2567941347276757,
          -0.2567941347276757,
          -0.2567941347276757,
          -0.2567941347276757,
          -0.2567941347276757,
          -0.2567941347276757,
          -0.2567941347276757,
          -0.2567941347276757,
          -0.2567941347276757,
          -0.2567941347276757,
          -0.2567941347276757,
          -0.2567941347276757,
          -0.2567941347276757,
          -0.2567941347276757,
          -0.2567941347276757,
          -0.2567941347276757,
          -0.2567941347276757,
          -0.2567941347276757,
          -0.25679413472767576,
          -0.25679413472767576,
          -0.25679413472767576,
          -0.25679413472767576,
          -0.25679413472767576,
          -0.25679413472767576,
          -0.25679413472767576,
          -0.25679413472767576,
          -0.25679413472767576,
          -0.25679413472767576,
          -0.25679413472767576,
          -0.25679413472767576,
          -0.25679413472767576,
          -0.25679413472767576,
          -0.25679413472767576,
          -0.25679413472767576,
          -0.25679413472767576,
          -0.25679413472767576,
          -0.25679413472767576,
          -0.25679413472767576,
          -0.25679413472767576,
          -0.25679413472767576,
          -0.25679413472767576,
          -0.25679413472767576,
          -0.25679413472767576,
          -0.25679413472767576,
          -0.25679413472767576,
          -0.25679413472767576,
          -0.25679413472767576,
          -0.25679413472767576,
          -0.25679413472767576,
          -0.25679413472767576,
          -0.25679413472767576,
          -0.25679413472767576,
          -0.25679413472767576,
          -0.25679413472767576,
          -0.25679413472767576,
          -0.25679413472767576,
          -0.25679413472767576,
          -0.25679413472767576,
          -0.25679413472767576,
          -0.25679413472767576,
          -0.25679413472767576,
          -0.25679413472767576,
          -0.25679413472767576,
          -0.25679413472767576,
          -0.25679413472767576,
          -0.25679413472767576,
          -0.25679413472767576,
          -0.25679413472767576,
          -0.25679413472767576,
          -0.25679413472767576,
          -0.25679413472767576,
          -0.25679413472767576,
          -0.25679413472767576,
          -0.25679413472767576,
          -0.25679413472767576,
          -0.25679413472767576,
          -0.25679413472767576,
          -0.25679413472767576,
          -0.25679413472767576,
          -0.25679413472767576,
          -0.25679413472767576,
          -0.25679413472767576,
          -0.25679413472767576,
          -0.25679413472767576,
          -0.25679413472767576,
          -0.25679413472767576,
          -0.25679413472767576,
          -0.25679413472767576,
          -0.25679413472767576,
          -0.25679413472767576,
          -0.25679413472767576,
          -0.25679413472767576,
          -0.25679413472767576,
          -0.25679413472767576,
          -0.25679413472767576,
          -0.25679413472767576,
          -0.25679413472767576,
          -0.25679413472767576,
          -0.25679413472767576,
          -0.25679413472767576,
          -0.25679413472767576,
          -0.25679413472767576,
          -0.25679413472767576,
          -0.25679413472767576,
          -0.25679413472767576,
          -0.25679413472767576,
          -0.25679413472767576,
          -0.25679413472767576,
          -0.25679413472767576,
          -0.25679413472767576,
          -0.25679413472767576,
          -0.25679413472767576,
          -0.25679413472767576,
          -0.25679413472767576,
          -0.25679413472767576,
          -0.25679413472767576,
          -0.25679413472767576,
          -0.25679413472767576,
          -0.25679413472767576,
          -0.25679413472767576,
          -0.25679413472767576,
          -0.25679413472767576,
          -0.25679413472767576,
          -0.25679413472767576,
          -0.25679413472767576,
          -0.25679413472767576,
          -0.25679413472767576,
          -0.25679413472767576,
          -0.25679413472767576,
          -0.25679413472767576,
          -0.25679413472767576,
          -0.25679413472767576,
          -0.25679413472767576,
          -0.25679413472767576,
          -0.25679413472767576,
          -0.25679413472767576,
          -0.25679413472767576,
          -0.25679413472767576,
          -0.25679413472767576,
          -0.25679413472767576,
          -0.25679413472767576,
          -0.25679413472767576,
          -0.25679413472767576,
          -0.25679413472767576,
          -0.25679413472767576,
          -0.25679413472767576,
          -0.25679413472767576,
          -0.25679413472767576
         ],
         "yaxis": "y"
        }
       ],
       "layout": {
        "height": 600,
        "legend": {
         "tracegroupgap": 0
        },
        "margin": {
         "t": 60
        },
        "template": {
         "data": {
          "bar": [
           {
            "error_x": {
             "color": "#2a3f5f"
            },
            "error_y": {
             "color": "#2a3f5f"
            },
            "marker": {
             "line": {
              "color": "#E5ECF6",
              "width": 0.5
             }
            },
            "type": "bar"
           }
          ],
          "barpolar": [
           {
            "marker": {
             "line": {
              "color": "#E5ECF6",
              "width": 0.5
             }
            },
            "type": "barpolar"
           }
          ],
          "carpet": [
           {
            "aaxis": {
             "endlinecolor": "#2a3f5f",
             "gridcolor": "white",
             "linecolor": "white",
             "minorgridcolor": "white",
             "startlinecolor": "#2a3f5f"
            },
            "baxis": {
             "endlinecolor": "#2a3f5f",
             "gridcolor": "white",
             "linecolor": "white",
             "minorgridcolor": "white",
             "startlinecolor": "#2a3f5f"
            },
            "type": "carpet"
           }
          ],
          "choropleth": [
           {
            "colorbar": {
             "outlinewidth": 0,
             "ticks": ""
            },
            "type": "choropleth"
           }
          ],
          "contour": [
           {
            "colorbar": {
             "outlinewidth": 0,
             "ticks": ""
            },
            "colorscale": [
             [
              0,
              "#0d0887"
             ],
             [
              0.1111111111111111,
              "#46039f"
             ],
             [
              0.2222222222222222,
              "#7201a8"
             ],
             [
              0.3333333333333333,
              "#9c179e"
             ],
             [
              0.4444444444444444,
              "#bd3786"
             ],
             [
              0.5555555555555556,
              "#d8576b"
             ],
             [
              0.6666666666666666,
              "#ed7953"
             ],
             [
              0.7777777777777778,
              "#fb9f3a"
             ],
             [
              0.8888888888888888,
              "#fdca26"
             ],
             [
              1,
              "#f0f921"
             ]
            ],
            "type": "contour"
           }
          ],
          "contourcarpet": [
           {
            "colorbar": {
             "outlinewidth": 0,
             "ticks": ""
            },
            "type": "contourcarpet"
           }
          ],
          "heatmap": [
           {
            "colorbar": {
             "outlinewidth": 0,
             "ticks": ""
            },
            "colorscale": [
             [
              0,
              "#0d0887"
             ],
             [
              0.1111111111111111,
              "#46039f"
             ],
             [
              0.2222222222222222,
              "#7201a8"
             ],
             [
              0.3333333333333333,
              "#9c179e"
             ],
             [
              0.4444444444444444,
              "#bd3786"
             ],
             [
              0.5555555555555556,
              "#d8576b"
             ],
             [
              0.6666666666666666,
              "#ed7953"
             ],
             [
              0.7777777777777778,
              "#fb9f3a"
             ],
             [
              0.8888888888888888,
              "#fdca26"
             ],
             [
              1,
              "#f0f921"
             ]
            ],
            "type": "heatmap"
           }
          ],
          "heatmapgl": [
           {
            "colorbar": {
             "outlinewidth": 0,
             "ticks": ""
            },
            "colorscale": [
             [
              0,
              "#0d0887"
             ],
             [
              0.1111111111111111,
              "#46039f"
             ],
             [
              0.2222222222222222,
              "#7201a8"
             ],
             [
              0.3333333333333333,
              "#9c179e"
             ],
             [
              0.4444444444444444,
              "#bd3786"
             ],
             [
              0.5555555555555556,
              "#d8576b"
             ],
             [
              0.6666666666666666,
              "#ed7953"
             ],
             [
              0.7777777777777778,
              "#fb9f3a"
             ],
             [
              0.8888888888888888,
              "#fdca26"
             ],
             [
              1,
              "#f0f921"
             ]
            ],
            "type": "heatmapgl"
           }
          ],
          "histogram": [
           {
            "marker": {
             "colorbar": {
              "outlinewidth": 0,
              "ticks": ""
             }
            },
            "type": "histogram"
           }
          ],
          "histogram2d": [
           {
            "colorbar": {
             "outlinewidth": 0,
             "ticks": ""
            },
            "colorscale": [
             [
              0,
              "#0d0887"
             ],
             [
              0.1111111111111111,
              "#46039f"
             ],
             [
              0.2222222222222222,
              "#7201a8"
             ],
             [
              0.3333333333333333,
              "#9c179e"
             ],
             [
              0.4444444444444444,
              "#bd3786"
             ],
             [
              0.5555555555555556,
              "#d8576b"
             ],
             [
              0.6666666666666666,
              "#ed7953"
             ],
             [
              0.7777777777777778,
              "#fb9f3a"
             ],
             [
              0.8888888888888888,
              "#fdca26"
             ],
             [
              1,
              "#f0f921"
             ]
            ],
            "type": "histogram2d"
           }
          ],
          "histogram2dcontour": [
           {
            "colorbar": {
             "outlinewidth": 0,
             "ticks": ""
            },
            "colorscale": [
             [
              0,
              "#0d0887"
             ],
             [
              0.1111111111111111,
              "#46039f"
             ],
             [
              0.2222222222222222,
              "#7201a8"
             ],
             [
              0.3333333333333333,
              "#9c179e"
             ],
             [
              0.4444444444444444,
              "#bd3786"
             ],
             [
              0.5555555555555556,
              "#d8576b"
             ],
             [
              0.6666666666666666,
              "#ed7953"
             ],
             [
              0.7777777777777778,
              "#fb9f3a"
             ],
             [
              0.8888888888888888,
              "#fdca26"
             ],
             [
              1,
              "#f0f921"
             ]
            ],
            "type": "histogram2dcontour"
           }
          ],
          "mesh3d": [
           {
            "colorbar": {
             "outlinewidth": 0,
             "ticks": ""
            },
            "type": "mesh3d"
           }
          ],
          "parcoords": [
           {
            "line": {
             "colorbar": {
              "outlinewidth": 0,
              "ticks": ""
             }
            },
            "type": "parcoords"
           }
          ],
          "scatter": [
           {
            "marker": {
             "colorbar": {
              "outlinewidth": 0,
              "ticks": ""
             }
            },
            "type": "scatter"
           }
          ],
          "scatter3d": [
           {
            "line": {
             "colorbar": {
              "outlinewidth": 0,
              "ticks": ""
             }
            },
            "marker": {
             "colorbar": {
              "outlinewidth": 0,
              "ticks": ""
             }
            },
            "type": "scatter3d"
           }
          ],
          "scattercarpet": [
           {
            "marker": {
             "colorbar": {
              "outlinewidth": 0,
              "ticks": ""
             }
            },
            "type": "scattercarpet"
           }
          ],
          "scattergeo": [
           {
            "marker": {
             "colorbar": {
              "outlinewidth": 0,
              "ticks": ""
             }
            },
            "type": "scattergeo"
           }
          ],
          "scattergl": [
           {
            "marker": {
             "colorbar": {
              "outlinewidth": 0,
              "ticks": ""
             }
            },
            "type": "scattergl"
           }
          ],
          "scattermapbox": [
           {
            "marker": {
             "colorbar": {
              "outlinewidth": 0,
              "ticks": ""
             }
            },
            "type": "scattermapbox"
           }
          ],
          "scatterpolar": [
           {
            "marker": {
             "colorbar": {
              "outlinewidth": 0,
              "ticks": ""
             }
            },
            "type": "scatterpolar"
           }
          ],
          "scatterpolargl": [
           {
            "marker": {
             "colorbar": {
              "outlinewidth": 0,
              "ticks": ""
             }
            },
            "type": "scatterpolargl"
           }
          ],
          "scatterternary": [
           {
            "marker": {
             "colorbar": {
              "outlinewidth": 0,
              "ticks": ""
             }
            },
            "type": "scatterternary"
           }
          ],
          "surface": [
           {
            "colorbar": {
             "outlinewidth": 0,
             "ticks": ""
            },
            "colorscale": [
             [
              0,
              "#0d0887"
             ],
             [
              0.1111111111111111,
              "#46039f"
             ],
             [
              0.2222222222222222,
              "#7201a8"
             ],
             [
              0.3333333333333333,
              "#9c179e"
             ],
             [
              0.4444444444444444,
              "#bd3786"
             ],
             [
              0.5555555555555556,
              "#d8576b"
             ],
             [
              0.6666666666666666,
              "#ed7953"
             ],
             [
              0.7777777777777778,
              "#fb9f3a"
             ],
             [
              0.8888888888888888,
              "#fdca26"
             ],
             [
              1,
              "#f0f921"
             ]
            ],
            "type": "surface"
           }
          ],
          "table": [
           {
            "cells": {
             "fill": {
              "color": "#EBF0F8"
             },
             "line": {
              "color": "white"
             }
            },
            "header": {
             "fill": {
              "color": "#C8D4E3"
             },
             "line": {
              "color": "white"
             }
            },
            "type": "table"
           }
          ]
         },
         "layout": {
          "annotationdefaults": {
           "arrowcolor": "#2a3f5f",
           "arrowhead": 0,
           "arrowwidth": 1
          },
          "colorscale": {
           "diverging": [
            [
             0,
             "#8e0152"
            ],
            [
             0.1,
             "#c51b7d"
            ],
            [
             0.2,
             "#de77ae"
            ],
            [
             0.3,
             "#f1b6da"
            ],
            [
             0.4,
             "#fde0ef"
            ],
            [
             0.5,
             "#f7f7f7"
            ],
            [
             0.6,
             "#e6f5d0"
            ],
            [
             0.7,
             "#b8e186"
            ],
            [
             0.8,
             "#7fbc41"
            ],
            [
             0.9,
             "#4d9221"
            ],
            [
             1,
             "#276419"
            ]
           ],
           "sequential": [
            [
             0,
             "#0d0887"
            ],
            [
             0.1111111111111111,
             "#46039f"
            ],
            [
             0.2222222222222222,
             "#7201a8"
            ],
            [
             0.3333333333333333,
             "#9c179e"
            ],
            [
             0.4444444444444444,
             "#bd3786"
            ],
            [
             0.5555555555555556,
             "#d8576b"
            ],
            [
             0.6666666666666666,
             "#ed7953"
            ],
            [
             0.7777777777777778,
             "#fb9f3a"
            ],
            [
             0.8888888888888888,
             "#fdca26"
            ],
            [
             1,
             "#f0f921"
            ]
           ],
           "sequentialminus": [
            [
             0,
             "#0d0887"
            ],
            [
             0.1111111111111111,
             "#46039f"
            ],
            [
             0.2222222222222222,
             "#7201a8"
            ],
            [
             0.3333333333333333,
             "#9c179e"
            ],
            [
             0.4444444444444444,
             "#bd3786"
            ],
            [
             0.5555555555555556,
             "#d8576b"
            ],
            [
             0.6666666666666666,
             "#ed7953"
            ],
            [
             0.7777777777777778,
             "#fb9f3a"
            ],
            [
             0.8888888888888888,
             "#fdca26"
            ],
            [
             1,
             "#f0f921"
            ]
           ]
          },
          "colorway": [
           "#636efa",
           "#EF553B",
           "#00cc96",
           "#ab63fa",
           "#FFA15A",
           "#19d3f3",
           "#FF6692",
           "#B6E880",
           "#FF97FF",
           "#FECB52"
          ],
          "font": {
           "color": "#2a3f5f"
          },
          "geo": {
           "bgcolor": "white",
           "lakecolor": "white",
           "landcolor": "#E5ECF6",
           "showlakes": true,
           "showland": true,
           "subunitcolor": "white"
          },
          "hoverlabel": {
           "align": "left"
          },
          "hovermode": "closest",
          "mapbox": {
           "style": "light"
          },
          "paper_bgcolor": "white",
          "plot_bgcolor": "#E5ECF6",
          "polar": {
           "angularaxis": {
            "gridcolor": "white",
            "linecolor": "white",
            "ticks": ""
           },
           "bgcolor": "#E5ECF6",
           "radialaxis": {
            "gridcolor": "white",
            "linecolor": "white",
            "ticks": ""
           }
          },
          "scene": {
           "xaxis": {
            "backgroundcolor": "#E5ECF6",
            "gridcolor": "white",
            "gridwidth": 2,
            "linecolor": "white",
            "showbackground": true,
            "ticks": "",
            "zerolinecolor": "white"
           },
           "yaxis": {
            "backgroundcolor": "#E5ECF6",
            "gridcolor": "white",
            "gridwidth": 2,
            "linecolor": "white",
            "showbackground": true,
            "ticks": "",
            "zerolinecolor": "white"
           },
           "zaxis": {
            "backgroundcolor": "#E5ECF6",
            "gridcolor": "white",
            "gridwidth": 2,
            "linecolor": "white",
            "showbackground": true,
            "ticks": "",
            "zerolinecolor": "white"
           }
          },
          "shapedefaults": {
           "line": {
            "color": "#2a3f5f"
           }
          },
          "ternary": {
           "aaxis": {
            "gridcolor": "white",
            "linecolor": "white",
            "ticks": ""
           },
           "baxis": {
            "gridcolor": "white",
            "linecolor": "white",
            "ticks": ""
           },
           "bgcolor": "#E5ECF6",
           "caxis": {
            "gridcolor": "white",
            "linecolor": "white",
            "ticks": ""
           }
          },
          "title": {
           "x": 0.05
          },
          "xaxis": {
           "automargin": true,
           "gridcolor": "white",
           "linecolor": "white",
           "ticks": "",
           "zerolinecolor": "white",
           "zerolinewidth": 2
          },
          "yaxis": {
           "automargin": true,
           "gridcolor": "white",
           "linecolor": "white",
           "ticks": "",
           "zerolinecolor": "white",
           "zerolinewidth": 2
          }
         }
        },
        "xaxis": {
         "anchor": "y",
         "domain": [
          0,
          0.98
         ],
         "title": {
          "text": "epoch"
         }
        },
        "yaxis": {
         "anchor": "x",
         "domain": [
          0,
          1
         ],
         "title": {
          "text": "mean"
         }
        }
       }
      },
      "text/html": [
       "<div>\n",
       "        \n",
       "        \n",
       "            <div id=\"f1c7ed3f-1a75-4ab6-a15d-53a765246724\" class=\"plotly-graph-div\" style=\"height:600px; width:100%;\"></div>\n",
       "            <script type=\"text/javascript\">\n",
       "                require([\"plotly\"], function(Plotly) {\n",
       "                    window.PLOTLYENV=window.PLOTLYENV || {};\n",
       "                    \n",
       "                if (document.getElementById(\"f1c7ed3f-1a75-4ab6-a15d-53a765246724\")) {\n",
       "                    Plotly.newPlot(\n",
       "                        'f1c7ed3f-1a75-4ab6-a15d-53a765246724',\n",
       "                        [{\"hoverlabel\": {\"namelength\": 0}, \"hovertemplate\": \"category=weights_0<br>epoch=%{x}<br>mean=%{y}\", \"legendgroup\": \"category=weights_0\", \"line\": {\"color\": \"#636efa\", \"dash\": \"solid\"}, \"mode\": \"lines\", \"name\": \"category=weights_0\", \"showlegend\": true, \"type\": \"scatter\", \"x\": [1, 2, 3, 4, 5, 6, 7, 8, 9, 10, 11, 12, 13, 14, 15, 16, 17, 18, 19, 20, 21, 22, 23, 24, 25, 26, 27, 28, 29, 30, 31, 32, 33, 34, 35, 36, 37, 38, 39, 40, 41, 42, 43, 44, 45, 46, 47, 48, 49, 50, 51, 52, 53, 54, 55, 56, 57, 58, 59, 60, 61, 62, 63, 64, 65, 66, 67, 68, 69, 70, 71, 72, 73, 74, 75, 76, 77, 78, 79, 80, 81, 82, 83, 84, 85, 86, 87, 88, 89, 90, 91, 92, 93, 94, 95, 96, 97, 98, 99, 100, 101, 102, 103, 104, 105, 106, 107, 108, 109, 110, 111, 112, 113, 114, 115, 116, 117, 118, 119, 120, 121, 122, 123, 124, 125, 126, 127, 128, 129, 130, 131, 132, 133, 134, 135, 136, 137, 138, 139, 140, 141, 142, 143, 144, 145, 146, 147, 148, 149, 150, 151, 152, 153, 154, 155, 156, 157, 158, 159, 160, 161, 162, 163, 164, 165, 166, 167, 168, 169, 170, 171, 172, 173, 174, 175, 176, 177, 178, 179, 180, 181, 182, 183, 184, 185, 186, 187, 188, 189, 190, 191, 192, 193, 194, 195, 196, 197, 198, 199, 200], \"xaxis\": \"x\", \"y\": [-0.1087899861884376, -0.047864409788107326, 0.005890475823269845, 0.0018375462656731686, -0.010936467827767233, 0.020749931324562473, -0.005937902360934283, -0.003769333591780922, 0.03275380147859326, 0.019744162811811076, 0.02134560285686719, 0.07691165676731951, 0.07660440308395423, 0.07057219706115528, 0.06912029015552829, 0.06798036107712507, 0.0693048079393135, 0.06665640036714535, 0.07057178853351315, 0.06431592109407647, 0.06582613843954818, 0.06734589957730602, 0.06562614874690495, 0.06511038643337119, 0.06285552807788432, 0.06414862934340376, 0.0750122138031974, 0.06257328065902897, 0.06872477250656302, 0.05728434779589694, 0.06875768687867308, 0.06169049871216763, 0.05892560358800688, 0.01669064901684991, 0.06839113652637427, 0.07517665600404777, 0.07721388261502726, 0.06476222772957288, 0.06135587663852661, 0.06440777091155214, 0.06833198570380886, 0.0673812870099102, 0.06790956378827018, 0.06915366137678175, 0.06794952643706945, 0.0720381183758003, 0.07351876290678572, 0.040241318314120283, 0.04052789101876472, 0.04152798434104955, 0.05151587874640581, 0.054914335130811, 0.05058644560785195, 0.10415963010009542, 0.05155059176164599, 0.0471695949392127, 0.020482353120277505, 0.022894770959356298, 0.016606716864538597, 0.023113639690532293, 0.02325481842498322, 0.024051719072918906, 0.025815984715579, 0.011488565902498983, 0.011690397332204491, 0.00953470099203419, 0.02224292077192125, 0.02059970589479429, -0.0021130739722785784, -0.0026230444859757216, 0.024901026015083698, 0.012727934210382126, -0.0024339068482867963, -0.005515632907594889, -0.009031314661834107, -0.005479389793238436, -0.008936796226015044, -0.01461370230895331, -0.003173219988075917, -0.008311693162481192, 3.2523390160511246e-05, -0.008997567950334849, -0.008369005444228316, -0.005626743186266746, -0.004878133165477592, -0.007175397308465194, -0.010002587491679054, -0.013953656997310089, -0.006411988342230311, -0.004815264459405497, -0.005519957234651941, 0.016294431298557944, 0.021242058102984258, 0.025911533132155436, 0.01063757997765341, 0.0037730973035316863, 0.00898193262379543, 0.01235121038615554, -0.032008715711118095, -0.00871402854228461, -0.05232900549446913, -0.05714339952813704, -0.019457698079175485, -0.03945484280557034, -0.043389097716347226, -0.037922326632986635, -0.038666479090391906, -0.042791592977375115, -0.04156959778119265, -0.0369025819114681, -0.0448076602368013, -0.044320809389664616, -0.046684594692400494, -0.04079934693292288, -0.04325908647942471, -0.04293916693661053, -0.041655705060965935, -0.04422302930007636, -0.042229919359008196, -0.04222534458009469, -0.046377726338917714, -0.049090567303780856, -0.03173320612860754, -0.03473476229376545, -0.03310369380160994, -0.02870922622668501, -0.03185258282562203, -0.01692173595975196, -0.01684646988163411, -0.019467661666041264, -0.012935200348553916, -0.02446825321599287, -0.01825737400052412, -0.028838395737792375, -0.026802268776639642, -0.012566973048457145, -0.012968250035534543, -0.012726815123190663, -0.01311039617631353, -0.009941458203079215, -0.048104632298675266, -0.01088086537714054, -0.006951712164835522, -0.011754530411093478, -0.04591638674671068, -0.08672910846448505, -0.08791157383596303, -0.03471936036892713, -0.07384922237138619, -0.029545069391345866, -0.08764040237230443, -0.06136743423550336, -0.07823726050188519, -0.06371086829065693, -0.06468122939686763, -0.06853204854058391, -0.05995486956833343, -0.05793848757789861, -0.05850483396937405, -0.07366718992027096, -0.07201465861023718, -0.053623847761012686, -0.05385033160960569, -0.05423306983645442, -0.06765263864854829, -0.06487083609438589, -0.06178590805711178, -0.05989136809733524, -0.06326606567013253, -0.055686294163271526, -0.06620726831535384, -0.06700240420757328, -0.05403143660122514, -0.05460472055467021, -0.0533743081074072, -0.04852153798937475, -0.047131371697955116, -0.05280710448028725, -0.05080371359747076, -0.04959016530601073, -0.05236446046946646, -0.049477395262673696, -0.07189904763559103, -0.06534216862842587, -0.09626446025481473, -0.09829578108836466, -0.0966544150804753, -0.09171565857024153, -0.10302534697543571, -0.10542208676509077, -0.09925284770900307, -0.10388325842747047, -0.10245818793085366, -0.10260985684877341, -0.10409367754766961, -0.10314151613631914, -0.12389700695379298, -0.1271718312467604, -0.12278628114259162, -0.12216865800180715], \"yaxis\": \"y\"}, {\"hoverlabel\": {\"namelength\": 0}, \"hovertemplate\": \"category=weights_1<br>epoch=%{x}<br>mean=%{y}\", \"legendgroup\": \"category=weights_1\", \"line\": {\"color\": \"#EF553B\", \"dash\": \"solid\"}, \"mode\": \"lines\", \"name\": \"category=weights_1\", \"showlegend\": true, \"type\": \"scatter\", \"x\": [1, 2, 3, 4, 5, 6, 7, 8, 9, 10, 11, 12, 13, 14, 15, 16, 17, 18, 19, 20, 21, 22, 23, 24, 25, 26, 27, 28, 29, 30, 31, 32, 33, 34, 35, 36, 37, 38, 39, 40, 41, 42, 43, 44, 45, 46, 47, 48, 49, 50, 51, 52, 53, 54, 55, 56, 57, 58, 59, 60, 61, 62, 63, 64, 65, 66, 67, 68, 69, 70, 71, 72, 73, 74, 75, 76, 77, 78, 79, 80, 81, 82, 83, 84, 85, 86, 87, 88, 89, 90, 91, 92, 93, 94, 95, 96, 97, 98, 99, 100, 101, 102, 103, 104, 105, 106, 107, 108, 109, 110, 111, 112, 113, 114, 115, 116, 117, 118, 119, 120, 121, 122, 123, 124, 125, 126, 127, 128, 129, 130, 131, 132, 133, 134, 135, 136, 137, 138, 139, 140, 141, 142, 143, 144, 145, 146, 147, 148, 149, 150, 151, 152, 153, 154, 155, 156, 157, 158, 159, 160, 161, 162, 163, 164, 165, 166, 167, 168, 169, 170, 171, 172, 173, 174, 175, 176, 177, 178, 179, 180, 181, 182, 183, 184, 185, 186, 187, 188, 189, 190, 191, 192, 193, 194, 195, 196, 197, 198, 199, 200], \"xaxis\": \"x\", \"y\": [0.203225907708577, 0.05474569059561965, 0.27387547717443367, 0.39930306522557424, 0.2578383855085141, 0.42513012623725877, 0.181216368217071, 0.17131001198392093, 0.17603596067829488, 0.10593319629973548, 0.09780973823886195, 0.1599079765845136, 0.15692360819406673, 0.18415811710683683, 0.1795879908093719, 0.17884539646997602, 0.17082598075889985, 0.18246572048279625, 0.20614690832108373, 0.19725006966299874, 0.20917215142743592, 0.20573892502885172, 0.20282252167882495, 0.19708812585727692, 0.18919056977811965, 0.18937438045802765, 0.19676323160604886, 0.21478436217283414, 0.2161053006480714, 0.19678497639071718, 0.21189878440450272, 0.25224585480426825, 0.2520887026319722, 0.3710040188183654, 0.23069061781536146, 0.24241723450441777, 0.23716161500797142, 0.20177214305857452, 0.20101767811926924, 0.2010670457629643, 0.2020586492311356, 0.20142613810073964, 0.21457776502593562, 0.21371873529188445, 0.21944207011620334, 0.19889160240373935, 0.19253554551661192, 0.2900884332986473, 0.2922444843050165, 0.2808389996376699, 0.2854844373495882, 0.2782802342185299, 0.2654661136166559, 0.3320411251568181, 0.28389418514750314, 0.28934322915944427, 0.28904042705191285, 0.29829042645818, 0.29636875153092296, 0.2939513642168792, 0.29165005130911376, 0.2843925386498386, 0.2839285044655004, 0.28364571361197, 0.2812936889331042, 0.2866623230904332, 0.40697558415631874, 0.4129945719964425, 0.4334706207614306, 0.46140572625744664, 0.44857137447959466, 0.36522083807531386, 0.38334694316896856, 0.3820790312455642, 0.3818300317914402, 0.3772269345523861, 0.3857733717157415, 0.3732227644613298, 0.3943782075820998, 0.3798748016100325, 0.39075708625590566, 0.3853920114930701, 0.38451851958719324, 0.3840708333467985, 0.38428560389444627, 0.39966958332853936, 0.38034846556485113, 0.37551984027152696, 0.38785967132608784, 0.3790298033147796, 0.3942106334147172, 0.38845786619023537, 0.3245745125674623, 0.3456431562297105, 0.24801414736538815, 0.2504627986043335, 0.24046745991131585, 0.2456610789463928, 0.2733612261178465, 0.1574940929423475, 0.19051394610102831, 0.19563244177191952, 0.09017658023047737, 0.05396484815554132, 0.05588733474573223, 0.0445486261715302, 0.05439158758036241, 0.05107543760655156, 0.06004492804185277, 0.049614880604641795, 0.07562804800723702, 0.07227201475659652, 0.062398911278731574, 0.06280455049662788, 0.060523925820468186, 0.09452447642894944, 0.09492858567495477, 0.10689245932553942, 0.11055542594183994, 0.08975543619261236, 0.09077270354924419, 0.06047409923703525, 0.016608017723529638, 0.02219215320187125, 0.02175677937783586, 0.0935561095686947, 0.09181204525918824, 0.06246177305993888, 0.06570615794197858, 0.059258187291718806, 0.07701159727016697, 0.09247593155097451, 0.07246871468888884, 0.08858117514464231, 0.08322352355471765, 0.07587348105177279, 0.05340867063570473, 0.08623884662178552, 0.07253890670608597, 0.08971540847236659, -0.03551564206143146, 0.07597245552516925, 0.07810627339683653, 0.07913921562017254, 0.20701804249929529, 0.18860590115353226, 0.184118780151811, 0.23600254653512576, 0.1933032207271363, 0.2209351962330378, 0.2421644875157335, 0.2688379205605646, 0.2593359643725852, 0.27761813190747997, 0.26560457688875877, 0.26418739027568033, 0.25715243302741114, 0.2539742395510959, 0.2499505543617115, 0.2813133777637222, 0.28279390423800155, 0.25135843346745873, 0.26052648673427736, 0.26743984006748156, 0.32554927257200156, 0.30804270129367295, 0.3067847760647282, 0.305493526721049, 0.31249857782470203, 0.31468928948896363, 0.3162098316989791, 0.3181618912834432, 0.23213075866215277, 0.233164237545893, 0.2294645660684275, 0.18088245623746896, 0.1787650823670227, 0.17982846395998117, 0.17169151003059566, 0.17444658722040113, 0.1659733893123453, 0.1576577582491163, 0.24764716136780163, 0.2821230963302299, 0.19826704681632712, 0.20970460830539805, 0.20092091785259303, 0.21338314743367393, 0.1973246441056606, 0.20235184277134455, 0.2031647000564486, 0.2086024080008527, 0.18140103575533015, 0.19369657129802081, 0.18880222138106667, 0.18827247830771682, 0.1740211129321455, 0.17370436854687027, 0.17033569837051774, 0.1858959652211265], \"yaxis\": \"y\"}, {\"hoverlabel\": {\"namelength\": 0}, \"hovertemplate\": \"category=weights_2<br>epoch=%{x}<br>mean=%{y}\", \"legendgroup\": \"category=weights_2\", \"line\": {\"color\": \"#00cc96\", \"dash\": \"solid\"}, \"mode\": \"lines\", \"name\": \"category=weights_2\", \"showlegend\": true, \"type\": \"scatter\", \"x\": [1, 2, 3, 4, 5, 6, 7, 8, 9, 10, 11, 12, 13, 14, 15, 16, 17, 18, 19, 20, 21, 22, 23, 24, 25, 26, 27, 28, 29, 30, 31, 32, 33, 34, 35, 36, 37, 38, 39, 40, 41, 42, 43, 44, 45, 46, 47, 48, 49, 50, 51, 52, 53, 54, 55, 56, 57, 58, 59, 60, 61, 62, 63, 64, 65, 66, 67, 68, 69, 70, 71, 72, 73, 74, 75, 76, 77, 78, 79, 80, 81, 82, 83, 84, 85, 86, 87, 88, 89, 90, 91, 92, 93, 94, 95, 96, 97, 98, 99, 100, 101, 102, 103, 104, 105, 106, 107, 108, 109, 110, 111, 112, 113, 114, 115, 116, 117, 118, 119, 120, 121, 122, 123, 124, 125, 126, 127, 128, 129, 130, 131, 132, 133, 134, 135, 136, 137, 138, 139, 140, 141, 142, 143, 144, 145, 146, 147, 148, 149, 150, 151, 152, 153, 154, 155, 156, 157, 158, 159, 160, 161, 162, 163, 164, 165, 166, 167, 168, 169, 170, 171, 172, 173, 174, 175, 176, 177, 178, 179, 180, 181, 182, 183, 184, 185, 186, 187, 188, 189, 190, 191, 192, 193, 194, 195, 196, 197, 198, 199, 200], \"xaxis\": \"x\", \"y\": [0.3652970862266956, -0.15000094860470367, -0.1980175594093869, -0.24206585999674607, -0.18507967103873318, -0.3135130646711569, -0.12001161848047877, -0.1127631244491877, -0.18948505058312043, -0.1795319533680981, -0.18099437550072264, -0.22232026524481466, -0.22330384833512978, -0.14435218087782978, -0.14204211084498952, -0.14353376915142008, -0.15933589113000687, -0.11432974711388158, -0.16498621310593967, -0.1719688513285091, -0.1505202719161788, -0.15407202828563976, -0.15964875578632132, -0.16047206924388163, -0.15093375070803397, -0.15343221625630749, -0.19571313910192506, -0.149702086590573, -0.15989479716755411, -0.18458340694124098, -0.15465214773939262, -0.12861670050914858, -0.13556761484660862, 0.024592014787499197, -0.23038976297105856, -0.1744794053053536, -0.18230689651947202, -0.23315500627611785, -0.23364037511909974, -0.22577132370217498, -0.24447524590836023, -0.2495319601691004, -0.24973811782443178, -0.251801600418724, -0.2560581599314726, -0.2544116307941462, -0.25737230658060173, -0.3475438423145747, -0.3476369035160938, -0.3497331993382521, -0.34628951817872244, -0.34531611979164883, -0.342771124937516, -0.2912710968668462, -0.5928426789075748, -0.5895182155593275, -0.6344572111374323, -0.6273523125610416, -0.5667233537360947, -0.562786281069348, -0.5603057283195388, -0.5677638356015096, -0.5643658950799799, -0.5591683361187832, -0.5634331772458635, -0.558683744771596, -0.5928505297043076, -0.6020148512496747, -0.6089059477366104, -0.6138743932894601, -0.5559964594083449, -0.5609857635052826, -0.6928405549208456, -0.6910626013399094, -0.6910772190964173, -0.696102148216026, -0.6823844964683093, -0.6765491668911762, -0.6763842644807934, -0.6803818221087488, -0.6760377913251605, -0.6866687045625084, -0.6752510750659533, -0.6682577819292896, -0.6650280409658246, -0.6964956877160202, -0.6855558198118578, -0.6721272456676137, -0.6930936201789749, -0.6919439304447967, -0.6891935738675848, -0.7585292928237563, -0.6781420586119665, -0.6976231071981044, -0.9163864073168622, -0.9175277209743662, -0.9086777546955133, -0.9342732134583722, -0.9521926980183273, -1.020090637716954, -0.9944353223181065, -0.999409986704307, -0.9366951861966432, -0.9482942156359141, -0.9487021256651145, -0.9520139228954724, -0.9484284861540382, -0.947436430636258, -0.9544639325355, -0.9509255582235847, -0.9170861723272155, -0.9170406683710512, -0.8942889790662887, -0.8930133902329115, -0.8939515594305892, -0.9221123099662878, -0.9249444068958022, -0.9027021026039154, -0.9068077302386653, -0.9083932391218005, -0.9335896047949989, -0.9353001507526201, -0.9840388536344249, -0.9813652782953063, -0.986972176942279, -1.0540391115597367, -1.0633133265618453, -1.1294368351329254, -1.1253215934193106, -1.1311476058656618, -1.117682562648299, -1.1320834838597165, -1.125209331437601, -1.119819325901272, -1.1188921669443892, -1.1206562601940084, -1.1169302609972316, -1.148972710296739, -1.1468167719189266, -1.1161740113066718, -1.0461457843721391, -1.1942168900856482, -1.1902460288565717, -1.2032266995555314, -1.1334019876079744, -1.2320298783734631, -1.234603198228637, -1.127207461194772, -1.2558523336654357, -1.141820410029697, -1.1498049397257761, -1.2131930862491598, -1.127691482716801, -1.2120395290587933, -1.2025768549657307, -1.2137622098240186, -1.2092766213412638, -1.2083132064748054, -1.2132513801734628, -1.1698732670192857, -1.174496824464191, -1.2155377820147217, -1.21483230836033, -1.219550288349903, -1.2242820559613654, -1.2934044447721889, -1.2971775951254907, -1.2851194179342478, -1.2836009659858556, -1.2823658193916254, -1.2877512010086531, -1.2885367087397182, -1.2397658714555502, -1.2338512342482817, -1.2267435694416668, -1.1849570081949317, -1.181050415649713, -1.1833253655131923, -1.1948923910575582, -1.2112815077939365, -1.1847071780419711, -1.2065280320237244, -1.1533432406849178, -1.1595173351978427, -0.9719711408811355, -0.9714807574870394, -0.9825658330754281, -0.9624880192917876, -0.9853930980753406, -0.9792090983469287, -0.9826876502305182, -0.944632450822185, -0.9950390483376249, -0.9461755263719623, -1.002402645273821, -0.9361814289329897, -1.0007972023153342, -0.9963109033488047, -1.003723456126194, -0.9796831957775637], \"yaxis\": \"y\"}, {\"hoverlabel\": {\"namelength\": 0}, \"hovertemplate\": \"category=weights_3<br>epoch=%{x}<br>mean=%{y}\", \"legendgroup\": \"category=weights_3\", \"line\": {\"color\": \"#ab63fa\", \"dash\": \"solid\"}, \"mode\": \"lines\", \"name\": \"category=weights_3\", \"showlegend\": true, \"type\": \"scatter\", \"x\": [1, 2, 3, 4, 5, 6, 7, 8, 9, 10, 11, 12, 13, 14, 15, 16, 17, 18, 19, 20, 21, 22, 23, 24, 25, 26, 27, 28, 29, 30, 31, 32, 33, 34, 35, 36, 37, 38, 39, 40, 41, 42, 43, 44, 45, 46, 47, 48, 49, 50, 51, 52, 53, 54, 55, 56, 57, 58, 59, 60, 61, 62, 63, 64, 65, 66, 67, 68, 69, 70, 71, 72, 73, 74, 75, 76, 77, 78, 79, 80, 81, 82, 83, 84, 85, 86, 87, 88, 89, 90, 91, 92, 93, 94, 95, 96, 97, 98, 99, 100, 101, 102, 103, 104, 105, 106, 107, 108, 109, 110, 111, 112, 113, 114, 115, 116, 117, 118, 119, 120, 121, 122, 123, 124, 125, 126, 127, 128, 129, 130, 131, 132, 133, 134, 135, 136, 137, 138, 139, 140, 141, 142, 143, 144, 145, 146, 147, 148, 149, 150, 151, 152, 153, 154, 155, 156, 157, 158, 159, 160, 161, 162, 163, 164, 165, 166, 167, 168, 169, 170, 171, 172, 173, 174, 175, 176, 177, 178, 179, 180, 181, 182, 183, 184, 185, 186, 187, 188, 189, 190, 191, 192, 193, 194, 195, 196, 197, 198, 199, 200], \"xaxis\": \"x\", \"y\": [-0.12852681772153746, 0.6133047471048445, -0.25677995591326735, -0.1007413050255564, -0.25677995591326735, -0.1007413050255564, -0.25677995591326735, -0.25677995591326735, -0.25677995591326735, -0.25677995591326735, -0.25677995591326735, -0.2567941347276757, -0.2567941347276757, -0.2567941347276757, -0.2567941347276757, -0.2567941347276757, -0.2567941347276757, -0.2567941347276757, -0.2567941347276757, -0.2567941347276757, -0.2567941347276757, -0.2567941347276757, -0.2567941347276757, -0.2567941347276757, -0.2567941347276757, -0.2567941347276757, -0.2567941347276757, -0.2567941347276757, -0.2567941347276757, -0.2567941347276757, -0.2567941347276757, -0.2567941347276757, -0.2567941347276757, -0.2567941347276757, -0.2567941347276757, -0.2567941347276757, -0.2567941347276757, -0.2567941347276757, -0.2567941347276757, -0.2567941347276757, -0.2567941347276757, -0.2567941347276757, -0.2567941347276757, -0.2567941347276757, -0.2567941347276757, -0.2567941347276757, -0.2567941347276757, -0.2567941347276757, -0.2567941347276757, -0.2567941347276757, -0.2567941347276757, -0.2567941347276757, -0.2567941347276757, -0.2567941347276757, -0.2567941347276757, -0.2567941347276757, -0.2567941347276757, -0.2567941347276757, -0.2567941347276757, -0.2567941347276757, -0.2567941347276757, -0.2567941347276757, -0.2567941347276757, -0.2567941347276757, -0.2567941347276757, -0.2567941347276757, -0.2567941347276757, -0.2567941347276757, -0.2567941347276757, -0.2567941347276757, -0.25679413472767576, -0.25679413472767576, -0.25679413472767576, -0.25679413472767576, -0.25679413472767576, -0.25679413472767576, -0.25679413472767576, -0.25679413472767576, -0.25679413472767576, -0.25679413472767576, -0.25679413472767576, -0.25679413472767576, -0.25679413472767576, -0.25679413472767576, -0.25679413472767576, -0.25679413472767576, -0.25679413472767576, -0.25679413472767576, -0.25679413472767576, -0.25679413472767576, -0.25679413472767576, -0.25679413472767576, -0.25679413472767576, -0.25679413472767576, -0.25679413472767576, -0.25679413472767576, -0.25679413472767576, -0.25679413472767576, -0.25679413472767576, -0.25679413472767576, -0.25679413472767576, -0.25679413472767576, -0.25679413472767576, -0.25679413472767576, -0.25679413472767576, -0.25679413472767576, -0.25679413472767576, -0.25679413472767576, -0.25679413472767576, -0.25679413472767576, -0.25679413472767576, -0.25679413472767576, -0.25679413472767576, -0.25679413472767576, -0.25679413472767576, -0.25679413472767576, -0.25679413472767576, -0.25679413472767576, -0.25679413472767576, -0.25679413472767576, -0.25679413472767576, -0.25679413472767576, -0.25679413472767576, -0.25679413472767576, -0.25679413472767576, -0.25679413472767576, -0.25679413472767576, -0.25679413472767576, -0.25679413472767576, -0.25679413472767576, -0.25679413472767576, -0.25679413472767576, -0.25679413472767576, -0.25679413472767576, -0.25679413472767576, -0.25679413472767576, -0.25679413472767576, -0.25679413472767576, -0.25679413472767576, -0.25679413472767576, -0.25679413472767576, -0.25679413472767576, -0.25679413472767576, -0.25679413472767576, -0.25679413472767576, -0.25679413472767576, -0.25679413472767576, -0.25679413472767576, -0.25679413472767576, -0.25679413472767576, -0.25679413472767576, -0.25679413472767576, -0.25679413472767576, -0.25679413472767576, -0.25679413472767576, -0.25679413472767576, -0.25679413472767576, -0.25679413472767576, -0.25679413472767576, -0.25679413472767576, -0.25679413472767576, -0.25679413472767576, -0.25679413472767576, -0.25679413472767576, -0.25679413472767576, -0.25679413472767576, -0.25679413472767576, -0.25679413472767576, -0.25679413472767576, -0.25679413472767576, -0.25679413472767576, -0.25679413472767576, -0.25679413472767576, -0.25679413472767576, -0.25679413472767576, -0.25679413472767576, -0.25679413472767576, -0.25679413472767576, -0.25679413472767576, -0.25679413472767576, -0.25679413472767576, -0.25679413472767576, -0.25679413472767576, -0.25679413472767576, -0.25679413472767576, -0.25679413472767576, -0.25679413472767576, -0.25679413472767576, -0.25679413472767576, -0.25679413472767576, -0.25679413472767576, -0.25679413472767576, -0.25679413472767576, -0.25679413472767576, -0.25679413472767576, -0.25679413472767576, -0.25679413472767576, -0.25679413472767576, -0.25679413472767576, -0.25679413472767576], \"yaxis\": \"y\"}],\n",
       "                        {\"height\": 600, \"legend\": {\"tracegroupgap\": 0}, \"margin\": {\"t\": 60}, \"template\": {\"data\": {\"bar\": [{\"error_x\": {\"color\": \"#2a3f5f\"}, \"error_y\": {\"color\": \"#2a3f5f\"}, \"marker\": {\"line\": {\"color\": \"#E5ECF6\", \"width\": 0.5}}, \"type\": \"bar\"}], \"barpolar\": [{\"marker\": {\"line\": {\"color\": \"#E5ECF6\", \"width\": 0.5}}, \"type\": \"barpolar\"}], \"carpet\": [{\"aaxis\": {\"endlinecolor\": \"#2a3f5f\", \"gridcolor\": \"white\", \"linecolor\": \"white\", \"minorgridcolor\": \"white\", \"startlinecolor\": \"#2a3f5f\"}, \"baxis\": {\"endlinecolor\": \"#2a3f5f\", \"gridcolor\": \"white\", \"linecolor\": \"white\", \"minorgridcolor\": \"white\", \"startlinecolor\": \"#2a3f5f\"}, \"type\": \"carpet\"}], \"choropleth\": [{\"colorbar\": {\"outlinewidth\": 0, \"ticks\": \"\"}, \"type\": \"choropleth\"}], \"contour\": [{\"colorbar\": {\"outlinewidth\": 0, \"ticks\": \"\"}, \"colorscale\": [[0.0, \"#0d0887\"], [0.1111111111111111, \"#46039f\"], [0.2222222222222222, \"#7201a8\"], [0.3333333333333333, \"#9c179e\"], [0.4444444444444444, \"#bd3786\"], [0.5555555555555556, \"#d8576b\"], [0.6666666666666666, \"#ed7953\"], [0.7777777777777778, \"#fb9f3a\"], [0.8888888888888888, \"#fdca26\"], [1.0, \"#f0f921\"]], \"type\": \"contour\"}], \"contourcarpet\": [{\"colorbar\": {\"outlinewidth\": 0, \"ticks\": \"\"}, \"type\": \"contourcarpet\"}], \"heatmap\": [{\"colorbar\": {\"outlinewidth\": 0, \"ticks\": \"\"}, \"colorscale\": [[0.0, \"#0d0887\"], [0.1111111111111111, \"#46039f\"], [0.2222222222222222, \"#7201a8\"], [0.3333333333333333, \"#9c179e\"], [0.4444444444444444, \"#bd3786\"], [0.5555555555555556, \"#d8576b\"], [0.6666666666666666, \"#ed7953\"], [0.7777777777777778, \"#fb9f3a\"], [0.8888888888888888, \"#fdca26\"], [1.0, \"#f0f921\"]], \"type\": \"heatmap\"}], \"heatmapgl\": [{\"colorbar\": {\"outlinewidth\": 0, \"ticks\": \"\"}, \"colorscale\": [[0.0, \"#0d0887\"], [0.1111111111111111, \"#46039f\"], [0.2222222222222222, \"#7201a8\"], [0.3333333333333333, \"#9c179e\"], [0.4444444444444444, \"#bd3786\"], [0.5555555555555556, \"#d8576b\"], [0.6666666666666666, \"#ed7953\"], [0.7777777777777778, \"#fb9f3a\"], [0.8888888888888888, \"#fdca26\"], [1.0, \"#f0f921\"]], \"type\": \"heatmapgl\"}], \"histogram\": [{\"marker\": {\"colorbar\": {\"outlinewidth\": 0, \"ticks\": \"\"}}, \"type\": \"histogram\"}], \"histogram2d\": [{\"colorbar\": {\"outlinewidth\": 0, \"ticks\": \"\"}, \"colorscale\": [[0.0, \"#0d0887\"], [0.1111111111111111, \"#46039f\"], [0.2222222222222222, \"#7201a8\"], [0.3333333333333333, \"#9c179e\"], [0.4444444444444444, \"#bd3786\"], [0.5555555555555556, \"#d8576b\"], [0.6666666666666666, \"#ed7953\"], [0.7777777777777778, \"#fb9f3a\"], [0.8888888888888888, \"#fdca26\"], [1.0, \"#f0f921\"]], \"type\": \"histogram2d\"}], \"histogram2dcontour\": [{\"colorbar\": {\"outlinewidth\": 0, \"ticks\": \"\"}, \"colorscale\": [[0.0, \"#0d0887\"], [0.1111111111111111, \"#46039f\"], [0.2222222222222222, \"#7201a8\"], [0.3333333333333333, \"#9c179e\"], [0.4444444444444444, \"#bd3786\"], [0.5555555555555556, \"#d8576b\"], [0.6666666666666666, \"#ed7953\"], [0.7777777777777778, \"#fb9f3a\"], [0.8888888888888888, \"#fdca26\"], [1.0, \"#f0f921\"]], \"type\": \"histogram2dcontour\"}], \"mesh3d\": [{\"colorbar\": {\"outlinewidth\": 0, \"ticks\": \"\"}, \"type\": \"mesh3d\"}], \"parcoords\": [{\"line\": {\"colorbar\": {\"outlinewidth\": 0, \"ticks\": \"\"}}, \"type\": \"parcoords\"}], \"scatter\": [{\"marker\": {\"colorbar\": {\"outlinewidth\": 0, \"ticks\": \"\"}}, \"type\": \"scatter\"}], \"scatter3d\": [{\"line\": {\"colorbar\": {\"outlinewidth\": 0, \"ticks\": \"\"}}, \"marker\": {\"colorbar\": {\"outlinewidth\": 0, \"ticks\": \"\"}}, \"type\": \"scatter3d\"}], \"scattercarpet\": [{\"marker\": {\"colorbar\": {\"outlinewidth\": 0, \"ticks\": \"\"}}, \"type\": \"scattercarpet\"}], \"scattergeo\": [{\"marker\": {\"colorbar\": {\"outlinewidth\": 0, \"ticks\": \"\"}}, \"type\": \"scattergeo\"}], \"scattergl\": [{\"marker\": {\"colorbar\": {\"outlinewidth\": 0, \"ticks\": \"\"}}, \"type\": \"scattergl\"}], \"scattermapbox\": [{\"marker\": {\"colorbar\": {\"outlinewidth\": 0, \"ticks\": \"\"}}, \"type\": \"scattermapbox\"}], \"scatterpolar\": [{\"marker\": {\"colorbar\": {\"outlinewidth\": 0, \"ticks\": \"\"}}, \"type\": \"scatterpolar\"}], \"scatterpolargl\": [{\"marker\": {\"colorbar\": {\"outlinewidth\": 0, \"ticks\": \"\"}}, \"type\": \"scatterpolargl\"}], \"scatterternary\": [{\"marker\": {\"colorbar\": {\"outlinewidth\": 0, \"ticks\": \"\"}}, \"type\": \"scatterternary\"}], \"surface\": [{\"colorbar\": {\"outlinewidth\": 0, \"ticks\": \"\"}, \"colorscale\": [[0.0, \"#0d0887\"], [0.1111111111111111, \"#46039f\"], [0.2222222222222222, \"#7201a8\"], [0.3333333333333333, \"#9c179e\"], [0.4444444444444444, \"#bd3786\"], [0.5555555555555556, \"#d8576b\"], [0.6666666666666666, \"#ed7953\"], [0.7777777777777778, \"#fb9f3a\"], [0.8888888888888888, \"#fdca26\"], [1.0, \"#f0f921\"]], \"type\": \"surface\"}], \"table\": [{\"cells\": {\"fill\": {\"color\": \"#EBF0F8\"}, \"line\": {\"color\": \"white\"}}, \"header\": {\"fill\": {\"color\": \"#C8D4E3\"}, \"line\": {\"color\": \"white\"}}, \"type\": \"table\"}]}, \"layout\": {\"annotationdefaults\": {\"arrowcolor\": \"#2a3f5f\", \"arrowhead\": 0, \"arrowwidth\": 1}, \"colorscale\": {\"diverging\": [[0, \"#8e0152\"], [0.1, \"#c51b7d\"], [0.2, \"#de77ae\"], [0.3, \"#f1b6da\"], [0.4, \"#fde0ef\"], [0.5, \"#f7f7f7\"], [0.6, \"#e6f5d0\"], [0.7, \"#b8e186\"], [0.8, \"#7fbc41\"], [0.9, \"#4d9221\"], [1, \"#276419\"]], \"sequential\": [[0.0, \"#0d0887\"], [0.1111111111111111, \"#46039f\"], [0.2222222222222222, \"#7201a8\"], [0.3333333333333333, \"#9c179e\"], [0.4444444444444444, \"#bd3786\"], [0.5555555555555556, \"#d8576b\"], [0.6666666666666666, \"#ed7953\"], [0.7777777777777778, \"#fb9f3a\"], [0.8888888888888888, \"#fdca26\"], [1.0, \"#f0f921\"]], \"sequentialminus\": [[0.0, \"#0d0887\"], [0.1111111111111111, \"#46039f\"], [0.2222222222222222, \"#7201a8\"], [0.3333333333333333, \"#9c179e\"], [0.4444444444444444, \"#bd3786\"], [0.5555555555555556, \"#d8576b\"], [0.6666666666666666, \"#ed7953\"], [0.7777777777777778, \"#fb9f3a\"], [0.8888888888888888, \"#fdca26\"], [1.0, \"#f0f921\"]]}, \"colorway\": [\"#636efa\", \"#EF553B\", \"#00cc96\", \"#ab63fa\", \"#FFA15A\", \"#19d3f3\", \"#FF6692\", \"#B6E880\", \"#FF97FF\", \"#FECB52\"], \"font\": {\"color\": \"#2a3f5f\"}, \"geo\": {\"bgcolor\": \"white\", \"lakecolor\": \"white\", \"landcolor\": \"#E5ECF6\", \"showlakes\": true, \"showland\": true, \"subunitcolor\": \"white\"}, \"hoverlabel\": {\"align\": \"left\"}, \"hovermode\": \"closest\", \"mapbox\": {\"style\": \"light\"}, \"paper_bgcolor\": \"white\", \"plot_bgcolor\": \"#E5ECF6\", \"polar\": {\"angularaxis\": {\"gridcolor\": \"white\", \"linecolor\": \"white\", \"ticks\": \"\"}, \"bgcolor\": \"#E5ECF6\", \"radialaxis\": {\"gridcolor\": \"white\", \"linecolor\": \"white\", \"ticks\": \"\"}}, \"scene\": {\"xaxis\": {\"backgroundcolor\": \"#E5ECF6\", \"gridcolor\": \"white\", \"gridwidth\": 2, \"linecolor\": \"white\", \"showbackground\": true, \"ticks\": \"\", \"zerolinecolor\": \"white\"}, \"yaxis\": {\"backgroundcolor\": \"#E5ECF6\", \"gridcolor\": \"white\", \"gridwidth\": 2, \"linecolor\": \"white\", \"showbackground\": true, \"ticks\": \"\", \"zerolinecolor\": \"white\"}, \"zaxis\": {\"backgroundcolor\": \"#E5ECF6\", \"gridcolor\": \"white\", \"gridwidth\": 2, \"linecolor\": \"white\", \"showbackground\": true, \"ticks\": \"\", \"zerolinecolor\": \"white\"}}, \"shapedefaults\": {\"line\": {\"color\": \"#2a3f5f\"}}, \"ternary\": {\"aaxis\": {\"gridcolor\": \"white\", \"linecolor\": \"white\", \"ticks\": \"\"}, \"baxis\": {\"gridcolor\": \"white\", \"linecolor\": \"white\", \"ticks\": \"\"}, \"bgcolor\": \"#E5ECF6\", \"caxis\": {\"gridcolor\": \"white\", \"linecolor\": \"white\", \"ticks\": \"\"}}, \"title\": {\"x\": 0.05}, \"xaxis\": {\"automargin\": true, \"gridcolor\": \"white\", \"linecolor\": \"white\", \"ticks\": \"\", \"zerolinecolor\": \"white\", \"zerolinewidth\": 2}, \"yaxis\": {\"automargin\": true, \"gridcolor\": \"white\", \"linecolor\": \"white\", \"ticks\": \"\", \"zerolinecolor\": \"white\", \"zerolinewidth\": 2}}}, \"xaxis\": {\"anchor\": \"y\", \"domain\": [0.0, 0.98], \"title\": {\"text\": \"epoch\"}}, \"yaxis\": {\"anchor\": \"x\", \"domain\": [0.0, 1.0], \"title\": {\"text\": \"mean\"}}},\n",
       "                        {\"responsive\": true}\n",
       "                    ).then(function(){\n",
       "                            \n",
       "var gd = document.getElementById('f1c7ed3f-1a75-4ab6-a15d-53a765246724');\n",
       "var x = new MutationObserver(function (mutations, observer) {{\n",
       "        var display = window.getComputedStyle(gd).display;\n",
       "        if (!display || display === 'none') {{\n",
       "            console.log([gd, 'removed!']);\n",
       "            Plotly.purge(gd);\n",
       "            observer.disconnect();\n",
       "        }}\n",
       "}});\n",
       "\n",
       "// Listen for the removal of the full notebook cells\n",
       "var notebookContainer = gd.closest('#notebook-container');\n",
       "if (notebookContainer) {{\n",
       "    x.observe(notebookContainer, {childList: true});\n",
       "}}\n",
       "\n",
       "// Listen for the clearing of the current output cell\n",
       "var outputEl = gd.closest('.output');\n",
       "if (outputEl) {{\n",
       "    x.observe(outputEl, {childList: true});\n",
       "}}\n",
       "\n",
       "                        })\n",
       "                };\n",
       "                });\n",
       "            </script>\n",
       "        </div>"
      ]
     },
     "metadata": {},
     "output_type": "display_data"
    }
   ],
   "source": [
    "figs[0]"
   ]
  },
  {
   "cell_type": "code",
   "execution_count": 38,
   "metadata": {},
   "outputs": [
    {
     "data": {
      "application/vnd.plotly.v1+json": {
       "config": {
        "plotlyServerURL": "https://plot.ly"
       },
       "data": [
        {
         "hoverlabel": {
          "namelength": 0
         },
         "hovertemplate": "category=weights_0<br>epoch=%{x}<br>variance=%{y}",
         "legendgroup": "category=weights_0",
         "line": {
          "color": "#636efa",
          "dash": "solid"
         },
         "mode": "lines",
         "name": "category=weights_0",
         "showlegend": true,
         "type": "scatter",
         "x": [
          1,
          2,
          3,
          4,
          5,
          6,
          7,
          8,
          9,
          10,
          11,
          12,
          13,
          14,
          15,
          16,
          17,
          18,
          19,
          20,
          21,
          22,
          23,
          24,
          25,
          26,
          27,
          28,
          29,
          30,
          31,
          32,
          33,
          34,
          35,
          36,
          37,
          38,
          39,
          40,
          41,
          42,
          43,
          44,
          45,
          46,
          47,
          48,
          49,
          50,
          51,
          52,
          53,
          54,
          55,
          56,
          57,
          58,
          59,
          60,
          61,
          62,
          63,
          64,
          65,
          66,
          67,
          68,
          69,
          70,
          71,
          72,
          73,
          74,
          75,
          76,
          77,
          78,
          79,
          80,
          81,
          82,
          83,
          84,
          85,
          86,
          87,
          88,
          89,
          90,
          91,
          92,
          93,
          94,
          95,
          96,
          97,
          98,
          99,
          100,
          101,
          102,
          103,
          104,
          105,
          106,
          107,
          108,
          109,
          110,
          111,
          112,
          113,
          114,
          115,
          116,
          117,
          118,
          119,
          120,
          121,
          122,
          123,
          124,
          125,
          126,
          127,
          128,
          129,
          130,
          131,
          132,
          133,
          134,
          135,
          136,
          137,
          138,
          139,
          140,
          141,
          142,
          143,
          144,
          145,
          146,
          147,
          148,
          149,
          150,
          151,
          152,
          153,
          154,
          155,
          156,
          157,
          158,
          159,
          160,
          161,
          162,
          163,
          164,
          165,
          166,
          167,
          168,
          169,
          170,
          171,
          172,
          173,
          174,
          175,
          176,
          177,
          178,
          179,
          180,
          181,
          182,
          183,
          184,
          185,
          186,
          187,
          188,
          189,
          190,
          191,
          192,
          193,
          194,
          195,
          196,
          197,
          198,
          199,
          200
         ],
         "xaxis": "x",
         "y": [
          0.9646805793340348,
          0.9013188711635688,
          1.1559056990744427,
          1.2032259842186912,
          1.2764852202579415,
          1.3249097884236625,
          1.2814977676212382,
          1.2868955022791613,
          1.329127425693114,
          1.338714532995251,
          1.3321098032426006,
          1.386706145188098,
          1.3922230005404757,
          1.4328463762183028,
          1.4350605642355858,
          1.434397105016483,
          1.4558285767916308,
          1.4374651025762537,
          1.4575457606523763,
          1.4611624165952388,
          1.4541192737098703,
          1.4595228976510892,
          1.458155652618952,
          1.4594532756135512,
          1.4448088625440108,
          1.4495621657945714,
          1.4889903915308638,
          1.4745789376727851,
          1.4678820512283666,
          1.42126250057825,
          1.45357765350746,
          1.6235522907327709,
          1.6189605134972826,
          1.746444962373529,
          1.7398549947356385,
          1.7693956952995313,
          1.7741385059576955,
          1.7696739985646432,
          1.7705459325928785,
          1.7586580207531544,
          1.7731087213980596,
          1.7731905258475662,
          1.7769860900452392,
          1.7696794980436934,
          1.7696067920342826,
          1.7804853739411692,
          1.775860502375433,
          2.009494609240804,
          2.0113057321629904,
          2.009942953643457,
          2.0077606945416626,
          2.009578935176119,
          2.006037016464064,
          2.149351352096989,
          2.0975980370065774,
          2.101501940509728,
          2.272804837252931,
          2.2837339044720992,
          2.316397366565682,
          2.3202147734395755,
          2.3187837751517844,
          2.3221159414143187,
          2.3182263722835645,
          2.307241815605287,
          2.3332711475515824,
          2.3493153641314164,
          2.3196382546494987,
          2.3195442489767086,
          2.3600941008924603,
          2.366442056328373,
          2.594944184818175,
          2.6189120121059974,
          2.414263369172784,
          2.4201293152631056,
          2.4199202349584885,
          2.4258355615468465,
          2.4382847125792244,
          2.428739778459947,
          2.402863434686152,
          2.4470322688722552,
          2.418933369773966,
          2.442663353534396,
          2.4457042614406843,
          2.446981022690637,
          2.461675804481993,
          2.4446968144305554,
          2.442486701845116,
          2.437543337716635,
          2.440705711014319,
          2.4667734753491075,
          2.4587300225274253,
          2.5895077727560585,
          2.578882909650129,
          2.6292809925639027,
          2.7015449799479114,
          2.7180477434752146,
          2.7060127243505,
          2.7194398156883692,
          2.773201229988182,
          2.8299495650449447,
          3.0256741761658237,
          3.0315231330961816,
          2.980504674372505,
          2.9558824022761447,
          2.9576790436065514,
          2.955443400513124,
          2.974375803167405,
          2.9580602820892694,
          2.95904404669655,
          2.983544450596708,
          3.0406483781181928,
          3.0398287342075645,
          3.1279639970217716,
          3.0952162402242047,
          3.099419704321606,
          3.047683739907052,
          3.04796742245135,
          3.0447363001125196,
          3.0341500519340525,
          3.043721662437076,
          3.0608121435209186,
          3.026648011601818,
          3.081712856518059,
          3.0858221363646674,
          3.0923941749608757,
          3.17362979059624,
          3.1580845119865066,
          3.2668631768296863,
          3.2524865812839985,
          3.2494845634888576,
          3.236499582775458,
          3.2588591303621706,
          3.255099672718522,
          3.280168757380594,
          3.2735416328211255,
          3.214126723231193,
          3.2540120003450257,
          3.2715581022683717,
          3.2700190049409454,
          3.2267407555005687,
          3.2367268970468106,
          3.347612753564381,
          3.312417843439187,
          3.3524366469124636,
          3.467383668325033,
          3.5704645594095528,
          3.609591802096031,
          3.4674356117509033,
          3.617234580295066,
          3.5424535695628925,
          3.5391595308859882,
          3.538169607692278,
          3.5480039572485085,
          3.5276345921655365,
          3.54416148906245,
          3.558582939707282,
          3.5384168415675883,
          3.544693143572748,
          3.5512998021168882,
          3.524084041107759,
          3.5421034061098076,
          3.5343684077470363,
          3.541233761619945,
          3.5460088872888966,
          3.489424868425983,
          3.55561094003811,
          3.5717213091907545,
          3.5399156853988845,
          3.5428418284178624,
          3.55859424562992,
          3.5442531830226844,
          3.553692328296875,
          3.506612348059294,
          3.4905245296278733,
          3.5042813229570564,
          3.6181559967082175,
          3.5950905073115824,
          3.581915777210479,
          3.589739696507867,
          3.611204236739115,
          3.610665408803344,
          3.6227850266441055,
          3.7567350518269547,
          3.7148684841302253,
          3.9006731611087635,
          3.8869765244081522,
          3.9073394537591133,
          3.9028255467098747,
          3.910788824034999,
          3.923521403750494,
          3.9117978948151615,
          3.9536418461406955,
          3.950878145588611,
          3.942574559482339,
          3.9446061130269094,
          3.931475513193594,
          4.071811368268616,
          4.080237363568188,
          4.0819181118446215,
          4.070003732677627
         ],
         "yaxis": "y"
        },
        {
         "hoverlabel": {
          "namelength": 0
         },
         "hovertemplate": "category=weights_1<br>epoch=%{x}<br>variance=%{y}",
         "legendgroup": "category=weights_1",
         "line": {
          "color": "#EF553B",
          "dash": "solid"
         },
         "mode": "lines",
         "name": "category=weights_1",
         "showlegend": true,
         "type": "scatter",
         "x": [
          1,
          2,
          3,
          4,
          5,
          6,
          7,
          8,
          9,
          10,
          11,
          12,
          13,
          14,
          15,
          16,
          17,
          18,
          19,
          20,
          21,
          22,
          23,
          24,
          25,
          26,
          27,
          28,
          29,
          30,
          31,
          32,
          33,
          34,
          35,
          36,
          37,
          38,
          39,
          40,
          41,
          42,
          43,
          44,
          45,
          46,
          47,
          48,
          49,
          50,
          51,
          52,
          53,
          54,
          55,
          56,
          57,
          58,
          59,
          60,
          61,
          62,
          63,
          64,
          65,
          66,
          67,
          68,
          69,
          70,
          71,
          72,
          73,
          74,
          75,
          76,
          77,
          78,
          79,
          80,
          81,
          82,
          83,
          84,
          85,
          86,
          87,
          88,
          89,
          90,
          91,
          92,
          93,
          94,
          95,
          96,
          97,
          98,
          99,
          100,
          101,
          102,
          103,
          104,
          105,
          106,
          107,
          108,
          109,
          110,
          111,
          112,
          113,
          114,
          115,
          116,
          117,
          118,
          119,
          120,
          121,
          122,
          123,
          124,
          125,
          126,
          127,
          128,
          129,
          130,
          131,
          132,
          133,
          134,
          135,
          136,
          137,
          138,
          139,
          140,
          141,
          142,
          143,
          144,
          145,
          146,
          147,
          148,
          149,
          150,
          151,
          152,
          153,
          154,
          155,
          156,
          157,
          158,
          159,
          160,
          161,
          162,
          163,
          164,
          165,
          166,
          167,
          168,
          169,
          170,
          171,
          172,
          173,
          174,
          175,
          176,
          177,
          178,
          179,
          180,
          181,
          182,
          183,
          184,
          185,
          186,
          187,
          188,
          189,
          190,
          191,
          192,
          193,
          194,
          195,
          196,
          197,
          198,
          199,
          200
         ],
         "xaxis": "x",
         "y": [
          0.8066663066751798,
          1.1151718813395095,
          0.9874406583929445,
          1.0491954157246368,
          1.05474052073988,
          1.1421704328974862,
          1.1043314136669862,
          1.1211499666695195,
          1.1030584882377994,
          1.0001164458634633,
          0.9886551712600034,
          1.162500398914668,
          1.1622649121123865,
          1.2382407357446823,
          1.2517534318138004,
          1.2269242754337024,
          1.1910015801361298,
          1.2009354930883205,
          1.2963842191160124,
          1.2860006356082079,
          1.2513108318813295,
          1.246951683456445,
          1.2391529023477263,
          1.2525210902466826,
          1.2927621956787145,
          1.2816611376286382,
          1.251702018958986,
          1.217045835777707,
          1.3046214432909258,
          1.2367953532624643,
          1.2831619959953509,
          1.3619917560590942,
          1.3613972067747258,
          1.6100530011603664,
          1.2649959176223282,
          1.2103018087764357,
          1.190802956275751,
          1.2980932451874896,
          1.2990744235283154,
          1.2991392226241658,
          1.2985651341644406,
          1.2998939540553727,
          1.3165486983745482,
          1.3026003400363542,
          1.3257362824726044,
          1.292801356576022,
          1.2614690584662978,
          1.4267258478998548,
          1.4183591359639998,
          1.3909086449362678,
          1.4060843249789319,
          1.407597499305663,
          1.3257257602019552,
          1.538745476748981,
          1.844077615607725,
          1.8243128814031944,
          1.9523804981916568,
          1.944982901215773,
          1.9537231487147726,
          1.9400674356531502,
          1.9469352043031458,
          1.9344358542698599,
          1.9359356184370269,
          1.9433187273255683,
          1.9467131384536143,
          1.9779127833400996,
          2.103078338192752,
          2.0828126049760955,
          2.214786905808231,
          2.369299100238128,
          2.224476497140147,
          2.4051934886138286,
          2.389510990760288,
          2.393602420077278,
          2.3934350217215616,
          2.4114440576054084,
          2.3904044878328055,
          2.589873667979333,
          2.3626230204702714,
          2.357798706661496,
          2.3861277489455635,
          2.332220529592888,
          2.351374810477136,
          2.3527084216231287,
          2.3525456059989076,
          2.3414305716420323,
          2.358470815238712,
          2.365130636390928,
          2.3126966433638168,
          2.3419820448320934,
          2.279173430274513,
          2.3331710456517865,
          2.6024243385769363,
          2.650993619593061,
          2.667126321249592,
          2.710426561127313,
          2.686546775271766,
          2.6885959130864676,
          2.7345807621899905,
          3.382439802177381,
          2.7816431913836355,
          2.8147673515018,
          2.178848256217989,
          2.2449162224568244,
          2.2577780998654173,
          2.26837217740793,
          2.2636021709410397,
          2.2518073439868678,
          2.229072835934186,
          2.2573067557981776,
          2.730445312741091,
          2.733106582593047,
          2.766542093507637,
          2.7642306658926126,
          2.773551985990638,
          2.8239142281607843,
          2.823509494766175,
          2.8214995487911843,
          2.8065754753868117,
          2.8683876253275984,
          2.8439499434484468,
          2.748365460492672,
          2.983384357132236,
          2.975838158860986,
          2.9771919762889207,
          2.547122187536478,
          2.5477996952560087,
          2.5747159080887467,
          2.574752923220304,
          2.5886134499747233,
          2.5815585216517705,
          2.551589725790838,
          2.603488937234326,
          2.5398726148960793,
          2.539549635024359,
          2.612435058170017,
          2.62333147963116,
          2.569923725022131,
          2.574268589733612,
          2.552317382827745,
          2.7485259609055306,
          2.6473270725557665,
          2.675689261365575,
          2.639833000727363,
          3.077103500950618,
          2.9207675767720023,
          2.9509005855972363,
          3.1373602732833783,
          2.861257900081952,
          3.1504162404286316,
          3.4384287696605567,
          3.4657689365036513,
          3.3872548152578927,
          3.5053932389332596,
          3.4825705403276856,
          3.483139189592804,
          3.4230267447361364,
          3.4355835381916586,
          3.4358543907210026,
          3.479065591274238,
          3.4871540097322162,
          3.4014056176968412,
          3.3998077557209543,
          3.362590636775201,
          4.000744425216578,
          3.901302439837779,
          3.8996219706686293,
          3.9141751724112583,
          3.9364207949559438,
          3.927820231910619,
          3.9337983863787502,
          3.9322171886999175,
          3.960705987264829,
          3.9601662613146007,
          3.9876942268947664,
          3.858445882437799,
          3.8553982228197228,
          3.8489562253736036,
          3.8805529152426104,
          3.8662403008418575,
          3.835954653296831,
          3.8890361423527455,
          3.9078004115163134,
          3.8673805011390203,
          4.067962383211052,
          4.111065762063927,
          4.052526455076386,
          4.108981971986989,
          4.040426949928074,
          4.010270785124678,
          4.071058147178833,
          4.137810639873537,
          4.103088582373056,
          4.148415139430268,
          4.092283161302872,
          4.136000077402583,
          4.255635563025826,
          4.25507490946622,
          4.257386784212334,
          4.213820652922485
         ],
         "yaxis": "y"
        },
        {
         "hoverlabel": {
          "namelength": 0
         },
         "hovertemplate": "category=weights_2<br>epoch=%{x}<br>variance=%{y}",
         "legendgroup": "category=weights_2",
         "line": {
          "color": "#00cc96",
          "dash": "solid"
         },
         "mode": "lines",
         "name": "category=weights_2",
         "showlegend": true,
         "type": "scatter",
         "x": [
          1,
          2,
          3,
          4,
          5,
          6,
          7,
          8,
          9,
          10,
          11,
          12,
          13,
          14,
          15,
          16,
          17,
          18,
          19,
          20,
          21,
          22,
          23,
          24,
          25,
          26,
          27,
          28,
          29,
          30,
          31,
          32,
          33,
          34,
          35,
          36,
          37,
          38,
          39,
          40,
          41,
          42,
          43,
          44,
          45,
          46,
          47,
          48,
          49,
          50,
          51,
          52,
          53,
          54,
          55,
          56,
          57,
          58,
          59,
          60,
          61,
          62,
          63,
          64,
          65,
          66,
          67,
          68,
          69,
          70,
          71,
          72,
          73,
          74,
          75,
          76,
          77,
          78,
          79,
          80,
          81,
          82,
          83,
          84,
          85,
          86,
          87,
          88,
          89,
          90,
          91,
          92,
          93,
          94,
          95,
          96,
          97,
          98,
          99,
          100,
          101,
          102,
          103,
          104,
          105,
          106,
          107,
          108,
          109,
          110,
          111,
          112,
          113,
          114,
          115,
          116,
          117,
          118,
          119,
          120,
          121,
          122,
          123,
          124,
          125,
          126,
          127,
          128,
          129,
          130,
          131,
          132,
          133,
          134,
          135,
          136,
          137,
          138,
          139,
          140,
          141,
          142,
          143,
          144,
          145,
          146,
          147,
          148,
          149,
          150,
          151,
          152,
          153,
          154,
          155,
          156,
          157,
          158,
          159,
          160,
          161,
          162,
          163,
          164,
          165,
          166,
          167,
          168,
          169,
          170,
          171,
          172,
          173,
          174,
          175,
          176,
          177,
          178,
          179,
          180,
          181,
          182,
          183,
          184,
          185,
          186,
          187,
          188,
          189,
          190,
          191,
          192,
          193,
          194,
          195,
          196,
          197,
          198,
          199,
          200
         ],
         "xaxis": "x",
         "y": [
          1.0912616162279924,
          0.9656717900051187,
          0.676758145729004,
          0.8165442170859382,
          0.9822825747779306,
          0.780081687450327,
          0.8735906496402801,
          0.8511171818613339,
          1.1150016162781737,
          1.1221308409378388,
          1.1220957399404048,
          1.1144415011620978,
          1.1169247152702255,
          1.206338195429943,
          1.2003829089042106,
          1.1933754502080545,
          1.2029875046655831,
          1.1746717964064057,
          1.1856471503490518,
          1.190590684937385,
          1.176039044123755,
          1.1760853155868096,
          1.1737120693600964,
          1.1703568422086943,
          1.1632219456833373,
          1.1508114896743171,
          1.161229769333339,
          1.1776642708110026,
          1.2296424088461506,
          1.1612030072977597,
          1.2975318436245127,
          1.7816720612537702,
          1.770045696093828,
          1.7694802876560463,
          1.7748412274729812,
          1.7526279075208013,
          1.7123776721537354,
          1.7070313709741436,
          1.7059753927572971,
          1.729144606798342,
          1.6845250238390885,
          1.6834965718359685,
          1.6830782512294726,
          1.6760602304705006,
          1.6874358941188843,
          1.6547350136980172,
          1.6540689427497517,
          1.913303371019417,
          1.913232182125415,
          1.911706603893296,
          1.935126395694927,
          1.959622401996381,
          1.9331399463639605,
          2.4394398442762855,
          2.2555892096455654,
          2.254311312835042,
          2.472413102625691,
          2.450898893778758,
          2.6126721389058516,
          2.598106177979057,
          2.589199521259863,
          2.5947774667583046,
          2.606248075478922,
          2.653208021653936,
          2.6361176125322445,
          2.633208671348717,
          2.809749426244375,
          2.810485497182184,
          2.8183147931015906,
          3.2860113448336943,
          3.057042848971811,
          2.952385543548102,
          2.834205065704338,
          2.835248575330556,
          2.8351492920670003,
          2.8629615460748408,
          2.8125506401487925,
          2.949437775908942,
          2.8326847047074497,
          2.7931198219246394,
          2.8229266951139285,
          2.7676066722486756,
          2.875323944810196,
          2.8941467067905418,
          2.8914719012201764,
          2.776539802444351,
          2.820413709155863,
          2.8702333378632594,
          2.851221575826547,
          2.8505216986647004,
          2.858438659794553,
          2.9577524689975387,
          2.8374739764560726,
          2.90645632866336,
          2.8412030098273218,
          2.8757594652007934,
          2.868620076006618,
          2.851889352641269,
          2.752104400813769,
          3.17056176935154,
          2.5720185094411905,
          2.5659842570741076,
          2.1480474548591206,
          2.001103860632716,
          2.000583708476586,
          1.9896414072286417,
          1.994872797975875,
          1.9843187868503094,
          2.00824351494131,
          1.9731047505739043,
          1.7750224777729353,
          1.775042488119495,
          1.8579170116749468,
          1.8180047627070206,
          1.8170570534998305,
          1.715673422318327,
          1.7211786229770019,
          1.7384298173355637,
          1.7220026585910537,
          1.7183459105954126,
          1.7260653650435178,
          1.7155180464577455,
          1.7538556864647066,
          1.7540126876553563,
          1.764374275388273,
          1.7949813002229693,
          1.7981201110791984,
          1.9913923591000038,
          1.9650240361187044,
          1.9768516700694876,
          1.9820096793402593,
          2.059317360116073,
          1.9553715185714218,
          2.1080706737343533,
          2.1093468140871128,
          1.9329501003804046,
          1.988351745631492,
          2.1347495648507495,
          2.1366760085981467,
          1.9488552884088586,
          2.6428530371149352,
          2.099631437457127,
          2.1773879233609943,
          2.16460245203091,
          2.1937947119703245,
          2.286260536899107,
          2.280955168998003,
          2.164808782150753,
          2.2905653347692434,
          2.2190880638061197,
          2.1343763648468705,
          2.192033348583274,
          2.155376533715531,
          2.199817087161086,
          2.2307925175930525,
          2.265513650771758,
          2.2082156487445763,
          2.213370285655266,
          2.203622101626337,
          2.212581005091238,
          2.2013119873877915,
          2.1926948741183336,
          2.1912198014753907,
          2.1823398025148104,
          2.155577723896807,
          2.5439289939915395,
          2.5713185002072305,
          2.4483728324340266,
          2.4387283125758925,
          2.4129855192639993,
          2.4496627945125025,
          2.4454388860884575,
          2.761582467147879,
          2.765413317263366,
          2.741651677471175,
          2.762239528076038,
          2.7511260614480353,
          2.7369313409991545,
          2.848497316384284,
          2.934669095116883,
          2.727382809914056,
          2.816713437927326,
          2.8789758761759496,
          2.9683801360074766,
          2.755736164379905,
          2.75657102824923,
          2.745676451993287,
          2.7500022301698563,
          2.7420696444853934,
          2.7808163911447052,
          2.7621305988152245,
          2.8333296465421003,
          2.7911500426280376,
          2.832642529041885,
          2.811579103842371,
          2.8865164527910587,
          3.077906474123467,
          3.0732927467334052,
          3.0760632049725536,
          2.9951659565960083
         ],
         "yaxis": "y"
        },
        {
         "hoverlabel": {
          "namelength": 0
         },
         "hovertemplate": "category=weights_3<br>epoch=%{x}<br>variance=%{y}",
         "legendgroup": "category=weights_3",
         "line": {
          "color": "#ab63fa",
          "dash": "solid"
         },
         "mode": "lines",
         "name": "category=weights_3",
         "showlegend": true,
         "type": "scatter",
         "x": [
          1,
          2,
          3,
          4,
          5,
          6,
          7,
          8,
          9,
          10,
          11,
          12,
          13,
          14,
          15,
          16,
          17,
          18,
          19,
          20,
          21,
          22,
          23,
          24,
          25,
          26,
          27,
          28,
          29,
          30,
          31,
          32,
          33,
          34,
          35,
          36,
          37,
          38,
          39,
          40,
          41,
          42,
          43,
          44,
          45,
          46,
          47,
          48,
          49,
          50,
          51,
          52,
          53,
          54,
          55,
          56,
          57,
          58,
          59,
          60,
          61,
          62,
          63,
          64,
          65,
          66,
          67,
          68,
          69,
          70,
          71,
          72,
          73,
          74,
          75,
          76,
          77,
          78,
          79,
          80,
          81,
          82,
          83,
          84,
          85,
          86,
          87,
          88,
          89,
          90,
          91,
          92,
          93,
          94,
          95,
          96,
          97,
          98,
          99,
          100,
          101,
          102,
          103,
          104,
          105,
          106,
          107,
          108,
          109,
          110,
          111,
          112,
          113,
          114,
          115,
          116,
          117,
          118,
          119,
          120,
          121,
          122,
          123,
          124,
          125,
          126,
          127,
          128,
          129,
          130,
          131,
          132,
          133,
          134,
          135,
          136,
          137,
          138,
          139,
          140,
          141,
          142,
          143,
          144,
          145,
          146,
          147,
          148,
          149,
          150,
          151,
          152,
          153,
          154,
          155,
          156,
          157,
          158,
          159,
          160,
          161,
          162,
          163,
          164,
          165,
          166,
          167,
          168,
          169,
          170,
          171,
          172,
          173,
          174,
          175,
          176,
          177,
          178,
          179,
          180,
          181,
          182,
          183,
          184,
          185,
          186,
          187,
          188,
          189,
          190,
          191,
          192,
          193,
          194,
          195,
          196,
          197,
          198,
          199,
          200
         ],
         "xaxis": "x",
         "y": [
          0,
          0,
          0,
          0,
          0,
          0,
          0,
          0,
          0,
          0,
          0,
          0,
          0,
          0,
          0,
          0,
          0,
          0,
          0,
          0,
          0,
          0,
          0,
          0,
          0,
          0,
          0,
          0,
          0,
          0,
          0,
          0,
          0,
          0,
          0,
          0,
          0,
          0,
          0,
          0,
          0,
          0,
          0,
          0,
          0,
          0,
          0,
          0,
          0,
          0,
          0,
          0,
          0,
          0,
          0,
          0,
          0,
          0,
          0,
          0,
          0,
          0,
          0,
          0,
          0,
          0,
          0,
          0,
          0,
          0,
          0,
          0,
          0,
          0,
          0,
          0,
          0,
          0,
          0,
          0,
          0,
          0,
          0,
          0,
          0,
          0,
          0,
          0,
          0,
          0,
          0,
          0,
          0,
          0,
          0,
          0,
          0,
          0,
          0,
          0,
          0,
          0,
          0,
          0,
          0,
          0,
          0,
          0,
          0,
          0,
          0,
          0,
          0,
          0,
          0,
          0,
          0,
          0,
          0,
          0,
          0,
          0,
          0,
          0,
          0,
          0,
          0,
          0,
          0,
          0,
          0,
          0,
          0,
          0,
          0,
          0,
          0,
          0,
          0,
          0,
          0,
          0,
          0,
          0,
          0,
          0,
          0,
          0,
          0,
          0,
          0,
          0,
          0,
          0,
          0,
          0,
          0,
          0,
          0,
          0,
          0,
          0,
          0,
          0,
          0,
          0,
          0,
          0,
          0,
          0,
          0,
          0,
          0,
          0,
          0,
          0,
          0,
          0,
          0,
          0,
          0,
          0,
          0,
          0,
          0,
          0,
          0,
          0,
          0,
          0,
          0,
          0,
          0,
          0,
          0,
          0,
          0,
          0,
          0,
          0
         ],
         "yaxis": "y"
        }
       ],
       "layout": {
        "height": 600,
        "legend": {
         "tracegroupgap": 0
        },
        "margin": {
         "t": 60
        },
        "template": {
         "data": {
          "bar": [
           {
            "error_x": {
             "color": "#2a3f5f"
            },
            "error_y": {
             "color": "#2a3f5f"
            },
            "marker": {
             "line": {
              "color": "#E5ECF6",
              "width": 0.5
             }
            },
            "type": "bar"
           }
          ],
          "barpolar": [
           {
            "marker": {
             "line": {
              "color": "#E5ECF6",
              "width": 0.5
             }
            },
            "type": "barpolar"
           }
          ],
          "carpet": [
           {
            "aaxis": {
             "endlinecolor": "#2a3f5f",
             "gridcolor": "white",
             "linecolor": "white",
             "minorgridcolor": "white",
             "startlinecolor": "#2a3f5f"
            },
            "baxis": {
             "endlinecolor": "#2a3f5f",
             "gridcolor": "white",
             "linecolor": "white",
             "minorgridcolor": "white",
             "startlinecolor": "#2a3f5f"
            },
            "type": "carpet"
           }
          ],
          "choropleth": [
           {
            "colorbar": {
             "outlinewidth": 0,
             "ticks": ""
            },
            "type": "choropleth"
           }
          ],
          "contour": [
           {
            "colorbar": {
             "outlinewidth": 0,
             "ticks": ""
            },
            "colorscale": [
             [
              0,
              "#0d0887"
             ],
             [
              0.1111111111111111,
              "#46039f"
             ],
             [
              0.2222222222222222,
              "#7201a8"
             ],
             [
              0.3333333333333333,
              "#9c179e"
             ],
             [
              0.4444444444444444,
              "#bd3786"
             ],
             [
              0.5555555555555556,
              "#d8576b"
             ],
             [
              0.6666666666666666,
              "#ed7953"
             ],
             [
              0.7777777777777778,
              "#fb9f3a"
             ],
             [
              0.8888888888888888,
              "#fdca26"
             ],
             [
              1,
              "#f0f921"
             ]
            ],
            "type": "contour"
           }
          ],
          "contourcarpet": [
           {
            "colorbar": {
             "outlinewidth": 0,
             "ticks": ""
            },
            "type": "contourcarpet"
           }
          ],
          "heatmap": [
           {
            "colorbar": {
             "outlinewidth": 0,
             "ticks": ""
            },
            "colorscale": [
             [
              0,
              "#0d0887"
             ],
             [
              0.1111111111111111,
              "#46039f"
             ],
             [
              0.2222222222222222,
              "#7201a8"
             ],
             [
              0.3333333333333333,
              "#9c179e"
             ],
             [
              0.4444444444444444,
              "#bd3786"
             ],
             [
              0.5555555555555556,
              "#d8576b"
             ],
             [
              0.6666666666666666,
              "#ed7953"
             ],
             [
              0.7777777777777778,
              "#fb9f3a"
             ],
             [
              0.8888888888888888,
              "#fdca26"
             ],
             [
              1,
              "#f0f921"
             ]
            ],
            "type": "heatmap"
           }
          ],
          "heatmapgl": [
           {
            "colorbar": {
             "outlinewidth": 0,
             "ticks": ""
            },
            "colorscale": [
             [
              0,
              "#0d0887"
             ],
             [
              0.1111111111111111,
              "#46039f"
             ],
             [
              0.2222222222222222,
              "#7201a8"
             ],
             [
              0.3333333333333333,
              "#9c179e"
             ],
             [
              0.4444444444444444,
              "#bd3786"
             ],
             [
              0.5555555555555556,
              "#d8576b"
             ],
             [
              0.6666666666666666,
              "#ed7953"
             ],
             [
              0.7777777777777778,
              "#fb9f3a"
             ],
             [
              0.8888888888888888,
              "#fdca26"
             ],
             [
              1,
              "#f0f921"
             ]
            ],
            "type": "heatmapgl"
           }
          ],
          "histogram": [
           {
            "marker": {
             "colorbar": {
              "outlinewidth": 0,
              "ticks": ""
             }
            },
            "type": "histogram"
           }
          ],
          "histogram2d": [
           {
            "colorbar": {
             "outlinewidth": 0,
             "ticks": ""
            },
            "colorscale": [
             [
              0,
              "#0d0887"
             ],
             [
              0.1111111111111111,
              "#46039f"
             ],
             [
              0.2222222222222222,
              "#7201a8"
             ],
             [
              0.3333333333333333,
              "#9c179e"
             ],
             [
              0.4444444444444444,
              "#bd3786"
             ],
             [
              0.5555555555555556,
              "#d8576b"
             ],
             [
              0.6666666666666666,
              "#ed7953"
             ],
             [
              0.7777777777777778,
              "#fb9f3a"
             ],
             [
              0.8888888888888888,
              "#fdca26"
             ],
             [
              1,
              "#f0f921"
             ]
            ],
            "type": "histogram2d"
           }
          ],
          "histogram2dcontour": [
           {
            "colorbar": {
             "outlinewidth": 0,
             "ticks": ""
            },
            "colorscale": [
             [
              0,
              "#0d0887"
             ],
             [
              0.1111111111111111,
              "#46039f"
             ],
             [
              0.2222222222222222,
              "#7201a8"
             ],
             [
              0.3333333333333333,
              "#9c179e"
             ],
             [
              0.4444444444444444,
              "#bd3786"
             ],
             [
              0.5555555555555556,
              "#d8576b"
             ],
             [
              0.6666666666666666,
              "#ed7953"
             ],
             [
              0.7777777777777778,
              "#fb9f3a"
             ],
             [
              0.8888888888888888,
              "#fdca26"
             ],
             [
              1,
              "#f0f921"
             ]
            ],
            "type": "histogram2dcontour"
           }
          ],
          "mesh3d": [
           {
            "colorbar": {
             "outlinewidth": 0,
             "ticks": ""
            },
            "type": "mesh3d"
           }
          ],
          "parcoords": [
           {
            "line": {
             "colorbar": {
              "outlinewidth": 0,
              "ticks": ""
             }
            },
            "type": "parcoords"
           }
          ],
          "scatter": [
           {
            "marker": {
             "colorbar": {
              "outlinewidth": 0,
              "ticks": ""
             }
            },
            "type": "scatter"
           }
          ],
          "scatter3d": [
           {
            "line": {
             "colorbar": {
              "outlinewidth": 0,
              "ticks": ""
             }
            },
            "marker": {
             "colorbar": {
              "outlinewidth": 0,
              "ticks": ""
             }
            },
            "type": "scatter3d"
           }
          ],
          "scattercarpet": [
           {
            "marker": {
             "colorbar": {
              "outlinewidth": 0,
              "ticks": ""
             }
            },
            "type": "scattercarpet"
           }
          ],
          "scattergeo": [
           {
            "marker": {
             "colorbar": {
              "outlinewidth": 0,
              "ticks": ""
             }
            },
            "type": "scattergeo"
           }
          ],
          "scattergl": [
           {
            "marker": {
             "colorbar": {
              "outlinewidth": 0,
              "ticks": ""
             }
            },
            "type": "scattergl"
           }
          ],
          "scattermapbox": [
           {
            "marker": {
             "colorbar": {
              "outlinewidth": 0,
              "ticks": ""
             }
            },
            "type": "scattermapbox"
           }
          ],
          "scatterpolar": [
           {
            "marker": {
             "colorbar": {
              "outlinewidth": 0,
              "ticks": ""
             }
            },
            "type": "scatterpolar"
           }
          ],
          "scatterpolargl": [
           {
            "marker": {
             "colorbar": {
              "outlinewidth": 0,
              "ticks": ""
             }
            },
            "type": "scatterpolargl"
           }
          ],
          "scatterternary": [
           {
            "marker": {
             "colorbar": {
              "outlinewidth": 0,
              "ticks": ""
             }
            },
            "type": "scatterternary"
           }
          ],
          "surface": [
           {
            "colorbar": {
             "outlinewidth": 0,
             "ticks": ""
            },
            "colorscale": [
             [
              0,
              "#0d0887"
             ],
             [
              0.1111111111111111,
              "#46039f"
             ],
             [
              0.2222222222222222,
              "#7201a8"
             ],
             [
              0.3333333333333333,
              "#9c179e"
             ],
             [
              0.4444444444444444,
              "#bd3786"
             ],
             [
              0.5555555555555556,
              "#d8576b"
             ],
             [
              0.6666666666666666,
              "#ed7953"
             ],
             [
              0.7777777777777778,
              "#fb9f3a"
             ],
             [
              0.8888888888888888,
              "#fdca26"
             ],
             [
              1,
              "#f0f921"
             ]
            ],
            "type": "surface"
           }
          ],
          "table": [
           {
            "cells": {
             "fill": {
              "color": "#EBF0F8"
             },
             "line": {
              "color": "white"
             }
            },
            "header": {
             "fill": {
              "color": "#C8D4E3"
             },
             "line": {
              "color": "white"
             }
            },
            "type": "table"
           }
          ]
         },
         "layout": {
          "annotationdefaults": {
           "arrowcolor": "#2a3f5f",
           "arrowhead": 0,
           "arrowwidth": 1
          },
          "colorscale": {
           "diverging": [
            [
             0,
             "#8e0152"
            ],
            [
             0.1,
             "#c51b7d"
            ],
            [
             0.2,
             "#de77ae"
            ],
            [
             0.3,
             "#f1b6da"
            ],
            [
             0.4,
             "#fde0ef"
            ],
            [
             0.5,
             "#f7f7f7"
            ],
            [
             0.6,
             "#e6f5d0"
            ],
            [
             0.7,
             "#b8e186"
            ],
            [
             0.8,
             "#7fbc41"
            ],
            [
             0.9,
             "#4d9221"
            ],
            [
             1,
             "#276419"
            ]
           ],
           "sequential": [
            [
             0,
             "#0d0887"
            ],
            [
             0.1111111111111111,
             "#46039f"
            ],
            [
             0.2222222222222222,
             "#7201a8"
            ],
            [
             0.3333333333333333,
             "#9c179e"
            ],
            [
             0.4444444444444444,
             "#bd3786"
            ],
            [
             0.5555555555555556,
             "#d8576b"
            ],
            [
             0.6666666666666666,
             "#ed7953"
            ],
            [
             0.7777777777777778,
             "#fb9f3a"
            ],
            [
             0.8888888888888888,
             "#fdca26"
            ],
            [
             1,
             "#f0f921"
            ]
           ],
           "sequentialminus": [
            [
             0,
             "#0d0887"
            ],
            [
             0.1111111111111111,
             "#46039f"
            ],
            [
             0.2222222222222222,
             "#7201a8"
            ],
            [
             0.3333333333333333,
             "#9c179e"
            ],
            [
             0.4444444444444444,
             "#bd3786"
            ],
            [
             0.5555555555555556,
             "#d8576b"
            ],
            [
             0.6666666666666666,
             "#ed7953"
            ],
            [
             0.7777777777777778,
             "#fb9f3a"
            ],
            [
             0.8888888888888888,
             "#fdca26"
            ],
            [
             1,
             "#f0f921"
            ]
           ]
          },
          "colorway": [
           "#636efa",
           "#EF553B",
           "#00cc96",
           "#ab63fa",
           "#FFA15A",
           "#19d3f3",
           "#FF6692",
           "#B6E880",
           "#FF97FF",
           "#FECB52"
          ],
          "font": {
           "color": "#2a3f5f"
          },
          "geo": {
           "bgcolor": "white",
           "lakecolor": "white",
           "landcolor": "#E5ECF6",
           "showlakes": true,
           "showland": true,
           "subunitcolor": "white"
          },
          "hoverlabel": {
           "align": "left"
          },
          "hovermode": "closest",
          "mapbox": {
           "style": "light"
          },
          "paper_bgcolor": "white",
          "plot_bgcolor": "#E5ECF6",
          "polar": {
           "angularaxis": {
            "gridcolor": "white",
            "linecolor": "white",
            "ticks": ""
           },
           "bgcolor": "#E5ECF6",
           "radialaxis": {
            "gridcolor": "white",
            "linecolor": "white",
            "ticks": ""
           }
          },
          "scene": {
           "xaxis": {
            "backgroundcolor": "#E5ECF6",
            "gridcolor": "white",
            "gridwidth": 2,
            "linecolor": "white",
            "showbackground": true,
            "ticks": "",
            "zerolinecolor": "white"
           },
           "yaxis": {
            "backgroundcolor": "#E5ECF6",
            "gridcolor": "white",
            "gridwidth": 2,
            "linecolor": "white",
            "showbackground": true,
            "ticks": "",
            "zerolinecolor": "white"
           },
           "zaxis": {
            "backgroundcolor": "#E5ECF6",
            "gridcolor": "white",
            "gridwidth": 2,
            "linecolor": "white",
            "showbackground": true,
            "ticks": "",
            "zerolinecolor": "white"
           }
          },
          "shapedefaults": {
           "line": {
            "color": "#2a3f5f"
           }
          },
          "ternary": {
           "aaxis": {
            "gridcolor": "white",
            "linecolor": "white",
            "ticks": ""
           },
           "baxis": {
            "gridcolor": "white",
            "linecolor": "white",
            "ticks": ""
           },
           "bgcolor": "#E5ECF6",
           "caxis": {
            "gridcolor": "white",
            "linecolor": "white",
            "ticks": ""
           }
          },
          "title": {
           "x": 0.05
          },
          "xaxis": {
           "automargin": true,
           "gridcolor": "white",
           "linecolor": "white",
           "ticks": "",
           "zerolinecolor": "white",
           "zerolinewidth": 2
          },
          "yaxis": {
           "automargin": true,
           "gridcolor": "white",
           "linecolor": "white",
           "ticks": "",
           "zerolinecolor": "white",
           "zerolinewidth": 2
          }
         }
        },
        "xaxis": {
         "anchor": "y",
         "domain": [
          0,
          0.98
         ],
         "title": {
          "text": "epoch"
         }
        },
        "yaxis": {
         "anchor": "x",
         "domain": [
          0,
          1
         ],
         "title": {
          "text": "variance"
         }
        }
       }
      },
      "text/html": [
       "<div>\n",
       "        \n",
       "        \n",
       "            <div id=\"6756a523-11bf-4937-8644-294d593b4c16\" class=\"plotly-graph-div\" style=\"height:600px; width:100%;\"></div>\n",
       "            <script type=\"text/javascript\">\n",
       "                require([\"plotly\"], function(Plotly) {\n",
       "                    window.PLOTLYENV=window.PLOTLYENV || {};\n",
       "                    \n",
       "                if (document.getElementById(\"6756a523-11bf-4937-8644-294d593b4c16\")) {\n",
       "                    Plotly.newPlot(\n",
       "                        '6756a523-11bf-4937-8644-294d593b4c16',\n",
       "                        [{\"hoverlabel\": {\"namelength\": 0}, \"hovertemplate\": \"category=weights_0<br>epoch=%{x}<br>variance=%{y}\", \"legendgroup\": \"category=weights_0\", \"line\": {\"color\": \"#636efa\", \"dash\": \"solid\"}, \"mode\": \"lines\", \"name\": \"category=weights_0\", \"showlegend\": true, \"type\": \"scatter\", \"x\": [1, 2, 3, 4, 5, 6, 7, 8, 9, 10, 11, 12, 13, 14, 15, 16, 17, 18, 19, 20, 21, 22, 23, 24, 25, 26, 27, 28, 29, 30, 31, 32, 33, 34, 35, 36, 37, 38, 39, 40, 41, 42, 43, 44, 45, 46, 47, 48, 49, 50, 51, 52, 53, 54, 55, 56, 57, 58, 59, 60, 61, 62, 63, 64, 65, 66, 67, 68, 69, 70, 71, 72, 73, 74, 75, 76, 77, 78, 79, 80, 81, 82, 83, 84, 85, 86, 87, 88, 89, 90, 91, 92, 93, 94, 95, 96, 97, 98, 99, 100, 101, 102, 103, 104, 105, 106, 107, 108, 109, 110, 111, 112, 113, 114, 115, 116, 117, 118, 119, 120, 121, 122, 123, 124, 125, 126, 127, 128, 129, 130, 131, 132, 133, 134, 135, 136, 137, 138, 139, 140, 141, 142, 143, 144, 145, 146, 147, 148, 149, 150, 151, 152, 153, 154, 155, 156, 157, 158, 159, 160, 161, 162, 163, 164, 165, 166, 167, 168, 169, 170, 171, 172, 173, 174, 175, 176, 177, 178, 179, 180, 181, 182, 183, 184, 185, 186, 187, 188, 189, 190, 191, 192, 193, 194, 195, 196, 197, 198, 199, 200], \"xaxis\": \"x\", \"y\": [0.9646805793340348, 0.9013188711635688, 1.1559056990744427, 1.2032259842186912, 1.2764852202579415, 1.3249097884236625, 1.2814977676212382, 1.2868955022791613, 1.329127425693114, 1.338714532995251, 1.3321098032426006, 1.386706145188098, 1.3922230005404757, 1.4328463762183028, 1.4350605642355858, 1.434397105016483, 1.4558285767916308, 1.4374651025762537, 1.4575457606523763, 1.4611624165952388, 1.4541192737098703, 1.4595228976510892, 1.458155652618952, 1.4594532756135512, 1.4448088625440108, 1.4495621657945714, 1.4889903915308638, 1.4745789376727851, 1.4678820512283666, 1.42126250057825, 1.45357765350746, 1.6235522907327709, 1.6189605134972826, 1.746444962373529, 1.7398549947356385, 1.7693956952995313, 1.7741385059576955, 1.7696739985646432, 1.7705459325928785, 1.7586580207531544, 1.7731087213980596, 1.7731905258475662, 1.7769860900452392, 1.7696794980436934, 1.7696067920342826, 1.7804853739411692, 1.775860502375433, 2.009494609240804, 2.0113057321629904, 2.009942953643457, 2.0077606945416626, 2.009578935176119, 2.006037016464064, 2.149351352096989, 2.0975980370065774, 2.101501940509728, 2.272804837252931, 2.2837339044720992, 2.316397366565682, 2.3202147734395755, 2.3187837751517844, 2.3221159414143187, 2.3182263722835645, 2.307241815605287, 2.3332711475515824, 2.3493153641314164, 2.3196382546494987, 2.3195442489767086, 2.3600941008924603, 2.366442056328373, 2.594944184818175, 2.6189120121059974, 2.414263369172784, 2.4201293152631056, 2.4199202349584885, 2.4258355615468465, 2.4382847125792244, 2.428739778459947, 2.402863434686152, 2.4470322688722552, 2.418933369773966, 2.442663353534396, 2.4457042614406843, 2.446981022690637, 2.461675804481993, 2.4446968144305554, 2.442486701845116, 2.437543337716635, 2.440705711014319, 2.4667734753491075, 2.4587300225274253, 2.5895077727560585, 2.578882909650129, 2.6292809925639027, 2.7015449799479114, 2.7180477434752146, 2.7060127243505, 2.7194398156883692, 2.773201229988182, 2.8299495650449447, 3.0256741761658237, 3.0315231330961816, 2.980504674372505, 2.9558824022761447, 2.9576790436065514, 2.955443400513124, 2.974375803167405, 2.9580602820892694, 2.95904404669655, 2.983544450596708, 3.0406483781181928, 3.0398287342075645, 3.1279639970217716, 3.0952162402242047, 3.099419704321606, 3.047683739907052, 3.04796742245135, 3.0447363001125196, 3.0341500519340525, 3.043721662437076, 3.0608121435209186, 3.026648011601818, 3.081712856518059, 3.0858221363646674, 3.0923941749608757, 3.17362979059624, 3.1580845119865066, 3.2668631768296863, 3.2524865812839985, 3.2494845634888576, 3.236499582775458, 3.2588591303621706, 3.255099672718522, 3.280168757380594, 3.2735416328211255, 3.214126723231193, 3.2540120003450257, 3.2715581022683717, 3.2700190049409454, 3.2267407555005687, 3.2367268970468106, 3.347612753564381, 3.312417843439187, 3.3524366469124636, 3.467383668325033, 3.5704645594095528, 3.609591802096031, 3.4674356117509033, 3.617234580295066, 3.5424535695628925, 3.5391595308859882, 3.538169607692278, 3.5480039572485085, 3.5276345921655365, 3.54416148906245, 3.558582939707282, 3.5384168415675883, 3.544693143572748, 3.5512998021168882, 3.524084041107759, 3.5421034061098076, 3.5343684077470363, 3.541233761619945, 3.5460088872888966, 3.489424868425983, 3.55561094003811, 3.5717213091907545, 3.5399156853988845, 3.5428418284178624, 3.55859424562992, 3.5442531830226844, 3.553692328296875, 3.506612348059294, 3.4905245296278733, 3.5042813229570564, 3.6181559967082175, 3.5950905073115824, 3.581915777210479, 3.589739696507867, 3.611204236739115, 3.610665408803344, 3.6227850266441055, 3.7567350518269547, 3.7148684841302253, 3.9006731611087635, 3.8869765244081522, 3.9073394537591133, 3.9028255467098747, 3.910788824034999, 3.923521403750494, 3.9117978948151615, 3.9536418461406955, 3.950878145588611, 3.942574559482339, 3.9446061130269094, 3.931475513193594, 4.071811368268616, 4.080237363568188, 4.0819181118446215, 4.070003732677627], \"yaxis\": \"y\"}, {\"hoverlabel\": {\"namelength\": 0}, \"hovertemplate\": \"category=weights_1<br>epoch=%{x}<br>variance=%{y}\", \"legendgroup\": \"category=weights_1\", \"line\": {\"color\": \"#EF553B\", \"dash\": \"solid\"}, \"mode\": \"lines\", \"name\": \"category=weights_1\", \"showlegend\": true, \"type\": \"scatter\", \"x\": [1, 2, 3, 4, 5, 6, 7, 8, 9, 10, 11, 12, 13, 14, 15, 16, 17, 18, 19, 20, 21, 22, 23, 24, 25, 26, 27, 28, 29, 30, 31, 32, 33, 34, 35, 36, 37, 38, 39, 40, 41, 42, 43, 44, 45, 46, 47, 48, 49, 50, 51, 52, 53, 54, 55, 56, 57, 58, 59, 60, 61, 62, 63, 64, 65, 66, 67, 68, 69, 70, 71, 72, 73, 74, 75, 76, 77, 78, 79, 80, 81, 82, 83, 84, 85, 86, 87, 88, 89, 90, 91, 92, 93, 94, 95, 96, 97, 98, 99, 100, 101, 102, 103, 104, 105, 106, 107, 108, 109, 110, 111, 112, 113, 114, 115, 116, 117, 118, 119, 120, 121, 122, 123, 124, 125, 126, 127, 128, 129, 130, 131, 132, 133, 134, 135, 136, 137, 138, 139, 140, 141, 142, 143, 144, 145, 146, 147, 148, 149, 150, 151, 152, 153, 154, 155, 156, 157, 158, 159, 160, 161, 162, 163, 164, 165, 166, 167, 168, 169, 170, 171, 172, 173, 174, 175, 176, 177, 178, 179, 180, 181, 182, 183, 184, 185, 186, 187, 188, 189, 190, 191, 192, 193, 194, 195, 196, 197, 198, 199, 200], \"xaxis\": \"x\", \"y\": [0.8066663066751798, 1.1151718813395095, 0.9874406583929445, 1.0491954157246368, 1.05474052073988, 1.1421704328974862, 1.1043314136669862, 1.1211499666695195, 1.1030584882377994, 1.0001164458634633, 0.9886551712600034, 1.162500398914668, 1.1622649121123865, 1.2382407357446823, 1.2517534318138004, 1.2269242754337024, 1.1910015801361298, 1.2009354930883205, 1.2963842191160124, 1.2860006356082079, 1.2513108318813295, 1.246951683456445, 1.2391529023477263, 1.2525210902466826, 1.2927621956787145, 1.2816611376286382, 1.251702018958986, 1.217045835777707, 1.3046214432909258, 1.2367953532624643, 1.2831619959953509, 1.3619917560590942, 1.3613972067747258, 1.6100530011603664, 1.2649959176223282, 1.2103018087764357, 1.190802956275751, 1.2980932451874896, 1.2990744235283154, 1.2991392226241658, 1.2985651341644406, 1.2998939540553727, 1.3165486983745482, 1.3026003400363542, 1.3257362824726044, 1.292801356576022, 1.2614690584662978, 1.4267258478998548, 1.4183591359639998, 1.3909086449362678, 1.4060843249789319, 1.407597499305663, 1.3257257602019552, 1.538745476748981, 1.844077615607725, 1.8243128814031944, 1.9523804981916568, 1.944982901215773, 1.9537231487147726, 1.9400674356531502, 1.9469352043031458, 1.9344358542698599, 1.9359356184370269, 1.9433187273255683, 1.9467131384536143, 1.9779127833400996, 2.103078338192752, 2.0828126049760955, 2.214786905808231, 2.369299100238128, 2.224476497140147, 2.4051934886138286, 2.389510990760288, 2.393602420077278, 2.3934350217215616, 2.4114440576054084, 2.3904044878328055, 2.589873667979333, 2.3626230204702714, 2.357798706661496, 2.3861277489455635, 2.332220529592888, 2.351374810477136, 2.3527084216231287, 2.3525456059989076, 2.3414305716420323, 2.358470815238712, 2.365130636390928, 2.3126966433638168, 2.3419820448320934, 2.279173430274513, 2.3331710456517865, 2.6024243385769363, 2.650993619593061, 2.667126321249592, 2.710426561127313, 2.686546775271766, 2.6885959130864676, 2.7345807621899905, 3.382439802177381, 2.7816431913836355, 2.8147673515018, 2.178848256217989, 2.2449162224568244, 2.2577780998654173, 2.26837217740793, 2.2636021709410397, 2.2518073439868678, 2.229072835934186, 2.2573067557981776, 2.730445312741091, 2.733106582593047, 2.766542093507637, 2.7642306658926126, 2.773551985990638, 2.8239142281607843, 2.823509494766175, 2.8214995487911843, 2.8065754753868117, 2.8683876253275984, 2.8439499434484468, 2.748365460492672, 2.983384357132236, 2.975838158860986, 2.9771919762889207, 2.547122187536478, 2.5477996952560087, 2.5747159080887467, 2.574752923220304, 2.5886134499747233, 2.5815585216517705, 2.551589725790838, 2.603488937234326, 2.5398726148960793, 2.539549635024359, 2.612435058170017, 2.62333147963116, 2.569923725022131, 2.574268589733612, 2.552317382827745, 2.7485259609055306, 2.6473270725557665, 2.675689261365575, 2.639833000727363, 3.077103500950618, 2.9207675767720023, 2.9509005855972363, 3.1373602732833783, 2.861257900081952, 3.1504162404286316, 3.4384287696605567, 3.4657689365036513, 3.3872548152578927, 3.5053932389332596, 3.4825705403276856, 3.483139189592804, 3.4230267447361364, 3.4355835381916586, 3.4358543907210026, 3.479065591274238, 3.4871540097322162, 3.4014056176968412, 3.3998077557209543, 3.362590636775201, 4.000744425216578, 3.901302439837779, 3.8996219706686293, 3.9141751724112583, 3.9364207949559438, 3.927820231910619, 3.9337983863787502, 3.9322171886999175, 3.960705987264829, 3.9601662613146007, 3.9876942268947664, 3.858445882437799, 3.8553982228197228, 3.8489562253736036, 3.8805529152426104, 3.8662403008418575, 3.835954653296831, 3.8890361423527455, 3.9078004115163134, 3.8673805011390203, 4.067962383211052, 4.111065762063927, 4.052526455076386, 4.108981971986989, 4.040426949928074, 4.010270785124678, 4.071058147178833, 4.137810639873537, 4.103088582373056, 4.148415139430268, 4.092283161302872, 4.136000077402583, 4.255635563025826, 4.25507490946622, 4.257386784212334, 4.213820652922485], \"yaxis\": \"y\"}, {\"hoverlabel\": {\"namelength\": 0}, \"hovertemplate\": \"category=weights_2<br>epoch=%{x}<br>variance=%{y}\", \"legendgroup\": \"category=weights_2\", \"line\": {\"color\": \"#00cc96\", \"dash\": \"solid\"}, \"mode\": \"lines\", \"name\": \"category=weights_2\", \"showlegend\": true, \"type\": \"scatter\", \"x\": [1, 2, 3, 4, 5, 6, 7, 8, 9, 10, 11, 12, 13, 14, 15, 16, 17, 18, 19, 20, 21, 22, 23, 24, 25, 26, 27, 28, 29, 30, 31, 32, 33, 34, 35, 36, 37, 38, 39, 40, 41, 42, 43, 44, 45, 46, 47, 48, 49, 50, 51, 52, 53, 54, 55, 56, 57, 58, 59, 60, 61, 62, 63, 64, 65, 66, 67, 68, 69, 70, 71, 72, 73, 74, 75, 76, 77, 78, 79, 80, 81, 82, 83, 84, 85, 86, 87, 88, 89, 90, 91, 92, 93, 94, 95, 96, 97, 98, 99, 100, 101, 102, 103, 104, 105, 106, 107, 108, 109, 110, 111, 112, 113, 114, 115, 116, 117, 118, 119, 120, 121, 122, 123, 124, 125, 126, 127, 128, 129, 130, 131, 132, 133, 134, 135, 136, 137, 138, 139, 140, 141, 142, 143, 144, 145, 146, 147, 148, 149, 150, 151, 152, 153, 154, 155, 156, 157, 158, 159, 160, 161, 162, 163, 164, 165, 166, 167, 168, 169, 170, 171, 172, 173, 174, 175, 176, 177, 178, 179, 180, 181, 182, 183, 184, 185, 186, 187, 188, 189, 190, 191, 192, 193, 194, 195, 196, 197, 198, 199, 200], \"xaxis\": \"x\", \"y\": [1.0912616162279924, 0.9656717900051187, 0.676758145729004, 0.8165442170859382, 0.9822825747779306, 0.780081687450327, 0.8735906496402801, 0.8511171818613339, 1.1150016162781737, 1.1221308409378388, 1.1220957399404048, 1.1144415011620978, 1.1169247152702255, 1.206338195429943, 1.2003829089042106, 1.1933754502080545, 1.2029875046655831, 1.1746717964064057, 1.1856471503490518, 1.190590684937385, 1.176039044123755, 1.1760853155868096, 1.1737120693600964, 1.1703568422086943, 1.1632219456833373, 1.1508114896743171, 1.161229769333339, 1.1776642708110026, 1.2296424088461506, 1.1612030072977597, 1.2975318436245127, 1.7816720612537702, 1.770045696093828, 1.7694802876560463, 1.7748412274729812, 1.7526279075208013, 1.7123776721537354, 1.7070313709741436, 1.7059753927572971, 1.729144606798342, 1.6845250238390885, 1.6834965718359685, 1.6830782512294726, 1.6760602304705006, 1.6874358941188843, 1.6547350136980172, 1.6540689427497517, 1.913303371019417, 1.913232182125415, 1.911706603893296, 1.935126395694927, 1.959622401996381, 1.9331399463639605, 2.4394398442762855, 2.2555892096455654, 2.254311312835042, 2.472413102625691, 2.450898893778758, 2.6126721389058516, 2.598106177979057, 2.589199521259863, 2.5947774667583046, 2.606248075478922, 2.653208021653936, 2.6361176125322445, 2.633208671348717, 2.809749426244375, 2.810485497182184, 2.8183147931015906, 3.2860113448336943, 3.057042848971811, 2.952385543548102, 2.834205065704338, 2.835248575330556, 2.8351492920670003, 2.8629615460748408, 2.8125506401487925, 2.949437775908942, 2.8326847047074497, 2.7931198219246394, 2.8229266951139285, 2.7676066722486756, 2.875323944810196, 2.8941467067905418, 2.8914719012201764, 2.776539802444351, 2.820413709155863, 2.8702333378632594, 2.851221575826547, 2.8505216986647004, 2.858438659794553, 2.9577524689975387, 2.8374739764560726, 2.90645632866336, 2.8412030098273218, 2.8757594652007934, 2.868620076006618, 2.851889352641269, 2.752104400813769, 3.17056176935154, 2.5720185094411905, 2.5659842570741076, 2.1480474548591206, 2.001103860632716, 2.000583708476586, 1.9896414072286417, 1.994872797975875, 1.9843187868503094, 2.00824351494131, 1.9731047505739043, 1.7750224777729353, 1.775042488119495, 1.8579170116749468, 1.8180047627070206, 1.8170570534998305, 1.715673422318327, 1.7211786229770019, 1.7384298173355637, 1.7220026585910537, 1.7183459105954126, 1.7260653650435178, 1.7155180464577455, 1.7538556864647066, 1.7540126876553563, 1.764374275388273, 1.7949813002229693, 1.7981201110791984, 1.9913923591000038, 1.9650240361187044, 1.9768516700694876, 1.9820096793402593, 2.059317360116073, 1.9553715185714218, 2.1080706737343533, 2.1093468140871128, 1.9329501003804046, 1.988351745631492, 2.1347495648507495, 2.1366760085981467, 1.9488552884088586, 2.6428530371149352, 2.099631437457127, 2.1773879233609943, 2.16460245203091, 2.1937947119703245, 2.286260536899107, 2.280955168998003, 2.164808782150753, 2.2905653347692434, 2.2190880638061197, 2.1343763648468705, 2.192033348583274, 2.155376533715531, 2.199817087161086, 2.2307925175930525, 2.265513650771758, 2.2082156487445763, 2.213370285655266, 2.203622101626337, 2.212581005091238, 2.2013119873877915, 2.1926948741183336, 2.1912198014753907, 2.1823398025148104, 2.155577723896807, 2.5439289939915395, 2.5713185002072305, 2.4483728324340266, 2.4387283125758925, 2.4129855192639993, 2.4496627945125025, 2.4454388860884575, 2.761582467147879, 2.765413317263366, 2.741651677471175, 2.762239528076038, 2.7511260614480353, 2.7369313409991545, 2.848497316384284, 2.934669095116883, 2.727382809914056, 2.816713437927326, 2.8789758761759496, 2.9683801360074766, 2.755736164379905, 2.75657102824923, 2.745676451993287, 2.7500022301698563, 2.7420696444853934, 2.7808163911447052, 2.7621305988152245, 2.8333296465421003, 2.7911500426280376, 2.832642529041885, 2.811579103842371, 2.8865164527910587, 3.077906474123467, 3.0732927467334052, 3.0760632049725536, 2.9951659565960083], \"yaxis\": \"y\"}, {\"hoverlabel\": {\"namelength\": 0}, \"hovertemplate\": \"category=weights_3<br>epoch=%{x}<br>variance=%{y}\", \"legendgroup\": \"category=weights_3\", \"line\": {\"color\": \"#ab63fa\", \"dash\": \"solid\"}, \"mode\": \"lines\", \"name\": \"category=weights_3\", \"showlegend\": true, \"type\": \"scatter\", \"x\": [1, 2, 3, 4, 5, 6, 7, 8, 9, 10, 11, 12, 13, 14, 15, 16, 17, 18, 19, 20, 21, 22, 23, 24, 25, 26, 27, 28, 29, 30, 31, 32, 33, 34, 35, 36, 37, 38, 39, 40, 41, 42, 43, 44, 45, 46, 47, 48, 49, 50, 51, 52, 53, 54, 55, 56, 57, 58, 59, 60, 61, 62, 63, 64, 65, 66, 67, 68, 69, 70, 71, 72, 73, 74, 75, 76, 77, 78, 79, 80, 81, 82, 83, 84, 85, 86, 87, 88, 89, 90, 91, 92, 93, 94, 95, 96, 97, 98, 99, 100, 101, 102, 103, 104, 105, 106, 107, 108, 109, 110, 111, 112, 113, 114, 115, 116, 117, 118, 119, 120, 121, 122, 123, 124, 125, 126, 127, 128, 129, 130, 131, 132, 133, 134, 135, 136, 137, 138, 139, 140, 141, 142, 143, 144, 145, 146, 147, 148, 149, 150, 151, 152, 153, 154, 155, 156, 157, 158, 159, 160, 161, 162, 163, 164, 165, 166, 167, 168, 169, 170, 171, 172, 173, 174, 175, 176, 177, 178, 179, 180, 181, 182, 183, 184, 185, 186, 187, 188, 189, 190, 191, 192, 193, 194, 195, 196, 197, 198, 199, 200], \"xaxis\": \"x\", \"y\": [0.0, 0.0, 0.0, 0.0, 0.0, 0.0, 0.0, 0.0, 0.0, 0.0, 0.0, 0.0, 0.0, 0.0, 0.0, 0.0, 0.0, 0.0, 0.0, 0.0, 0.0, 0.0, 0.0, 0.0, 0.0, 0.0, 0.0, 0.0, 0.0, 0.0, 0.0, 0.0, 0.0, 0.0, 0.0, 0.0, 0.0, 0.0, 0.0, 0.0, 0.0, 0.0, 0.0, 0.0, 0.0, 0.0, 0.0, 0.0, 0.0, 0.0, 0.0, 0.0, 0.0, 0.0, 0.0, 0.0, 0.0, 0.0, 0.0, 0.0, 0.0, 0.0, 0.0, 0.0, 0.0, 0.0, 0.0, 0.0, 0.0, 0.0, 0.0, 0.0, 0.0, 0.0, 0.0, 0.0, 0.0, 0.0, 0.0, 0.0, 0.0, 0.0, 0.0, 0.0, 0.0, 0.0, 0.0, 0.0, 0.0, 0.0, 0.0, 0.0, 0.0, 0.0, 0.0, 0.0, 0.0, 0.0, 0.0, 0.0, 0.0, 0.0, 0.0, 0.0, 0.0, 0.0, 0.0, 0.0, 0.0, 0.0, 0.0, 0.0, 0.0, 0.0, 0.0, 0.0, 0.0, 0.0, 0.0, 0.0, 0.0, 0.0, 0.0, 0.0, 0.0, 0.0, 0.0, 0.0, 0.0, 0.0, 0.0, 0.0, 0.0, 0.0, 0.0, 0.0, 0.0, 0.0, 0.0, 0.0, 0.0, 0.0, 0.0, 0.0, 0.0, 0.0, 0.0, 0.0, 0.0, 0.0, 0.0, 0.0, 0.0, 0.0, 0.0, 0.0, 0.0, 0.0, 0.0, 0.0, 0.0, 0.0, 0.0, 0.0, 0.0, 0.0, 0.0, 0.0, 0.0, 0.0, 0.0, 0.0, 0.0, 0.0, 0.0, 0.0, 0.0, 0.0, 0.0, 0.0, 0.0, 0.0, 0.0, 0.0, 0.0, 0.0, 0.0, 0.0, 0.0, 0.0, 0.0, 0.0, 0.0, 0.0, 0.0, 0.0, 0.0, 0.0, 0.0, 0.0], \"yaxis\": \"y\"}],\n",
       "                        {\"height\": 600, \"legend\": {\"tracegroupgap\": 0}, \"margin\": {\"t\": 60}, \"template\": {\"data\": {\"bar\": [{\"error_x\": {\"color\": \"#2a3f5f\"}, \"error_y\": {\"color\": \"#2a3f5f\"}, \"marker\": {\"line\": {\"color\": \"#E5ECF6\", \"width\": 0.5}}, \"type\": \"bar\"}], \"barpolar\": [{\"marker\": {\"line\": {\"color\": \"#E5ECF6\", \"width\": 0.5}}, \"type\": \"barpolar\"}], \"carpet\": [{\"aaxis\": {\"endlinecolor\": \"#2a3f5f\", \"gridcolor\": \"white\", \"linecolor\": \"white\", \"minorgridcolor\": \"white\", \"startlinecolor\": \"#2a3f5f\"}, \"baxis\": {\"endlinecolor\": \"#2a3f5f\", \"gridcolor\": \"white\", \"linecolor\": \"white\", \"minorgridcolor\": \"white\", \"startlinecolor\": \"#2a3f5f\"}, \"type\": \"carpet\"}], \"choropleth\": [{\"colorbar\": {\"outlinewidth\": 0, \"ticks\": \"\"}, \"type\": \"choropleth\"}], \"contour\": [{\"colorbar\": {\"outlinewidth\": 0, \"ticks\": \"\"}, \"colorscale\": [[0.0, \"#0d0887\"], [0.1111111111111111, \"#46039f\"], [0.2222222222222222, \"#7201a8\"], [0.3333333333333333, \"#9c179e\"], [0.4444444444444444, \"#bd3786\"], [0.5555555555555556, \"#d8576b\"], [0.6666666666666666, \"#ed7953\"], [0.7777777777777778, \"#fb9f3a\"], [0.8888888888888888, \"#fdca26\"], [1.0, \"#f0f921\"]], \"type\": \"contour\"}], \"contourcarpet\": [{\"colorbar\": {\"outlinewidth\": 0, \"ticks\": \"\"}, \"type\": \"contourcarpet\"}], \"heatmap\": [{\"colorbar\": {\"outlinewidth\": 0, \"ticks\": \"\"}, \"colorscale\": [[0.0, \"#0d0887\"], [0.1111111111111111, \"#46039f\"], [0.2222222222222222, \"#7201a8\"], [0.3333333333333333, \"#9c179e\"], [0.4444444444444444, \"#bd3786\"], [0.5555555555555556, \"#d8576b\"], [0.6666666666666666, \"#ed7953\"], [0.7777777777777778, \"#fb9f3a\"], [0.8888888888888888, \"#fdca26\"], [1.0, \"#f0f921\"]], \"type\": \"heatmap\"}], \"heatmapgl\": [{\"colorbar\": {\"outlinewidth\": 0, \"ticks\": \"\"}, \"colorscale\": [[0.0, \"#0d0887\"], [0.1111111111111111, \"#46039f\"], [0.2222222222222222, \"#7201a8\"], [0.3333333333333333, \"#9c179e\"], [0.4444444444444444, \"#bd3786\"], [0.5555555555555556, \"#d8576b\"], [0.6666666666666666, \"#ed7953\"], [0.7777777777777778, \"#fb9f3a\"], [0.8888888888888888, \"#fdca26\"], [1.0, \"#f0f921\"]], \"type\": \"heatmapgl\"}], \"histogram\": [{\"marker\": {\"colorbar\": {\"outlinewidth\": 0, \"ticks\": \"\"}}, \"type\": \"histogram\"}], \"histogram2d\": [{\"colorbar\": {\"outlinewidth\": 0, \"ticks\": \"\"}, \"colorscale\": [[0.0, \"#0d0887\"], [0.1111111111111111, \"#46039f\"], [0.2222222222222222, \"#7201a8\"], [0.3333333333333333, \"#9c179e\"], [0.4444444444444444, \"#bd3786\"], [0.5555555555555556, \"#d8576b\"], [0.6666666666666666, \"#ed7953\"], [0.7777777777777778, \"#fb9f3a\"], [0.8888888888888888, \"#fdca26\"], [1.0, \"#f0f921\"]], \"type\": \"histogram2d\"}], \"histogram2dcontour\": [{\"colorbar\": {\"outlinewidth\": 0, \"ticks\": \"\"}, \"colorscale\": [[0.0, \"#0d0887\"], [0.1111111111111111, \"#46039f\"], [0.2222222222222222, \"#7201a8\"], [0.3333333333333333, \"#9c179e\"], [0.4444444444444444, \"#bd3786\"], [0.5555555555555556, \"#d8576b\"], [0.6666666666666666, \"#ed7953\"], [0.7777777777777778, \"#fb9f3a\"], [0.8888888888888888, \"#fdca26\"], [1.0, \"#f0f921\"]], \"type\": \"histogram2dcontour\"}], \"mesh3d\": [{\"colorbar\": {\"outlinewidth\": 0, \"ticks\": \"\"}, \"type\": \"mesh3d\"}], \"parcoords\": [{\"line\": {\"colorbar\": {\"outlinewidth\": 0, \"ticks\": \"\"}}, \"type\": \"parcoords\"}], \"scatter\": [{\"marker\": {\"colorbar\": {\"outlinewidth\": 0, \"ticks\": \"\"}}, \"type\": \"scatter\"}], \"scatter3d\": [{\"line\": {\"colorbar\": {\"outlinewidth\": 0, \"ticks\": \"\"}}, \"marker\": {\"colorbar\": {\"outlinewidth\": 0, \"ticks\": \"\"}}, \"type\": \"scatter3d\"}], \"scattercarpet\": [{\"marker\": {\"colorbar\": {\"outlinewidth\": 0, \"ticks\": \"\"}}, \"type\": \"scattercarpet\"}], \"scattergeo\": [{\"marker\": {\"colorbar\": {\"outlinewidth\": 0, \"ticks\": \"\"}}, \"type\": \"scattergeo\"}], \"scattergl\": [{\"marker\": {\"colorbar\": {\"outlinewidth\": 0, \"ticks\": \"\"}}, \"type\": \"scattergl\"}], \"scattermapbox\": [{\"marker\": {\"colorbar\": {\"outlinewidth\": 0, \"ticks\": \"\"}}, \"type\": \"scattermapbox\"}], \"scatterpolar\": [{\"marker\": {\"colorbar\": {\"outlinewidth\": 0, \"ticks\": \"\"}}, \"type\": \"scatterpolar\"}], \"scatterpolargl\": [{\"marker\": {\"colorbar\": {\"outlinewidth\": 0, \"ticks\": \"\"}}, \"type\": \"scatterpolargl\"}], \"scatterternary\": [{\"marker\": {\"colorbar\": {\"outlinewidth\": 0, \"ticks\": \"\"}}, \"type\": \"scatterternary\"}], \"surface\": [{\"colorbar\": {\"outlinewidth\": 0, \"ticks\": \"\"}, \"colorscale\": [[0.0, \"#0d0887\"], [0.1111111111111111, \"#46039f\"], [0.2222222222222222, \"#7201a8\"], [0.3333333333333333, \"#9c179e\"], [0.4444444444444444, \"#bd3786\"], [0.5555555555555556, \"#d8576b\"], [0.6666666666666666, \"#ed7953\"], [0.7777777777777778, \"#fb9f3a\"], [0.8888888888888888, \"#fdca26\"], [1.0, \"#f0f921\"]], \"type\": \"surface\"}], \"table\": [{\"cells\": {\"fill\": {\"color\": \"#EBF0F8\"}, \"line\": {\"color\": \"white\"}}, \"header\": {\"fill\": {\"color\": \"#C8D4E3\"}, \"line\": {\"color\": \"white\"}}, \"type\": \"table\"}]}, \"layout\": {\"annotationdefaults\": {\"arrowcolor\": \"#2a3f5f\", \"arrowhead\": 0, \"arrowwidth\": 1}, \"colorscale\": {\"diverging\": [[0, \"#8e0152\"], [0.1, \"#c51b7d\"], [0.2, \"#de77ae\"], [0.3, \"#f1b6da\"], [0.4, \"#fde0ef\"], [0.5, \"#f7f7f7\"], [0.6, \"#e6f5d0\"], [0.7, \"#b8e186\"], [0.8, \"#7fbc41\"], [0.9, \"#4d9221\"], [1, \"#276419\"]], \"sequential\": [[0.0, \"#0d0887\"], [0.1111111111111111, \"#46039f\"], [0.2222222222222222, \"#7201a8\"], [0.3333333333333333, \"#9c179e\"], [0.4444444444444444, \"#bd3786\"], [0.5555555555555556, \"#d8576b\"], [0.6666666666666666, \"#ed7953\"], [0.7777777777777778, \"#fb9f3a\"], [0.8888888888888888, \"#fdca26\"], [1.0, \"#f0f921\"]], \"sequentialminus\": [[0.0, \"#0d0887\"], [0.1111111111111111, \"#46039f\"], [0.2222222222222222, \"#7201a8\"], [0.3333333333333333, \"#9c179e\"], [0.4444444444444444, \"#bd3786\"], [0.5555555555555556, \"#d8576b\"], [0.6666666666666666, \"#ed7953\"], [0.7777777777777778, \"#fb9f3a\"], [0.8888888888888888, \"#fdca26\"], [1.0, \"#f0f921\"]]}, \"colorway\": [\"#636efa\", \"#EF553B\", \"#00cc96\", \"#ab63fa\", \"#FFA15A\", \"#19d3f3\", \"#FF6692\", \"#B6E880\", \"#FF97FF\", \"#FECB52\"], \"font\": {\"color\": \"#2a3f5f\"}, \"geo\": {\"bgcolor\": \"white\", \"lakecolor\": \"white\", \"landcolor\": \"#E5ECF6\", \"showlakes\": true, \"showland\": true, \"subunitcolor\": \"white\"}, \"hoverlabel\": {\"align\": \"left\"}, \"hovermode\": \"closest\", \"mapbox\": {\"style\": \"light\"}, \"paper_bgcolor\": \"white\", \"plot_bgcolor\": \"#E5ECF6\", \"polar\": {\"angularaxis\": {\"gridcolor\": \"white\", \"linecolor\": \"white\", \"ticks\": \"\"}, \"bgcolor\": \"#E5ECF6\", \"radialaxis\": {\"gridcolor\": \"white\", \"linecolor\": \"white\", \"ticks\": \"\"}}, \"scene\": {\"xaxis\": {\"backgroundcolor\": \"#E5ECF6\", \"gridcolor\": \"white\", \"gridwidth\": 2, \"linecolor\": \"white\", \"showbackground\": true, \"ticks\": \"\", \"zerolinecolor\": \"white\"}, \"yaxis\": {\"backgroundcolor\": \"#E5ECF6\", \"gridcolor\": \"white\", \"gridwidth\": 2, \"linecolor\": \"white\", \"showbackground\": true, \"ticks\": \"\", \"zerolinecolor\": \"white\"}, \"zaxis\": {\"backgroundcolor\": \"#E5ECF6\", \"gridcolor\": \"white\", \"gridwidth\": 2, \"linecolor\": \"white\", \"showbackground\": true, \"ticks\": \"\", \"zerolinecolor\": \"white\"}}, \"shapedefaults\": {\"line\": {\"color\": \"#2a3f5f\"}}, \"ternary\": {\"aaxis\": {\"gridcolor\": \"white\", \"linecolor\": \"white\", \"ticks\": \"\"}, \"baxis\": {\"gridcolor\": \"white\", \"linecolor\": \"white\", \"ticks\": \"\"}, \"bgcolor\": \"#E5ECF6\", \"caxis\": {\"gridcolor\": \"white\", \"linecolor\": \"white\", \"ticks\": \"\"}}, \"title\": {\"x\": 0.05}, \"xaxis\": {\"automargin\": true, \"gridcolor\": \"white\", \"linecolor\": \"white\", \"ticks\": \"\", \"zerolinecolor\": \"white\", \"zerolinewidth\": 2}, \"yaxis\": {\"automargin\": true, \"gridcolor\": \"white\", \"linecolor\": \"white\", \"ticks\": \"\", \"zerolinecolor\": \"white\", \"zerolinewidth\": 2}}}, \"xaxis\": {\"anchor\": \"y\", \"domain\": [0.0, 0.98], \"title\": {\"text\": \"epoch\"}}, \"yaxis\": {\"anchor\": \"x\", \"domain\": [0.0, 1.0], \"title\": {\"text\": \"variance\"}}},\n",
       "                        {\"responsive\": true}\n",
       "                    ).then(function(){\n",
       "                            \n",
       "var gd = document.getElementById('6756a523-11bf-4937-8644-294d593b4c16');\n",
       "var x = new MutationObserver(function (mutations, observer) {{\n",
       "        var display = window.getComputedStyle(gd).display;\n",
       "        if (!display || display === 'none') {{\n",
       "            console.log([gd, 'removed!']);\n",
       "            Plotly.purge(gd);\n",
       "            observer.disconnect();\n",
       "        }}\n",
       "}});\n",
       "\n",
       "// Listen for the removal of the full notebook cells\n",
       "var notebookContainer = gd.closest('#notebook-container');\n",
       "if (notebookContainer) {{\n",
       "    x.observe(notebookContainer, {childList: true});\n",
       "}}\n",
       "\n",
       "// Listen for the clearing of the current output cell\n",
       "var outputEl = gd.closest('.output');\n",
       "if (outputEl) {{\n",
       "    x.observe(outputEl, {childList: true});\n",
       "}}\n",
       "\n",
       "                        })\n",
       "                };\n",
       "                });\n",
       "            </script>\n",
       "        </div>"
      ]
     },
     "metadata": {},
     "output_type": "display_data"
    }
   ],
   "source": [
    "figs[1]"
   ]
  },
  {
   "cell_type": "code",
   "execution_count": 39,
   "metadata": {},
   "outputs": [
    {
     "data": {
      "application/vnd.plotly.v1+json": {
       "config": {
        "plotlyServerURL": "https://plot.ly"
       },
       "data": [
        {
         "hoverlabel": {
          "namelength": 0
         },
         "hovertemplate": "category=weights_0<br>epoch=%{x}<br>max=%{y}",
         "legendgroup": "category=weights_0",
         "line": {
          "color": "#636efa",
          "dash": "solid"
         },
         "mode": "lines",
         "name": "category=weights_0",
         "showlegend": true,
         "type": "scatter",
         "x": [
          1,
          2,
          3,
          4,
          5,
          6,
          7,
          8,
          9,
          10,
          11,
          12,
          13,
          14,
          15,
          16,
          17,
          18,
          19,
          20,
          21,
          22,
          23,
          24,
          25,
          26,
          27,
          28,
          29,
          30,
          31,
          32,
          33,
          34,
          35,
          36,
          37,
          38,
          39,
          40,
          41,
          42,
          43,
          44,
          45,
          46,
          47,
          48,
          49,
          50,
          51,
          52,
          53,
          54,
          55,
          56,
          57,
          58,
          59,
          60,
          61,
          62,
          63,
          64,
          65,
          66,
          67,
          68,
          69,
          70,
          71,
          72,
          73,
          74,
          75,
          76,
          77,
          78,
          79,
          80,
          81,
          82,
          83,
          84,
          85,
          86,
          87,
          88,
          89,
          90,
          91,
          92,
          93,
          94,
          95,
          96,
          97,
          98,
          99,
          100,
          101,
          102,
          103,
          104,
          105,
          106,
          107,
          108,
          109,
          110,
          111,
          112,
          113,
          114,
          115,
          116,
          117,
          118,
          119,
          120,
          121,
          122,
          123,
          124,
          125,
          126,
          127,
          128,
          129,
          130,
          131,
          132,
          133,
          134,
          135,
          136,
          137,
          138,
          139,
          140,
          141,
          142,
          143,
          144,
          145,
          146,
          147,
          148,
          149,
          150,
          151,
          152,
          153,
          154,
          155,
          156,
          157,
          158,
          159,
          160,
          161,
          162,
          163,
          164,
          165,
          166,
          167,
          168,
          169,
          170,
          171,
          172,
          173,
          174,
          175,
          176,
          177,
          178,
          179,
          180,
          181,
          182,
          183,
          184,
          185,
          186,
          187,
          188,
          189,
          190,
          191,
          192,
          193,
          194,
          195,
          196,
          197,
          198,
          199,
          200
         ],
         "xaxis": "x",
         "y": [
          2.302287446151656,
          3.2713017723908537,
          3.2508072016342906,
          3.26760860006815,
          3.2508072016342906,
          3.448569484767905,
          3.2311282771185312,
          3.2311282771185312,
          3.2311282771185312,
          3.2311282771185312,
          3.2311282771185312,
          3.265102062957833,
          3.265102062957833,
          3.612735295033572,
          3.612735295033572,
          3.5362650359253016,
          3.6333713295366605,
          3.5362650359253016,
          3.6333713295366605,
          3.6333713295366605,
          3.6562225278516074,
          3.6562225278516074,
          3.6562225278516074,
          3.6562225278516074,
          3.6562225278516074,
          3.6562225278516074,
          3.6333713295366605,
          3.6562225278516074,
          3.6211435527317817,
          3.6333713295366605,
          3.7294402672894944,
          4.234128785012429,
          4.234128785012429,
          4.234128785012429,
          5.178299377241887,
          5.178299377241887,
          5.288715973480218,
          5.382786521811556,
          5.382786521811556,
          5.382786521811556,
          5.444766025235603,
          5.444766025235603,
          5.444766025235603,
          5.384731860282315,
          5.444766025235603,
          5.444766025235603,
          5.444766025235603,
          5.444766025235603,
          5.444766025235603,
          5.444766025235603,
          5.444766025235603,
          5.444766025235603,
          5.444766025235603,
          5.444766025235603,
          5.433257572409369,
          5.433257572409369,
          5.433257572409369,
          5.560100021675249,
          6.019772170127287,
          6.019772170127287,
          6.019772170127287,
          5.944427959980674,
          5.944427959980674,
          5.865508666580161,
          5.989373841595163,
          5.989373841595163,
          5.187736751605765,
          5.187736751605765,
          5.187736751605765,
          5.247205992148535,
          5.1809666608728415,
          5.1809666608728415,
          5.1809666608728415,
          5.1809666608728415,
          5.1809666608728415,
          5.1809666608728415,
          5.1809666608728415,
          5.243332297761106,
          5.124911725039299,
          5.1809666608728415,
          5.124911725039299,
          5.040264369444719,
          5.1809666608728415,
          5.1809666608728415,
          5.1809666608728415,
          5.1809666608728415,
          5.124911725039299,
          5.124911725039299,
          5.124911725039299,
          5.124911725039299,
          5.124911725039299,
          4.641187301581614,
          5.124911725039299,
          5.285375043761288,
          4.645431537375422,
          4.645431537375422,
          4.651688494210303,
          4.645431537375422,
          4.645431537375422,
          4.797866157518786,
          4.484112946605933,
          4.484112946605933,
          4.484112946605933,
          4.484112946605933,
          4.484112946605933,
          4.484112946605933,
          4.484112946605933,
          4.484112946605933,
          4.484112946605933,
          4.4477704423830895,
          4.452104263456895,
          4.452104263456895,
          4.467233430753144,
          4.467233430753144,
          4.467233430753144,
          4.452104263456895,
          4.452104263456895,
          4.452104263456895,
          4.452104263456895,
          4.452104263456895,
          4.452104263456895,
          4.370153260434466,
          4.370153260434466,
          4.370153260434466,
          4.459649791975465,
          4.309454480161324,
          4.309454480161324,
          4.309454480161324,
          4.309454480161324,
          4.309454480161324,
          4.309454480161324,
          4.309454480161324,
          4.309454480161324,
          4.309454480161324,
          4.309454480161324,
          4.309454480161324,
          4.373914324468132,
          4.309454480161324,
          4.435702724116238,
          4.309454480161324,
          4.368332302406681,
          4.4446232420682605,
          4.4446232420682605,
          4.4446232420682605,
          4.475416409360357,
          4.618607902537409,
          4.618607902537409,
          4.475416409360357,
          4.416223473441449,
          4.477606112162013,
          4.741323308170592,
          4.741323308170592,
          4.741323308170592,
          4.741323308170592,
          4.848263611683637,
          4.848263611683637,
          4.741323308170592,
          4.741323308170592,
          4.741323308170592,
          4.741323308170592,
          4.741323308170592,
          4.741323308170592,
          4.741323308170592,
          4.741323308170592,
          4.9777942088282545,
          5.104314419231412,
          5.104314419231412,
          5.104314419231412,
          5.104314419231412,
          5.104314419231412,
          5.104314419231412,
          5.104314419231412,
          4.701522161000707,
          4.701522161000707,
          4.701522161000707,
          4.701522161000707,
          4.701522161000707,
          4.459765152991705,
          4.693157001022143,
          4.693157001022143,
          4.701522161000707,
          4.693157001022143,
          4.693157001022143,
          4.693157001022143,
          4.6867567001631345,
          4.6867567001631345,
          4.723454898127692,
          4.6867567001631345,
          4.723454898127692,
          4.723454898127692,
          4.723454898127692,
          4.70171634216724,
          4.7092617807906345,
          4.70171634216724,
          4.7092617807906345,
          4.705620133679227,
          4.7092617807906345,
          4.7092617807906345,
          4.7092617807906345,
          4.590032027511609
         ],
         "yaxis": "y"
        },
        {
         "hoverlabel": {
          "namelength": 0
         },
         "hovertemplate": "category=weights_1<br>epoch=%{x}<br>max=%{y}",
         "legendgroup": "category=weights_1",
         "line": {
          "color": "#EF553B",
          "dash": "solid"
         },
         "mode": "lines",
         "name": "category=weights_1",
         "showlegend": true,
         "type": "scatter",
         "x": [
          1,
          2,
          3,
          4,
          5,
          6,
          7,
          8,
          9,
          10,
          11,
          12,
          13,
          14,
          15,
          16,
          17,
          18,
          19,
          20,
          21,
          22,
          23,
          24,
          25,
          26,
          27,
          28,
          29,
          30,
          31,
          32,
          33,
          34,
          35,
          36,
          37,
          38,
          39,
          40,
          41,
          42,
          43,
          44,
          45,
          46,
          47,
          48,
          49,
          50,
          51,
          52,
          53,
          54,
          55,
          56,
          57,
          58,
          59,
          60,
          61,
          62,
          63,
          64,
          65,
          66,
          67,
          68,
          69,
          70,
          71,
          72,
          73,
          74,
          75,
          76,
          77,
          78,
          79,
          80,
          81,
          82,
          83,
          84,
          85,
          86,
          87,
          88,
          89,
          90,
          91,
          92,
          93,
          94,
          95,
          96,
          97,
          98,
          99,
          100,
          101,
          102,
          103,
          104,
          105,
          106,
          107,
          108,
          109,
          110,
          111,
          112,
          113,
          114,
          115,
          116,
          117,
          118,
          119,
          120,
          121,
          122,
          123,
          124,
          125,
          126,
          127,
          128,
          129,
          130,
          131,
          132,
          133,
          134,
          135,
          136,
          137,
          138,
          139,
          140,
          141,
          142,
          143,
          144,
          145,
          146,
          147,
          148,
          149,
          150,
          151,
          152,
          153,
          154,
          155,
          156,
          157,
          158,
          159,
          160,
          161,
          162,
          163,
          164,
          165,
          166,
          167,
          168,
          169,
          170,
          171,
          172,
          173,
          174,
          175,
          176,
          177,
          178,
          179,
          180,
          181,
          182,
          183,
          184,
          185,
          186,
          187,
          188,
          189,
          190,
          191,
          192,
          193,
          194,
          195,
          196,
          197,
          198,
          199,
          200
         ],
         "xaxis": "x",
         "y": [
          1.564601126652815,
          2.6793329241145036,
          2.244194598247237,
          2.552947795468388,
          2.2396135081424124,
          3.1737401667456178,
          2.088030296124418,
          2.088030296124418,
          2.286390450137405,
          1.9486226425113817,
          1.9486226425113817,
          2.10542631321729,
          2.10542631321729,
          2.257790131492137,
          2.257790131492137,
          2.257790131492137,
          2.145217238417015,
          2.257790131492137,
          2.3815662516992626,
          2.3815662516992626,
          2.3080021329617586,
          2.3080021329617586,
          2.3080021329617586,
          2.3080021329617586,
          2.3080021329617586,
          2.3080021329617586,
          2.3815662516992626,
          2.3080021329617586,
          2.392048066664143,
          2.316852981039412,
          2.330794980971906,
          2.719043197129639,
          2.719043197129639,
          3.4588962314066314,
          2.719043197129639,
          2.719043197129639,
          2.719043197129639,
          2.719043197129639,
          2.719043197129639,
          2.719043197129639,
          2.7176771862900115,
          2.7176771862900115,
          2.7176771862900115,
          2.7176771862900115,
          2.7176771862900115,
          2.7176771862900115,
          2.6032681623217186,
          2.7176771862900115,
          2.7176771862900115,
          2.7176771862900115,
          2.7176771862900115,
          2.7176771862900115,
          2.544248108681513,
          2.6671329691456114,
          3.141394231303157,
          3.141394231303157,
          3.141394231303157,
          3.141394231303157,
          3.141394231303157,
          3.097881259650369,
          3.097881259650369,
          3.097881259650369,
          3.097881259650369,
          3.141394231303157,
          3.141394231303157,
          3.2380296461350806,
          3.4615987368821286,
          3.4615987368821286,
          3.830167614651914,
          4.282718321293355,
          3.536033322281342,
          3.8217037749713736,
          3.830167614651914,
          3.830167614651914,
          3.830167614651914,
          3.8072857394540423,
          3.830167614651914,
          4.022022748249628,
          3.830167614651914,
          3.830167614651914,
          3.830167614651914,
          3.830167614651914,
          3.830167614651914,
          3.830167614651914,
          3.830167614651914,
          3.830167614651914,
          3.809318946283022,
          3.809318946283022,
          3.809318946283022,
          3.809318946283022,
          3.809318946283022,
          3.809318946283022,
          4.245101444031823,
          4.560213460265656,
          3.824323773230506,
          3.824323773230506,
          3.824323773230506,
          3.824323773230506,
          3.824323773230506,
          3.824323773230506,
          3.7459033833338986,
          3.7459033833338986,
          3.382738698692674,
          3.382738698692674,
          3.4173434573161106,
          3.382738698692674,
          3.4173434573161106,
          3.382738698692674,
          3.374563628457386,
          3.382738698692674,
          3.382738698692674,
          3.382738698692674,
          3.350159502580892,
          3.350159502580892,
          3.350159502580892,
          3.3706026413543824,
          3.3706026413543824,
          3.381503152765858,
          3.381503152765858,
          3.3706026413543824,
          3.3706026413543824,
          3.04364756717841,
          3.04364756717841,
          3.04364756717841,
          3.04364756717841,
          3.04364756717841,
          3.04364756717841,
          3.04364756717841,
          3.04364756717841,
          3.04364756717841,
          3.04364756717841,
          3.04364756717841,
          3.04364756717841,
          3.04364756717841,
          3.04364756717841,
          3.04364756717841,
          3.04364756717841,
          3.04364756717841,
          3.04364756717841,
          3.04364756717841,
          3.04364756717841,
          3.04364756717841,
          3.04364756717841,
          3.04364756717841,
          3.449720262875994,
          3.449720262875994,
          3.449720262875994,
          3.4950724964543993,
          3.449720262875994,
          3.4512970585059626,
          3.3025796874575097,
          3.52892178554592,
          3.3025796874575097,
          3.52892178554592,
          3.5593854878841666,
          3.5593854878841666,
          3.52892178554592,
          3.52892178554592,
          3.52892178554592,
          3.340555149689928,
          3.340555149689928,
          3.493229841106659,
          3.493229841106659,
          3.493229841106659,
          4.117855740147706,
          4.474765734808506,
          4.474765734808506,
          4.474765734808506,
          4.474765734808506,
          4.474765734808506,
          4.474765734808506,
          4.474765734808506,
          4.474765734808506,
          4.474765734808506,
          4.474765734808506,
          4.341633750620807,
          4.341633750620807,
          4.341633750620807,
          4.341633750620807,
          4.341633750620807,
          4.341633750620807,
          4.221344081902787,
          4.43662208211414,
          4.4919227054822315,
          4.4919227054822315,
          4.4919227054822315,
          4.4919227054822315,
          4.4919227054822315,
          4.4919227054822315,
          4.4919227054822315,
          4.4919227054822315,
          4.4919227054822315,
          4.500489595932505,
          4.4919227054822315,
          4.500489595932505,
          4.4919227054822315,
          4.500489595932505,
          4.500489595932505,
          4.500489595932505,
          4.500489595932505
         ],
         "yaxis": "y"
        },
        {
         "hoverlabel": {
          "namelength": 0
         },
         "hovertemplate": "category=weights_2<br>epoch=%{x}<br>max=%{y}",
         "legendgroup": "category=weights_2",
         "line": {
          "color": "#00cc96",
          "dash": "solid"
         },
         "mode": "lines",
         "name": "category=weights_2",
         "showlegend": true,
         "type": "scatter",
         "x": [
          1,
          2,
          3,
          4,
          5,
          6,
          7,
          8,
          9,
          10,
          11,
          12,
          13,
          14,
          15,
          16,
          17,
          18,
          19,
          20,
          21,
          22,
          23,
          24,
          25,
          26,
          27,
          28,
          29,
          30,
          31,
          32,
          33,
          34,
          35,
          36,
          37,
          38,
          39,
          40,
          41,
          42,
          43,
          44,
          45,
          46,
          47,
          48,
          49,
          50,
          51,
          52,
          53,
          54,
          55,
          56,
          57,
          58,
          59,
          60,
          61,
          62,
          63,
          64,
          65,
          66,
          67,
          68,
          69,
          70,
          71,
          72,
          73,
          74,
          75,
          76,
          77,
          78,
          79,
          80,
          81,
          82,
          83,
          84,
          85,
          86,
          87,
          88,
          89,
          90,
          91,
          92,
          93,
          94,
          95,
          96,
          97,
          98,
          99,
          100,
          101,
          102,
          103,
          104,
          105,
          106,
          107,
          108,
          109,
          110,
          111,
          112,
          113,
          114,
          115,
          116,
          117,
          118,
          119,
          120,
          121,
          122,
          123,
          124,
          125,
          126,
          127,
          128,
          129,
          130,
          131,
          132,
          133,
          134,
          135,
          136,
          137,
          138,
          139,
          140,
          141,
          142,
          143,
          144,
          145,
          146,
          147,
          148,
          149,
          150,
          151,
          152,
          153,
          154,
          155,
          156,
          157,
          158,
          159,
          160,
          161,
          162,
          163,
          164,
          165,
          166,
          167,
          168,
          169,
          170,
          171,
          172,
          173,
          174,
          175,
          176,
          177,
          178,
          179,
          180,
          181,
          182,
          183,
          184,
          185,
          186,
          187,
          188,
          189,
          190,
          191,
          192,
          193,
          194,
          195,
          196,
          197,
          198,
          199,
          200
         ],
         "xaxis": "x",
         "y": [
          2.329818989982107,
          1.467687712555219,
          0.9359981344425464,
          1.2523034216364646,
          1.7277906991327612,
          0.9685209511667103,
          1.7553543529049558,
          1.7553543529049558,
          1.7553543529049558,
          1.7553543529049558,
          1.7553543529049558,
          1.6586993183696712,
          1.6586993183696712,
          1.8957577483526562,
          1.8957577483526562,
          1.8957577483526562,
          1.9333215970519522,
          1.8957577483526562,
          1.9333215970519522,
          1.9333215970519522,
          2.0201948788808424,
          2.0201948788808424,
          2.0201948788808424,
          2.0201948788808424,
          1.9341351638826079,
          2.0201948788808424,
          1.9333215970519522,
          2.0201948788808424,
          2.073671615529991,
          1.9333215970519522,
          2.280403577016381,
          2.8446232707031545,
          2.8446232707031545,
          2.8446232707031545,
          2.463135748488047,
          2.463135748488047,
          2.322240906633916,
          2.322240906633916,
          2.322240906633916,
          2.322240906633916,
          2.322762181931333,
          2.322762181931333,
          2.322762181931333,
          2.322240906633916,
          2.322762181931333,
          2.322240906633916,
          2.322240906633916,
          2.322762181931333,
          2.322762181931333,
          2.322762181931333,
          2.322762181931333,
          2.358234872303422,
          2.322762181931333,
          3.143435727003127,
          1.7349470518354977,
          1.7349470518354977,
          2.705043225205217,
          2.705043225205217,
          2.705043225205217,
          2.705043225205217,
          2.705043225205217,
          2.705043225205217,
          2.705043225205217,
          2.705043225205217,
          2.705043225205217,
          2.705043225205217,
          2.705043225205217,
          2.705043225205217,
          2.705043225205217,
          3.244431510746008,
          2.6419579309445718,
          2.6419579309445718,
          2.705043225205217,
          2.705043225205217,
          2.704780105588075,
          2.704334385132286,
          2.704780105588075,
          2.839879639609826,
          2.705043225205217,
          2.704780105588075,
          2.705043225205217,
          2.704780105588075,
          3.0193888553583093,
          3.0193888553583093,
          3.0193888553583093,
          2.7803672702497515,
          2.6027410669140236,
          2.6027410669140236,
          2.6027410669140236,
          2.6027410669140236,
          2.6027410669140236,
          2.6027410669140236,
          2.5183682847473103,
          2.5183682847473103,
          1.9020416911476155,
          1.8726444982709871,
          1.9020416911476155,
          1.9020416911476155,
          1.9020416911476155,
          1.3737793750810372,
          1.8771359978774875,
          1.8771359978774875,
          1.8652404742880728,
          1.671803884896399,
          1.671803884896399,
          1.6252953509175785,
          1.671803884896399,
          1.6252953509175785,
          1.6252953509175785,
          1.671803884896399,
          1.4577250152944081,
          1.4577250152944081,
          1.4577250152944081,
          1.4577250152944081,
          1.4577250152944081,
          1.4577250152944081,
          1.4577250152944081,
          1.4577250152944081,
          1.4577250152944081,
          1.4577250152944081,
          1.4577250152944081,
          1.4577250152944081,
          1.4577250152944081,
          1.4577250152944081,
          1.4577250152944081,
          1.4577250152944081,
          1.4577250152944081,
          1.4577250152944081,
          1.4577250152944081,
          1.4577250152944081,
          1.4577250152944081,
          1.4577250152944081,
          1.2790774683764599,
          1.4577250152944081,
          1.4577250152944081,
          1.15318683121036,
          1.2790774683764599,
          1.4577250152944081,
          1.4577250152944081,
          1.15318683121036,
          2.6259294665100708,
          1.4577250152944081,
          1.4577250152944081,
          1.4577250152944081,
          1.4577250152944081,
          0.88171286278002,
          0.88171286278002,
          1.3884917113177633,
          0.88171286278002,
          1.4594298933806833,
          1.4577250152944081,
          1.4577250152944081,
          1.4577250152944081,
          1.4577250152944081,
          1.6300687648279932,
          1.6300687648279932,
          1.4577250152944081,
          1.475066482890656,
          1.475066482890656,
          1.4577250152944081,
          1.4577250152944081,
          1.475066482890656,
          1.475066482890656,
          1.475066482890656,
          1.407574151822872,
          1.407574151822872,
          1.407574151822872,
          1.407574151822872,
          1.407574151822872,
          1.3452541773366218,
          1.407574151822872,
          1.3934350126637014,
          1.9970780826775383,
          1.9970780826775383,
          1.9970780826775383,
          1.9580741921381906,
          1.9580741921381906,
          1.9171250945955631,
          1.9580741921381906,
          1.9580741921381906,
          1.8850964491567066,
          1.9580741921381906,
          1.9580741921381906,
          1.927439705296783,
          2.0948653784397404,
          2.0948653784397404,
          2.0948653784397404,
          2.0948653784397404,
          2.0948653784397404,
          2.206177373551153,
          2.1526027032185993,
          2.3091189899652584,
          2.1526027032185993,
          2.3091189899652584,
          2.1526027032185993,
          2.442933952168351,
          2.1526027032185993,
          2.1526027032185993,
          2.1526027032185993,
          2.0663934139183033
         ],
         "yaxis": "y"
        },
        {
         "hoverlabel": {
          "namelength": 0
         },
         "hovertemplate": "category=weights_3<br>epoch=%{x}<br>max=%{y}",
         "legendgroup": "category=weights_3",
         "line": {
          "color": "#ab63fa",
          "dash": "solid"
         },
         "mode": "lines",
         "name": "category=weights_3",
         "showlegend": true,
         "type": "scatter",
         "x": [
          1,
          2,
          3,
          4,
          5,
          6,
          7,
          8,
          9,
          10,
          11,
          12,
          13,
          14,
          15,
          16,
          17,
          18,
          19,
          20,
          21,
          22,
          23,
          24,
          25,
          26,
          27,
          28,
          29,
          30,
          31,
          32,
          33,
          34,
          35,
          36,
          37,
          38,
          39,
          40,
          41,
          42,
          43,
          44,
          45,
          46,
          47,
          48,
          49,
          50,
          51,
          52,
          53,
          54,
          55,
          56,
          57,
          58,
          59,
          60,
          61,
          62,
          63,
          64,
          65,
          66,
          67,
          68,
          69,
          70,
          71,
          72,
          73,
          74,
          75,
          76,
          77,
          78,
          79,
          80,
          81,
          82,
          83,
          84,
          85,
          86,
          87,
          88,
          89,
          90,
          91,
          92,
          93,
          94,
          95,
          96,
          97,
          98,
          99,
          100,
          101,
          102,
          103,
          104,
          105,
          106,
          107,
          108,
          109,
          110,
          111,
          112,
          113,
          114,
          115,
          116,
          117,
          118,
          119,
          120,
          121,
          122,
          123,
          124,
          125,
          126,
          127,
          128,
          129,
          130,
          131,
          132,
          133,
          134,
          135,
          136,
          137,
          138,
          139,
          140,
          141,
          142,
          143,
          144,
          145,
          146,
          147,
          148,
          149,
          150,
          151,
          152,
          153,
          154,
          155,
          156,
          157,
          158,
          159,
          160,
          161,
          162,
          163,
          164,
          165,
          166,
          167,
          168,
          169,
          170,
          171,
          172,
          173,
          174,
          175,
          176,
          177,
          178,
          179,
          180,
          181,
          182,
          183,
          184,
          185,
          186,
          187,
          188,
          189,
          190,
          191,
          192,
          193,
          194,
          195,
          196,
          197,
          198,
          199,
          200
         ],
         "xaxis": "x",
         "y": [
          -0.12852681772153746,
          0.6133047471048445,
          -0.25677995591326735,
          -0.1007413050255564,
          -0.25677995591326735,
          -0.1007413050255564,
          -0.25677995591326735,
          -0.25677995591326735,
          -0.25677995591326735,
          -0.25677995591326735,
          -0.25677995591326735,
          -0.2567941347276757,
          -0.2567941347276757,
          -0.2567941347276757,
          -0.2567941347276757,
          -0.2567941347276757,
          -0.2567941347276757,
          -0.2567941347276757,
          -0.2567941347276757,
          -0.2567941347276757,
          -0.2567941347276757,
          -0.2567941347276757,
          -0.2567941347276757,
          -0.2567941347276757,
          -0.2567941347276757,
          -0.2567941347276757,
          -0.2567941347276757,
          -0.2567941347276757,
          -0.2567941347276757,
          -0.2567941347276757,
          -0.2567941347276757,
          -0.2567941347276757,
          -0.2567941347276757,
          -0.2567941347276757,
          -0.2567941347276757,
          -0.2567941347276757,
          -0.2567941347276757,
          -0.2567941347276757,
          -0.2567941347276757,
          -0.2567941347276757,
          -0.2567941347276757,
          -0.2567941347276757,
          -0.2567941347276757,
          -0.2567941347276757,
          -0.2567941347276757,
          -0.2567941347276757,
          -0.2567941347276757,
          -0.2567941347276757,
          -0.2567941347276757,
          -0.2567941347276757,
          -0.2567941347276757,
          -0.2567941347276757,
          -0.2567941347276757,
          -0.2567941347276757,
          -0.2567941347276757,
          -0.2567941347276757,
          -0.2567941347276757,
          -0.2567941347276757,
          -0.2567941347276757,
          -0.2567941347276757,
          -0.2567941347276757,
          -0.2567941347276757,
          -0.2567941347276757,
          -0.2567941347276757,
          -0.2567941347276757,
          -0.2567941347276757,
          -0.2567941347276757,
          -0.2567941347276757,
          -0.2567941347276757,
          -0.2567941347276757,
          -0.25679413472767576,
          -0.25679413472767576,
          -0.25679413472767576,
          -0.25679413472767576,
          -0.25679413472767576,
          -0.25679413472767576,
          -0.25679413472767576,
          -0.25679413472767576,
          -0.25679413472767576,
          -0.25679413472767576,
          -0.25679413472767576,
          -0.25679413472767576,
          -0.25679413472767576,
          -0.25679413472767576,
          -0.25679413472767576,
          -0.25679413472767576,
          -0.25679413472767576,
          -0.25679413472767576,
          -0.25679413472767576,
          -0.25679413472767576,
          -0.25679413472767576,
          -0.25679413472767576,
          -0.25679413472767576,
          -0.25679413472767576,
          -0.25679413472767576,
          -0.25679413472767576,
          -0.25679413472767576,
          -0.25679413472767576,
          -0.25679413472767576,
          -0.25679413472767576,
          -0.25679413472767576,
          -0.25679413472767576,
          -0.25679413472767576,
          -0.25679413472767576,
          -0.25679413472767576,
          -0.25679413472767576,
          -0.25679413472767576,
          -0.25679413472767576,
          -0.25679413472767576,
          -0.25679413472767576,
          -0.25679413472767576,
          -0.25679413472767576,
          -0.25679413472767576,
          -0.25679413472767576,
          -0.25679413472767576,
          -0.25679413472767576,
          -0.25679413472767576,
          -0.25679413472767576,
          -0.25679413472767576,
          -0.25679413472767576,
          -0.25679413472767576,
          -0.25679413472767576,
          -0.25679413472767576,
          -0.25679413472767576,
          -0.25679413472767576,
          -0.25679413472767576,
          -0.25679413472767576,
          -0.25679413472767576,
          -0.25679413472767576,
          -0.25679413472767576,
          -0.25679413472767576,
          -0.25679413472767576,
          -0.25679413472767576,
          -0.25679413472767576,
          -0.25679413472767576,
          -0.25679413472767576,
          -0.25679413472767576,
          -0.25679413472767576,
          -0.25679413472767576,
          -0.25679413472767576,
          -0.25679413472767576,
          -0.25679413472767576,
          -0.25679413472767576,
          -0.25679413472767576,
          -0.25679413472767576,
          -0.25679413472767576,
          -0.25679413472767576,
          -0.25679413472767576,
          -0.25679413472767576,
          -0.25679413472767576,
          -0.25679413472767576,
          -0.25679413472767576,
          -0.25679413472767576,
          -0.25679413472767576,
          -0.25679413472767576,
          -0.25679413472767576,
          -0.25679413472767576,
          -0.25679413472767576,
          -0.25679413472767576,
          -0.25679413472767576,
          -0.25679413472767576,
          -0.25679413472767576,
          -0.25679413472767576,
          -0.25679413472767576,
          -0.25679413472767576,
          -0.25679413472767576,
          -0.25679413472767576,
          -0.25679413472767576,
          -0.25679413472767576,
          -0.25679413472767576,
          -0.25679413472767576,
          -0.25679413472767576,
          -0.25679413472767576,
          -0.25679413472767576,
          -0.25679413472767576,
          -0.25679413472767576,
          -0.25679413472767576,
          -0.25679413472767576,
          -0.25679413472767576,
          -0.25679413472767576,
          -0.25679413472767576,
          -0.25679413472767576,
          -0.25679413472767576,
          -0.25679413472767576,
          -0.25679413472767576,
          -0.25679413472767576,
          -0.25679413472767576,
          -0.25679413472767576,
          -0.25679413472767576,
          -0.25679413472767576,
          -0.25679413472767576,
          -0.25679413472767576,
          -0.25679413472767576,
          -0.25679413472767576,
          -0.25679413472767576,
          -0.25679413472767576,
          -0.25679413472767576,
          -0.25679413472767576,
          -0.25679413472767576,
          -0.25679413472767576
         ],
         "yaxis": "y"
        }
       ],
       "layout": {
        "height": 600,
        "legend": {
         "tracegroupgap": 0
        },
        "margin": {
         "t": 60
        },
        "template": {
         "data": {
          "bar": [
           {
            "error_x": {
             "color": "#2a3f5f"
            },
            "error_y": {
             "color": "#2a3f5f"
            },
            "marker": {
             "line": {
              "color": "#E5ECF6",
              "width": 0.5
             }
            },
            "type": "bar"
           }
          ],
          "barpolar": [
           {
            "marker": {
             "line": {
              "color": "#E5ECF6",
              "width": 0.5
             }
            },
            "type": "barpolar"
           }
          ],
          "carpet": [
           {
            "aaxis": {
             "endlinecolor": "#2a3f5f",
             "gridcolor": "white",
             "linecolor": "white",
             "minorgridcolor": "white",
             "startlinecolor": "#2a3f5f"
            },
            "baxis": {
             "endlinecolor": "#2a3f5f",
             "gridcolor": "white",
             "linecolor": "white",
             "minorgridcolor": "white",
             "startlinecolor": "#2a3f5f"
            },
            "type": "carpet"
           }
          ],
          "choropleth": [
           {
            "colorbar": {
             "outlinewidth": 0,
             "ticks": ""
            },
            "type": "choropleth"
           }
          ],
          "contour": [
           {
            "colorbar": {
             "outlinewidth": 0,
             "ticks": ""
            },
            "colorscale": [
             [
              0,
              "#0d0887"
             ],
             [
              0.1111111111111111,
              "#46039f"
             ],
             [
              0.2222222222222222,
              "#7201a8"
             ],
             [
              0.3333333333333333,
              "#9c179e"
             ],
             [
              0.4444444444444444,
              "#bd3786"
             ],
             [
              0.5555555555555556,
              "#d8576b"
             ],
             [
              0.6666666666666666,
              "#ed7953"
             ],
             [
              0.7777777777777778,
              "#fb9f3a"
             ],
             [
              0.8888888888888888,
              "#fdca26"
             ],
             [
              1,
              "#f0f921"
             ]
            ],
            "type": "contour"
           }
          ],
          "contourcarpet": [
           {
            "colorbar": {
             "outlinewidth": 0,
             "ticks": ""
            },
            "type": "contourcarpet"
           }
          ],
          "heatmap": [
           {
            "colorbar": {
             "outlinewidth": 0,
             "ticks": ""
            },
            "colorscale": [
             [
              0,
              "#0d0887"
             ],
             [
              0.1111111111111111,
              "#46039f"
             ],
             [
              0.2222222222222222,
              "#7201a8"
             ],
             [
              0.3333333333333333,
              "#9c179e"
             ],
             [
              0.4444444444444444,
              "#bd3786"
             ],
             [
              0.5555555555555556,
              "#d8576b"
             ],
             [
              0.6666666666666666,
              "#ed7953"
             ],
             [
              0.7777777777777778,
              "#fb9f3a"
             ],
             [
              0.8888888888888888,
              "#fdca26"
             ],
             [
              1,
              "#f0f921"
             ]
            ],
            "type": "heatmap"
           }
          ],
          "heatmapgl": [
           {
            "colorbar": {
             "outlinewidth": 0,
             "ticks": ""
            },
            "colorscale": [
             [
              0,
              "#0d0887"
             ],
             [
              0.1111111111111111,
              "#46039f"
             ],
             [
              0.2222222222222222,
              "#7201a8"
             ],
             [
              0.3333333333333333,
              "#9c179e"
             ],
             [
              0.4444444444444444,
              "#bd3786"
             ],
             [
              0.5555555555555556,
              "#d8576b"
             ],
             [
              0.6666666666666666,
              "#ed7953"
             ],
             [
              0.7777777777777778,
              "#fb9f3a"
             ],
             [
              0.8888888888888888,
              "#fdca26"
             ],
             [
              1,
              "#f0f921"
             ]
            ],
            "type": "heatmapgl"
           }
          ],
          "histogram": [
           {
            "marker": {
             "colorbar": {
              "outlinewidth": 0,
              "ticks": ""
             }
            },
            "type": "histogram"
           }
          ],
          "histogram2d": [
           {
            "colorbar": {
             "outlinewidth": 0,
             "ticks": ""
            },
            "colorscale": [
             [
              0,
              "#0d0887"
             ],
             [
              0.1111111111111111,
              "#46039f"
             ],
             [
              0.2222222222222222,
              "#7201a8"
             ],
             [
              0.3333333333333333,
              "#9c179e"
             ],
             [
              0.4444444444444444,
              "#bd3786"
             ],
             [
              0.5555555555555556,
              "#d8576b"
             ],
             [
              0.6666666666666666,
              "#ed7953"
             ],
             [
              0.7777777777777778,
              "#fb9f3a"
             ],
             [
              0.8888888888888888,
              "#fdca26"
             ],
             [
              1,
              "#f0f921"
             ]
            ],
            "type": "histogram2d"
           }
          ],
          "histogram2dcontour": [
           {
            "colorbar": {
             "outlinewidth": 0,
             "ticks": ""
            },
            "colorscale": [
             [
              0,
              "#0d0887"
             ],
             [
              0.1111111111111111,
              "#46039f"
             ],
             [
              0.2222222222222222,
              "#7201a8"
             ],
             [
              0.3333333333333333,
              "#9c179e"
             ],
             [
              0.4444444444444444,
              "#bd3786"
             ],
             [
              0.5555555555555556,
              "#d8576b"
             ],
             [
              0.6666666666666666,
              "#ed7953"
             ],
             [
              0.7777777777777778,
              "#fb9f3a"
             ],
             [
              0.8888888888888888,
              "#fdca26"
             ],
             [
              1,
              "#f0f921"
             ]
            ],
            "type": "histogram2dcontour"
           }
          ],
          "mesh3d": [
           {
            "colorbar": {
             "outlinewidth": 0,
             "ticks": ""
            },
            "type": "mesh3d"
           }
          ],
          "parcoords": [
           {
            "line": {
             "colorbar": {
              "outlinewidth": 0,
              "ticks": ""
             }
            },
            "type": "parcoords"
           }
          ],
          "scatter": [
           {
            "marker": {
             "colorbar": {
              "outlinewidth": 0,
              "ticks": ""
             }
            },
            "type": "scatter"
           }
          ],
          "scatter3d": [
           {
            "line": {
             "colorbar": {
              "outlinewidth": 0,
              "ticks": ""
             }
            },
            "marker": {
             "colorbar": {
              "outlinewidth": 0,
              "ticks": ""
             }
            },
            "type": "scatter3d"
           }
          ],
          "scattercarpet": [
           {
            "marker": {
             "colorbar": {
              "outlinewidth": 0,
              "ticks": ""
             }
            },
            "type": "scattercarpet"
           }
          ],
          "scattergeo": [
           {
            "marker": {
             "colorbar": {
              "outlinewidth": 0,
              "ticks": ""
             }
            },
            "type": "scattergeo"
           }
          ],
          "scattergl": [
           {
            "marker": {
             "colorbar": {
              "outlinewidth": 0,
              "ticks": ""
             }
            },
            "type": "scattergl"
           }
          ],
          "scattermapbox": [
           {
            "marker": {
             "colorbar": {
              "outlinewidth": 0,
              "ticks": ""
             }
            },
            "type": "scattermapbox"
           }
          ],
          "scatterpolar": [
           {
            "marker": {
             "colorbar": {
              "outlinewidth": 0,
              "ticks": ""
             }
            },
            "type": "scatterpolar"
           }
          ],
          "scatterpolargl": [
           {
            "marker": {
             "colorbar": {
              "outlinewidth": 0,
              "ticks": ""
             }
            },
            "type": "scatterpolargl"
           }
          ],
          "scatterternary": [
           {
            "marker": {
             "colorbar": {
              "outlinewidth": 0,
              "ticks": ""
             }
            },
            "type": "scatterternary"
           }
          ],
          "surface": [
           {
            "colorbar": {
             "outlinewidth": 0,
             "ticks": ""
            },
            "colorscale": [
             [
              0,
              "#0d0887"
             ],
             [
              0.1111111111111111,
              "#46039f"
             ],
             [
              0.2222222222222222,
              "#7201a8"
             ],
             [
              0.3333333333333333,
              "#9c179e"
             ],
             [
              0.4444444444444444,
              "#bd3786"
             ],
             [
              0.5555555555555556,
              "#d8576b"
             ],
             [
              0.6666666666666666,
              "#ed7953"
             ],
             [
              0.7777777777777778,
              "#fb9f3a"
             ],
             [
              0.8888888888888888,
              "#fdca26"
             ],
             [
              1,
              "#f0f921"
             ]
            ],
            "type": "surface"
           }
          ],
          "table": [
           {
            "cells": {
             "fill": {
              "color": "#EBF0F8"
             },
             "line": {
              "color": "white"
             }
            },
            "header": {
             "fill": {
              "color": "#C8D4E3"
             },
             "line": {
              "color": "white"
             }
            },
            "type": "table"
           }
          ]
         },
         "layout": {
          "annotationdefaults": {
           "arrowcolor": "#2a3f5f",
           "arrowhead": 0,
           "arrowwidth": 1
          },
          "colorscale": {
           "diverging": [
            [
             0,
             "#8e0152"
            ],
            [
             0.1,
             "#c51b7d"
            ],
            [
             0.2,
             "#de77ae"
            ],
            [
             0.3,
             "#f1b6da"
            ],
            [
             0.4,
             "#fde0ef"
            ],
            [
             0.5,
             "#f7f7f7"
            ],
            [
             0.6,
             "#e6f5d0"
            ],
            [
             0.7,
             "#b8e186"
            ],
            [
             0.8,
             "#7fbc41"
            ],
            [
             0.9,
             "#4d9221"
            ],
            [
             1,
             "#276419"
            ]
           ],
           "sequential": [
            [
             0,
             "#0d0887"
            ],
            [
             0.1111111111111111,
             "#46039f"
            ],
            [
             0.2222222222222222,
             "#7201a8"
            ],
            [
             0.3333333333333333,
             "#9c179e"
            ],
            [
             0.4444444444444444,
             "#bd3786"
            ],
            [
             0.5555555555555556,
             "#d8576b"
            ],
            [
             0.6666666666666666,
             "#ed7953"
            ],
            [
             0.7777777777777778,
             "#fb9f3a"
            ],
            [
             0.8888888888888888,
             "#fdca26"
            ],
            [
             1,
             "#f0f921"
            ]
           ],
           "sequentialminus": [
            [
             0,
             "#0d0887"
            ],
            [
             0.1111111111111111,
             "#46039f"
            ],
            [
             0.2222222222222222,
             "#7201a8"
            ],
            [
             0.3333333333333333,
             "#9c179e"
            ],
            [
             0.4444444444444444,
             "#bd3786"
            ],
            [
             0.5555555555555556,
             "#d8576b"
            ],
            [
             0.6666666666666666,
             "#ed7953"
            ],
            [
             0.7777777777777778,
             "#fb9f3a"
            ],
            [
             0.8888888888888888,
             "#fdca26"
            ],
            [
             1,
             "#f0f921"
            ]
           ]
          },
          "colorway": [
           "#636efa",
           "#EF553B",
           "#00cc96",
           "#ab63fa",
           "#FFA15A",
           "#19d3f3",
           "#FF6692",
           "#B6E880",
           "#FF97FF",
           "#FECB52"
          ],
          "font": {
           "color": "#2a3f5f"
          },
          "geo": {
           "bgcolor": "white",
           "lakecolor": "white",
           "landcolor": "#E5ECF6",
           "showlakes": true,
           "showland": true,
           "subunitcolor": "white"
          },
          "hoverlabel": {
           "align": "left"
          },
          "hovermode": "closest",
          "mapbox": {
           "style": "light"
          },
          "paper_bgcolor": "white",
          "plot_bgcolor": "#E5ECF6",
          "polar": {
           "angularaxis": {
            "gridcolor": "white",
            "linecolor": "white",
            "ticks": ""
           },
           "bgcolor": "#E5ECF6",
           "radialaxis": {
            "gridcolor": "white",
            "linecolor": "white",
            "ticks": ""
           }
          },
          "scene": {
           "xaxis": {
            "backgroundcolor": "#E5ECF6",
            "gridcolor": "white",
            "gridwidth": 2,
            "linecolor": "white",
            "showbackground": true,
            "ticks": "",
            "zerolinecolor": "white"
           },
           "yaxis": {
            "backgroundcolor": "#E5ECF6",
            "gridcolor": "white",
            "gridwidth": 2,
            "linecolor": "white",
            "showbackground": true,
            "ticks": "",
            "zerolinecolor": "white"
           },
           "zaxis": {
            "backgroundcolor": "#E5ECF6",
            "gridcolor": "white",
            "gridwidth": 2,
            "linecolor": "white",
            "showbackground": true,
            "ticks": "",
            "zerolinecolor": "white"
           }
          },
          "shapedefaults": {
           "line": {
            "color": "#2a3f5f"
           }
          },
          "ternary": {
           "aaxis": {
            "gridcolor": "white",
            "linecolor": "white",
            "ticks": ""
           },
           "baxis": {
            "gridcolor": "white",
            "linecolor": "white",
            "ticks": ""
           },
           "bgcolor": "#E5ECF6",
           "caxis": {
            "gridcolor": "white",
            "linecolor": "white",
            "ticks": ""
           }
          },
          "title": {
           "x": 0.05
          },
          "xaxis": {
           "automargin": true,
           "gridcolor": "white",
           "linecolor": "white",
           "ticks": "",
           "zerolinecolor": "white",
           "zerolinewidth": 2
          },
          "yaxis": {
           "automargin": true,
           "gridcolor": "white",
           "linecolor": "white",
           "ticks": "",
           "zerolinecolor": "white",
           "zerolinewidth": 2
          }
         }
        },
        "xaxis": {
         "anchor": "y",
         "domain": [
          0,
          0.98
         ],
         "title": {
          "text": "epoch"
         }
        },
        "yaxis": {
         "anchor": "x",
         "domain": [
          0,
          1
         ],
         "title": {
          "text": "max"
         }
        }
       }
      },
      "text/html": [
       "<div>\n",
       "        \n",
       "        \n",
       "            <div id=\"9455d576-cfb7-473f-bb8f-5a8e80ea9769\" class=\"plotly-graph-div\" style=\"height:600px; width:100%;\"></div>\n",
       "            <script type=\"text/javascript\">\n",
       "                require([\"plotly\"], function(Plotly) {\n",
       "                    window.PLOTLYENV=window.PLOTLYENV || {};\n",
       "                    \n",
       "                if (document.getElementById(\"9455d576-cfb7-473f-bb8f-5a8e80ea9769\")) {\n",
       "                    Plotly.newPlot(\n",
       "                        '9455d576-cfb7-473f-bb8f-5a8e80ea9769',\n",
       "                        [{\"hoverlabel\": {\"namelength\": 0}, \"hovertemplate\": \"category=weights_0<br>epoch=%{x}<br>max=%{y}\", \"legendgroup\": \"category=weights_0\", \"line\": {\"color\": \"#636efa\", \"dash\": \"solid\"}, \"mode\": \"lines\", \"name\": \"category=weights_0\", \"showlegend\": true, \"type\": \"scatter\", \"x\": [1, 2, 3, 4, 5, 6, 7, 8, 9, 10, 11, 12, 13, 14, 15, 16, 17, 18, 19, 20, 21, 22, 23, 24, 25, 26, 27, 28, 29, 30, 31, 32, 33, 34, 35, 36, 37, 38, 39, 40, 41, 42, 43, 44, 45, 46, 47, 48, 49, 50, 51, 52, 53, 54, 55, 56, 57, 58, 59, 60, 61, 62, 63, 64, 65, 66, 67, 68, 69, 70, 71, 72, 73, 74, 75, 76, 77, 78, 79, 80, 81, 82, 83, 84, 85, 86, 87, 88, 89, 90, 91, 92, 93, 94, 95, 96, 97, 98, 99, 100, 101, 102, 103, 104, 105, 106, 107, 108, 109, 110, 111, 112, 113, 114, 115, 116, 117, 118, 119, 120, 121, 122, 123, 124, 125, 126, 127, 128, 129, 130, 131, 132, 133, 134, 135, 136, 137, 138, 139, 140, 141, 142, 143, 144, 145, 146, 147, 148, 149, 150, 151, 152, 153, 154, 155, 156, 157, 158, 159, 160, 161, 162, 163, 164, 165, 166, 167, 168, 169, 170, 171, 172, 173, 174, 175, 176, 177, 178, 179, 180, 181, 182, 183, 184, 185, 186, 187, 188, 189, 190, 191, 192, 193, 194, 195, 196, 197, 198, 199, 200], \"xaxis\": \"x\", \"y\": [2.302287446151656, 3.2713017723908537, 3.2508072016342906, 3.26760860006815, 3.2508072016342906, 3.448569484767905, 3.2311282771185312, 3.2311282771185312, 3.2311282771185312, 3.2311282771185312, 3.2311282771185312, 3.265102062957833, 3.265102062957833, 3.612735295033572, 3.612735295033572, 3.5362650359253016, 3.6333713295366605, 3.5362650359253016, 3.6333713295366605, 3.6333713295366605, 3.6562225278516074, 3.6562225278516074, 3.6562225278516074, 3.6562225278516074, 3.6562225278516074, 3.6562225278516074, 3.6333713295366605, 3.6562225278516074, 3.6211435527317817, 3.6333713295366605, 3.7294402672894944, 4.234128785012429, 4.234128785012429, 4.234128785012429, 5.178299377241887, 5.178299377241887, 5.288715973480218, 5.382786521811556, 5.382786521811556, 5.382786521811556, 5.444766025235603, 5.444766025235603, 5.444766025235603, 5.384731860282315, 5.444766025235603, 5.444766025235603, 5.444766025235603, 5.444766025235603, 5.444766025235603, 5.444766025235603, 5.444766025235603, 5.444766025235603, 5.444766025235603, 5.444766025235603, 5.433257572409369, 5.433257572409369, 5.433257572409369, 5.560100021675249, 6.019772170127287, 6.019772170127287, 6.019772170127287, 5.944427959980674, 5.944427959980674, 5.865508666580161, 5.989373841595163, 5.989373841595163, 5.187736751605765, 5.187736751605765, 5.187736751605765, 5.247205992148535, 5.1809666608728415, 5.1809666608728415, 5.1809666608728415, 5.1809666608728415, 5.1809666608728415, 5.1809666608728415, 5.1809666608728415, 5.243332297761106, 5.124911725039299, 5.1809666608728415, 5.124911725039299, 5.040264369444719, 5.1809666608728415, 5.1809666608728415, 5.1809666608728415, 5.1809666608728415, 5.124911725039299, 5.124911725039299, 5.124911725039299, 5.124911725039299, 5.124911725039299, 4.641187301581614, 5.124911725039299, 5.285375043761288, 4.645431537375422, 4.645431537375422, 4.651688494210303, 4.645431537375422, 4.645431537375422, 4.797866157518786, 4.484112946605933, 4.484112946605933, 4.484112946605933, 4.484112946605933, 4.484112946605933, 4.484112946605933, 4.484112946605933, 4.484112946605933, 4.484112946605933, 4.4477704423830895, 4.452104263456895, 4.452104263456895, 4.467233430753144, 4.467233430753144, 4.467233430753144, 4.452104263456895, 4.452104263456895, 4.452104263456895, 4.452104263456895, 4.452104263456895, 4.452104263456895, 4.370153260434466, 4.370153260434466, 4.370153260434466, 4.459649791975465, 4.309454480161324, 4.309454480161324, 4.309454480161324, 4.309454480161324, 4.309454480161324, 4.309454480161324, 4.309454480161324, 4.309454480161324, 4.309454480161324, 4.309454480161324, 4.309454480161324, 4.373914324468132, 4.309454480161324, 4.435702724116238, 4.309454480161324, 4.368332302406681, 4.4446232420682605, 4.4446232420682605, 4.4446232420682605, 4.475416409360357, 4.618607902537409, 4.618607902537409, 4.475416409360357, 4.416223473441449, 4.477606112162013, 4.741323308170592, 4.741323308170592, 4.741323308170592, 4.741323308170592, 4.848263611683637, 4.848263611683637, 4.741323308170592, 4.741323308170592, 4.741323308170592, 4.741323308170592, 4.741323308170592, 4.741323308170592, 4.741323308170592, 4.741323308170592, 4.9777942088282545, 5.104314419231412, 5.104314419231412, 5.104314419231412, 5.104314419231412, 5.104314419231412, 5.104314419231412, 5.104314419231412, 4.701522161000707, 4.701522161000707, 4.701522161000707, 4.701522161000707, 4.701522161000707, 4.459765152991705, 4.693157001022143, 4.693157001022143, 4.701522161000707, 4.693157001022143, 4.693157001022143, 4.693157001022143, 4.6867567001631345, 4.6867567001631345, 4.723454898127692, 4.6867567001631345, 4.723454898127692, 4.723454898127692, 4.723454898127692, 4.70171634216724, 4.7092617807906345, 4.70171634216724, 4.7092617807906345, 4.705620133679227, 4.7092617807906345, 4.7092617807906345, 4.7092617807906345, 4.590032027511609], \"yaxis\": \"y\"}, {\"hoverlabel\": {\"namelength\": 0}, \"hovertemplate\": \"category=weights_1<br>epoch=%{x}<br>max=%{y}\", \"legendgroup\": \"category=weights_1\", \"line\": {\"color\": \"#EF553B\", \"dash\": \"solid\"}, \"mode\": \"lines\", \"name\": \"category=weights_1\", \"showlegend\": true, \"type\": \"scatter\", \"x\": [1, 2, 3, 4, 5, 6, 7, 8, 9, 10, 11, 12, 13, 14, 15, 16, 17, 18, 19, 20, 21, 22, 23, 24, 25, 26, 27, 28, 29, 30, 31, 32, 33, 34, 35, 36, 37, 38, 39, 40, 41, 42, 43, 44, 45, 46, 47, 48, 49, 50, 51, 52, 53, 54, 55, 56, 57, 58, 59, 60, 61, 62, 63, 64, 65, 66, 67, 68, 69, 70, 71, 72, 73, 74, 75, 76, 77, 78, 79, 80, 81, 82, 83, 84, 85, 86, 87, 88, 89, 90, 91, 92, 93, 94, 95, 96, 97, 98, 99, 100, 101, 102, 103, 104, 105, 106, 107, 108, 109, 110, 111, 112, 113, 114, 115, 116, 117, 118, 119, 120, 121, 122, 123, 124, 125, 126, 127, 128, 129, 130, 131, 132, 133, 134, 135, 136, 137, 138, 139, 140, 141, 142, 143, 144, 145, 146, 147, 148, 149, 150, 151, 152, 153, 154, 155, 156, 157, 158, 159, 160, 161, 162, 163, 164, 165, 166, 167, 168, 169, 170, 171, 172, 173, 174, 175, 176, 177, 178, 179, 180, 181, 182, 183, 184, 185, 186, 187, 188, 189, 190, 191, 192, 193, 194, 195, 196, 197, 198, 199, 200], \"xaxis\": \"x\", \"y\": [1.564601126652815, 2.6793329241145036, 2.244194598247237, 2.552947795468388, 2.2396135081424124, 3.1737401667456178, 2.088030296124418, 2.088030296124418, 2.286390450137405, 1.9486226425113817, 1.9486226425113817, 2.10542631321729, 2.10542631321729, 2.257790131492137, 2.257790131492137, 2.257790131492137, 2.145217238417015, 2.257790131492137, 2.3815662516992626, 2.3815662516992626, 2.3080021329617586, 2.3080021329617586, 2.3080021329617586, 2.3080021329617586, 2.3080021329617586, 2.3080021329617586, 2.3815662516992626, 2.3080021329617586, 2.392048066664143, 2.316852981039412, 2.330794980971906, 2.719043197129639, 2.719043197129639, 3.4588962314066314, 2.719043197129639, 2.719043197129639, 2.719043197129639, 2.719043197129639, 2.719043197129639, 2.719043197129639, 2.7176771862900115, 2.7176771862900115, 2.7176771862900115, 2.7176771862900115, 2.7176771862900115, 2.7176771862900115, 2.6032681623217186, 2.7176771862900115, 2.7176771862900115, 2.7176771862900115, 2.7176771862900115, 2.7176771862900115, 2.544248108681513, 2.6671329691456114, 3.141394231303157, 3.141394231303157, 3.141394231303157, 3.141394231303157, 3.141394231303157, 3.097881259650369, 3.097881259650369, 3.097881259650369, 3.097881259650369, 3.141394231303157, 3.141394231303157, 3.2380296461350806, 3.4615987368821286, 3.4615987368821286, 3.830167614651914, 4.282718321293355, 3.536033322281342, 3.8217037749713736, 3.830167614651914, 3.830167614651914, 3.830167614651914, 3.8072857394540423, 3.830167614651914, 4.022022748249628, 3.830167614651914, 3.830167614651914, 3.830167614651914, 3.830167614651914, 3.830167614651914, 3.830167614651914, 3.830167614651914, 3.830167614651914, 3.809318946283022, 3.809318946283022, 3.809318946283022, 3.809318946283022, 3.809318946283022, 3.809318946283022, 4.245101444031823, 4.560213460265656, 3.824323773230506, 3.824323773230506, 3.824323773230506, 3.824323773230506, 3.824323773230506, 3.824323773230506, 3.7459033833338986, 3.7459033833338986, 3.382738698692674, 3.382738698692674, 3.4173434573161106, 3.382738698692674, 3.4173434573161106, 3.382738698692674, 3.374563628457386, 3.382738698692674, 3.382738698692674, 3.382738698692674, 3.350159502580892, 3.350159502580892, 3.350159502580892, 3.3706026413543824, 3.3706026413543824, 3.381503152765858, 3.381503152765858, 3.3706026413543824, 3.3706026413543824, 3.04364756717841, 3.04364756717841, 3.04364756717841, 3.04364756717841, 3.04364756717841, 3.04364756717841, 3.04364756717841, 3.04364756717841, 3.04364756717841, 3.04364756717841, 3.04364756717841, 3.04364756717841, 3.04364756717841, 3.04364756717841, 3.04364756717841, 3.04364756717841, 3.04364756717841, 3.04364756717841, 3.04364756717841, 3.04364756717841, 3.04364756717841, 3.04364756717841, 3.04364756717841, 3.449720262875994, 3.449720262875994, 3.449720262875994, 3.4950724964543993, 3.449720262875994, 3.4512970585059626, 3.3025796874575097, 3.52892178554592, 3.3025796874575097, 3.52892178554592, 3.5593854878841666, 3.5593854878841666, 3.52892178554592, 3.52892178554592, 3.52892178554592, 3.340555149689928, 3.340555149689928, 3.493229841106659, 3.493229841106659, 3.493229841106659, 4.117855740147706, 4.474765734808506, 4.474765734808506, 4.474765734808506, 4.474765734808506, 4.474765734808506, 4.474765734808506, 4.474765734808506, 4.474765734808506, 4.474765734808506, 4.474765734808506, 4.341633750620807, 4.341633750620807, 4.341633750620807, 4.341633750620807, 4.341633750620807, 4.341633750620807, 4.221344081902787, 4.43662208211414, 4.4919227054822315, 4.4919227054822315, 4.4919227054822315, 4.4919227054822315, 4.4919227054822315, 4.4919227054822315, 4.4919227054822315, 4.4919227054822315, 4.4919227054822315, 4.500489595932505, 4.4919227054822315, 4.500489595932505, 4.4919227054822315, 4.500489595932505, 4.500489595932505, 4.500489595932505, 4.500489595932505], \"yaxis\": \"y\"}, {\"hoverlabel\": {\"namelength\": 0}, \"hovertemplate\": \"category=weights_2<br>epoch=%{x}<br>max=%{y}\", \"legendgroup\": \"category=weights_2\", \"line\": {\"color\": \"#00cc96\", \"dash\": \"solid\"}, \"mode\": \"lines\", \"name\": \"category=weights_2\", \"showlegend\": true, \"type\": \"scatter\", \"x\": [1, 2, 3, 4, 5, 6, 7, 8, 9, 10, 11, 12, 13, 14, 15, 16, 17, 18, 19, 20, 21, 22, 23, 24, 25, 26, 27, 28, 29, 30, 31, 32, 33, 34, 35, 36, 37, 38, 39, 40, 41, 42, 43, 44, 45, 46, 47, 48, 49, 50, 51, 52, 53, 54, 55, 56, 57, 58, 59, 60, 61, 62, 63, 64, 65, 66, 67, 68, 69, 70, 71, 72, 73, 74, 75, 76, 77, 78, 79, 80, 81, 82, 83, 84, 85, 86, 87, 88, 89, 90, 91, 92, 93, 94, 95, 96, 97, 98, 99, 100, 101, 102, 103, 104, 105, 106, 107, 108, 109, 110, 111, 112, 113, 114, 115, 116, 117, 118, 119, 120, 121, 122, 123, 124, 125, 126, 127, 128, 129, 130, 131, 132, 133, 134, 135, 136, 137, 138, 139, 140, 141, 142, 143, 144, 145, 146, 147, 148, 149, 150, 151, 152, 153, 154, 155, 156, 157, 158, 159, 160, 161, 162, 163, 164, 165, 166, 167, 168, 169, 170, 171, 172, 173, 174, 175, 176, 177, 178, 179, 180, 181, 182, 183, 184, 185, 186, 187, 188, 189, 190, 191, 192, 193, 194, 195, 196, 197, 198, 199, 200], \"xaxis\": \"x\", \"y\": [2.329818989982107, 1.467687712555219, 0.9359981344425464, 1.2523034216364646, 1.7277906991327612, 0.9685209511667103, 1.7553543529049558, 1.7553543529049558, 1.7553543529049558, 1.7553543529049558, 1.7553543529049558, 1.6586993183696712, 1.6586993183696712, 1.8957577483526562, 1.8957577483526562, 1.8957577483526562, 1.9333215970519522, 1.8957577483526562, 1.9333215970519522, 1.9333215970519522, 2.0201948788808424, 2.0201948788808424, 2.0201948788808424, 2.0201948788808424, 1.9341351638826079, 2.0201948788808424, 1.9333215970519522, 2.0201948788808424, 2.073671615529991, 1.9333215970519522, 2.280403577016381, 2.8446232707031545, 2.8446232707031545, 2.8446232707031545, 2.463135748488047, 2.463135748488047, 2.322240906633916, 2.322240906633916, 2.322240906633916, 2.322240906633916, 2.322762181931333, 2.322762181931333, 2.322762181931333, 2.322240906633916, 2.322762181931333, 2.322240906633916, 2.322240906633916, 2.322762181931333, 2.322762181931333, 2.322762181931333, 2.322762181931333, 2.358234872303422, 2.322762181931333, 3.143435727003127, 1.7349470518354977, 1.7349470518354977, 2.705043225205217, 2.705043225205217, 2.705043225205217, 2.705043225205217, 2.705043225205217, 2.705043225205217, 2.705043225205217, 2.705043225205217, 2.705043225205217, 2.705043225205217, 2.705043225205217, 2.705043225205217, 2.705043225205217, 3.244431510746008, 2.6419579309445718, 2.6419579309445718, 2.705043225205217, 2.705043225205217, 2.704780105588075, 2.704334385132286, 2.704780105588075, 2.839879639609826, 2.705043225205217, 2.704780105588075, 2.705043225205217, 2.704780105588075, 3.0193888553583093, 3.0193888553583093, 3.0193888553583093, 2.7803672702497515, 2.6027410669140236, 2.6027410669140236, 2.6027410669140236, 2.6027410669140236, 2.6027410669140236, 2.6027410669140236, 2.5183682847473103, 2.5183682847473103, 1.9020416911476155, 1.8726444982709871, 1.9020416911476155, 1.9020416911476155, 1.9020416911476155, 1.3737793750810372, 1.8771359978774875, 1.8771359978774875, 1.8652404742880728, 1.671803884896399, 1.671803884896399, 1.6252953509175785, 1.671803884896399, 1.6252953509175785, 1.6252953509175785, 1.671803884896399, 1.4577250152944081, 1.4577250152944081, 1.4577250152944081, 1.4577250152944081, 1.4577250152944081, 1.4577250152944081, 1.4577250152944081, 1.4577250152944081, 1.4577250152944081, 1.4577250152944081, 1.4577250152944081, 1.4577250152944081, 1.4577250152944081, 1.4577250152944081, 1.4577250152944081, 1.4577250152944081, 1.4577250152944081, 1.4577250152944081, 1.4577250152944081, 1.4577250152944081, 1.4577250152944081, 1.4577250152944081, 1.2790774683764599, 1.4577250152944081, 1.4577250152944081, 1.15318683121036, 1.2790774683764599, 1.4577250152944081, 1.4577250152944081, 1.15318683121036, 2.6259294665100708, 1.4577250152944081, 1.4577250152944081, 1.4577250152944081, 1.4577250152944081, 0.88171286278002, 0.88171286278002, 1.3884917113177633, 0.88171286278002, 1.4594298933806833, 1.4577250152944081, 1.4577250152944081, 1.4577250152944081, 1.4577250152944081, 1.6300687648279932, 1.6300687648279932, 1.4577250152944081, 1.475066482890656, 1.475066482890656, 1.4577250152944081, 1.4577250152944081, 1.475066482890656, 1.475066482890656, 1.475066482890656, 1.407574151822872, 1.407574151822872, 1.407574151822872, 1.407574151822872, 1.407574151822872, 1.3452541773366218, 1.407574151822872, 1.3934350126637014, 1.9970780826775383, 1.9970780826775383, 1.9970780826775383, 1.9580741921381906, 1.9580741921381906, 1.9171250945955631, 1.9580741921381906, 1.9580741921381906, 1.8850964491567066, 1.9580741921381906, 1.9580741921381906, 1.927439705296783, 2.0948653784397404, 2.0948653784397404, 2.0948653784397404, 2.0948653784397404, 2.0948653784397404, 2.206177373551153, 2.1526027032185993, 2.3091189899652584, 2.1526027032185993, 2.3091189899652584, 2.1526027032185993, 2.442933952168351, 2.1526027032185993, 2.1526027032185993, 2.1526027032185993, 2.0663934139183033], \"yaxis\": \"y\"}, {\"hoverlabel\": {\"namelength\": 0}, \"hovertemplate\": \"category=weights_3<br>epoch=%{x}<br>max=%{y}\", \"legendgroup\": \"category=weights_3\", \"line\": {\"color\": \"#ab63fa\", \"dash\": \"solid\"}, \"mode\": \"lines\", \"name\": \"category=weights_3\", \"showlegend\": true, \"type\": \"scatter\", \"x\": [1, 2, 3, 4, 5, 6, 7, 8, 9, 10, 11, 12, 13, 14, 15, 16, 17, 18, 19, 20, 21, 22, 23, 24, 25, 26, 27, 28, 29, 30, 31, 32, 33, 34, 35, 36, 37, 38, 39, 40, 41, 42, 43, 44, 45, 46, 47, 48, 49, 50, 51, 52, 53, 54, 55, 56, 57, 58, 59, 60, 61, 62, 63, 64, 65, 66, 67, 68, 69, 70, 71, 72, 73, 74, 75, 76, 77, 78, 79, 80, 81, 82, 83, 84, 85, 86, 87, 88, 89, 90, 91, 92, 93, 94, 95, 96, 97, 98, 99, 100, 101, 102, 103, 104, 105, 106, 107, 108, 109, 110, 111, 112, 113, 114, 115, 116, 117, 118, 119, 120, 121, 122, 123, 124, 125, 126, 127, 128, 129, 130, 131, 132, 133, 134, 135, 136, 137, 138, 139, 140, 141, 142, 143, 144, 145, 146, 147, 148, 149, 150, 151, 152, 153, 154, 155, 156, 157, 158, 159, 160, 161, 162, 163, 164, 165, 166, 167, 168, 169, 170, 171, 172, 173, 174, 175, 176, 177, 178, 179, 180, 181, 182, 183, 184, 185, 186, 187, 188, 189, 190, 191, 192, 193, 194, 195, 196, 197, 198, 199, 200], \"xaxis\": \"x\", \"y\": [-0.12852681772153746, 0.6133047471048445, -0.25677995591326735, -0.1007413050255564, -0.25677995591326735, -0.1007413050255564, -0.25677995591326735, -0.25677995591326735, -0.25677995591326735, -0.25677995591326735, -0.25677995591326735, -0.2567941347276757, -0.2567941347276757, -0.2567941347276757, -0.2567941347276757, -0.2567941347276757, -0.2567941347276757, -0.2567941347276757, -0.2567941347276757, -0.2567941347276757, -0.2567941347276757, -0.2567941347276757, -0.2567941347276757, -0.2567941347276757, -0.2567941347276757, -0.2567941347276757, -0.2567941347276757, -0.2567941347276757, -0.2567941347276757, -0.2567941347276757, -0.2567941347276757, -0.2567941347276757, -0.2567941347276757, -0.2567941347276757, -0.2567941347276757, -0.2567941347276757, -0.2567941347276757, -0.2567941347276757, -0.2567941347276757, -0.2567941347276757, -0.2567941347276757, -0.2567941347276757, -0.2567941347276757, -0.2567941347276757, -0.2567941347276757, -0.2567941347276757, -0.2567941347276757, -0.2567941347276757, -0.2567941347276757, -0.2567941347276757, -0.2567941347276757, -0.2567941347276757, -0.2567941347276757, -0.2567941347276757, -0.2567941347276757, -0.2567941347276757, -0.2567941347276757, -0.2567941347276757, -0.2567941347276757, -0.2567941347276757, -0.2567941347276757, -0.2567941347276757, -0.2567941347276757, -0.2567941347276757, -0.2567941347276757, -0.2567941347276757, -0.2567941347276757, -0.2567941347276757, -0.2567941347276757, -0.2567941347276757, -0.25679413472767576, -0.25679413472767576, -0.25679413472767576, -0.25679413472767576, -0.25679413472767576, -0.25679413472767576, -0.25679413472767576, -0.25679413472767576, -0.25679413472767576, -0.25679413472767576, -0.25679413472767576, -0.25679413472767576, -0.25679413472767576, -0.25679413472767576, -0.25679413472767576, -0.25679413472767576, -0.25679413472767576, -0.25679413472767576, -0.25679413472767576, -0.25679413472767576, -0.25679413472767576, -0.25679413472767576, -0.25679413472767576, -0.25679413472767576, -0.25679413472767576, -0.25679413472767576, -0.25679413472767576, -0.25679413472767576, -0.25679413472767576, -0.25679413472767576, -0.25679413472767576, -0.25679413472767576, -0.25679413472767576, -0.25679413472767576, -0.25679413472767576, -0.25679413472767576, -0.25679413472767576, -0.25679413472767576, -0.25679413472767576, -0.25679413472767576, -0.25679413472767576, -0.25679413472767576, -0.25679413472767576, -0.25679413472767576, -0.25679413472767576, -0.25679413472767576, -0.25679413472767576, -0.25679413472767576, -0.25679413472767576, -0.25679413472767576, -0.25679413472767576, -0.25679413472767576, -0.25679413472767576, -0.25679413472767576, -0.25679413472767576, -0.25679413472767576, -0.25679413472767576, -0.25679413472767576, -0.25679413472767576, -0.25679413472767576, -0.25679413472767576, -0.25679413472767576, -0.25679413472767576, -0.25679413472767576, -0.25679413472767576, -0.25679413472767576, -0.25679413472767576, -0.25679413472767576, -0.25679413472767576, -0.25679413472767576, -0.25679413472767576, -0.25679413472767576, -0.25679413472767576, -0.25679413472767576, -0.25679413472767576, -0.25679413472767576, -0.25679413472767576, -0.25679413472767576, -0.25679413472767576, -0.25679413472767576, -0.25679413472767576, -0.25679413472767576, -0.25679413472767576, -0.25679413472767576, -0.25679413472767576, -0.25679413472767576, -0.25679413472767576, -0.25679413472767576, -0.25679413472767576, -0.25679413472767576, -0.25679413472767576, -0.25679413472767576, -0.25679413472767576, -0.25679413472767576, -0.25679413472767576, -0.25679413472767576, -0.25679413472767576, -0.25679413472767576, -0.25679413472767576, -0.25679413472767576, -0.25679413472767576, -0.25679413472767576, -0.25679413472767576, -0.25679413472767576, -0.25679413472767576, -0.25679413472767576, -0.25679413472767576, -0.25679413472767576, -0.25679413472767576, -0.25679413472767576, -0.25679413472767576, -0.25679413472767576, -0.25679413472767576, -0.25679413472767576, -0.25679413472767576, -0.25679413472767576, -0.25679413472767576, -0.25679413472767576, -0.25679413472767576, -0.25679413472767576, -0.25679413472767576, -0.25679413472767576, -0.25679413472767576, -0.25679413472767576, -0.25679413472767576, -0.25679413472767576, -0.25679413472767576, -0.25679413472767576, -0.25679413472767576, -0.25679413472767576], \"yaxis\": \"y\"}],\n",
       "                        {\"height\": 600, \"legend\": {\"tracegroupgap\": 0}, \"margin\": {\"t\": 60}, \"template\": {\"data\": {\"bar\": [{\"error_x\": {\"color\": \"#2a3f5f\"}, \"error_y\": {\"color\": \"#2a3f5f\"}, \"marker\": {\"line\": {\"color\": \"#E5ECF6\", \"width\": 0.5}}, \"type\": \"bar\"}], \"barpolar\": [{\"marker\": {\"line\": {\"color\": \"#E5ECF6\", \"width\": 0.5}}, \"type\": \"barpolar\"}], \"carpet\": [{\"aaxis\": {\"endlinecolor\": \"#2a3f5f\", \"gridcolor\": \"white\", \"linecolor\": \"white\", \"minorgridcolor\": \"white\", \"startlinecolor\": \"#2a3f5f\"}, \"baxis\": {\"endlinecolor\": \"#2a3f5f\", \"gridcolor\": \"white\", \"linecolor\": \"white\", \"minorgridcolor\": \"white\", \"startlinecolor\": \"#2a3f5f\"}, \"type\": \"carpet\"}], \"choropleth\": [{\"colorbar\": {\"outlinewidth\": 0, \"ticks\": \"\"}, \"type\": \"choropleth\"}], \"contour\": [{\"colorbar\": {\"outlinewidth\": 0, \"ticks\": \"\"}, \"colorscale\": [[0.0, \"#0d0887\"], [0.1111111111111111, \"#46039f\"], [0.2222222222222222, \"#7201a8\"], [0.3333333333333333, \"#9c179e\"], [0.4444444444444444, \"#bd3786\"], [0.5555555555555556, \"#d8576b\"], [0.6666666666666666, \"#ed7953\"], [0.7777777777777778, \"#fb9f3a\"], [0.8888888888888888, \"#fdca26\"], [1.0, \"#f0f921\"]], \"type\": \"contour\"}], \"contourcarpet\": [{\"colorbar\": {\"outlinewidth\": 0, \"ticks\": \"\"}, \"type\": \"contourcarpet\"}], \"heatmap\": [{\"colorbar\": {\"outlinewidth\": 0, \"ticks\": \"\"}, \"colorscale\": [[0.0, \"#0d0887\"], [0.1111111111111111, \"#46039f\"], [0.2222222222222222, \"#7201a8\"], [0.3333333333333333, \"#9c179e\"], [0.4444444444444444, \"#bd3786\"], [0.5555555555555556, \"#d8576b\"], [0.6666666666666666, \"#ed7953\"], [0.7777777777777778, \"#fb9f3a\"], [0.8888888888888888, \"#fdca26\"], [1.0, \"#f0f921\"]], \"type\": \"heatmap\"}], \"heatmapgl\": [{\"colorbar\": {\"outlinewidth\": 0, \"ticks\": \"\"}, \"colorscale\": [[0.0, \"#0d0887\"], [0.1111111111111111, \"#46039f\"], [0.2222222222222222, \"#7201a8\"], [0.3333333333333333, \"#9c179e\"], [0.4444444444444444, \"#bd3786\"], [0.5555555555555556, \"#d8576b\"], [0.6666666666666666, \"#ed7953\"], [0.7777777777777778, \"#fb9f3a\"], [0.8888888888888888, \"#fdca26\"], [1.0, \"#f0f921\"]], \"type\": \"heatmapgl\"}], \"histogram\": [{\"marker\": {\"colorbar\": {\"outlinewidth\": 0, \"ticks\": \"\"}}, \"type\": \"histogram\"}], \"histogram2d\": [{\"colorbar\": {\"outlinewidth\": 0, \"ticks\": \"\"}, \"colorscale\": [[0.0, \"#0d0887\"], [0.1111111111111111, \"#46039f\"], [0.2222222222222222, \"#7201a8\"], [0.3333333333333333, \"#9c179e\"], [0.4444444444444444, \"#bd3786\"], [0.5555555555555556, \"#d8576b\"], [0.6666666666666666, \"#ed7953\"], [0.7777777777777778, \"#fb9f3a\"], [0.8888888888888888, \"#fdca26\"], [1.0, \"#f0f921\"]], \"type\": \"histogram2d\"}], \"histogram2dcontour\": [{\"colorbar\": {\"outlinewidth\": 0, \"ticks\": \"\"}, \"colorscale\": [[0.0, \"#0d0887\"], [0.1111111111111111, \"#46039f\"], [0.2222222222222222, \"#7201a8\"], [0.3333333333333333, \"#9c179e\"], [0.4444444444444444, \"#bd3786\"], [0.5555555555555556, \"#d8576b\"], [0.6666666666666666, \"#ed7953\"], [0.7777777777777778, \"#fb9f3a\"], [0.8888888888888888, \"#fdca26\"], [1.0, \"#f0f921\"]], \"type\": \"histogram2dcontour\"}], \"mesh3d\": [{\"colorbar\": {\"outlinewidth\": 0, \"ticks\": \"\"}, \"type\": \"mesh3d\"}], \"parcoords\": [{\"line\": {\"colorbar\": {\"outlinewidth\": 0, \"ticks\": \"\"}}, \"type\": \"parcoords\"}], \"scatter\": [{\"marker\": {\"colorbar\": {\"outlinewidth\": 0, \"ticks\": \"\"}}, \"type\": \"scatter\"}], \"scatter3d\": [{\"line\": {\"colorbar\": {\"outlinewidth\": 0, \"ticks\": \"\"}}, \"marker\": {\"colorbar\": {\"outlinewidth\": 0, \"ticks\": \"\"}}, \"type\": \"scatter3d\"}], \"scattercarpet\": [{\"marker\": {\"colorbar\": {\"outlinewidth\": 0, \"ticks\": \"\"}}, \"type\": \"scattercarpet\"}], \"scattergeo\": [{\"marker\": {\"colorbar\": {\"outlinewidth\": 0, \"ticks\": \"\"}}, \"type\": \"scattergeo\"}], \"scattergl\": [{\"marker\": {\"colorbar\": {\"outlinewidth\": 0, \"ticks\": \"\"}}, \"type\": \"scattergl\"}], \"scattermapbox\": [{\"marker\": {\"colorbar\": {\"outlinewidth\": 0, \"ticks\": \"\"}}, \"type\": \"scattermapbox\"}], \"scatterpolar\": [{\"marker\": {\"colorbar\": {\"outlinewidth\": 0, \"ticks\": \"\"}}, \"type\": \"scatterpolar\"}], \"scatterpolargl\": [{\"marker\": {\"colorbar\": {\"outlinewidth\": 0, \"ticks\": \"\"}}, \"type\": \"scatterpolargl\"}], \"scatterternary\": [{\"marker\": {\"colorbar\": {\"outlinewidth\": 0, \"ticks\": \"\"}}, \"type\": \"scatterternary\"}], \"surface\": [{\"colorbar\": {\"outlinewidth\": 0, \"ticks\": \"\"}, \"colorscale\": [[0.0, \"#0d0887\"], [0.1111111111111111, \"#46039f\"], [0.2222222222222222, \"#7201a8\"], [0.3333333333333333, \"#9c179e\"], [0.4444444444444444, \"#bd3786\"], [0.5555555555555556, \"#d8576b\"], [0.6666666666666666, \"#ed7953\"], [0.7777777777777778, \"#fb9f3a\"], [0.8888888888888888, \"#fdca26\"], [1.0, \"#f0f921\"]], \"type\": \"surface\"}], \"table\": [{\"cells\": {\"fill\": {\"color\": \"#EBF0F8\"}, \"line\": {\"color\": \"white\"}}, \"header\": {\"fill\": {\"color\": \"#C8D4E3\"}, \"line\": {\"color\": \"white\"}}, \"type\": \"table\"}]}, \"layout\": {\"annotationdefaults\": {\"arrowcolor\": \"#2a3f5f\", \"arrowhead\": 0, \"arrowwidth\": 1}, \"colorscale\": {\"diverging\": [[0, \"#8e0152\"], [0.1, \"#c51b7d\"], [0.2, \"#de77ae\"], [0.3, \"#f1b6da\"], [0.4, \"#fde0ef\"], [0.5, \"#f7f7f7\"], [0.6, \"#e6f5d0\"], [0.7, \"#b8e186\"], [0.8, \"#7fbc41\"], [0.9, \"#4d9221\"], [1, \"#276419\"]], \"sequential\": [[0.0, \"#0d0887\"], [0.1111111111111111, \"#46039f\"], [0.2222222222222222, \"#7201a8\"], [0.3333333333333333, \"#9c179e\"], [0.4444444444444444, \"#bd3786\"], [0.5555555555555556, \"#d8576b\"], [0.6666666666666666, \"#ed7953\"], [0.7777777777777778, \"#fb9f3a\"], [0.8888888888888888, \"#fdca26\"], [1.0, \"#f0f921\"]], \"sequentialminus\": [[0.0, \"#0d0887\"], [0.1111111111111111, \"#46039f\"], [0.2222222222222222, \"#7201a8\"], [0.3333333333333333, \"#9c179e\"], [0.4444444444444444, \"#bd3786\"], [0.5555555555555556, \"#d8576b\"], [0.6666666666666666, \"#ed7953\"], [0.7777777777777778, \"#fb9f3a\"], [0.8888888888888888, \"#fdca26\"], [1.0, \"#f0f921\"]]}, \"colorway\": [\"#636efa\", \"#EF553B\", \"#00cc96\", \"#ab63fa\", \"#FFA15A\", \"#19d3f3\", \"#FF6692\", \"#B6E880\", \"#FF97FF\", \"#FECB52\"], \"font\": {\"color\": \"#2a3f5f\"}, \"geo\": {\"bgcolor\": \"white\", \"lakecolor\": \"white\", \"landcolor\": \"#E5ECF6\", \"showlakes\": true, \"showland\": true, \"subunitcolor\": \"white\"}, \"hoverlabel\": {\"align\": \"left\"}, \"hovermode\": \"closest\", \"mapbox\": {\"style\": \"light\"}, \"paper_bgcolor\": \"white\", \"plot_bgcolor\": \"#E5ECF6\", \"polar\": {\"angularaxis\": {\"gridcolor\": \"white\", \"linecolor\": \"white\", \"ticks\": \"\"}, \"bgcolor\": \"#E5ECF6\", \"radialaxis\": {\"gridcolor\": \"white\", \"linecolor\": \"white\", \"ticks\": \"\"}}, \"scene\": {\"xaxis\": {\"backgroundcolor\": \"#E5ECF6\", \"gridcolor\": \"white\", \"gridwidth\": 2, \"linecolor\": \"white\", \"showbackground\": true, \"ticks\": \"\", \"zerolinecolor\": \"white\"}, \"yaxis\": {\"backgroundcolor\": \"#E5ECF6\", \"gridcolor\": \"white\", \"gridwidth\": 2, \"linecolor\": \"white\", \"showbackground\": true, \"ticks\": \"\", \"zerolinecolor\": \"white\"}, \"zaxis\": {\"backgroundcolor\": \"#E5ECF6\", \"gridcolor\": \"white\", \"gridwidth\": 2, \"linecolor\": \"white\", \"showbackground\": true, \"ticks\": \"\", \"zerolinecolor\": \"white\"}}, \"shapedefaults\": {\"line\": {\"color\": \"#2a3f5f\"}}, \"ternary\": {\"aaxis\": {\"gridcolor\": \"white\", \"linecolor\": \"white\", \"ticks\": \"\"}, \"baxis\": {\"gridcolor\": \"white\", \"linecolor\": \"white\", \"ticks\": \"\"}, \"bgcolor\": \"#E5ECF6\", \"caxis\": {\"gridcolor\": \"white\", \"linecolor\": \"white\", \"ticks\": \"\"}}, \"title\": {\"x\": 0.05}, \"xaxis\": {\"automargin\": true, \"gridcolor\": \"white\", \"linecolor\": \"white\", \"ticks\": \"\", \"zerolinecolor\": \"white\", \"zerolinewidth\": 2}, \"yaxis\": {\"automargin\": true, \"gridcolor\": \"white\", \"linecolor\": \"white\", \"ticks\": \"\", \"zerolinecolor\": \"white\", \"zerolinewidth\": 2}}}, \"xaxis\": {\"anchor\": \"y\", \"domain\": [0.0, 0.98], \"title\": {\"text\": \"epoch\"}}, \"yaxis\": {\"anchor\": \"x\", \"domain\": [0.0, 1.0], \"title\": {\"text\": \"max\"}}},\n",
       "                        {\"responsive\": true}\n",
       "                    ).then(function(){\n",
       "                            \n",
       "var gd = document.getElementById('9455d576-cfb7-473f-bb8f-5a8e80ea9769');\n",
       "var x = new MutationObserver(function (mutations, observer) {{\n",
       "        var display = window.getComputedStyle(gd).display;\n",
       "        if (!display || display === 'none') {{\n",
       "            console.log([gd, 'removed!']);\n",
       "            Plotly.purge(gd);\n",
       "            observer.disconnect();\n",
       "        }}\n",
       "}});\n",
       "\n",
       "// Listen for the removal of the full notebook cells\n",
       "var notebookContainer = gd.closest('#notebook-container');\n",
       "if (notebookContainer) {{\n",
       "    x.observe(notebookContainer, {childList: true});\n",
       "}}\n",
       "\n",
       "// Listen for the clearing of the current output cell\n",
       "var outputEl = gd.closest('.output');\n",
       "if (outputEl) {{\n",
       "    x.observe(outputEl, {childList: true});\n",
       "}}\n",
       "\n",
       "                        })\n",
       "                };\n",
       "                });\n",
       "            </script>\n",
       "        </div>"
      ]
     },
     "metadata": {},
     "output_type": "display_data"
    }
   ],
   "source": [
    "figs[2]"
   ]
  },
  {
   "cell_type": "code",
   "execution_count": 40,
   "metadata": {},
   "outputs": [
    {
     "data": {
      "application/vnd.plotly.v1+json": {
       "config": {
        "plotlyServerURL": "https://plot.ly"
       },
       "data": [
        {
         "hoverlabel": {
          "namelength": 0
         },
         "hovertemplate": "category=weights_0<br>epoch=%{x}<br>min=%{y}",
         "legendgroup": "category=weights_0",
         "line": {
          "color": "#636efa",
          "dash": "solid"
         },
         "mode": "lines",
         "name": "category=weights_0",
         "showlegend": true,
         "type": "scatter",
         "x": [
          1,
          2,
          3,
          4,
          5,
          6,
          7,
          8,
          9,
          10,
          11,
          12,
          13,
          14,
          15,
          16,
          17,
          18,
          19,
          20,
          21,
          22,
          23,
          24,
          25,
          26,
          27,
          28,
          29,
          30,
          31,
          32,
          33,
          34,
          35,
          36,
          37,
          38,
          39,
          40,
          41,
          42,
          43,
          44,
          45,
          46,
          47,
          48,
          49,
          50,
          51,
          52,
          53,
          54,
          55,
          56,
          57,
          58,
          59,
          60,
          61,
          62,
          63,
          64,
          65,
          66,
          67,
          68,
          69,
          70,
          71,
          72,
          73,
          74,
          75,
          76,
          77,
          78,
          79,
          80,
          81,
          82,
          83,
          84,
          85,
          86,
          87,
          88,
          89,
          90,
          91,
          92,
          93,
          94,
          95,
          96,
          97,
          98,
          99,
          100,
          101,
          102,
          103,
          104,
          105,
          106,
          107,
          108,
          109,
          110,
          111,
          112,
          113,
          114,
          115,
          116,
          117,
          118,
          119,
          120,
          121,
          122,
          123,
          124,
          125,
          126,
          127,
          128,
          129,
          130,
          131,
          132,
          133,
          134,
          135,
          136,
          137,
          138,
          139,
          140,
          141,
          142,
          143,
          144,
          145,
          146,
          147,
          148,
          149,
          150,
          151,
          152,
          153,
          154,
          155,
          156,
          157,
          158,
          159,
          160,
          161,
          162,
          163,
          164,
          165,
          166,
          167,
          168,
          169,
          170,
          171,
          172,
          173,
          174,
          175,
          176,
          177,
          178,
          179,
          180,
          181,
          182,
          183,
          184,
          185,
          186,
          187,
          188,
          189,
          190,
          191,
          192,
          193,
          194,
          195,
          196,
          197,
          198,
          199,
          200
         ],
         "xaxis": "x",
         "y": [
          -2.4180515517251906,
          -2.611366348148506,
          -3.1058199897117023,
          -3.191942074936718,
          -3.2411211307394954,
          -3.2823500641395853,
          -3.2807173995407872,
          -3.2807173995407872,
          -3.3861265541958456,
          -3.3861265541958456,
          -3.3861265541958456,
          -3.4045578446759355,
          -3.4045578446759355,
          -3.5323185826441716,
          -3.5323185826441716,
          -3.5323185826441716,
          -3.5323185826441716,
          -3.5423611724496187,
          -3.5323185826441716,
          -3.5900696911808265,
          -3.5323185826441716,
          -3.5323185826441716,
          -3.5323185826441716,
          -3.5323185826441716,
          -3.5323185826441716,
          -3.3869915748852826,
          -3.5900696911808265,
          -3.5323185826441716,
          -3.5973100377076146,
          -3.5900696911808265,
          -3.5973100377076146,
          -3.5900696911808265,
          -3.5900696911808265,
          -3.946880887065514,
          -3.4889408390683707,
          -3.530862299373349,
          -3.530862299373349,
          -3.530862299373349,
          -3.530862299373349,
          -3.524147150171181,
          -3.5298110330300876,
          -3.447737716457915,
          -3.447737716457915,
          -3.5298110330300876,
          -3.447737716457915,
          -3.4722064483615824,
          -3.4722064483615824,
          -3.8192686734676844,
          -3.8192686734676844,
          -3.8192686734676844,
          -3.8192686734676844,
          -3.8192686734676844,
          -3.8192686734676844,
          -4.262530666484121,
          -3.9044140037413477,
          -3.952815664209118,
          -3.952815664209118,
          -3.952815664209118,
          -3.952815664209118,
          -3.952815664209118,
          -3.952815664209118,
          -3.952815664209118,
          -3.952815664209118,
          -3.952815664209118,
          -3.952815664209118,
          -4.06953006479279,
          -3.952815664209118,
          -3.952815664209118,
          -3.952815664209118,
          -3.952815664209118,
          -3.993824233013526,
          -4.263980793679208,
          -3.952815664209118,
          -3.952815664209118,
          -3.952815664209118,
          -3.952815664209118,
          -3.952815664209118,
          -4.05827956694897,
          -3.952815664209118,
          -3.8584202981431717,
          -3.952815664209118,
          -3.8584202981431717,
          -3.8981176772765105,
          -3.8981176772765105,
          -3.8981176772765105,
          -3.92904377674494,
          -3.952815664209118,
          -3.952815664209118,
          -3.952815664209118,
          -3.952815664209118,
          -3.952815664209118,
          -3.952815664209118,
          -3.778242789167102,
          -3.778242789167102,
          -3.952815664209118,
          -3.952815664209118,
          -3.952815664209118,
          -4.064167926733337,
          -4.873976115134729,
          -4.254474377686591,
          -4.873976115134729,
          -4.873976115134729,
          -4.873976115134729,
          -4.873976115134729,
          -4.873976115134729,
          -4.855396800088457,
          -4.873976115134729,
          -4.855396800088457,
          -4.855396800088457,
          -4.842528330878529,
          -4.842528330878529,
          -4.842528330878529,
          -4.883163147915832,
          -4.796548774528004,
          -4.796548774528004,
          -4.844085676972732,
          -4.844085676972732,
          -4.844085676972732,
          -4.844085676972732,
          -4.844085676972732,
          -4.844085676972732,
          -4.844085676972732,
          -4.844085676972732,
          -4.844085676972732,
          -4.844085676972732,
          -5.012483037150185,
          -5.012483037150185,
          -5.012483037150185,
          -5.012483037150185,
          -5.012483037150185,
          -5.012483037150185,
          -5.012483037150185,
          -5.029107079326395,
          -5.012483037150185,
          -5.012483037150185,
          -5.122865995958808,
          -5.029107079326395,
          -5.012483037150185,
          -5.012483037150185,
          -5.122865995958808,
          -5.340799853689592,
          -5.89495934522429,
          -5.89495934522429,
          -5.89495934522429,
          -5.781609417447154,
          -5.781609417447154,
          -5.925593167131078,
          -5.778626161434554,
          -5.7248757005949695,
          -5.835577352424708,
          -5.871435367215518,
          -5.871435367215518,
          -5.871435367215518,
          -5.871435367215518,
          -5.7913523417146555,
          -5.90223652877818,
          -5.871435367215518,
          -5.871435367215518,
          -5.871435367215518,
          -5.912304479217146,
          -5.912304479217146,
          -5.871435367215518,
          -5.871435367215518,
          -5.871435367215518,
          -5.871435367215518,
          -6.2054607177574495,
          -6.2054607177574495,
          -6.14680069188239,
          -6.14680069188239,
          -6.178286573644573,
          -6.14680069188239,
          -6.128140769713549,
          -5.631194185706407,
          -5.631194185706407,
          -5.631194185706407,
          -5.663156436618852,
          -5.663156436618852,
          -5.663156436618852,
          -5.663156436618852,
          -5.663156436618852,
          -5.663156436618852,
          -5.623054669356268,
          -5.728935323786738,
          -5.728935323786738,
          -6.004506190023268,
          -6.004506190023268,
          -6.004506190023268,
          -6.004506190023268,
          -6.004506190023268,
          -6.004506190023268,
          -6.004506190023268,
          -5.974931673011228,
          -6.004506190023268,
          -5.974931673011228,
          -6.004506190023268,
          -5.974931673011228,
          -6.21369724900613,
          -6.204019206986068,
          -6.19737551169847,
          -6.2872668834518795
         ],
         "yaxis": "y"
        },
        {
         "hoverlabel": {
          "namelength": 0
         },
         "hovertemplate": "category=weights_1<br>epoch=%{x}<br>min=%{y}",
         "legendgroup": "category=weights_1",
         "line": {
          "color": "#EF553B",
          "dash": "solid"
         },
         "mode": "lines",
         "name": "category=weights_1",
         "showlegend": true,
         "type": "scatter",
         "x": [
          1,
          2,
          3,
          4,
          5,
          6,
          7,
          8,
          9,
          10,
          11,
          12,
          13,
          14,
          15,
          16,
          17,
          18,
          19,
          20,
          21,
          22,
          23,
          24,
          25,
          26,
          27,
          28,
          29,
          30,
          31,
          32,
          33,
          34,
          35,
          36,
          37,
          38,
          39,
          40,
          41,
          42,
          43,
          44,
          45,
          46,
          47,
          48,
          49,
          50,
          51,
          52,
          53,
          54,
          55,
          56,
          57,
          58,
          59,
          60,
          61,
          62,
          63,
          64,
          65,
          66,
          67,
          68,
          69,
          70,
          71,
          72,
          73,
          74,
          75,
          76,
          77,
          78,
          79,
          80,
          81,
          82,
          83,
          84,
          85,
          86,
          87,
          88,
          89,
          90,
          91,
          92,
          93,
          94,
          95,
          96,
          97,
          98,
          99,
          100,
          101,
          102,
          103,
          104,
          105,
          106,
          107,
          108,
          109,
          110,
          111,
          112,
          113,
          114,
          115,
          116,
          117,
          118,
          119,
          120,
          121,
          122,
          123,
          124,
          125,
          126,
          127,
          128,
          129,
          130,
          131,
          132,
          133,
          134,
          135,
          136,
          137,
          138,
          139,
          140,
          141,
          142,
          143,
          144,
          145,
          146,
          147,
          148,
          149,
          150,
          151,
          152,
          153,
          154,
          155,
          156,
          157,
          158,
          159,
          160,
          161,
          162,
          163,
          164,
          165,
          166,
          167,
          168,
          169,
          170,
          171,
          172,
          173,
          174,
          175,
          176,
          177,
          178,
          179,
          180,
          181,
          182,
          183,
          184,
          185,
          186,
          187,
          188,
          189,
          190,
          191,
          192,
          193,
          194,
          195,
          196,
          197,
          198,
          199,
          200
         ],
         "xaxis": "x",
         "y": [
          -1.367847494397787,
          -1.854897915386823,
          -1.2391135981370418,
          -0.9339135156242802,
          -1.4332929397882825,
          -1.0537333822085613,
          -1.2764971796744045,
          -1.2764971796744045,
          -1.2764971796744045,
          -1.2764971796744045,
          -1.2764971796744045,
          -1.5832152992686457,
          -1.5832152992686457,
          -1.5832152992686457,
          -1.5832152992686457,
          -1.5832152992686457,
          -1.5832152992686457,
          -1.5832152992686457,
          -1.6849928256500397,
          -1.6849928256500397,
          -1.4609320908464107,
          -1.4609320908464107,
          -1.4609320908464107,
          -1.4609320908464107,
          -1.4609320908464107,
          -1.674002660416442,
          -1.661995540439697,
          -1.4609320908464107,
          -1.4609320908464107,
          -1.6849928256500397,
          -1.4609320908464107,
          -1.6849928256500397,
          -1.6849928256500397,
          -1.6849928256500397,
          -1.6634540811899154,
          -1.6673275104399135,
          -1.6673275104399135,
          -1.6673275104399135,
          -1.6673275104399135,
          -1.6673275104399135,
          -1.668524178814997,
          -1.668524178814997,
          -1.668524178814997,
          -1.668524178814997,
          -1.668524178814997,
          -1.668524178814997,
          -1.668524178814997,
          -1.668524178814997,
          -1.6297152607003507,
          -1.6297152607003507,
          -1.668524178814997,
          -1.668524178814997,
          -1.668524178814997,
          -1.668524178814997,
          -1.5760191804869499,
          -1.477936388272008,
          -1.9594976075572315,
          -1.9594976075572315,
          -1.994087756247858,
          -1.994087756247858,
          -1.994087756247858,
          -1.994087756247858,
          -1.994087756247858,
          -1.9041400395768613,
          -1.9041400395768613,
          -1.9041400395768613,
          -1.9041400395768613,
          -1.9041400395768613,
          -1.9041400395768613,
          -1.9041400395768613,
          -2.0832018486390433,
          -2.0832018486390433,
          -1.9041400395768613,
          -1.9041400395768613,
          -1.9041400395768613,
          -1.9041400395768613,
          -1.9041400395768613,
          -1.9763869127748444,
          -1.9041400395768613,
          -1.9041400395768613,
          -1.980978589770758,
          -1.7997892107795819,
          -1.9041400395768613,
          -1.9041400395768613,
          -1.9041400395768613,
          -1.9041400395768613,
          -1.980978589770758,
          -1.980978589770758,
          -1.8186890750734293,
          -1.8186890750734293,
          -1.6128540888233118,
          -1.8651574213269349,
          -1.980978589770758,
          -1.980978589770758,
          -1.8651574213269349,
          -1.8651574213269349,
          -1.969480307874678,
          -1.8651574213269349,
          -1.8186890750734293,
          -2.6661714126863734,
          -1.961399379902685,
          -1.961399379902685,
          -1.961399379902685,
          -1.961399379902685,
          -1.961399379902685,
          -1.961399379902685,
          -1.961399379902685,
          -1.961399379902685,
          -1.961399379902685,
          -1.961399379902685,
          -2.6637563895399294,
          -2.6637563895399294,
          -2.698065702932947,
          -2.698065702932947,
          -2.698065702932947,
          -2.6637563895399294,
          -2.6637563895399294,
          -2.6637563895399294,
          -2.6637563895399294,
          -2.823632639478362,
          -2.735203525727296,
          -2.735203525727296,
          -3.0927109595761575,
          -3.0927109595761575,
          -3.0927109595761575,
          -3.0927109595761575,
          -3.0927109595761575,
          -3.0927109595761575,
          -3.0927109595761575,
          -3.0927109595761575,
          -3.0927109595761575,
          -3.0927109595761575,
          -3.0927109595761575,
          -3.0560231864626357,
          -3.0560231864626357,
          -3.0927109595761575,
          -3.0927109595761575,
          -3.0047672052798347,
          -3.0047672052798347,
          -3.0927109595761575,
          -3.4432956074662693,
          -3.1309754607906726,
          -3.1309754607906726,
          -3.1309754607906726,
          -3.1309754607906726,
          -3.1309754607906726,
          -3.211743638821655,
          -3.1309754607906726,
          -3.1309754607906726,
          -3.133999641082336,
          -3.2468119202157992,
          -3.2468119202157992,
          -3.2468119202157992,
          -3.2468119202157992,
          -3.2789572917059253,
          -3.2789572917059253,
          -3.2468119202157992,
          -3.2468119202157992,
          -3.2468119202157992,
          -3.2468119202157992,
          -3.2468119202157992,
          -3.190734238510906,
          -3.190734238510906,
          -3.190734238510906,
          -3.3632759514444017,
          -2.874156897310622,
          -2.874156897310622,
          -2.884037168933961,
          -2.884037168933961,
          -2.884037168933961,
          -2.884037168933961,
          -2.884037168933961,
          -2.884037168933961,
          -2.884037168933961,
          -2.884037168933961,
          -2.980364218715393,
          -2.980364218715393,
          -2.980364218715393,
          -2.980364218715393,
          -2.980364218715393,
          -2.980364218715393,
          -3.08611154116933,
          -2.9394166518272775,
          -2.859288592773297,
          -2.859288592773297,
          -2.859288592773297,
          -2.844707627404586,
          -2.859288592773297,
          -2.844707627404586,
          -2.8079702898996315,
          -2.844707627404586,
          -2.822325655327223,
          -3.0436692575701176,
          -2.822325655327223,
          -3.0436692575701176,
          -2.8279242577299253,
          -3.2002299521286277,
          -3.2002299521286277,
          -3.2002299521286277,
          -3.3137073325894493
         ],
         "yaxis": "y"
        },
        {
         "hoverlabel": {
          "namelength": 0
         },
         "hovertemplate": "category=weights_2<br>epoch=%{x}<br>min=%{y}",
         "legendgroup": "category=weights_2",
         "line": {
          "color": "#00cc96",
          "dash": "solid"
         },
         "mode": "lines",
         "name": "category=weights_2",
         "showlegend": true,
         "type": "scatter",
         "x": [
          1,
          2,
          3,
          4,
          5,
          6,
          7,
          8,
          9,
          10,
          11,
          12,
          13,
          14,
          15,
          16,
          17,
          18,
          19,
          20,
          21,
          22,
          23,
          24,
          25,
          26,
          27,
          28,
          29,
          30,
          31,
          32,
          33,
          34,
          35,
          36,
          37,
          38,
          39,
          40,
          41,
          42,
          43,
          44,
          45,
          46,
          47,
          48,
          49,
          50,
          51,
          52,
          53,
          54,
          55,
          56,
          57,
          58,
          59,
          60,
          61,
          62,
          63,
          64,
          65,
          66,
          67,
          68,
          69,
          70,
          71,
          72,
          73,
          74,
          75,
          76,
          77,
          78,
          79,
          80,
          81,
          82,
          83,
          84,
          85,
          86,
          87,
          88,
          89,
          90,
          91,
          92,
          93,
          94,
          95,
          96,
          97,
          98,
          99,
          100,
          101,
          102,
          103,
          104,
          105,
          106,
          107,
          108,
          109,
          110,
          111,
          112,
          113,
          114,
          115,
          116,
          117,
          118,
          119,
          120,
          121,
          122,
          123,
          124,
          125,
          126,
          127,
          128,
          129,
          130,
          131,
          132,
          133,
          134,
          135,
          136,
          137,
          138,
          139,
          140,
          141,
          142,
          143,
          144,
          145,
          146,
          147,
          148,
          149,
          150,
          151,
          152,
          153,
          154,
          155,
          156,
          157,
          158,
          159,
          160,
          161,
          162,
          163,
          164,
          165,
          166,
          167,
          168,
          169,
          170,
          171,
          172,
          173,
          174,
          175,
          176,
          177,
          178,
          179,
          180,
          181,
          182,
          183,
          184,
          185,
          186,
          187,
          188,
          189,
          190,
          191,
          192,
          193,
          194,
          195,
          196,
          197,
          198,
          199,
          200
         ],
         "xaxis": "x",
         "y": [
          -1.501937212185903,
          -2.1474667776238,
          -1.7077593170411423,
          -2.1456474500183353,
          -1.7481136793860776,
          -2.1456474500183353,
          -1.7318401579910787,
          -1.6013672654278392,
          -1.656804016931226,
          -1.656804016931226,
          -1.656804016931226,
          -1.6628545768594696,
          -1.6628545768594696,
          -1.6300227367334292,
          -1.6300227367334292,
          -1.6023353512620735,
          -1.6584211317420912,
          -1.6023353512620735,
          -1.6300227367334292,
          -1.6300227367334292,
          -1.6023353512620735,
          -1.6023353512620735,
          -1.6023353512620735,
          -1.6023353512620735,
          -1.6023353512620735,
          -1.5666677270803748,
          -1.683517245289711,
          -1.578767900270643,
          -1.6863249307666441,
          -1.6716976314863055,
          -1.6863249307666441,
          -3.2281679442231286,
          -3.2281679442231286,
          -3.085572264410114,
          -3.8741682979104892,
          -3.5792982459370752,
          -3.5792982459370752,
          -3.5792982459370752,
          -3.5792982459370752,
          -3.5792982459370752,
          -3.5799396620279693,
          -3.5799396620279693,
          -3.5799396620279693,
          -3.5799396620279693,
          -3.5799396620279693,
          -3.5799396620279693,
          -3.5799396620279693,
          -3.5799396620279693,
          -3.5799396620279693,
          -3.5799396620279693,
          -3.5799396620279693,
          -3.5799396620279693,
          -3.5799396620279693,
          -3.2029431656223917,
          -3.998163293096125,
          -3.998163293096125,
          -4.196731130190818,
          -4.196731130190818,
          -4.196731130190818,
          -4.196731130190818,
          -4.196731130190818,
          -4.196731130190818,
          -4.196731130190818,
          -4.196731130190818,
          -4.196731130190818,
          -4.196731130190818,
          -4.196731130190818,
          -4.196731130190818,
          -4.196731130190818,
          -4.59703082972181,
          -4.761067968936538,
          -4.761067968936538,
          -4.761067968936538,
          -4.761067968936538,
          -4.761067968936538,
          -4.761067968936538,
          -4.761067968936538,
          -4.761067968936538,
          -4.761067968936538,
          -4.761067968936538,
          -4.761067968936538,
          -4.761067968936538,
          -4.761067968936538,
          -4.761067968936538,
          -4.761067968936538,
          -4.761067968936538,
          -4.761067968936538,
          -4.761067968936538,
          -4.761067968936538,
          -4.761067968936538,
          -4.761067968936538,
          -4.879080028699516,
          -4.677345670301334,
          -4.677345670301334,
          -4.879080028699516,
          -4.879080028699516,
          -4.879080028699516,
          -4.879080028699516,
          -4.879080028699516,
          -4.879080028699516,
          -4.585243036309408,
          -4.585243036309408,
          -4.585243036309408,
          -4.585243036309408,
          -4.585243036309408,
          -4.585243036309408,
          -4.585243036309408,
          -4.612717661950814,
          -4.585243036309408,
          -4.585243036309408,
          -4.420162256746081,
          -4.420162256746081,
          -4.471585150002157,
          -4.420162256746081,
          -4.420162256746081,
          -4.281748163329927,
          -4.281748163329927,
          -4.281748163329927,
          -4.281748163329927,
          -4.281748163329927,
          -4.281748163329927,
          -4.281748163329927,
          -4.36815566144819,
          -4.36815566144819,
          -4.36815566144819,
          -4.36815566144819,
          -4.36815566144819,
          -4.36815566144819,
          -4.294081310603121,
          -4.294081310603121,
          -4.347497737220431,
          -4.605072718652872,
          -4.294081310603121,
          -4.605072718652872,
          -4.605072718652872,
          -4.294081310603121,
          -4.294081310603121,
          -4.723204459285929,
          -4.723204459285929,
          -4.294081310603121,
          -4.723204459285929,
          -4.723204459285929,
          -4.73428254948007,
          -4.885381029743828,
          -4.723204459285929,
          -4.723204459285929,
          -4.723204459285929,
          -4.723204459285929,
          -4.723204459285929,
          -4.723125479602881,
          -4.6217426994856545,
          -4.6217426994856545,
          -4.6217426994856545,
          -4.6217426994856545,
          -4.535891388447107,
          -4.535891388447107,
          -4.6217426994856545,
          -4.6217426994856545,
          -4.6217426994856545,
          -4.6217426994856545,
          -4.6217426994856545,
          -4.615168579464234,
          -4.615168579464234,
          -4.615168579464234,
          -4.615168579464234,
          -4.890860203582381,
          -4.958776909941815,
          -4.678430631198548,
          -4.678430631198548,
          -4.678430631198548,
          -4.690563622731677,
          -4.690563622731677,
          -4.690563622731677,
          -4.690563622731677,
          -4.690563622731677,
          -4.593198338406985,
          -4.593198338406985,
          -4.593198338406985,
          -4.764967124349224,
          -4.9793431167707825,
          -4.535554667265827,
          -4.764967124349224,
          -4.764967124349224,
          -4.764967124349224,
          -4.764967124349224,
          -4.764967124349224,
          -4.764967124349224,
          -4.764967124349224,
          -4.764967124349224,
          -4.764967124349224,
          -4.764967124349224,
          -4.657170320065294,
          -4.764967124349224,
          -4.657170320065294,
          -4.764967124349224,
          -4.657170320065294,
          -5.099001721716339,
          -5.099001721716339,
          -5.099001721716339,
          -5.099001721716339
         ],
         "yaxis": "y"
        },
        {
         "hoverlabel": {
          "namelength": 0
         },
         "hovertemplate": "category=weights_3<br>epoch=%{x}<br>min=%{y}",
         "legendgroup": "category=weights_3",
         "line": {
          "color": "#ab63fa",
          "dash": "solid"
         },
         "mode": "lines",
         "name": "category=weights_3",
         "showlegend": true,
         "type": "scatter",
         "x": [
          1,
          2,
          3,
          4,
          5,
          6,
          7,
          8,
          9,
          10,
          11,
          12,
          13,
          14,
          15,
          16,
          17,
          18,
          19,
          20,
          21,
          22,
          23,
          24,
          25,
          26,
          27,
          28,
          29,
          30,
          31,
          32,
          33,
          34,
          35,
          36,
          37,
          38,
          39,
          40,
          41,
          42,
          43,
          44,
          45,
          46,
          47,
          48,
          49,
          50,
          51,
          52,
          53,
          54,
          55,
          56,
          57,
          58,
          59,
          60,
          61,
          62,
          63,
          64,
          65,
          66,
          67,
          68,
          69,
          70,
          71,
          72,
          73,
          74,
          75,
          76,
          77,
          78,
          79,
          80,
          81,
          82,
          83,
          84,
          85,
          86,
          87,
          88,
          89,
          90,
          91,
          92,
          93,
          94,
          95,
          96,
          97,
          98,
          99,
          100,
          101,
          102,
          103,
          104,
          105,
          106,
          107,
          108,
          109,
          110,
          111,
          112,
          113,
          114,
          115,
          116,
          117,
          118,
          119,
          120,
          121,
          122,
          123,
          124,
          125,
          126,
          127,
          128,
          129,
          130,
          131,
          132,
          133,
          134,
          135,
          136,
          137,
          138,
          139,
          140,
          141,
          142,
          143,
          144,
          145,
          146,
          147,
          148,
          149,
          150,
          151,
          152,
          153,
          154,
          155,
          156,
          157,
          158,
          159,
          160,
          161,
          162,
          163,
          164,
          165,
          166,
          167,
          168,
          169,
          170,
          171,
          172,
          173,
          174,
          175,
          176,
          177,
          178,
          179,
          180,
          181,
          182,
          183,
          184,
          185,
          186,
          187,
          188,
          189,
          190,
          191,
          192,
          193,
          194,
          195,
          196,
          197,
          198,
          199,
          200
         ],
         "xaxis": "x",
         "y": [
          -0.12852681772153746,
          0.6133047471048445,
          -0.25677995591326735,
          -0.1007413050255564,
          -0.25677995591326735,
          -0.1007413050255564,
          -0.25677995591326735,
          -0.25677995591326735,
          -0.25677995591326735,
          -0.25677995591326735,
          -0.25677995591326735,
          -0.2567941347276757,
          -0.2567941347276757,
          -0.2567941347276757,
          -0.2567941347276757,
          -0.2567941347276757,
          -0.2567941347276757,
          -0.2567941347276757,
          -0.2567941347276757,
          -0.2567941347276757,
          -0.2567941347276757,
          -0.2567941347276757,
          -0.2567941347276757,
          -0.2567941347276757,
          -0.2567941347276757,
          -0.2567941347276757,
          -0.2567941347276757,
          -0.2567941347276757,
          -0.2567941347276757,
          -0.2567941347276757,
          -0.2567941347276757,
          -0.2567941347276757,
          -0.2567941347276757,
          -0.2567941347276757,
          -0.2567941347276757,
          -0.2567941347276757,
          -0.2567941347276757,
          -0.2567941347276757,
          -0.2567941347276757,
          -0.2567941347276757,
          -0.2567941347276757,
          -0.2567941347276757,
          -0.2567941347276757,
          -0.2567941347276757,
          -0.2567941347276757,
          -0.2567941347276757,
          -0.2567941347276757,
          -0.2567941347276757,
          -0.2567941347276757,
          -0.2567941347276757,
          -0.2567941347276757,
          -0.2567941347276757,
          -0.2567941347276757,
          -0.2567941347276757,
          -0.2567941347276757,
          -0.2567941347276757,
          -0.2567941347276757,
          -0.2567941347276757,
          -0.2567941347276757,
          -0.2567941347276757,
          -0.2567941347276757,
          -0.2567941347276757,
          -0.2567941347276757,
          -0.2567941347276757,
          -0.2567941347276757,
          -0.2567941347276757,
          -0.2567941347276757,
          -0.2567941347276757,
          -0.2567941347276757,
          -0.2567941347276757,
          -0.25679413472767576,
          -0.25679413472767576,
          -0.25679413472767576,
          -0.25679413472767576,
          -0.25679413472767576,
          -0.25679413472767576,
          -0.25679413472767576,
          -0.25679413472767576,
          -0.25679413472767576,
          -0.25679413472767576,
          -0.25679413472767576,
          -0.25679413472767576,
          -0.25679413472767576,
          -0.25679413472767576,
          -0.25679413472767576,
          -0.25679413472767576,
          -0.25679413472767576,
          -0.25679413472767576,
          -0.25679413472767576,
          -0.25679413472767576,
          -0.25679413472767576,
          -0.25679413472767576,
          -0.25679413472767576,
          -0.25679413472767576,
          -0.25679413472767576,
          -0.25679413472767576,
          -0.25679413472767576,
          -0.25679413472767576,
          -0.25679413472767576,
          -0.25679413472767576,
          -0.25679413472767576,
          -0.25679413472767576,
          -0.25679413472767576,
          -0.25679413472767576,
          -0.25679413472767576,
          -0.25679413472767576,
          -0.25679413472767576,
          -0.25679413472767576,
          -0.25679413472767576,
          -0.25679413472767576,
          -0.25679413472767576,
          -0.25679413472767576,
          -0.25679413472767576,
          -0.25679413472767576,
          -0.25679413472767576,
          -0.25679413472767576,
          -0.25679413472767576,
          -0.25679413472767576,
          -0.25679413472767576,
          -0.25679413472767576,
          -0.25679413472767576,
          -0.25679413472767576,
          -0.25679413472767576,
          -0.25679413472767576,
          -0.25679413472767576,
          -0.25679413472767576,
          -0.25679413472767576,
          -0.25679413472767576,
          -0.25679413472767576,
          -0.25679413472767576,
          -0.25679413472767576,
          -0.25679413472767576,
          -0.25679413472767576,
          -0.25679413472767576,
          -0.25679413472767576,
          -0.25679413472767576,
          -0.25679413472767576,
          -0.25679413472767576,
          -0.25679413472767576,
          -0.25679413472767576,
          -0.25679413472767576,
          -0.25679413472767576,
          -0.25679413472767576,
          -0.25679413472767576,
          -0.25679413472767576,
          -0.25679413472767576,
          -0.25679413472767576,
          -0.25679413472767576,
          -0.25679413472767576,
          -0.25679413472767576,
          -0.25679413472767576,
          -0.25679413472767576,
          -0.25679413472767576,
          -0.25679413472767576,
          -0.25679413472767576,
          -0.25679413472767576,
          -0.25679413472767576,
          -0.25679413472767576,
          -0.25679413472767576,
          -0.25679413472767576,
          -0.25679413472767576,
          -0.25679413472767576,
          -0.25679413472767576,
          -0.25679413472767576,
          -0.25679413472767576,
          -0.25679413472767576,
          -0.25679413472767576,
          -0.25679413472767576,
          -0.25679413472767576,
          -0.25679413472767576,
          -0.25679413472767576,
          -0.25679413472767576,
          -0.25679413472767576,
          -0.25679413472767576,
          -0.25679413472767576,
          -0.25679413472767576,
          -0.25679413472767576,
          -0.25679413472767576,
          -0.25679413472767576,
          -0.25679413472767576,
          -0.25679413472767576,
          -0.25679413472767576,
          -0.25679413472767576,
          -0.25679413472767576,
          -0.25679413472767576,
          -0.25679413472767576,
          -0.25679413472767576,
          -0.25679413472767576,
          -0.25679413472767576,
          -0.25679413472767576,
          -0.25679413472767576,
          -0.25679413472767576,
          -0.25679413472767576,
          -0.25679413472767576,
          -0.25679413472767576,
          -0.25679413472767576,
          -0.25679413472767576,
          -0.25679413472767576,
          -0.25679413472767576,
          -0.25679413472767576
         ],
         "yaxis": "y"
        }
       ],
       "layout": {
        "height": 600,
        "legend": {
         "tracegroupgap": 0
        },
        "margin": {
         "t": 60
        },
        "template": {
         "data": {
          "bar": [
           {
            "error_x": {
             "color": "#2a3f5f"
            },
            "error_y": {
             "color": "#2a3f5f"
            },
            "marker": {
             "line": {
              "color": "#E5ECF6",
              "width": 0.5
             }
            },
            "type": "bar"
           }
          ],
          "barpolar": [
           {
            "marker": {
             "line": {
              "color": "#E5ECF6",
              "width": 0.5
             }
            },
            "type": "barpolar"
           }
          ],
          "carpet": [
           {
            "aaxis": {
             "endlinecolor": "#2a3f5f",
             "gridcolor": "white",
             "linecolor": "white",
             "minorgridcolor": "white",
             "startlinecolor": "#2a3f5f"
            },
            "baxis": {
             "endlinecolor": "#2a3f5f",
             "gridcolor": "white",
             "linecolor": "white",
             "minorgridcolor": "white",
             "startlinecolor": "#2a3f5f"
            },
            "type": "carpet"
           }
          ],
          "choropleth": [
           {
            "colorbar": {
             "outlinewidth": 0,
             "ticks": ""
            },
            "type": "choropleth"
           }
          ],
          "contour": [
           {
            "colorbar": {
             "outlinewidth": 0,
             "ticks": ""
            },
            "colorscale": [
             [
              0,
              "#0d0887"
             ],
             [
              0.1111111111111111,
              "#46039f"
             ],
             [
              0.2222222222222222,
              "#7201a8"
             ],
             [
              0.3333333333333333,
              "#9c179e"
             ],
             [
              0.4444444444444444,
              "#bd3786"
             ],
             [
              0.5555555555555556,
              "#d8576b"
             ],
             [
              0.6666666666666666,
              "#ed7953"
             ],
             [
              0.7777777777777778,
              "#fb9f3a"
             ],
             [
              0.8888888888888888,
              "#fdca26"
             ],
             [
              1,
              "#f0f921"
             ]
            ],
            "type": "contour"
           }
          ],
          "contourcarpet": [
           {
            "colorbar": {
             "outlinewidth": 0,
             "ticks": ""
            },
            "type": "contourcarpet"
           }
          ],
          "heatmap": [
           {
            "colorbar": {
             "outlinewidth": 0,
             "ticks": ""
            },
            "colorscale": [
             [
              0,
              "#0d0887"
             ],
             [
              0.1111111111111111,
              "#46039f"
             ],
             [
              0.2222222222222222,
              "#7201a8"
             ],
             [
              0.3333333333333333,
              "#9c179e"
             ],
             [
              0.4444444444444444,
              "#bd3786"
             ],
             [
              0.5555555555555556,
              "#d8576b"
             ],
             [
              0.6666666666666666,
              "#ed7953"
             ],
             [
              0.7777777777777778,
              "#fb9f3a"
             ],
             [
              0.8888888888888888,
              "#fdca26"
             ],
             [
              1,
              "#f0f921"
             ]
            ],
            "type": "heatmap"
           }
          ],
          "heatmapgl": [
           {
            "colorbar": {
             "outlinewidth": 0,
             "ticks": ""
            },
            "colorscale": [
             [
              0,
              "#0d0887"
             ],
             [
              0.1111111111111111,
              "#46039f"
             ],
             [
              0.2222222222222222,
              "#7201a8"
             ],
             [
              0.3333333333333333,
              "#9c179e"
             ],
             [
              0.4444444444444444,
              "#bd3786"
             ],
             [
              0.5555555555555556,
              "#d8576b"
             ],
             [
              0.6666666666666666,
              "#ed7953"
             ],
             [
              0.7777777777777778,
              "#fb9f3a"
             ],
             [
              0.8888888888888888,
              "#fdca26"
             ],
             [
              1,
              "#f0f921"
             ]
            ],
            "type": "heatmapgl"
           }
          ],
          "histogram": [
           {
            "marker": {
             "colorbar": {
              "outlinewidth": 0,
              "ticks": ""
             }
            },
            "type": "histogram"
           }
          ],
          "histogram2d": [
           {
            "colorbar": {
             "outlinewidth": 0,
             "ticks": ""
            },
            "colorscale": [
             [
              0,
              "#0d0887"
             ],
             [
              0.1111111111111111,
              "#46039f"
             ],
             [
              0.2222222222222222,
              "#7201a8"
             ],
             [
              0.3333333333333333,
              "#9c179e"
             ],
             [
              0.4444444444444444,
              "#bd3786"
             ],
             [
              0.5555555555555556,
              "#d8576b"
             ],
             [
              0.6666666666666666,
              "#ed7953"
             ],
             [
              0.7777777777777778,
              "#fb9f3a"
             ],
             [
              0.8888888888888888,
              "#fdca26"
             ],
             [
              1,
              "#f0f921"
             ]
            ],
            "type": "histogram2d"
           }
          ],
          "histogram2dcontour": [
           {
            "colorbar": {
             "outlinewidth": 0,
             "ticks": ""
            },
            "colorscale": [
             [
              0,
              "#0d0887"
             ],
             [
              0.1111111111111111,
              "#46039f"
             ],
             [
              0.2222222222222222,
              "#7201a8"
             ],
             [
              0.3333333333333333,
              "#9c179e"
             ],
             [
              0.4444444444444444,
              "#bd3786"
             ],
             [
              0.5555555555555556,
              "#d8576b"
             ],
             [
              0.6666666666666666,
              "#ed7953"
             ],
             [
              0.7777777777777778,
              "#fb9f3a"
             ],
             [
              0.8888888888888888,
              "#fdca26"
             ],
             [
              1,
              "#f0f921"
             ]
            ],
            "type": "histogram2dcontour"
           }
          ],
          "mesh3d": [
           {
            "colorbar": {
             "outlinewidth": 0,
             "ticks": ""
            },
            "type": "mesh3d"
           }
          ],
          "parcoords": [
           {
            "line": {
             "colorbar": {
              "outlinewidth": 0,
              "ticks": ""
             }
            },
            "type": "parcoords"
           }
          ],
          "scatter": [
           {
            "marker": {
             "colorbar": {
              "outlinewidth": 0,
              "ticks": ""
             }
            },
            "type": "scatter"
           }
          ],
          "scatter3d": [
           {
            "line": {
             "colorbar": {
              "outlinewidth": 0,
              "ticks": ""
             }
            },
            "marker": {
             "colorbar": {
              "outlinewidth": 0,
              "ticks": ""
             }
            },
            "type": "scatter3d"
           }
          ],
          "scattercarpet": [
           {
            "marker": {
             "colorbar": {
              "outlinewidth": 0,
              "ticks": ""
             }
            },
            "type": "scattercarpet"
           }
          ],
          "scattergeo": [
           {
            "marker": {
             "colorbar": {
              "outlinewidth": 0,
              "ticks": ""
             }
            },
            "type": "scattergeo"
           }
          ],
          "scattergl": [
           {
            "marker": {
             "colorbar": {
              "outlinewidth": 0,
              "ticks": ""
             }
            },
            "type": "scattergl"
           }
          ],
          "scattermapbox": [
           {
            "marker": {
             "colorbar": {
              "outlinewidth": 0,
              "ticks": ""
             }
            },
            "type": "scattermapbox"
           }
          ],
          "scatterpolar": [
           {
            "marker": {
             "colorbar": {
              "outlinewidth": 0,
              "ticks": ""
             }
            },
            "type": "scatterpolar"
           }
          ],
          "scatterpolargl": [
           {
            "marker": {
             "colorbar": {
              "outlinewidth": 0,
              "ticks": ""
             }
            },
            "type": "scatterpolargl"
           }
          ],
          "scatterternary": [
           {
            "marker": {
             "colorbar": {
              "outlinewidth": 0,
              "ticks": ""
             }
            },
            "type": "scatterternary"
           }
          ],
          "surface": [
           {
            "colorbar": {
             "outlinewidth": 0,
             "ticks": ""
            },
            "colorscale": [
             [
              0,
              "#0d0887"
             ],
             [
              0.1111111111111111,
              "#46039f"
             ],
             [
              0.2222222222222222,
              "#7201a8"
             ],
             [
              0.3333333333333333,
              "#9c179e"
             ],
             [
              0.4444444444444444,
              "#bd3786"
             ],
             [
              0.5555555555555556,
              "#d8576b"
             ],
             [
              0.6666666666666666,
              "#ed7953"
             ],
             [
              0.7777777777777778,
              "#fb9f3a"
             ],
             [
              0.8888888888888888,
              "#fdca26"
             ],
             [
              1,
              "#f0f921"
             ]
            ],
            "type": "surface"
           }
          ],
          "table": [
           {
            "cells": {
             "fill": {
              "color": "#EBF0F8"
             },
             "line": {
              "color": "white"
             }
            },
            "header": {
             "fill": {
              "color": "#C8D4E3"
             },
             "line": {
              "color": "white"
             }
            },
            "type": "table"
           }
          ]
         },
         "layout": {
          "annotationdefaults": {
           "arrowcolor": "#2a3f5f",
           "arrowhead": 0,
           "arrowwidth": 1
          },
          "colorscale": {
           "diverging": [
            [
             0,
             "#8e0152"
            ],
            [
             0.1,
             "#c51b7d"
            ],
            [
             0.2,
             "#de77ae"
            ],
            [
             0.3,
             "#f1b6da"
            ],
            [
             0.4,
             "#fde0ef"
            ],
            [
             0.5,
             "#f7f7f7"
            ],
            [
             0.6,
             "#e6f5d0"
            ],
            [
             0.7,
             "#b8e186"
            ],
            [
             0.8,
             "#7fbc41"
            ],
            [
             0.9,
             "#4d9221"
            ],
            [
             1,
             "#276419"
            ]
           ],
           "sequential": [
            [
             0,
             "#0d0887"
            ],
            [
             0.1111111111111111,
             "#46039f"
            ],
            [
             0.2222222222222222,
             "#7201a8"
            ],
            [
             0.3333333333333333,
             "#9c179e"
            ],
            [
             0.4444444444444444,
             "#bd3786"
            ],
            [
             0.5555555555555556,
             "#d8576b"
            ],
            [
             0.6666666666666666,
             "#ed7953"
            ],
            [
             0.7777777777777778,
             "#fb9f3a"
            ],
            [
             0.8888888888888888,
             "#fdca26"
            ],
            [
             1,
             "#f0f921"
            ]
           ],
           "sequentialminus": [
            [
             0,
             "#0d0887"
            ],
            [
             0.1111111111111111,
             "#46039f"
            ],
            [
             0.2222222222222222,
             "#7201a8"
            ],
            [
             0.3333333333333333,
             "#9c179e"
            ],
            [
             0.4444444444444444,
             "#bd3786"
            ],
            [
             0.5555555555555556,
             "#d8576b"
            ],
            [
             0.6666666666666666,
             "#ed7953"
            ],
            [
             0.7777777777777778,
             "#fb9f3a"
            ],
            [
             0.8888888888888888,
             "#fdca26"
            ],
            [
             1,
             "#f0f921"
            ]
           ]
          },
          "colorway": [
           "#636efa",
           "#EF553B",
           "#00cc96",
           "#ab63fa",
           "#FFA15A",
           "#19d3f3",
           "#FF6692",
           "#B6E880",
           "#FF97FF",
           "#FECB52"
          ],
          "font": {
           "color": "#2a3f5f"
          },
          "geo": {
           "bgcolor": "white",
           "lakecolor": "white",
           "landcolor": "#E5ECF6",
           "showlakes": true,
           "showland": true,
           "subunitcolor": "white"
          },
          "hoverlabel": {
           "align": "left"
          },
          "hovermode": "closest",
          "mapbox": {
           "style": "light"
          },
          "paper_bgcolor": "white",
          "plot_bgcolor": "#E5ECF6",
          "polar": {
           "angularaxis": {
            "gridcolor": "white",
            "linecolor": "white",
            "ticks": ""
           },
           "bgcolor": "#E5ECF6",
           "radialaxis": {
            "gridcolor": "white",
            "linecolor": "white",
            "ticks": ""
           }
          },
          "scene": {
           "xaxis": {
            "backgroundcolor": "#E5ECF6",
            "gridcolor": "white",
            "gridwidth": 2,
            "linecolor": "white",
            "showbackground": true,
            "ticks": "",
            "zerolinecolor": "white"
           },
           "yaxis": {
            "backgroundcolor": "#E5ECF6",
            "gridcolor": "white",
            "gridwidth": 2,
            "linecolor": "white",
            "showbackground": true,
            "ticks": "",
            "zerolinecolor": "white"
           },
           "zaxis": {
            "backgroundcolor": "#E5ECF6",
            "gridcolor": "white",
            "gridwidth": 2,
            "linecolor": "white",
            "showbackground": true,
            "ticks": "",
            "zerolinecolor": "white"
           }
          },
          "shapedefaults": {
           "line": {
            "color": "#2a3f5f"
           }
          },
          "ternary": {
           "aaxis": {
            "gridcolor": "white",
            "linecolor": "white",
            "ticks": ""
           },
           "baxis": {
            "gridcolor": "white",
            "linecolor": "white",
            "ticks": ""
           },
           "bgcolor": "#E5ECF6",
           "caxis": {
            "gridcolor": "white",
            "linecolor": "white",
            "ticks": ""
           }
          },
          "title": {
           "x": 0.05
          },
          "xaxis": {
           "automargin": true,
           "gridcolor": "white",
           "linecolor": "white",
           "ticks": "",
           "zerolinecolor": "white",
           "zerolinewidth": 2
          },
          "yaxis": {
           "automargin": true,
           "gridcolor": "white",
           "linecolor": "white",
           "ticks": "",
           "zerolinecolor": "white",
           "zerolinewidth": 2
          }
         }
        },
        "xaxis": {
         "anchor": "y",
         "domain": [
          0,
          0.98
         ],
         "title": {
          "text": "epoch"
         }
        },
        "yaxis": {
         "anchor": "x",
         "domain": [
          0,
          1
         ],
         "title": {
          "text": "min"
         }
        }
       }
      },
      "text/html": [
       "<div>\n",
       "        \n",
       "        \n",
       "            <div id=\"72c412e5-77ad-4a68-b20e-713d09a753cc\" class=\"plotly-graph-div\" style=\"height:600px; width:100%;\"></div>\n",
       "            <script type=\"text/javascript\">\n",
       "                require([\"plotly\"], function(Plotly) {\n",
       "                    window.PLOTLYENV=window.PLOTLYENV || {};\n",
       "                    \n",
       "                if (document.getElementById(\"72c412e5-77ad-4a68-b20e-713d09a753cc\")) {\n",
       "                    Plotly.newPlot(\n",
       "                        '72c412e5-77ad-4a68-b20e-713d09a753cc',\n",
       "                        [{\"hoverlabel\": {\"namelength\": 0}, \"hovertemplate\": \"category=weights_0<br>epoch=%{x}<br>min=%{y}\", \"legendgroup\": \"category=weights_0\", \"line\": {\"color\": \"#636efa\", \"dash\": \"solid\"}, \"mode\": \"lines\", \"name\": \"category=weights_0\", \"showlegend\": true, \"type\": \"scatter\", \"x\": [1, 2, 3, 4, 5, 6, 7, 8, 9, 10, 11, 12, 13, 14, 15, 16, 17, 18, 19, 20, 21, 22, 23, 24, 25, 26, 27, 28, 29, 30, 31, 32, 33, 34, 35, 36, 37, 38, 39, 40, 41, 42, 43, 44, 45, 46, 47, 48, 49, 50, 51, 52, 53, 54, 55, 56, 57, 58, 59, 60, 61, 62, 63, 64, 65, 66, 67, 68, 69, 70, 71, 72, 73, 74, 75, 76, 77, 78, 79, 80, 81, 82, 83, 84, 85, 86, 87, 88, 89, 90, 91, 92, 93, 94, 95, 96, 97, 98, 99, 100, 101, 102, 103, 104, 105, 106, 107, 108, 109, 110, 111, 112, 113, 114, 115, 116, 117, 118, 119, 120, 121, 122, 123, 124, 125, 126, 127, 128, 129, 130, 131, 132, 133, 134, 135, 136, 137, 138, 139, 140, 141, 142, 143, 144, 145, 146, 147, 148, 149, 150, 151, 152, 153, 154, 155, 156, 157, 158, 159, 160, 161, 162, 163, 164, 165, 166, 167, 168, 169, 170, 171, 172, 173, 174, 175, 176, 177, 178, 179, 180, 181, 182, 183, 184, 185, 186, 187, 188, 189, 190, 191, 192, 193, 194, 195, 196, 197, 198, 199, 200], \"xaxis\": \"x\", \"y\": [-2.4180515517251906, -2.611366348148506, -3.1058199897117023, -3.191942074936718, -3.2411211307394954, -3.2823500641395853, -3.2807173995407872, -3.2807173995407872, -3.3861265541958456, -3.3861265541958456, -3.3861265541958456, -3.4045578446759355, -3.4045578446759355, -3.5323185826441716, -3.5323185826441716, -3.5323185826441716, -3.5323185826441716, -3.5423611724496187, -3.5323185826441716, -3.5900696911808265, -3.5323185826441716, -3.5323185826441716, -3.5323185826441716, -3.5323185826441716, -3.5323185826441716, -3.3869915748852826, -3.5900696911808265, -3.5323185826441716, -3.5973100377076146, -3.5900696911808265, -3.5973100377076146, -3.5900696911808265, -3.5900696911808265, -3.946880887065514, -3.4889408390683707, -3.530862299373349, -3.530862299373349, -3.530862299373349, -3.530862299373349, -3.524147150171181, -3.5298110330300876, -3.447737716457915, -3.447737716457915, -3.5298110330300876, -3.447737716457915, -3.4722064483615824, -3.4722064483615824, -3.8192686734676844, -3.8192686734676844, -3.8192686734676844, -3.8192686734676844, -3.8192686734676844, -3.8192686734676844, -4.262530666484121, -3.9044140037413477, -3.952815664209118, -3.952815664209118, -3.952815664209118, -3.952815664209118, -3.952815664209118, -3.952815664209118, -3.952815664209118, -3.952815664209118, -3.952815664209118, -3.952815664209118, -4.06953006479279, -3.952815664209118, -3.952815664209118, -3.952815664209118, -3.952815664209118, -3.993824233013526, -4.263980793679208, -3.952815664209118, -3.952815664209118, -3.952815664209118, -3.952815664209118, -3.952815664209118, -4.05827956694897, -3.952815664209118, -3.8584202981431717, -3.952815664209118, -3.8584202981431717, -3.8981176772765105, -3.8981176772765105, -3.8981176772765105, -3.92904377674494, -3.952815664209118, -3.952815664209118, -3.952815664209118, -3.952815664209118, -3.952815664209118, -3.952815664209118, -3.778242789167102, -3.778242789167102, -3.952815664209118, -3.952815664209118, -3.952815664209118, -4.064167926733337, -4.873976115134729, -4.254474377686591, -4.873976115134729, -4.873976115134729, -4.873976115134729, -4.873976115134729, -4.873976115134729, -4.855396800088457, -4.873976115134729, -4.855396800088457, -4.855396800088457, -4.842528330878529, -4.842528330878529, -4.842528330878529, -4.883163147915832, -4.796548774528004, -4.796548774528004, -4.844085676972732, -4.844085676972732, -4.844085676972732, -4.844085676972732, -4.844085676972732, -4.844085676972732, -4.844085676972732, -4.844085676972732, -4.844085676972732, -4.844085676972732, -5.012483037150185, -5.012483037150185, -5.012483037150185, -5.012483037150185, -5.012483037150185, -5.012483037150185, -5.012483037150185, -5.029107079326395, -5.012483037150185, -5.012483037150185, -5.122865995958808, -5.029107079326395, -5.012483037150185, -5.012483037150185, -5.122865995958808, -5.340799853689592, -5.89495934522429, -5.89495934522429, -5.89495934522429, -5.781609417447154, -5.781609417447154, -5.925593167131078, -5.778626161434554, -5.7248757005949695, -5.835577352424708, -5.871435367215518, -5.871435367215518, -5.871435367215518, -5.871435367215518, -5.7913523417146555, -5.90223652877818, -5.871435367215518, -5.871435367215518, -5.871435367215518, -5.912304479217146, -5.912304479217146, -5.871435367215518, -5.871435367215518, -5.871435367215518, -5.871435367215518, -6.2054607177574495, -6.2054607177574495, -6.14680069188239, -6.14680069188239, -6.178286573644573, -6.14680069188239, -6.128140769713549, -5.631194185706407, -5.631194185706407, -5.631194185706407, -5.663156436618852, -5.663156436618852, -5.663156436618852, -5.663156436618852, -5.663156436618852, -5.663156436618852, -5.623054669356268, -5.728935323786738, -5.728935323786738, -6.004506190023268, -6.004506190023268, -6.004506190023268, -6.004506190023268, -6.004506190023268, -6.004506190023268, -6.004506190023268, -5.974931673011228, -6.004506190023268, -5.974931673011228, -6.004506190023268, -5.974931673011228, -6.21369724900613, -6.204019206986068, -6.19737551169847, -6.2872668834518795], \"yaxis\": \"y\"}, {\"hoverlabel\": {\"namelength\": 0}, \"hovertemplate\": \"category=weights_1<br>epoch=%{x}<br>min=%{y}\", \"legendgroup\": \"category=weights_1\", \"line\": {\"color\": \"#EF553B\", \"dash\": \"solid\"}, \"mode\": \"lines\", \"name\": \"category=weights_1\", \"showlegend\": true, \"type\": \"scatter\", \"x\": [1, 2, 3, 4, 5, 6, 7, 8, 9, 10, 11, 12, 13, 14, 15, 16, 17, 18, 19, 20, 21, 22, 23, 24, 25, 26, 27, 28, 29, 30, 31, 32, 33, 34, 35, 36, 37, 38, 39, 40, 41, 42, 43, 44, 45, 46, 47, 48, 49, 50, 51, 52, 53, 54, 55, 56, 57, 58, 59, 60, 61, 62, 63, 64, 65, 66, 67, 68, 69, 70, 71, 72, 73, 74, 75, 76, 77, 78, 79, 80, 81, 82, 83, 84, 85, 86, 87, 88, 89, 90, 91, 92, 93, 94, 95, 96, 97, 98, 99, 100, 101, 102, 103, 104, 105, 106, 107, 108, 109, 110, 111, 112, 113, 114, 115, 116, 117, 118, 119, 120, 121, 122, 123, 124, 125, 126, 127, 128, 129, 130, 131, 132, 133, 134, 135, 136, 137, 138, 139, 140, 141, 142, 143, 144, 145, 146, 147, 148, 149, 150, 151, 152, 153, 154, 155, 156, 157, 158, 159, 160, 161, 162, 163, 164, 165, 166, 167, 168, 169, 170, 171, 172, 173, 174, 175, 176, 177, 178, 179, 180, 181, 182, 183, 184, 185, 186, 187, 188, 189, 190, 191, 192, 193, 194, 195, 196, 197, 198, 199, 200], \"xaxis\": \"x\", \"y\": [-1.367847494397787, -1.854897915386823, -1.2391135981370418, -0.9339135156242802, -1.4332929397882825, -1.0537333822085613, -1.2764971796744045, -1.2764971796744045, -1.2764971796744045, -1.2764971796744045, -1.2764971796744045, -1.5832152992686457, -1.5832152992686457, -1.5832152992686457, -1.5832152992686457, -1.5832152992686457, -1.5832152992686457, -1.5832152992686457, -1.6849928256500397, -1.6849928256500397, -1.4609320908464107, -1.4609320908464107, -1.4609320908464107, -1.4609320908464107, -1.4609320908464107, -1.674002660416442, -1.661995540439697, -1.4609320908464107, -1.4609320908464107, -1.6849928256500397, -1.4609320908464107, -1.6849928256500397, -1.6849928256500397, -1.6849928256500397, -1.6634540811899154, -1.6673275104399135, -1.6673275104399135, -1.6673275104399135, -1.6673275104399135, -1.6673275104399135, -1.668524178814997, -1.668524178814997, -1.668524178814997, -1.668524178814997, -1.668524178814997, -1.668524178814997, -1.668524178814997, -1.668524178814997, -1.6297152607003507, -1.6297152607003507, -1.668524178814997, -1.668524178814997, -1.668524178814997, -1.668524178814997, -1.5760191804869499, -1.477936388272008, -1.9594976075572315, -1.9594976075572315, -1.994087756247858, -1.994087756247858, -1.994087756247858, -1.994087756247858, -1.994087756247858, -1.9041400395768613, -1.9041400395768613, -1.9041400395768613, -1.9041400395768613, -1.9041400395768613, -1.9041400395768613, -1.9041400395768613, -2.0832018486390433, -2.0832018486390433, -1.9041400395768613, -1.9041400395768613, -1.9041400395768613, -1.9041400395768613, -1.9041400395768613, -1.9763869127748444, -1.9041400395768613, -1.9041400395768613, -1.980978589770758, -1.7997892107795819, -1.9041400395768613, -1.9041400395768613, -1.9041400395768613, -1.9041400395768613, -1.980978589770758, -1.980978589770758, -1.8186890750734293, -1.8186890750734293, -1.6128540888233118, -1.8651574213269349, -1.980978589770758, -1.980978589770758, -1.8651574213269349, -1.8651574213269349, -1.969480307874678, -1.8651574213269349, -1.8186890750734293, -2.6661714126863734, -1.961399379902685, -1.961399379902685, -1.961399379902685, -1.961399379902685, -1.961399379902685, -1.961399379902685, -1.961399379902685, -1.961399379902685, -1.961399379902685, -1.961399379902685, -2.6637563895399294, -2.6637563895399294, -2.698065702932947, -2.698065702932947, -2.698065702932947, -2.6637563895399294, -2.6637563895399294, -2.6637563895399294, -2.6637563895399294, -2.823632639478362, -2.735203525727296, -2.735203525727296, -3.0927109595761575, -3.0927109595761575, -3.0927109595761575, -3.0927109595761575, -3.0927109595761575, -3.0927109595761575, -3.0927109595761575, -3.0927109595761575, -3.0927109595761575, -3.0927109595761575, -3.0927109595761575, -3.0560231864626357, -3.0560231864626357, -3.0927109595761575, -3.0927109595761575, -3.0047672052798347, -3.0047672052798347, -3.0927109595761575, -3.4432956074662693, -3.1309754607906726, -3.1309754607906726, -3.1309754607906726, -3.1309754607906726, -3.1309754607906726, -3.211743638821655, -3.1309754607906726, -3.1309754607906726, -3.133999641082336, -3.2468119202157992, -3.2468119202157992, -3.2468119202157992, -3.2468119202157992, -3.2789572917059253, -3.2789572917059253, -3.2468119202157992, -3.2468119202157992, -3.2468119202157992, -3.2468119202157992, -3.2468119202157992, -3.190734238510906, -3.190734238510906, -3.190734238510906, -3.3632759514444017, -2.874156897310622, -2.874156897310622, -2.884037168933961, -2.884037168933961, -2.884037168933961, -2.884037168933961, -2.884037168933961, -2.884037168933961, -2.884037168933961, -2.884037168933961, -2.980364218715393, -2.980364218715393, -2.980364218715393, -2.980364218715393, -2.980364218715393, -2.980364218715393, -3.08611154116933, -2.9394166518272775, -2.859288592773297, -2.859288592773297, -2.859288592773297, -2.844707627404586, -2.859288592773297, -2.844707627404586, -2.8079702898996315, -2.844707627404586, -2.822325655327223, -3.0436692575701176, -2.822325655327223, -3.0436692575701176, -2.8279242577299253, -3.2002299521286277, -3.2002299521286277, -3.2002299521286277, -3.3137073325894493], \"yaxis\": \"y\"}, {\"hoverlabel\": {\"namelength\": 0}, \"hovertemplate\": \"category=weights_2<br>epoch=%{x}<br>min=%{y}\", \"legendgroup\": \"category=weights_2\", \"line\": {\"color\": \"#00cc96\", \"dash\": \"solid\"}, \"mode\": \"lines\", \"name\": \"category=weights_2\", \"showlegend\": true, \"type\": \"scatter\", \"x\": [1, 2, 3, 4, 5, 6, 7, 8, 9, 10, 11, 12, 13, 14, 15, 16, 17, 18, 19, 20, 21, 22, 23, 24, 25, 26, 27, 28, 29, 30, 31, 32, 33, 34, 35, 36, 37, 38, 39, 40, 41, 42, 43, 44, 45, 46, 47, 48, 49, 50, 51, 52, 53, 54, 55, 56, 57, 58, 59, 60, 61, 62, 63, 64, 65, 66, 67, 68, 69, 70, 71, 72, 73, 74, 75, 76, 77, 78, 79, 80, 81, 82, 83, 84, 85, 86, 87, 88, 89, 90, 91, 92, 93, 94, 95, 96, 97, 98, 99, 100, 101, 102, 103, 104, 105, 106, 107, 108, 109, 110, 111, 112, 113, 114, 115, 116, 117, 118, 119, 120, 121, 122, 123, 124, 125, 126, 127, 128, 129, 130, 131, 132, 133, 134, 135, 136, 137, 138, 139, 140, 141, 142, 143, 144, 145, 146, 147, 148, 149, 150, 151, 152, 153, 154, 155, 156, 157, 158, 159, 160, 161, 162, 163, 164, 165, 166, 167, 168, 169, 170, 171, 172, 173, 174, 175, 176, 177, 178, 179, 180, 181, 182, 183, 184, 185, 186, 187, 188, 189, 190, 191, 192, 193, 194, 195, 196, 197, 198, 199, 200], \"xaxis\": \"x\", \"y\": [-1.501937212185903, -2.1474667776238, -1.7077593170411423, -2.1456474500183353, -1.7481136793860776, -2.1456474500183353, -1.7318401579910787, -1.6013672654278392, -1.656804016931226, -1.656804016931226, -1.656804016931226, -1.6628545768594696, -1.6628545768594696, -1.6300227367334292, -1.6300227367334292, -1.6023353512620735, -1.6584211317420912, -1.6023353512620735, -1.6300227367334292, -1.6300227367334292, -1.6023353512620735, -1.6023353512620735, -1.6023353512620735, -1.6023353512620735, -1.6023353512620735, -1.5666677270803748, -1.683517245289711, -1.578767900270643, -1.6863249307666441, -1.6716976314863055, -1.6863249307666441, -3.2281679442231286, -3.2281679442231286, -3.085572264410114, -3.8741682979104892, -3.5792982459370752, -3.5792982459370752, -3.5792982459370752, -3.5792982459370752, -3.5792982459370752, -3.5799396620279693, -3.5799396620279693, -3.5799396620279693, -3.5799396620279693, -3.5799396620279693, -3.5799396620279693, -3.5799396620279693, -3.5799396620279693, -3.5799396620279693, -3.5799396620279693, -3.5799396620279693, -3.5799396620279693, -3.5799396620279693, -3.2029431656223917, -3.998163293096125, -3.998163293096125, -4.196731130190818, -4.196731130190818, -4.196731130190818, -4.196731130190818, -4.196731130190818, -4.196731130190818, -4.196731130190818, -4.196731130190818, -4.196731130190818, -4.196731130190818, -4.196731130190818, -4.196731130190818, -4.196731130190818, -4.59703082972181, -4.761067968936538, -4.761067968936538, -4.761067968936538, -4.761067968936538, -4.761067968936538, -4.761067968936538, -4.761067968936538, -4.761067968936538, -4.761067968936538, -4.761067968936538, -4.761067968936538, -4.761067968936538, -4.761067968936538, -4.761067968936538, -4.761067968936538, -4.761067968936538, -4.761067968936538, -4.761067968936538, -4.761067968936538, -4.761067968936538, -4.761067968936538, -4.879080028699516, -4.677345670301334, -4.677345670301334, -4.879080028699516, -4.879080028699516, -4.879080028699516, -4.879080028699516, -4.879080028699516, -4.879080028699516, -4.585243036309408, -4.585243036309408, -4.585243036309408, -4.585243036309408, -4.585243036309408, -4.585243036309408, -4.585243036309408, -4.612717661950814, -4.585243036309408, -4.585243036309408, -4.420162256746081, -4.420162256746081, -4.471585150002157, -4.420162256746081, -4.420162256746081, -4.281748163329927, -4.281748163329927, -4.281748163329927, -4.281748163329927, -4.281748163329927, -4.281748163329927, -4.281748163329927, -4.36815566144819, -4.36815566144819, -4.36815566144819, -4.36815566144819, -4.36815566144819, -4.36815566144819, -4.294081310603121, -4.294081310603121, -4.347497737220431, -4.605072718652872, -4.294081310603121, -4.605072718652872, -4.605072718652872, -4.294081310603121, -4.294081310603121, -4.723204459285929, -4.723204459285929, -4.294081310603121, -4.723204459285929, -4.723204459285929, -4.73428254948007, -4.885381029743828, -4.723204459285929, -4.723204459285929, -4.723204459285929, -4.723204459285929, -4.723204459285929, -4.723125479602881, -4.6217426994856545, -4.6217426994856545, -4.6217426994856545, -4.6217426994856545, -4.535891388447107, -4.535891388447107, -4.6217426994856545, -4.6217426994856545, -4.6217426994856545, -4.6217426994856545, -4.6217426994856545, -4.615168579464234, -4.615168579464234, -4.615168579464234, -4.615168579464234, -4.890860203582381, -4.958776909941815, -4.678430631198548, -4.678430631198548, -4.678430631198548, -4.690563622731677, -4.690563622731677, -4.690563622731677, -4.690563622731677, -4.690563622731677, -4.593198338406985, -4.593198338406985, -4.593198338406985, -4.764967124349224, -4.9793431167707825, -4.535554667265827, -4.764967124349224, -4.764967124349224, -4.764967124349224, -4.764967124349224, -4.764967124349224, -4.764967124349224, -4.764967124349224, -4.764967124349224, -4.764967124349224, -4.764967124349224, -4.657170320065294, -4.764967124349224, -4.657170320065294, -4.764967124349224, -4.657170320065294, -5.099001721716339, -5.099001721716339, -5.099001721716339, -5.099001721716339], \"yaxis\": \"y\"}, {\"hoverlabel\": {\"namelength\": 0}, \"hovertemplate\": \"category=weights_3<br>epoch=%{x}<br>min=%{y}\", \"legendgroup\": \"category=weights_3\", \"line\": {\"color\": \"#ab63fa\", \"dash\": \"solid\"}, \"mode\": \"lines\", \"name\": \"category=weights_3\", \"showlegend\": true, \"type\": \"scatter\", \"x\": [1, 2, 3, 4, 5, 6, 7, 8, 9, 10, 11, 12, 13, 14, 15, 16, 17, 18, 19, 20, 21, 22, 23, 24, 25, 26, 27, 28, 29, 30, 31, 32, 33, 34, 35, 36, 37, 38, 39, 40, 41, 42, 43, 44, 45, 46, 47, 48, 49, 50, 51, 52, 53, 54, 55, 56, 57, 58, 59, 60, 61, 62, 63, 64, 65, 66, 67, 68, 69, 70, 71, 72, 73, 74, 75, 76, 77, 78, 79, 80, 81, 82, 83, 84, 85, 86, 87, 88, 89, 90, 91, 92, 93, 94, 95, 96, 97, 98, 99, 100, 101, 102, 103, 104, 105, 106, 107, 108, 109, 110, 111, 112, 113, 114, 115, 116, 117, 118, 119, 120, 121, 122, 123, 124, 125, 126, 127, 128, 129, 130, 131, 132, 133, 134, 135, 136, 137, 138, 139, 140, 141, 142, 143, 144, 145, 146, 147, 148, 149, 150, 151, 152, 153, 154, 155, 156, 157, 158, 159, 160, 161, 162, 163, 164, 165, 166, 167, 168, 169, 170, 171, 172, 173, 174, 175, 176, 177, 178, 179, 180, 181, 182, 183, 184, 185, 186, 187, 188, 189, 190, 191, 192, 193, 194, 195, 196, 197, 198, 199, 200], \"xaxis\": \"x\", \"y\": [-0.12852681772153746, 0.6133047471048445, -0.25677995591326735, -0.1007413050255564, -0.25677995591326735, -0.1007413050255564, -0.25677995591326735, -0.25677995591326735, -0.25677995591326735, -0.25677995591326735, -0.25677995591326735, -0.2567941347276757, -0.2567941347276757, -0.2567941347276757, -0.2567941347276757, -0.2567941347276757, -0.2567941347276757, -0.2567941347276757, -0.2567941347276757, -0.2567941347276757, -0.2567941347276757, -0.2567941347276757, -0.2567941347276757, -0.2567941347276757, -0.2567941347276757, -0.2567941347276757, -0.2567941347276757, -0.2567941347276757, -0.2567941347276757, -0.2567941347276757, -0.2567941347276757, -0.2567941347276757, -0.2567941347276757, -0.2567941347276757, -0.2567941347276757, -0.2567941347276757, -0.2567941347276757, -0.2567941347276757, -0.2567941347276757, -0.2567941347276757, -0.2567941347276757, -0.2567941347276757, -0.2567941347276757, -0.2567941347276757, -0.2567941347276757, -0.2567941347276757, -0.2567941347276757, -0.2567941347276757, -0.2567941347276757, -0.2567941347276757, -0.2567941347276757, -0.2567941347276757, -0.2567941347276757, -0.2567941347276757, -0.2567941347276757, -0.2567941347276757, -0.2567941347276757, -0.2567941347276757, -0.2567941347276757, -0.2567941347276757, -0.2567941347276757, -0.2567941347276757, -0.2567941347276757, -0.2567941347276757, -0.2567941347276757, -0.2567941347276757, -0.2567941347276757, -0.2567941347276757, -0.2567941347276757, -0.2567941347276757, -0.25679413472767576, -0.25679413472767576, -0.25679413472767576, -0.25679413472767576, -0.25679413472767576, -0.25679413472767576, -0.25679413472767576, -0.25679413472767576, -0.25679413472767576, -0.25679413472767576, -0.25679413472767576, -0.25679413472767576, -0.25679413472767576, -0.25679413472767576, -0.25679413472767576, -0.25679413472767576, -0.25679413472767576, -0.25679413472767576, -0.25679413472767576, -0.25679413472767576, -0.25679413472767576, -0.25679413472767576, -0.25679413472767576, -0.25679413472767576, -0.25679413472767576, -0.25679413472767576, -0.25679413472767576, -0.25679413472767576, -0.25679413472767576, -0.25679413472767576, -0.25679413472767576, -0.25679413472767576, -0.25679413472767576, -0.25679413472767576, -0.25679413472767576, -0.25679413472767576, -0.25679413472767576, -0.25679413472767576, -0.25679413472767576, -0.25679413472767576, -0.25679413472767576, -0.25679413472767576, -0.25679413472767576, -0.25679413472767576, -0.25679413472767576, -0.25679413472767576, -0.25679413472767576, -0.25679413472767576, -0.25679413472767576, -0.25679413472767576, -0.25679413472767576, -0.25679413472767576, -0.25679413472767576, -0.25679413472767576, -0.25679413472767576, -0.25679413472767576, -0.25679413472767576, -0.25679413472767576, -0.25679413472767576, -0.25679413472767576, -0.25679413472767576, -0.25679413472767576, -0.25679413472767576, -0.25679413472767576, -0.25679413472767576, -0.25679413472767576, -0.25679413472767576, -0.25679413472767576, -0.25679413472767576, -0.25679413472767576, -0.25679413472767576, -0.25679413472767576, -0.25679413472767576, -0.25679413472767576, -0.25679413472767576, -0.25679413472767576, -0.25679413472767576, -0.25679413472767576, -0.25679413472767576, -0.25679413472767576, -0.25679413472767576, -0.25679413472767576, -0.25679413472767576, -0.25679413472767576, -0.25679413472767576, -0.25679413472767576, -0.25679413472767576, -0.25679413472767576, -0.25679413472767576, -0.25679413472767576, -0.25679413472767576, -0.25679413472767576, -0.25679413472767576, -0.25679413472767576, -0.25679413472767576, -0.25679413472767576, -0.25679413472767576, -0.25679413472767576, -0.25679413472767576, -0.25679413472767576, -0.25679413472767576, -0.25679413472767576, -0.25679413472767576, -0.25679413472767576, -0.25679413472767576, -0.25679413472767576, -0.25679413472767576, -0.25679413472767576, -0.25679413472767576, -0.25679413472767576, -0.25679413472767576, -0.25679413472767576, -0.25679413472767576, -0.25679413472767576, -0.25679413472767576, -0.25679413472767576, -0.25679413472767576, -0.25679413472767576, -0.25679413472767576, -0.25679413472767576, -0.25679413472767576, -0.25679413472767576, -0.25679413472767576, -0.25679413472767576, -0.25679413472767576, -0.25679413472767576, -0.25679413472767576, -0.25679413472767576, -0.25679413472767576, -0.25679413472767576], \"yaxis\": \"y\"}],\n",
       "                        {\"height\": 600, \"legend\": {\"tracegroupgap\": 0}, \"margin\": {\"t\": 60}, \"template\": {\"data\": {\"bar\": [{\"error_x\": {\"color\": \"#2a3f5f\"}, \"error_y\": {\"color\": \"#2a3f5f\"}, \"marker\": {\"line\": {\"color\": \"#E5ECF6\", \"width\": 0.5}}, \"type\": \"bar\"}], \"barpolar\": [{\"marker\": {\"line\": {\"color\": \"#E5ECF6\", \"width\": 0.5}}, \"type\": \"barpolar\"}], \"carpet\": [{\"aaxis\": {\"endlinecolor\": \"#2a3f5f\", \"gridcolor\": \"white\", \"linecolor\": \"white\", \"minorgridcolor\": \"white\", \"startlinecolor\": \"#2a3f5f\"}, \"baxis\": {\"endlinecolor\": \"#2a3f5f\", \"gridcolor\": \"white\", \"linecolor\": \"white\", \"minorgridcolor\": \"white\", \"startlinecolor\": \"#2a3f5f\"}, \"type\": \"carpet\"}], \"choropleth\": [{\"colorbar\": {\"outlinewidth\": 0, \"ticks\": \"\"}, \"type\": \"choropleth\"}], \"contour\": [{\"colorbar\": {\"outlinewidth\": 0, \"ticks\": \"\"}, \"colorscale\": [[0.0, \"#0d0887\"], [0.1111111111111111, \"#46039f\"], [0.2222222222222222, \"#7201a8\"], [0.3333333333333333, \"#9c179e\"], [0.4444444444444444, \"#bd3786\"], [0.5555555555555556, \"#d8576b\"], [0.6666666666666666, \"#ed7953\"], [0.7777777777777778, \"#fb9f3a\"], [0.8888888888888888, \"#fdca26\"], [1.0, \"#f0f921\"]], \"type\": \"contour\"}], \"contourcarpet\": [{\"colorbar\": {\"outlinewidth\": 0, \"ticks\": \"\"}, \"type\": \"contourcarpet\"}], \"heatmap\": [{\"colorbar\": {\"outlinewidth\": 0, \"ticks\": \"\"}, \"colorscale\": [[0.0, \"#0d0887\"], [0.1111111111111111, \"#46039f\"], [0.2222222222222222, \"#7201a8\"], [0.3333333333333333, \"#9c179e\"], [0.4444444444444444, \"#bd3786\"], [0.5555555555555556, \"#d8576b\"], [0.6666666666666666, \"#ed7953\"], [0.7777777777777778, \"#fb9f3a\"], [0.8888888888888888, \"#fdca26\"], [1.0, \"#f0f921\"]], \"type\": \"heatmap\"}], \"heatmapgl\": [{\"colorbar\": {\"outlinewidth\": 0, \"ticks\": \"\"}, \"colorscale\": [[0.0, \"#0d0887\"], [0.1111111111111111, \"#46039f\"], [0.2222222222222222, \"#7201a8\"], [0.3333333333333333, \"#9c179e\"], [0.4444444444444444, \"#bd3786\"], [0.5555555555555556, \"#d8576b\"], [0.6666666666666666, \"#ed7953\"], [0.7777777777777778, \"#fb9f3a\"], [0.8888888888888888, \"#fdca26\"], [1.0, \"#f0f921\"]], \"type\": \"heatmapgl\"}], \"histogram\": [{\"marker\": {\"colorbar\": {\"outlinewidth\": 0, \"ticks\": \"\"}}, \"type\": \"histogram\"}], \"histogram2d\": [{\"colorbar\": {\"outlinewidth\": 0, \"ticks\": \"\"}, \"colorscale\": [[0.0, \"#0d0887\"], [0.1111111111111111, \"#46039f\"], [0.2222222222222222, \"#7201a8\"], [0.3333333333333333, \"#9c179e\"], [0.4444444444444444, \"#bd3786\"], [0.5555555555555556, \"#d8576b\"], [0.6666666666666666, \"#ed7953\"], [0.7777777777777778, \"#fb9f3a\"], [0.8888888888888888, \"#fdca26\"], [1.0, \"#f0f921\"]], \"type\": \"histogram2d\"}], \"histogram2dcontour\": [{\"colorbar\": {\"outlinewidth\": 0, \"ticks\": \"\"}, \"colorscale\": [[0.0, \"#0d0887\"], [0.1111111111111111, \"#46039f\"], [0.2222222222222222, \"#7201a8\"], [0.3333333333333333, \"#9c179e\"], [0.4444444444444444, \"#bd3786\"], [0.5555555555555556, \"#d8576b\"], [0.6666666666666666, \"#ed7953\"], [0.7777777777777778, \"#fb9f3a\"], [0.8888888888888888, \"#fdca26\"], [1.0, \"#f0f921\"]], \"type\": \"histogram2dcontour\"}], \"mesh3d\": [{\"colorbar\": {\"outlinewidth\": 0, \"ticks\": \"\"}, \"type\": \"mesh3d\"}], \"parcoords\": [{\"line\": {\"colorbar\": {\"outlinewidth\": 0, \"ticks\": \"\"}}, \"type\": \"parcoords\"}], \"scatter\": [{\"marker\": {\"colorbar\": {\"outlinewidth\": 0, \"ticks\": \"\"}}, \"type\": \"scatter\"}], \"scatter3d\": [{\"line\": {\"colorbar\": {\"outlinewidth\": 0, \"ticks\": \"\"}}, \"marker\": {\"colorbar\": {\"outlinewidth\": 0, \"ticks\": \"\"}}, \"type\": \"scatter3d\"}], \"scattercarpet\": [{\"marker\": {\"colorbar\": {\"outlinewidth\": 0, \"ticks\": \"\"}}, \"type\": \"scattercarpet\"}], \"scattergeo\": [{\"marker\": {\"colorbar\": {\"outlinewidth\": 0, \"ticks\": \"\"}}, \"type\": \"scattergeo\"}], \"scattergl\": [{\"marker\": {\"colorbar\": {\"outlinewidth\": 0, \"ticks\": \"\"}}, \"type\": \"scattergl\"}], \"scattermapbox\": [{\"marker\": {\"colorbar\": {\"outlinewidth\": 0, \"ticks\": \"\"}}, \"type\": \"scattermapbox\"}], \"scatterpolar\": [{\"marker\": {\"colorbar\": {\"outlinewidth\": 0, \"ticks\": \"\"}}, \"type\": \"scatterpolar\"}], \"scatterpolargl\": [{\"marker\": {\"colorbar\": {\"outlinewidth\": 0, \"ticks\": \"\"}}, \"type\": \"scatterpolargl\"}], \"scatterternary\": [{\"marker\": {\"colorbar\": {\"outlinewidth\": 0, \"ticks\": \"\"}}, \"type\": \"scatterternary\"}], \"surface\": [{\"colorbar\": {\"outlinewidth\": 0, \"ticks\": \"\"}, \"colorscale\": [[0.0, \"#0d0887\"], [0.1111111111111111, \"#46039f\"], [0.2222222222222222, \"#7201a8\"], [0.3333333333333333, \"#9c179e\"], [0.4444444444444444, \"#bd3786\"], [0.5555555555555556, \"#d8576b\"], [0.6666666666666666, \"#ed7953\"], [0.7777777777777778, \"#fb9f3a\"], [0.8888888888888888, \"#fdca26\"], [1.0, \"#f0f921\"]], \"type\": \"surface\"}], \"table\": [{\"cells\": {\"fill\": {\"color\": \"#EBF0F8\"}, \"line\": {\"color\": \"white\"}}, \"header\": {\"fill\": {\"color\": \"#C8D4E3\"}, \"line\": {\"color\": \"white\"}}, \"type\": \"table\"}]}, \"layout\": {\"annotationdefaults\": {\"arrowcolor\": \"#2a3f5f\", \"arrowhead\": 0, \"arrowwidth\": 1}, \"colorscale\": {\"diverging\": [[0, \"#8e0152\"], [0.1, \"#c51b7d\"], [0.2, \"#de77ae\"], [0.3, \"#f1b6da\"], [0.4, \"#fde0ef\"], [0.5, \"#f7f7f7\"], [0.6, \"#e6f5d0\"], [0.7, \"#b8e186\"], [0.8, \"#7fbc41\"], [0.9, \"#4d9221\"], [1, \"#276419\"]], \"sequential\": [[0.0, \"#0d0887\"], [0.1111111111111111, \"#46039f\"], [0.2222222222222222, \"#7201a8\"], [0.3333333333333333, \"#9c179e\"], [0.4444444444444444, \"#bd3786\"], [0.5555555555555556, \"#d8576b\"], [0.6666666666666666, \"#ed7953\"], [0.7777777777777778, \"#fb9f3a\"], [0.8888888888888888, \"#fdca26\"], [1.0, \"#f0f921\"]], \"sequentialminus\": [[0.0, \"#0d0887\"], [0.1111111111111111, \"#46039f\"], [0.2222222222222222, \"#7201a8\"], [0.3333333333333333, \"#9c179e\"], [0.4444444444444444, \"#bd3786\"], [0.5555555555555556, \"#d8576b\"], [0.6666666666666666, \"#ed7953\"], [0.7777777777777778, \"#fb9f3a\"], [0.8888888888888888, \"#fdca26\"], [1.0, \"#f0f921\"]]}, \"colorway\": [\"#636efa\", \"#EF553B\", \"#00cc96\", \"#ab63fa\", \"#FFA15A\", \"#19d3f3\", \"#FF6692\", \"#B6E880\", \"#FF97FF\", \"#FECB52\"], \"font\": {\"color\": \"#2a3f5f\"}, \"geo\": {\"bgcolor\": \"white\", \"lakecolor\": \"white\", \"landcolor\": \"#E5ECF6\", \"showlakes\": true, \"showland\": true, \"subunitcolor\": \"white\"}, \"hoverlabel\": {\"align\": \"left\"}, \"hovermode\": \"closest\", \"mapbox\": {\"style\": \"light\"}, \"paper_bgcolor\": \"white\", \"plot_bgcolor\": \"#E5ECF6\", \"polar\": {\"angularaxis\": {\"gridcolor\": \"white\", \"linecolor\": \"white\", \"ticks\": \"\"}, \"bgcolor\": \"#E5ECF6\", \"radialaxis\": {\"gridcolor\": \"white\", \"linecolor\": \"white\", \"ticks\": \"\"}}, \"scene\": {\"xaxis\": {\"backgroundcolor\": \"#E5ECF6\", \"gridcolor\": \"white\", \"gridwidth\": 2, \"linecolor\": \"white\", \"showbackground\": true, \"ticks\": \"\", \"zerolinecolor\": \"white\"}, \"yaxis\": {\"backgroundcolor\": \"#E5ECF6\", \"gridcolor\": \"white\", \"gridwidth\": 2, \"linecolor\": \"white\", \"showbackground\": true, \"ticks\": \"\", \"zerolinecolor\": \"white\"}, \"zaxis\": {\"backgroundcolor\": \"#E5ECF6\", \"gridcolor\": \"white\", \"gridwidth\": 2, \"linecolor\": \"white\", \"showbackground\": true, \"ticks\": \"\", \"zerolinecolor\": \"white\"}}, \"shapedefaults\": {\"line\": {\"color\": \"#2a3f5f\"}}, \"ternary\": {\"aaxis\": {\"gridcolor\": \"white\", \"linecolor\": \"white\", \"ticks\": \"\"}, \"baxis\": {\"gridcolor\": \"white\", \"linecolor\": \"white\", \"ticks\": \"\"}, \"bgcolor\": \"#E5ECF6\", \"caxis\": {\"gridcolor\": \"white\", \"linecolor\": \"white\", \"ticks\": \"\"}}, \"title\": {\"x\": 0.05}, \"xaxis\": {\"automargin\": true, \"gridcolor\": \"white\", \"linecolor\": \"white\", \"ticks\": \"\", \"zerolinecolor\": \"white\", \"zerolinewidth\": 2}, \"yaxis\": {\"automargin\": true, \"gridcolor\": \"white\", \"linecolor\": \"white\", \"ticks\": \"\", \"zerolinecolor\": \"white\", \"zerolinewidth\": 2}}}, \"xaxis\": {\"anchor\": \"y\", \"domain\": [0.0, 0.98], \"title\": {\"text\": \"epoch\"}}, \"yaxis\": {\"anchor\": \"x\", \"domain\": [0.0, 1.0], \"title\": {\"text\": \"min\"}}},\n",
       "                        {\"responsive\": true}\n",
       "                    ).then(function(){\n",
       "                            \n",
       "var gd = document.getElementById('72c412e5-77ad-4a68-b20e-713d09a753cc');\n",
       "var x = new MutationObserver(function (mutations, observer) {{\n",
       "        var display = window.getComputedStyle(gd).display;\n",
       "        if (!display || display === 'none') {{\n",
       "            console.log([gd, 'removed!']);\n",
       "            Plotly.purge(gd);\n",
       "            observer.disconnect();\n",
       "        }}\n",
       "}});\n",
       "\n",
       "// Listen for the removal of the full notebook cells\n",
       "var notebookContainer = gd.closest('#notebook-container');\n",
       "if (notebookContainer) {{\n",
       "    x.observe(notebookContainer, {childList: true});\n",
       "}}\n",
       "\n",
       "// Listen for the clearing of the current output cell\n",
       "var outputEl = gd.closest('.output');\n",
       "if (outputEl) {{\n",
       "    x.observe(outputEl, {childList: true});\n",
       "}}\n",
       "\n",
       "                        })\n",
       "                };\n",
       "                });\n",
       "            </script>\n",
       "        </div>"
      ]
     },
     "metadata": {},
     "output_type": "display_data"
    }
   ],
   "source": [
    "figs[3]"
   ]
  },
  {
   "cell_type": "markdown",
   "metadata": {},
   "source": [
    "# Monkeywars"
   ]
  },
  {
   "cell_type": "code",
   "execution_count": null,
   "metadata": {},
   "outputs": [],
   "source": [
    "import numpy as np\n",
    "from evoframe.games import Game\n",
    "\n",
    "class Tris(Game):\n",
    "    \"\"\"Player1 starts. Rewards of both players are returned.\"\"\"\n",
    "    PLAYER_1 = 1\n",
    "    PLAYER_2 = -1\n",
    "    EMPTY = 0\n",
    "    DRAW = 0\n",
    "    CONTINUE = 2\n",
    "    PLAYERS = [PLAYER_1, PLAYER_2]\n",
    "\n",
    "    def __init__(self):\n",
    "        self.board = np.array([np.array([self.EMPTY for i in range(3)]) for j in range(3)])\n",
    "\n",
    "    def check_win(self):\n",
    "        # check rows\n",
    "        board = self.board\n",
    "        for row in board:\n",
    "            for player in self.PLAYERS:\n",
    "                if np.all(np.equal(row, np.full(3, player))):\n",
    "                    return player\n",
    "\n",
    "        # check cols\n",
    "        board = self.board.transpose()\n",
    "        for row in board:\n",
    "            for player in self.PLAYERS:\n",
    "                if np.all(np.equal(row, np.full(3, player))):\n",
    "                    return player\n",
    "\n",
    "        # check diagonals\n",
    "        diags = []\n",
    "        diags.append(np.array([board[i][i] for i in range(3)]))\n",
    "        diags.append(np.array([board[i][3 - i - 1] for i in range(3)]))\n",
    "        for row in diags:\n",
    "            for player in self.PLAYERS:\n",
    "                if np.all(np.equal(row, np.full(3, player))):\n",
    "                    return player\n",
    "\n",
    "        # check draw\n",
    "        exist_empty = False\n",
    "        for row in self.board:\n",
    "            for cell in row:\n",
    "                if cell == self.EMPTY:\n",
    "                    exist_empty = True\n",
    "        if not exist_empty:\n",
    "            return self.DRAW\n",
    "\n",
    "        return self.CONTINUE\n",
    "\n",
    "    def extract_move(self, prediction):\n",
    "        highest_value = -100000\n",
    "        highest_value_index = -1\n",
    "        for i,pred in enumerate(prediction):\n",
    "            if self.board[i//3][i%3] == self.EMPTY and pred > highest_value:\n",
    "                highest_value = pred\n",
    "                highest_value_index = i\n",
    "        return highest_value_index\n",
    "\n",
    "    def do_move(self, move, player):\n",
    "        self.board[move//3][move%3] = player\n",
    "\n",
    "    def opposite_board(self):\n",
    "        return np.array([np.array([self.PLAYER_2 if self.board[row][col] == self.PLAYER_1\n",
    "                                   else self.PLAYER_1 if self.board[row][col] == self.PLAYER_2\n",
    "                                   else self.EMPTY for col in range(3)]) for row in range(3)])\n",
    "\n",
    "    def play(self, agent_1, agent_2, interactive=False):\n",
    "        player_turn = self.PLAYER_1\n",
    "\n",
    "        if interactive:\n",
    "            self.print_board()\n",
    "\n",
    "        result = self.check_win()\n",
    "        while result == self.CONTINUE:\n",
    "            if player_turn == self.PLAYER_1:\n",
    "                prediction = agent_1.predict(self.board)\n",
    "            else:\n",
    "                prediction = agent_2.predict(self.opposite_board())\n",
    "\n",
    "            move = self.extract_move(prediction)\n",
    "            self.do_move(move, player_turn)\n",
    "\n",
    "            if interactive:\n",
    "                self.print_board()\n",
    "\n",
    "            if player_turn == self.PLAYER_1:\n",
    "                player_turn = self.PLAYER_2\n",
    "            else:\n",
    "                player_turn = self.PLAYER_1\n",
    "\n",
    "            result = self.check_win()\n",
    "\n",
    "        if interactive:\n",
    "                self.print_board()\n",
    "\n",
    "        opponent_result = self.PLAYER_2 if result == self.PLAYER_1 else self.PLAYER_1 if result == self.PLAYER_2 else self.DRAW\n",
    "        return result, opponent_result\n",
    "\n",
    "    def print_board(self):\n",
    "        for row in self.board:\n",
    "            for cell in row:\n",
    "                print(cell, end=\" \")\n",
    "            print(\"\")\n",
    "        print(\"-\"*30)\n"
   ]
  }
 ],
 "metadata": {
  "kernelspec": {
   "display_name": "Python 3",
   "language": "python",
   "name": "python3"
  },
  "language_info": {
   "codemirror_mode": {
    "name": "ipython",
    "version": 3
   },
   "file_extension": ".py",
   "mimetype": "text/x-python",
   "name": "python",
   "nbconvert_exporter": "python",
   "pygments_lexer": "ipython3",
   "version": "3.6.9"
  }
 },
 "nbformat": 4,
 "nbformat_minor": 2
}
