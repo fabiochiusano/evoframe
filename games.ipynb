{
 "cells": [
  {
   "cell_type": "code",
   "execution_count": null,
   "metadata": {
    "scrolled": true
   },
   "outputs": [],
   "source": [
    "from evostra.algorithms import ESCompetitiveMutationAverage\n",
    "from evostra.algorithms import ESCompetitiveMutationBest, ESCompetitiveMutationCrossover"
   ]
  },
  {
   "cell_type": "code",
   "execution_count": null,
   "metadata": {},
   "outputs": [],
   "source": [
    "observations = 9\n",
    "possible_moves = 9\n",
    "\n",
    "layer_sizes = [observations, 15, possible_moves]"
   ]
  },
  {
   "cell_type": "code",
   "execution_count": null,
   "metadata": {},
   "outputs": [],
   "source": [
    "class Agent:\n",
    "    def __init__(self):\n",
    "        pass\n",
    "    \n",
    "    def predict(self, board):\n",
    "        raise NotImplementedError\n",
    "    \n",
    "class AgentModel(Agent):\n",
    "    def __init__(self, model):\n",
    "        self.model = model\n",
    "    \n",
    "    def predict(self, board):\n",
    "        prediction = self.model.predict(board.flatten())\n",
    "        return prediction\n",
    "    \n",
    "class AgentHuman(Agent):\n",
    "    def __init__(self):\n",
    "        pass\n",
    "    \n",
    "    def predict(self, board):\n",
    "        move = int(input(\"Select move: \"))\n",
    "        prediction = [1 if i == move else 0 for i in range(9)]\n",
    "        return prediction\n",
    "    \n",
    "class AgentRandom(Agent):\n",
    "    def __init__(self):\n",
    "        pass\n",
    "    \n",
    "    def predict(self, board):\n",
    "        prediction = np.random.randn(9)\n",
    "        return prediction"
   ]
  },
  {
   "cell_type": "code",
   "execution_count": null,
   "metadata": {},
   "outputs": [],
   "source": [
    "def get_reward(*env):\n",
    "    global layer_sizes\n",
    "    w1, prev_bests = env[0], env[1]\n",
    "    m1 = FeedForwardNetwork(layer_sizes=layer_sizes)\n",
    "    m1.set_weights(w1)\n",
    "    reward = 0\n",
    "    m2 = FeedForwardNetwork(layer_sizes=layer_sizes)\n",
    "    for prev_best in prev_bests:\n",
    "        game = Tris()\n",
    "        m2.set_weights(prev_best)\n",
    "        reward += game.play_game(AgentModel(m1), AgentModel(m2))\n",
    "    return reward"
   ]
  },
  {
   "cell_type": "code",
   "execution_count": null,
   "metadata": {},
   "outputs": [],
   "source": [
    "PLAYER_1 = 1\n",
    "PLAYER_2 = -1\n",
    "DRAW = 0\n",
    "EMPTY = 0\n",
    "CONTINUE = 2\n",
    "players = {\"player_1\": PLAYER_1, \"player_2\": PLAYER_2}\n",
    "\n",
    "class Tris(object):\n",
    "    def __init__(self):\n",
    "        self.board = np.array([np.array([EMPTY for i in range(3)]) for j in range(3)])\n",
    "        \n",
    "    def check_win(self):\n",
    "        # check rows\n",
    "        board = self.board\n",
    "        for row in board:\n",
    "            for _,player in players.items():\n",
    "                if np.all(np.equal(row, np.full(3, player))):\n",
    "                    return player\n",
    "        \n",
    "        # check cols\n",
    "        board = self.board.transpose()\n",
    "        for row in board:\n",
    "            for _,player in players.items():\n",
    "                if np.all(np.equal(row, np.full(3, player))):\n",
    "                    return player\n",
    "                \n",
    "        # check diagonals\n",
    "        diags = []\n",
    "        diags.append(np.array([board[i][i] for i in range(3)]))\n",
    "        diags.append(np.array([board[i][3 - i - 1] for i in range(3)]))\n",
    "        for row in diags:\n",
    "            for _,player in players.items():\n",
    "                if np.all(np.equal(row, np.full(3, player))):\n",
    "                    return player\n",
    "        \n",
    "        # check draw\n",
    "        exist_empty = False\n",
    "        for row in self.board:\n",
    "            for cell in row:\n",
    "                if cell == EMPTY:\n",
    "                    exist_empty = True\n",
    "        if not exist_empty:\n",
    "            return DRAW\n",
    "        \n",
    "        return CONTINUE\n",
    "    \n",
    "    def extract_move(self, prediction):\n",
    "        highest_value = -10\n",
    "        highest_value_index = -1\n",
    "        for i,pred in enumerate(prediction):\n",
    "            if self.board[i//3][i%3] == EMPTY and pred > highest_value:\n",
    "                highest_value = pred\n",
    "                highest_value_index = i\n",
    "        return highest_value_index\n",
    "    \n",
    "    def do_move(self, move, player):\n",
    "        self.board[move//3][move%3] = player\n",
    "        \n",
    "    def opposite_board(self):\n",
    "        return np.array([np.array([PLAYER_2 if self.board[row][col] == PLAYER_1\n",
    "                                   else PLAYER_1 if self.board[row][col] == PLAYER_2\n",
    "                                   else EMPTY for col in range(3)]) for row in range(3)])\n",
    "    \n",
    "    def play_game(self, agent_1, agent_2, interactive=False):\n",
    "        player_turn = np.random.choice([PLAYER_1, PLAYER_2])\n",
    "        \n",
    "        if interactive:\n",
    "                self.print_board() \n",
    "        \n",
    "        result = self.check_win()\n",
    "        while result == CONTINUE:\n",
    "            if player_turn == PLAYER_1:\n",
    "                prediction = agent_1.predict(self.board)\n",
    "            else:\n",
    "                prediction = agent_2.predict(self.opposite_board())\n",
    "              \n",
    "            move = self.extract_move(prediction)\n",
    "            self.do_move(move, player_turn)\n",
    "            \n",
    "            if interactive:\n",
    "                self.print_board()\n",
    "            \n",
    "            if player_turn == PLAYER_1:\n",
    "                player_turn = PLAYER_2\n",
    "            else:\n",
    "                player_turn = PLAYER_1\n",
    "                \n",
    "            result = self.check_win()\n",
    "            \n",
    "        if interactive:\n",
    "                self.print_board()    \n",
    "        \n",
    "        return result\n",
    "    \n",
    "    def print_board(self):\n",
    "        for row in self.board:\n",
    "            for cell in row:\n",
    "                print(cell, end=\" \")\n",
    "            print(\"\")\n",
    "        print(\"-\"*30)"
   ]
  },
  {
   "cell_type": "code",
   "execution_count": null,
   "metadata": {},
   "outputs": [],
   "source": [
    "model = FeedForwardNetwork(layer_sizes=layer_sizes)\n",
    "es = ESCompetitiveMutationBest(get_reward, weights=model.get_weights(), n_best=30,\n",
    "                       population_size=80, sigma=0.05, learning_rate=0.03, decay=0.995, num_threads=-1)"
   ]
  },
  {
   "cell_type": "code",
   "execution_count": null,
   "metadata": {
    "scrolled": true
   },
   "outputs": [],
   "source": [
    "es.run(iterations=300, print_step=1)"
   ]
  },
  {
   "cell_type": "code",
   "execution_count": null,
   "metadata": {},
   "outputs": [],
   "source": [
    "model = FeedForwardNetwork(layer_sizes=layer_sizes)\n",
    "es = ESCompetitiveMutationCrossover(get_reward, weights=model.get_weights(), n_best=30,\n",
    "                       population_size=80, sigma=0.05, num_threads=-1, percs=[0.7,0.2,0.1])"
   ]
  },
  {
   "cell_type": "code",
   "execution_count": null,
   "metadata": {
    "scrolled": true
   },
   "outputs": [],
   "source": [
    "es.run(iterations=300, print_step=1)"
   ]
  },
  {
   "cell_type": "code",
   "execution_count": null,
   "metadata": {
    "scrolled": true
   },
   "outputs": [],
   "source": [
    "game = Tris()\n",
    "optimized_weights = es.get_weights()\n",
    "model.set_weights(optimized_weights)\n",
    "game.play_game(AgentHuman(), AgentModel(model), interactive=True)"
   ]
  },
  {
   "cell_type": "markdown",
   "metadata": {},
   "source": [
    "# Prova da libreria"
   ]
  },
  {
   "cell_type": "code",
   "execution_count": 1,
   "metadata": {},
   "outputs": [],
   "source": [
    "from evoframe import get_agent_wrapper_func\n",
    "from evoframe.reward_builders import RewardBuilderGame\n",
    "from evoframe.population_update_builders import PopulationUpdateBuilderStatic\n",
    "from evoframe.selector_function import SelectorFunctionFactory\n",
    "from evoframe import PopulationManager\n",
    "from evoframe.models import FeedForwardNetwork\n",
    "from evoframe.models import ActivationFunctions\n",
    "from evoframe.games import GuessPoint\n",
    "from evoframe.games import Game\n",
    "\n",
    "from itertools import product\n",
    "import numpy as np"
   ]
  },
  {
   "cell_type": "markdown",
   "metadata": {},
   "source": [
    "# Guess the point"
   ]
  },
  {
   "cell_type": "code",
   "execution_count": 46,
   "metadata": {
    "scrolled": true
   },
   "outputs": [
    {
     "name": "stdout",
     "output_type": "stream",
     "text": [
      "-3.089572212614923\n",
      "-12.88356435674956\n",
      "-12.88356435674956\n",
      "-12.88356435674956\n",
      "-12.88356435674956\n",
      "-12.88356435674956\n",
      "-12.88356435674956\n",
      "-12.88356435674956\n",
      "-12.88356435674956\n",
      "-12.88356435674956\n"
     ]
    }
   ],
   "source": [
    "# Game\n",
    "game_creation_function = lambda: GuessPoint(np.array([0.2,0.8,0.5]), np.array([0.4, 0.5, 10]))\n",
    "\n",
    "# Model\n",
    "layer_sizes = [3, 5, 3]\n",
    "get_model_func = lambda: FeedForwardNetwork(layer_sizes, ActivationFunctions.get_arctan(), ActivationFunctions.get_id())\n",
    "\n",
    "# Game-Model interface\n",
    "predict_func = lambda model, inputs: model.predict(inputs)\n",
    "agent_wrapper_func = get_agent_wrapper_func(predict_func)\n",
    "\n",
    "# Reward function and update env function\n",
    "reward_function, update_env_f = RewardBuilderGame() \\\n",
    ".with_game_creation_function(game_creation_function) \\\n",
    ".with_agent_wrapper_func(agent_wrapper_func) \\\n",
    ".get()\n",
    "\n",
    "# Update population function\n",
    "mutation_perc = 0.6\n",
    "crossover_perc = 0.3\n",
    "copy_perc = 0.1\n",
    "get_new_pop_f = PopulationUpdateBuilderStatic() \\\n",
    ".add_operator(\"es_1_mutation\", mutation_perc, 0.3, 0.3) \\\n",
    ".add_operator(\"es_2_crossover\", crossover_perc, 0.8) \\\n",
    ".add_operator(\"es_1_copy\", copy_perc) \\\n",
    ".add_selector_f(SelectorFunctionFactory.get_geometric_selector_function(0.3)) \\\n",
    ".get()\n",
    "\n",
    "# Population manager\n",
    "pop_size = 500\n",
    "pm = PopulationManager(pop_size, get_model_func, reward_function, update_env_f, get_new_pop_f)\n",
    "\n",
    "# Run population manager\n",
    "num_epochs = 10\n",
    "last_pop = pm.run(num_epochs)"
   ]
  },
  {
   "cell_type": "markdown",
   "metadata": {},
   "source": [
    "# Guess the function"
   ]
  },
  {
   "cell_type": "code",
   "execution_count": null,
   "metadata": {},
   "outputs": [],
   "source": [
    "class GuessFunction(Game):\n",
    "    \"\"\"This game consists in learning a function from n dimensions to m dimensions, evaluating points\n",
    "        on a grid.\n",
    "\n",
    "        1 player game.\n",
    "\n",
    "        Agent interface:\n",
    "        - input: n-dimensional np.array filled with values\n",
    "        - output: m-dimensional np.array filled with values\n",
    "        \"\"\"\n",
    "    def __init__(self, func, input_dim, input_domains, sample_every):\n",
    "        self.func = func\n",
    "        self.input_dim = input_dim # input dimension\n",
    "        self.input_domains = input_domains # domain for each scalar in the input vector\n",
    "        self.sample_every = sample_every # sampling bin for each scalar in the input vector\n",
    "\n",
    "    def play(self, agent):\n",
    "        error = 0\n",
    "        ranges = []\n",
    "        for i in range(self.input_dim):\n",
    "            input_domain = self.input_domains[i]\n",
    "            sample_every = self.sample_every[i]\n",
    "            ranges.append(np.arange(input_domain[0], input_domain[1], sample_every))\n",
    "        for input_tuple in product(*ranges):\n",
    "            input_array = np.array(input_tuple)\n",
    "            predictions = agent.predict(input_array)\n",
    "            error += np.sum(np.square(self.func(input_array) - predictions))\n",
    "        reward = -error\n",
    "        return reward"
   ]
  },
  {
   "cell_type": "code",
   "execution_count": null,
   "metadata": {
    "scrolled": true
   },
   "outputs": [],
   "source": [
    "# Game\n",
    "game_func = lambda i: np.array([2*i[0]-3*i[1]+4, i[1]-8*i[2]-5])\n",
    "input_dim = 3\n",
    "input_domains = [(-1,1),(-1,1),(3,7)]\n",
    "sample_every = [0.1, 0.1, 0.3]\n",
    "game_creation_function = lambda: GuessFunction(game_func, input_dim, input_domains, sample_every)\n",
    "\n",
    "# Model\n",
    "layer_sizes = [3, 5, 2]\n",
    "get_model_func = lambda: FeedForwardNetwork(layer_sizes, ActivationFunctions.get_arctan(), ActivationFunctions.get_id())\n",
    "\n",
    "# Game-Model interface\n",
    "predict_func = lambda model, inputs: model.predict(inputs)\n",
    "agent_wrapper_func = get_agent_wrapper_func(predict_func)\n",
    "\n",
    "# Reward function and update env function\n",
    "reward_function, update_env_f = RewardBuilderGame() \\\n",
    ".with_game_creation_function(game_creation_function) \\\n",
    ".with_agent_wrapper_func(agent_wrapper_func) \\\n",
    ".get()\n",
    "\n",
    "# Update population function\n",
    "mutation_perc = 0.6\n",
    "crossover_perc = 0.3\n",
    "copy_perc = 0.1\n",
    "get_new_pop_f = PopulationUpdateBuilderStatic() \\\n",
    ".add_operator(\"es_1_mutation\", mutation_perc, 0.3, 0.5) \\\n",
    ".add_operator(\"es_2_crossover\", crossover_perc, 0.1) \\\n",
    ".add_operator(\"es_1_copy\", copy_perc) \\\n",
    ".add_selector_f(SelectorFunctionFactory.get_geometric_selector_function(0.3)) \\\n",
    ".get()\n",
    "\n",
    "# Population manager\n",
    "pop_size = 30\n",
    "pm = PopulationManager(pop_size, get_model_func, reward_function, update_env_f, get_new_pop_f)\n",
    "\n",
    "# Run population manager\n",
    "num_epochs = 100\n",
    "last_pop = pm.run(num_epochs)"
   ]
  },
  {
   "cell_type": "code",
   "execution_count": null,
   "metadata": {},
   "outputs": [],
   "source": [
    "test_array = np.array([0.5,0.5,5])\n",
    "last_pop[0].predict(test_array), game_func(test_array)"
   ]
  },
  {
   "cell_type": "markdown",
   "metadata": {},
   "source": [
    "# Play Tris"
   ]
  },
  {
   "cell_type": "code",
   "execution_count": 17,
   "metadata": {},
   "outputs": [],
   "source": [
    "PLAYER_1 = 1\n",
    "PLAYER_2 = -1\n",
    "DRAW = 0\n",
    "EMPTY = 0\n",
    "CONTINUE = 2\n",
    "players = {\"player_1\": PLAYER_1, \"player_2\": PLAYER_2}\n",
    "\n",
    "class Tris(Game):\n",
    "    def __init__(self):\n",
    "        self.board = np.array([np.array([EMPTY for i in range(3)]) for j in range(3)])\n",
    "        \n",
    "    def check_win(self):\n",
    "        # check rows\n",
    "        board = self.board\n",
    "        for row in board:\n",
    "            for _,player in players.items():\n",
    "                if np.all(np.equal(row, np.full(3, player))):\n",
    "                    return player\n",
    "        \n",
    "        # check cols\n",
    "        board = self.board.transpose()\n",
    "        for row in board:\n",
    "            for _,player in players.items():\n",
    "                if np.all(np.equal(row, np.full(3, player))):\n",
    "                    return player\n",
    "                \n",
    "        # check diagonals\n",
    "        diags = []\n",
    "        diags.append(np.array([board[i][i] for i in range(3)]))\n",
    "        diags.append(np.array([board[i][3 - i - 1] for i in range(3)]))\n",
    "        for row in diags:\n",
    "            for _,player in players.items():\n",
    "                if np.all(np.equal(row, np.full(3, player))):\n",
    "                    return player\n",
    "        \n",
    "        # check draw\n",
    "        exist_empty = False\n",
    "        for row in self.board:\n",
    "            for cell in row:\n",
    "                if cell == EMPTY:\n",
    "                    exist_empty = True\n",
    "        if not exist_empty:\n",
    "            return DRAW\n",
    "        \n",
    "        return CONTINUE\n",
    "    \n",
    "    def extract_move(self, prediction):\n",
    "        highest_value = -10\n",
    "        highest_value_index = -1\n",
    "        for i,pred in enumerate(prediction):\n",
    "            if self.board[i//3][i%3] == EMPTY and pred > highest_value:\n",
    "                highest_value = pred\n",
    "                highest_value_index = i\n",
    "        return highest_value_index\n",
    "    \n",
    "    def do_move(self, move, player):\n",
    "        self.board[move//3][move%3] = player\n",
    "        \n",
    "    def opposite_board(self):\n",
    "        return np.array([np.array([PLAYER_2 if self.board[row][col] == PLAYER_1\n",
    "                                   else PLAYER_1 if self.board[row][col] == PLAYER_2\n",
    "                                   else EMPTY for col in range(3)]) for row in range(3)])\n",
    "    \n",
    "    def play(self, agent_1, agent_2, interactive=False):\n",
    "        player_turn = np.random.choice([PLAYER_1, PLAYER_2])\n",
    "        \n",
    "        if interactive:\n",
    "                self.print_board() \n",
    "        \n",
    "        result = self.check_win()\n",
    "        while result == CONTINUE:\n",
    "            if player_turn == PLAYER_1:\n",
    "                prediction = agent_1.predict(self.board)\n",
    "            else:\n",
    "                prediction = agent_2.predict(self.opposite_board())\n",
    "              \n",
    "            move = self.extract_move(prediction)\n",
    "            self.do_move(move, player_turn)\n",
    "            \n",
    "            if interactive:\n",
    "                self.print_board()\n",
    "            \n",
    "            if player_turn == PLAYER_1:\n",
    "                player_turn = PLAYER_2\n",
    "            else:\n",
    "                player_turn = PLAYER_1\n",
    "                \n",
    "            result = self.check_win()\n",
    "            \n",
    "        if interactive:\n",
    "                self.print_board()    \n",
    "        \n",
    "        return result\n",
    "    \n",
    "    def print_board(self):\n",
    "        for row in self.board:\n",
    "            for cell in row:\n",
    "                print(cell, end=\" \")\n",
    "            print(\"\")\n",
    "        print(\"-\"*30)"
   ]
  },
  {
   "cell_type": "code",
   "execution_count": 30,
   "metadata": {
    "scrolled": true
   },
   "outputs": [
    {
     "name": "stdout",
     "output_type": "stream",
     "text": [
      "19\n",
      "18\n",
      "12\n",
      "16\n"
     ]
    },
    {
     "ename": "KeyboardInterrupt",
     "evalue": "",
     "output_type": "error",
     "traceback": [
      "\u001b[0;31m---------------------------------------------------------------------------\u001b[0m",
      "\u001b[0;31mKeyboardInterrupt\u001b[0m                         Traceback (most recent call last)",
      "\u001b[0;32m<ipython-input-30-0da2d193a7f9>\u001b[0m in \u001b[0;36m<module>\u001b[0;34m\u001b[0m\n\u001b[1;32m     34\u001b[0m \u001b[0;31m# Run population manager\u001b[0m\u001b[0;34m\u001b[0m\u001b[0;34m\u001b[0m\u001b[0;34m\u001b[0m\u001b[0m\n\u001b[1;32m     35\u001b[0m \u001b[0mnum_epochs\u001b[0m \u001b[0;34m=\u001b[0m \u001b[0;36m300\u001b[0m\u001b[0;34m\u001b[0m\u001b[0;34m\u001b[0m\u001b[0m\n\u001b[0;32m---> 36\u001b[0;31m \u001b[0mlast_pop\u001b[0m \u001b[0;34m=\u001b[0m \u001b[0mpm\u001b[0m\u001b[0;34m.\u001b[0m\u001b[0mrun\u001b[0m\u001b[0;34m(\u001b[0m\u001b[0mnum_epochs\u001b[0m\u001b[0;34m)\u001b[0m\u001b[0;34m\u001b[0m\u001b[0;34m\u001b[0m\u001b[0m\n\u001b[0m",
      "\u001b[0;32m~/Desktop/evolution/evoframe/population_manager.py\u001b[0m in \u001b[0;36mrun\u001b[0;34m(self, num_epochs)\u001b[0m\n\u001b[1;32m     39\u001b[0m         \u001b[0menv\u001b[0m \u001b[0;34m=\u001b[0m \u001b[0mself\u001b[0m\u001b[0;34m.\u001b[0m\u001b[0mupdate_env_f\u001b[0m\u001b[0;34m(\u001b[0m\u001b[0;34m{\u001b[0m\u001b[0;34m}\u001b[0m\u001b[0;34m,\u001b[0m \u001b[0mpop\u001b[0m\u001b[0;34m)\u001b[0m\u001b[0;34m\u001b[0m\u001b[0;34m\u001b[0m\u001b[0m\n\u001b[1;32m     40\u001b[0m         \u001b[0;32mfor\u001b[0m \u001b[0mnum_epoch\u001b[0m \u001b[0;32min\u001b[0m \u001b[0mrange\u001b[0m\u001b[0;34m(\u001b[0m\u001b[0mnum_epochs\u001b[0m\u001b[0;34m)\u001b[0m\u001b[0;34m:\u001b[0m\u001b[0;34m\u001b[0m\u001b[0;34m\u001b[0m\u001b[0m\n\u001b[0;32m---> 41\u001b[0;31m             \u001b[0mrewards\u001b[0m \u001b[0;34m=\u001b[0m \u001b[0mself\u001b[0m\u001b[0;34m.\u001b[0m\u001b[0mcompute_rewards\u001b[0m\u001b[0;34m(\u001b[0m\u001b[0mpool\u001b[0m\u001b[0;34m,\u001b[0m \u001b[0mpop\u001b[0m\u001b[0;34m,\u001b[0m \u001b[0menv\u001b[0m\u001b[0;34m)\u001b[0m\u001b[0;34m\u001b[0m\u001b[0;34m\u001b[0m\u001b[0m\n\u001b[0m\u001b[1;32m     42\u001b[0m             \u001b[0mpop\u001b[0m\u001b[0;34m,\u001b[0m \u001b[0mrewards\u001b[0m \u001b[0;34m=\u001b[0m \u001b[0mself\u001b[0m\u001b[0;34m.\u001b[0m\u001b[0mrank_pop\u001b[0m\u001b[0;34m(\u001b[0m\u001b[0mpop\u001b[0m\u001b[0;34m,\u001b[0m \u001b[0mrewards\u001b[0m\u001b[0;34m)\u001b[0m\u001b[0;34m\u001b[0m\u001b[0;34m\u001b[0m\u001b[0m\n\u001b[1;32m     43\u001b[0m             \u001b[0;32mif\u001b[0m \u001b[0mnum_epoch\u001b[0m \u001b[0;34m<\u001b[0m \u001b[0mnum_epochs\u001b[0m \u001b[0;34m-\u001b[0m \u001b[0;36m1\u001b[0m\u001b[0;34m:\u001b[0m\u001b[0;34m\u001b[0m\u001b[0;34m\u001b[0m\u001b[0m\n",
      "\u001b[0;32m~/Desktop/evolution/evoframe/population_manager.py\u001b[0m in \u001b[0;36mcompute_rewards\u001b[0;34m(self, pool, population, env)\u001b[0m\n\u001b[1;32m     30\u001b[0m             \u001b[0mrewards\u001b[0m \u001b[0;34m=\u001b[0m \u001b[0mpool\u001b[0m\u001b[0;34m.\u001b[0m\u001b[0mmap\u001b[0m\u001b[0;34m(\u001b[0m\u001b[0mworker_process\u001b[0m\u001b[0;34m,\u001b[0m \u001b[0mworker_args\u001b[0m\u001b[0;34m)\u001b[0m\u001b[0;34m\u001b[0m\u001b[0;34m\u001b[0m\u001b[0m\n\u001b[1;32m     31\u001b[0m         \u001b[0;32melse\u001b[0m\u001b[0;34m:\u001b[0m\u001b[0;34m\u001b[0m\u001b[0;34m\u001b[0m\u001b[0m\n\u001b[0;32m---> 32\u001b[0;31m             \u001b[0mrewards\u001b[0m \u001b[0;34m=\u001b[0m \u001b[0;34m[\u001b[0m\u001b[0mself\u001b[0m\u001b[0;34m.\u001b[0m\u001b[0mreward_f\u001b[0m\u001b[0;34m(\u001b[0m\u001b[0;34m*\u001b[0m\u001b[0;34m[\u001b[0m\u001b[0mp\u001b[0m\u001b[0;34m,\u001b[0m \u001b[0menv\u001b[0m\u001b[0;34m]\u001b[0m\u001b[0;34m)\u001b[0m \u001b[0;32mfor\u001b[0m \u001b[0mp\u001b[0m \u001b[0;32min\u001b[0m \u001b[0mpopulation\u001b[0m\u001b[0;34m]\u001b[0m\u001b[0;34m\u001b[0m\u001b[0;34m\u001b[0m\u001b[0m\n\u001b[0m\u001b[1;32m     33\u001b[0m         \u001b[0mrewards\u001b[0m \u001b[0;34m=\u001b[0m \u001b[0mnp\u001b[0m\u001b[0;34m.\u001b[0m\u001b[0marray\u001b[0m\u001b[0;34m(\u001b[0m\u001b[0mrewards\u001b[0m\u001b[0;34m)\u001b[0m\u001b[0;34m\u001b[0m\u001b[0;34m\u001b[0m\u001b[0m\n\u001b[1;32m     34\u001b[0m         \u001b[0;32mreturn\u001b[0m \u001b[0mrewards\u001b[0m\u001b[0;34m\u001b[0m\u001b[0;34m\u001b[0m\u001b[0m\n",
      "\u001b[0;32m~/Desktop/evolution/evoframe/population_manager.py\u001b[0m in \u001b[0;36m<listcomp>\u001b[0;34m(.0)\u001b[0m\n\u001b[1;32m     30\u001b[0m             \u001b[0mrewards\u001b[0m \u001b[0;34m=\u001b[0m \u001b[0mpool\u001b[0m\u001b[0;34m.\u001b[0m\u001b[0mmap\u001b[0m\u001b[0;34m(\u001b[0m\u001b[0mworker_process\u001b[0m\u001b[0;34m,\u001b[0m \u001b[0mworker_args\u001b[0m\u001b[0;34m)\u001b[0m\u001b[0;34m\u001b[0m\u001b[0;34m\u001b[0m\u001b[0m\n\u001b[1;32m     31\u001b[0m         \u001b[0;32melse\u001b[0m\u001b[0;34m:\u001b[0m\u001b[0;34m\u001b[0m\u001b[0;34m\u001b[0m\u001b[0m\n\u001b[0;32m---> 32\u001b[0;31m             \u001b[0mrewards\u001b[0m \u001b[0;34m=\u001b[0m \u001b[0;34m[\u001b[0m\u001b[0mself\u001b[0m\u001b[0;34m.\u001b[0m\u001b[0mreward_f\u001b[0m\u001b[0;34m(\u001b[0m\u001b[0;34m*\u001b[0m\u001b[0;34m[\u001b[0m\u001b[0mp\u001b[0m\u001b[0;34m,\u001b[0m \u001b[0menv\u001b[0m\u001b[0;34m]\u001b[0m\u001b[0;34m)\u001b[0m \u001b[0;32mfor\u001b[0m \u001b[0mp\u001b[0m \u001b[0;32min\u001b[0m \u001b[0mpopulation\u001b[0m\u001b[0;34m]\u001b[0m\u001b[0;34m\u001b[0m\u001b[0;34m\u001b[0m\u001b[0m\n\u001b[0m\u001b[1;32m     33\u001b[0m         \u001b[0mrewards\u001b[0m \u001b[0;34m=\u001b[0m \u001b[0mnp\u001b[0m\u001b[0;34m.\u001b[0m\u001b[0marray\u001b[0m\u001b[0;34m(\u001b[0m\u001b[0mrewards\u001b[0m\u001b[0;34m)\u001b[0m\u001b[0;34m\u001b[0m\u001b[0;34m\u001b[0m\u001b[0m\n\u001b[1;32m     34\u001b[0m         \u001b[0;32mreturn\u001b[0m \u001b[0mrewards\u001b[0m\u001b[0;34m\u001b[0m\u001b[0;34m\u001b[0m\u001b[0m\n",
      "\u001b[0;32m~/Desktop/evolution/evoframe/reward_builders/reward_builder_game.py\u001b[0m in \u001b[0;36mreward_function\u001b[0;34m(model, env)\u001b[0m\n\u001b[1;32m     50\u001b[0m                 \u001b[0;32mfor\u001b[0m \u001b[0mprev_best\u001b[0m \u001b[0;32min\u001b[0m \u001b[0mprev_bests\u001b[0m\u001b[0;34m:\u001b[0m\u001b[0;34m\u001b[0m\u001b[0;34m\u001b[0m\u001b[0m\n\u001b[1;32m     51\u001b[0m                     \u001b[0mgame\u001b[0m \u001b[0;34m=\u001b[0m \u001b[0mgame_creation_function\u001b[0m\u001b[0;34m(\u001b[0m\u001b[0;34m)\u001b[0m\u001b[0;34m\u001b[0m\u001b[0;34m\u001b[0m\u001b[0m\n\u001b[0;32m---> 52\u001b[0;31m                     \u001b[0mreward\u001b[0m \u001b[0;34m+=\u001b[0m \u001b[0mgame\u001b[0m\u001b[0;34m.\u001b[0m\u001b[0mplay\u001b[0m\u001b[0;34m(\u001b[0m\u001b[0magent_wrapper_func\u001b[0m\u001b[0;34m(\u001b[0m\u001b[0mmodel\u001b[0m\u001b[0;34m)\u001b[0m\u001b[0;34m,\u001b[0m \u001b[0magent_wrapper_func\u001b[0m\u001b[0;34m(\u001b[0m\u001b[0mprev_best\u001b[0m\u001b[0;34m)\u001b[0m\u001b[0;34m)\u001b[0m\u001b[0;34m\u001b[0m\u001b[0;34m\u001b[0m\u001b[0m\n\u001b[0m\u001b[1;32m     53\u001b[0m             \u001b[0;32melse\u001b[0m\u001b[0;34m:\u001b[0m\u001b[0;34m\u001b[0m\u001b[0;34m\u001b[0m\u001b[0m\n\u001b[1;32m     54\u001b[0m                 \u001b[0mgame\u001b[0m \u001b[0;34m=\u001b[0m \u001b[0mgame_creation_function\u001b[0m\u001b[0;34m(\u001b[0m\u001b[0;34m)\u001b[0m\u001b[0;34m\u001b[0m\u001b[0;34m\u001b[0m\u001b[0m\n",
      "\u001b[0;32m<ipython-input-17-c41a83760882>\u001b[0m in \u001b[0;36mplay\u001b[0;34m(self, agent_1, agent_2, interactive)\u001b[0m\n\u001b[1;32m     68\u001b[0m                 \u001b[0mself\u001b[0m\u001b[0;34m.\u001b[0m\u001b[0mprint_board\u001b[0m\u001b[0;34m(\u001b[0m\u001b[0;34m)\u001b[0m\u001b[0;34m\u001b[0m\u001b[0;34m\u001b[0m\u001b[0m\n\u001b[1;32m     69\u001b[0m \u001b[0;34m\u001b[0m\u001b[0m\n\u001b[0;32m---> 70\u001b[0;31m         \u001b[0mresult\u001b[0m \u001b[0;34m=\u001b[0m \u001b[0mself\u001b[0m\u001b[0;34m.\u001b[0m\u001b[0mcheck_win\u001b[0m\u001b[0;34m(\u001b[0m\u001b[0;34m)\u001b[0m\u001b[0;34m\u001b[0m\u001b[0;34m\u001b[0m\u001b[0m\n\u001b[0m\u001b[1;32m     71\u001b[0m         \u001b[0;32mwhile\u001b[0m \u001b[0mresult\u001b[0m \u001b[0;34m==\u001b[0m \u001b[0mCONTINUE\u001b[0m\u001b[0;34m:\u001b[0m\u001b[0;34m\u001b[0m\u001b[0;34m\u001b[0m\u001b[0m\n\u001b[1;32m     72\u001b[0m             \u001b[0;32mif\u001b[0m \u001b[0mplayer_turn\u001b[0m \u001b[0;34m==\u001b[0m \u001b[0mPLAYER_1\u001b[0m\u001b[0;34m:\u001b[0m\u001b[0;34m\u001b[0m\u001b[0;34m\u001b[0m\u001b[0m\n",
      "\u001b[0;32m<ipython-input-17-c41a83760882>\u001b[0m in \u001b[0;36mcheck_win\u001b[0;34m(self)\u001b[0m\n\u001b[1;32m     22\u001b[0m         \u001b[0;32mfor\u001b[0m \u001b[0mrow\u001b[0m \u001b[0;32min\u001b[0m \u001b[0mboard\u001b[0m\u001b[0;34m:\u001b[0m\u001b[0;34m\u001b[0m\u001b[0;34m\u001b[0m\u001b[0m\n\u001b[1;32m     23\u001b[0m             \u001b[0;32mfor\u001b[0m \u001b[0m_\u001b[0m\u001b[0;34m,\u001b[0m\u001b[0mplayer\u001b[0m \u001b[0;32min\u001b[0m \u001b[0mplayers\u001b[0m\u001b[0;34m.\u001b[0m\u001b[0mitems\u001b[0m\u001b[0;34m(\u001b[0m\u001b[0;34m)\u001b[0m\u001b[0;34m:\u001b[0m\u001b[0;34m\u001b[0m\u001b[0;34m\u001b[0m\u001b[0m\n\u001b[0;32m---> 24\u001b[0;31m                 \u001b[0;32mif\u001b[0m \u001b[0mnp\u001b[0m\u001b[0;34m.\u001b[0m\u001b[0mall\u001b[0m\u001b[0;34m(\u001b[0m\u001b[0mnp\u001b[0m\u001b[0;34m.\u001b[0m\u001b[0mequal\u001b[0m\u001b[0;34m(\u001b[0m\u001b[0mrow\u001b[0m\u001b[0;34m,\u001b[0m \u001b[0mnp\u001b[0m\u001b[0;34m.\u001b[0m\u001b[0mfull\u001b[0m\u001b[0;34m(\u001b[0m\u001b[0;36m3\u001b[0m\u001b[0;34m,\u001b[0m \u001b[0mplayer\u001b[0m\u001b[0;34m)\u001b[0m\u001b[0;34m)\u001b[0m\u001b[0;34m)\u001b[0m\u001b[0;34m:\u001b[0m\u001b[0;34m\u001b[0m\u001b[0;34m\u001b[0m\u001b[0m\n\u001b[0m\u001b[1;32m     25\u001b[0m                     \u001b[0;32mreturn\u001b[0m \u001b[0mplayer\u001b[0m\u001b[0;34m\u001b[0m\u001b[0;34m\u001b[0m\u001b[0m\n\u001b[1;32m     26\u001b[0m \u001b[0;34m\u001b[0m\u001b[0m\n",
      "\u001b[0;32m<__array_function__ internals>\u001b[0m in \u001b[0;36mall\u001b[0;34m(*args, **kwargs)\u001b[0m\n",
      "\u001b[0;32m/anaconda3/envs/evolution/lib/python3.6/site-packages/numpy/core/fromnumeric.py\u001b[0m in \u001b[0;36mall\u001b[0;34m(a, axis, out, keepdims)\u001b[0m\n\u001b[1;32m   2349\u001b[0m \u001b[0;34m\u001b[0m\u001b[0m\n\u001b[1;32m   2350\u001b[0m     \"\"\"\n\u001b[0;32m-> 2351\u001b[0;31m     \u001b[0;32mreturn\u001b[0m \u001b[0m_wrapreduction\u001b[0m\u001b[0;34m(\u001b[0m\u001b[0ma\u001b[0m\u001b[0;34m,\u001b[0m \u001b[0mnp\u001b[0m\u001b[0;34m.\u001b[0m\u001b[0mlogical_and\u001b[0m\u001b[0;34m,\u001b[0m \u001b[0;34m'all'\u001b[0m\u001b[0;34m,\u001b[0m \u001b[0maxis\u001b[0m\u001b[0;34m,\u001b[0m \u001b[0;32mNone\u001b[0m\u001b[0;34m,\u001b[0m \u001b[0mout\u001b[0m\u001b[0;34m,\u001b[0m \u001b[0mkeepdims\u001b[0m\u001b[0;34m=\u001b[0m\u001b[0mkeepdims\u001b[0m\u001b[0;34m)\u001b[0m\u001b[0;34m\u001b[0m\u001b[0;34m\u001b[0m\u001b[0m\n\u001b[0m\u001b[1;32m   2352\u001b[0m \u001b[0;34m\u001b[0m\u001b[0m\n\u001b[1;32m   2353\u001b[0m \u001b[0;34m\u001b[0m\u001b[0m\n",
      "\u001b[0;32m/anaconda3/envs/evolution/lib/python3.6/site-packages/numpy/core/fromnumeric.py\u001b[0m in \u001b[0;36m_wrapreduction\u001b[0;34m(obj, ufunc, method, axis, dtype, out, **kwargs)\u001b[0m\n\u001b[1;32m     88\u001b[0m                 \u001b[0;32mreturn\u001b[0m \u001b[0mreduction\u001b[0m\u001b[0;34m(\u001b[0m\u001b[0maxis\u001b[0m\u001b[0;34m=\u001b[0m\u001b[0maxis\u001b[0m\u001b[0;34m,\u001b[0m \u001b[0mout\u001b[0m\u001b[0;34m=\u001b[0m\u001b[0mout\u001b[0m\u001b[0;34m,\u001b[0m \u001b[0;34m**\u001b[0m\u001b[0mpasskwargs\u001b[0m\u001b[0;34m)\u001b[0m\u001b[0;34m\u001b[0m\u001b[0;34m\u001b[0m\u001b[0m\n\u001b[1;32m     89\u001b[0m \u001b[0;34m\u001b[0m\u001b[0m\n\u001b[0;32m---> 90\u001b[0;31m     \u001b[0;32mreturn\u001b[0m \u001b[0mufunc\u001b[0m\u001b[0;34m.\u001b[0m\u001b[0mreduce\u001b[0m\u001b[0;34m(\u001b[0m\u001b[0mobj\u001b[0m\u001b[0;34m,\u001b[0m \u001b[0maxis\u001b[0m\u001b[0;34m,\u001b[0m \u001b[0mdtype\u001b[0m\u001b[0;34m,\u001b[0m \u001b[0mout\u001b[0m\u001b[0;34m,\u001b[0m \u001b[0;34m**\u001b[0m\u001b[0mpasskwargs\u001b[0m\u001b[0;34m)\u001b[0m\u001b[0;34m\u001b[0m\u001b[0;34m\u001b[0m\u001b[0m\n\u001b[0m\u001b[1;32m     91\u001b[0m \u001b[0;34m\u001b[0m\u001b[0m\n\u001b[1;32m     92\u001b[0m \u001b[0;34m\u001b[0m\u001b[0m\n",
      "\u001b[0;31mKeyboardInterrupt\u001b[0m: "
     ]
    }
   ],
   "source": [
    "# Game\n",
    "game_creation_function = lambda: Tris()\n",
    "\n",
    "# Model\n",
    "layer_sizes = [9, 5, 5, 9]\n",
    "get_model_func = lambda: FeedForwardNetwork(layer_sizes, ActivationFunctions.get_arctan(), ActivationFunctions.get_id())\n",
    "\n",
    "# Game-Model interface\n",
    "def predict_func(model, inputs):\n",
    "    # In Tris, 'inputs' is a 3x3 np.array, thus we must flatten it to a 9x1 np.array\n",
    "    # output is a 9x1 vector, where the cell with highest value corresponding\n",
    "    # to a valid move will be the chosen move\n",
    "    return model.predict(inputs.flatten())[0]\n",
    "agent_wrapper_func = get_agent_wrapper_func(predict_func)\n",
    "\n",
    "# Reward function and update env function\n",
    "# Since Tris is a two-players game, we can compute the reward with a tournament against the current generation\n",
    "reward_function, update_env_f = RewardBuilderGame() \\\n",
    ".with_game_creation_function(game_creation_function) \\\n",
    ".with_agent_wrapper_func(agent_wrapper_func) \\\n",
    ".with_competitive_tournament() \\\n",
    ".get()\n",
    "\n",
    "# Update population function\n",
    "get_new_pop_f = PopulationUpdateBuilderStatic() \\\n",
    ".add_operator(\"es_1_copy\", 0.1) \\\n",
    ".add_selector_f(SelectorFunctionFactory.get_geometric_selector_function(0.3)) \\\n",
    ".get()\n",
    "\n",
    "# Population manager\n",
    "pop_size = 50\n",
    "pm = PopulationManager(pop_size, get_model_func, reward_function, update_env_f, get_new_pop_f)\n",
    "\n",
    "# Run population manager\n",
    "num_epochs = 300\n",
    "last_pop = pm.run(num_epochs)"
   ]
  },
  {
   "cell_type": "code",
   "execution_count": 22,
   "metadata": {},
   "outputs": [
    {
     "data": {
      "text/plain": [
       "[<matplotlib.lines.Line2D at 0x116791898>]"
      ]
     },
     "execution_count": 22,
     "metadata": {},
     "output_type": "execute_result"
    },
    {
     "data": {
      "image/png": "[encoded data removed]",
      "text/plain": [
       "<Figure size 432x288 with 1 Axes>"
      ]
     },
     "metadata": {
      "needs_background": "light"
     },
     "output_type": "display_data"
    }
   ],
   "source": [
    "import matplotlib.pyplot as plt\n",
    "%matplotlib inline\n",
    "\n",
    "xs = np.arange(num_epochs)\n",
    "ys_string = \"20 35 42 24 20 44 44 24 16 18 12 14 24 18 16 18 16 14 18 14 20 14 18 8 20 20 44 50 20 20 16 24 16 18 20 22 24 14 14 18 20 26 14 20 24 26 20 18 26 24 16 14 12 18 14 14 22 22 20 16 16 12 16 20 18 14 18 18 16 12 22 24 16 16 18 12 18 20 14 26 24 14 18 14 16 14 16 16 16 12 18 22 16 18 14 20 24 32 14 20 20 16 16 18 30 20 14 16 22 14 20 18 22 14 18 20 24 16 16 20 14 20 16 18 16 16 20 24 22 12 18 16 16 12 14 20 20 12 10 14 16 22 20 16 12 20 32 16 10 10 12 18 22 22 16 18 18 24 16 18 14 20 12 20 20 20 14 16 16 12 14 14 14 16 20 12 20 18 18 16 18 18 18 18 16 14 22 12 12 12 14 14 16 12 18 16 12 16 20 14 10 14 16 16 14 16 20 14 16 16 20 16 14 18 16 12 12 14 20 14 18 16 12 18 20 12 12 18 20 14 20 16 12 18 22 10 20 14 18 12 12 18 18 18 16 16 14 16 18 14 14 16 16 18 16 14 12 14 18 18 16 14 22 14 14 14 20 14 14 20 20 12 18 12 12 16 20 20 14 16 20 16 16 18 16 16 12 18 14 10 12 16 16 14 20 22 18 16 10 16\"\n",
    "ys = [int(n) for n in ys_string.split(\" \")]\n",
    "plt.plot(xs, ys)"
   ]
  },
  {
   "cell_type": "code",
   "execution_count": 23,
   "metadata": {},
   "outputs": [],
   "source": [
    "class AgentHuman:\n",
    "    def __init__(self):\n",
    "        pass\n",
    "    \n",
    "    def predict(self, board):\n",
    "        move = int(input(\"Select move: \"))\n",
    "        prediction = [1 if i == move else 0 for i in range(9)]\n",
    "        return prediction"
   ]
  },
  {
   "cell_type": "code",
   "execution_count": 26,
   "metadata": {
    "scrolled": true
   },
   "outputs": [
    {
     "name": "stdout",
     "output_type": "stream",
     "text": [
      "0 0 0 \n",
      "0 0 0 \n",
      "0 0 0 \n",
      "------------------------------\n",
      "1 0 0 \n",
      "0 0 0 \n",
      "0 0 0 \n",
      "------------------------------\n",
      "Select move: 4\n",
      "1 0 0 \n",
      "0 -1 0 \n",
      "0 0 0 \n",
      "------------------------------\n",
      "1 0 0 \n",
      "1 -1 0 \n",
      "0 0 0 \n",
      "------------------------------\n",
      "Select move: 2\n",
      "1 0 -1 \n",
      "1 -1 0 \n",
      "0 0 0 \n",
      "------------------------------\n",
      "1 0 -1 \n",
      "1 -1 1 \n",
      "0 0 0 \n",
      "------------------------------\n",
      "Select move: 6\n",
      "1 0 -1 \n",
      "1 -1 1 \n",
      "-1 0 0 \n",
      "------------------------------\n",
      "1 0 -1 \n",
      "1 -1 1 \n",
      "-1 0 0 \n",
      "------------------------------\n"
     ]
    },
    {
     "data": {
      "text/plain": [
       "-1"
      ]
     },
     "execution_count": 26,
     "metadata": {},
     "output_type": "execute_result"
    }
   ],
   "source": [
    "game = Tris()\n",
    "game.play(agent_wrapper_func(last_pop[0]), AgentHuman(), interactive=True)"
   ]
  }
 ],
 "metadata": {
  "kernelspec": {
   "display_name": "Python 3",
   "language": "python",
   "name": "python3"
  },
  "language_info": {
   "codemirror_mode": {
    "name": "ipython",
    "version": 3
   },
   "file_extension": ".py",
   "mimetype": "text/x-python",
   "name": "python",
   "nbconvert_exporter": "python",
   "pygments_lexer": "ipython3",
   "version": "3.6.9"
  }
 },
 "nbformat": 4,
 "nbformat_minor": 2
}
