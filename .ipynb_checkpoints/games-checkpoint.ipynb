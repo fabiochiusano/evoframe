{
 "cells": [
  {
   "cell_type": "code",
   "execution_count": null,
   "metadata": {},
   "outputs": [],
   "source": [
    "from evoframe.reward_builders import RewardBuilderGame\n",
    "from evoframe.population_update_builders import PopulationUpdateBuilderStatic\n",
    "from evoframe.selector_function import SelectorFunctionFactory\n",
    "from evoframe import PopulationManager\n",
    "from evoframe.models import FeedForwardNetwork\n",
    "from evoframe.models import ActivationFunctions\n",
    "from evoframe.games import Game\n",
    "from evoframe import get_agent_wrapper_func\n",
    "import evoframe.func_with_context as fwc\n",
    "\n",
    "import numpy as np\n",
    "\n",
    "import matplotlib.pyplot as plt\n",
    "%matplotlib inline"
   ]
  },
  {
   "cell_type": "code",
   "execution_count": null,
   "metadata": {},
   "outputs": [],
   "source": [
    "import plotly.express as px"
   ]
  },
  {
   "cell_type": "code",
   "execution_count": null,
   "metadata": {},
   "outputs": [],
   "source": [
    "import collections\n",
    "\n",
    "def recursively_default_dict():\n",
    "    return collections.defaultdict(recursively_default_dict)"
   ]
  },
  {
   "cell_type": "code",
   "execution_count": null,
   "metadata": {},
   "outputs": [],
   "source": [
    "def get_distinct_operators(context):\n",
    "    epochs = range(1, context[\"num_epochs\"] + 1)\n",
    "    all_operators = [op for epoch in epochs for op in context[\"epochs\"][epoch][\"operators\"]]\n",
    "    return list(set(all_operators))"
   ]
  },
  {
   "cell_type": "code",
   "execution_count": null,
   "metadata": {},
   "outputs": [],
   "source": [
    "import pandas as pd"
   ]
  },
  {
   "cell_type": "code",
   "execution_count": null,
   "metadata": {},
   "outputs": [],
   "source": [
    "def plot_rewards(context):\n",
    "    #plt.figure(figsize=(16, 10))\n",
    "    num_epochs = context[\"num_epochs\"]\n",
    "    pop_size = context[\"pop_size\"]\n",
    "    epochs = list(range(1, num_epochs + 1))\n",
    "    # Max-Mean\n",
    "    xs = epochs\n",
    "    ys_max = [max(context[\"epochs\"][epoch][\"rewards\"]) for epoch in epochs]\n",
    "    ys_mean = [sum(context[\"epochs\"][epoch][\"rewards\"])/context[\"pop_size\"] for epoch in epochs]\n",
    "    ys_category = [\"max\" for epoch in epochs] + [\"mean\" for epoch in epochs]\n",
    "    df = pd.DataFrame({\"epochs\": xs*2, \"rewards\": ys_max+ys_mean, \"category\": ys_category})\n",
    "    fig_line = px.line(df, x=\"epochs\", y=\"rewards\", color=\"category\")\n",
    "    # Scatter\n",
    "    xs = [ep + ((np.random.rand() - 0.5) * 0.4) for ep in epochs for i in range(pop_size)] # add small noise\n",
    "    ys = [r for epoch in epochs for r in context[\"epochs\"][epoch][\"rewards\"]]\n",
    "    operators = [op for epoch in epochs for op in context[\"epochs\"][epoch][\"operators\"]]\n",
    "    df = pd.DataFrame({\"epochs\": epochs*pop_size, \"epochs_noise\": xs, \"rewards\": ys, \"operators\": operators})\n",
    "    fig_scatter = px.scatter(df, x=\"epochs_noise\", y=\"rewards\", color=\"operators\", marginal_y=\"rug\")\n",
    "    return fig_line, fig_scatter"
   ]
  },
  {
   "cell_type": "code",
   "execution_count": null,
   "metadata": {},
   "outputs": [],
   "source": [
    "def get_best_model_of_epoch(context, epoch):\n",
    "    i = np.array(context[\"epochs\"][epoch][\"rewards\"]).argmax()\n",
    "    return context[\"epochs\"][epoch][\"models\"][i]"
   ]
  },
  {
   "cell_type": "markdown",
   "metadata": {},
   "source": [
    "# Guess the point"
   ]
  },
  {
   "cell_type": "code",
   "execution_count": null,
   "metadata": {},
   "outputs": [],
   "source": [
    "from evoframe.games import GuessPoint"
   ]
  },
  {
   "cell_type": "code",
   "execution_count": null,
   "metadata": {
    "scrolled": true
   },
   "outputs": [],
   "source": [
    "# Define global context\n",
    "context = recursively_default_dict()\n",
    "\n",
    "# Game\n",
    "game_creation_func = lambda context: GuessPoint(np.array([0.2,0.8,0.5]), np.array([0.4, 0.5, 10]))\n",
    "game_creation_func = fwc.func_with_context(game_creation_func, context=context)\n",
    "\n",
    "# Model\n",
    "layer_sizes = [3, 5, 3]\n",
    "get_model_func = lambda context: FeedForwardNetwork(layer_sizes, ActivationFunctions.get_sigmoid(), ActivationFunctions.get_id())\n",
    "get_model_func = fwc.func_with_context(get_model_func, context=context)\n",
    "\n",
    "# Game-Model interface\n",
    "predict_func = lambda model, inputs: model.predict(inputs)\n",
    "agent_wrapper_func = get_agent_wrapper_func(predict_func)\n",
    "\n",
    "# Reward function and update env function\n",
    "reward_function = RewardBuilderGame() \\\n",
    ".with_game_creation_function(game_creation_func) \\\n",
    ".with_agent_wrapper_func(agent_wrapper_func) \\\n",
    ".with_context(context) \\\n",
    ".get()\n",
    "\n",
    "# Update population function\n",
    "get_new_pop_f = PopulationUpdateBuilderStatic() \\\n",
    ".add_operator(\"es_1_mutation\", 1, 0.3, 0.3) \\\n",
    ".add_operator(\"es_2_crossover\", 0.01, 0.8) \\\n",
    ".add_operator(\"es_1_copy\", 0.01) \\\n",
    ".add_operator(\"es_n_rewards_gradient\", 0.01) \\\n",
    ".add_selector_f(SelectorFunctionFactory.get_geometric_selector_function(0.3)) \\\n",
    ".with_context(context) \\\n",
    ".get()\n",
    "\n",
    "# Population manager\n",
    "pop_size = 500\n",
    "pm = PopulationManager(pop_size, get_model_func, reward_function, get_new_pop_f, context)\n",
    "\n",
    "# Run population manager\n",
    "num_epochs = 10\n",
    "pm.run(num_epochs)"
   ]
  },
  {
   "cell_type": "code",
   "execution_count": null,
   "metadata": {},
   "outputs": [],
   "source": [
    "fig_line, fig_scatter = plot_rewards(context)"
   ]
  },
  {
   "cell_type": "code",
   "execution_count": null,
   "metadata": {
    "scrolled": true
   },
   "outputs": [],
   "source": [
    "fig_line"
   ]
  },
  {
   "cell_type": "code",
   "execution_count": null,
   "metadata": {},
   "outputs": [],
   "source": [
    "fig_scatter"
   ]
  },
  {
   "cell_type": "markdown",
   "metadata": {},
   "source": [
    "# Guess the function"
   ]
  },
  {
   "cell_type": "code",
   "execution_count": null,
   "metadata": {},
   "outputs": [],
   "source": [
    "from evoframe.games import GuessFunction"
   ]
  },
  {
   "cell_type": "code",
   "execution_count": null,
   "metadata": {
    "scrolled": true
   },
   "outputs": [],
   "source": [
    "# Define global context\n",
    "context = recursively_default_dict()\n",
    "\n",
    "# Game\n",
    "game_func = lambda i: np.array([2*i[0]-3*i[1]+4, i[1]-8*i[2]-5])\n",
    "input_dim = 3\n",
    "input_domains = [(-1,1),(-1,1),(3,7)]\n",
    "sample_every = [0.1, 0.1, 0.3]\n",
    "game_creation_function = lambda context: GuessFunction(game_func, input_dim, input_domains, sample_every)\n",
    "game_creation_function = fwc.func_with_context(game_creation_function, context=context)\n",
    "\n",
    "# Model\n",
    "layer_sizes = [3, 5, 2]\n",
    "get_model_func = lambda context: FeedForwardNetwork(layer_sizes, ActivationFunctions.get_arctan(), ActivationFunctions.get_id())\n",
    "get_model_func = fwc.func_with_context(get_model_func, context=context)\n",
    "\n",
    "# Game-Model interface\n",
    "predict_func = lambda model, inputs: model.predict(inputs)\n",
    "agent_wrapper_func = get_agent_wrapper_func(predict_func)\n",
    "\n",
    "# Reward function and update env function\n",
    "reward_function = RewardBuilderGame() \\\n",
    ".with_game_creation_function(game_creation_function) \\\n",
    ".with_agent_wrapper_func(agent_wrapper_func) \\\n",
    ".with_context(context) \\\n",
    ".get()\n",
    "\n",
    "# Update population function\n",
    "get_new_pop_f = PopulationUpdateBuilderStatic() \\\n",
    ".add_operator(\"es_1_mutation\", 0.2, 0.1, 0.1) \\\n",
    ".add_operator(\"es_1_mutation\", 0.2, 0.1, 0.5) \\\n",
    ".add_operator(\"es_1_mutation\", 0.2, 0.3, 0.3) \\\n",
    ".add_operator(\"es_1_mutation\", 0.2, 0.5, 0.5) \\\n",
    ".add_operator(\"es_1_mutation\", 0.2, 0.5, 0.1) \\\n",
    ".add_operator(\"es_2_crossover\", 0.1, 0.8) \\\n",
    ".add_operator(\"es_1_copy\", 0.1) \\\n",
    ".add_operator(\"es_n_rewards_gradient\", 0.1) \\\n",
    ".add_selector_f(SelectorFunctionFactory.get_geometric_selector_function(0.3)) \\\n",
    ".with_context(context) \\\n",
    ".get()\n",
    "\n",
    "# Population manager\n",
    "pop_size = 50\n",
    "pm = PopulationManager(pop_size, get_model_func, reward_function, get_new_pop_f, context)\n",
    "\n",
    "# Run population manager\n",
    "num_epochs = 30\n",
    "pm.run(num_epochs)"
   ]
  },
  {
   "cell_type": "code",
   "execution_count": null,
   "metadata": {
    "scrolled": true
   },
   "outputs": [],
   "source": [
    "fig_line, fig_scatter = plot_rewards(context)"
   ]
  },
  {
   "cell_type": "code",
   "execution_count": null,
   "metadata": {},
   "outputs": [],
   "source": [
    "fig_line"
   ]
  },
  {
   "cell_type": "code",
   "execution_count": null,
   "metadata": {
    "scrolled": true
   },
   "outputs": [],
   "source": [
    "fig_scatter"
   ]
  },
  {
   "cell_type": "code",
   "execution_count": null,
   "metadata": {},
   "outputs": [],
   "source": [
    "test_array = np.array([0.5,0.5,5])\n",
    "context[\"epochs\"][num_epochs][\"models\"][0].predict(test_array), game_func(test_array)"
   ]
  },
  {
   "cell_type": "code",
   "execution_count": null,
   "metadata": {},
   "outputs": [],
   "source": [
    "from __future__ import print_function\n",
    "from ipywidgets import interact, interactive, fixed, interact_manual\n",
    "import ipywidgets as widgets"
   ]
  },
  {
   "cell_type": "code",
   "execution_count": null,
   "metadata": {
    "scrolled": false
   },
   "outputs": [],
   "source": [
    "def show_best_fnn_weights(context, epoch):\n",
    "    best_model = context[\"epochs\"][epoch][\"models\"][0]\n",
    "    num_cols = len(best_model.weights)\n",
    "    num_rows = 2\n",
    "    plt.figure(figsize=(15,10))\n",
    "    for i,layer in enumerate(best_model.weights):\n",
    "        index = i+1\n",
    "        plt.subplot(num_rows, num_cols, index)\n",
    "        plt.imshow(layer, cmap='hot', interpolation='nearest')\n",
    "    for i,layer in enumerate(best_model.biases):\n",
    "        index = num_cols+i+1\n",
    "        plt.subplot(num_rows, num_cols, index)\n",
    "        plt.imshow(layer.reshape(layer.shape[0], 1), cmap='hot', interpolation='nearest')\n",
    "    plt.show()\n",
    "    \n",
    "interact(show_best_fnn_weights, context=fixed(context), epoch=1)"
   ]
  },
  {
   "cell_type": "markdown",
   "metadata": {},
   "source": [
    "# Play Tris, 9 inputs"
   ]
  },
  {
   "cell_type": "code",
   "execution_count": null,
   "metadata": {},
   "outputs": [],
   "source": [
    "from evoframe.reward_builders.reward_builder_game import TournamentMode"
   ]
  },
  {
   "cell_type": "code",
   "execution_count": null,
   "metadata": {},
   "outputs": [],
   "source": [
    "class Tris(Game):\n",
    "    \"\"\"Player1 starts. Rewards of both players are returned.\"\"\"\n",
    "    PLAYER_1 = 1\n",
    "    PLAYER_2 = -1\n",
    "    EMPTY = 0\n",
    "    DRAW = 0\n",
    "    CONTINUE = 2\n",
    "    PLAYERS = [PLAYER_1, PLAYER_2]\n",
    "    \n",
    "    def __init__(self):\n",
    "        self.board = np.array([np.array([self.EMPTY for i in range(3)]) for j in range(3)])\n",
    "        \n",
    "    def check_win(self):\n",
    "        # check rows\n",
    "        board = self.board\n",
    "        for row in board:\n",
    "            for player in self.PLAYERS:\n",
    "                if np.all(np.equal(row, np.full(3, player))):\n",
    "                    return player\n",
    "        \n",
    "        # check cols\n",
    "        board = self.board.transpose()\n",
    "        for row in board:\n",
    "            for player in self.PLAYERS:\n",
    "                if np.all(np.equal(row, np.full(3, player))):\n",
    "                    return player\n",
    "                \n",
    "        # check diagonals\n",
    "        diags = []\n",
    "        diags.append(np.array([board[i][i] for i in range(3)]))\n",
    "        diags.append(np.array([board[i][3 - i - 1] for i in range(3)]))\n",
    "        for row in diags:\n",
    "            for player in self.PLAYERS:\n",
    "                if np.all(np.equal(row, np.full(3, player))):\n",
    "                    return player\n",
    "        \n",
    "        # check draw\n",
    "        exist_empty = False\n",
    "        for row in self.board:\n",
    "            for cell in row:\n",
    "                if cell == self.EMPTY:\n",
    "                    exist_empty = True\n",
    "        if not exist_empty:\n",
    "            return self.DRAW\n",
    "        \n",
    "        return self.CONTINUE\n",
    "    \n",
    "    def extract_move(self, prediction):\n",
    "        highest_value = -100000\n",
    "        highest_value_index = -1\n",
    "        for i,pred in enumerate(prediction):\n",
    "            if self.board[i//3][i%3] == self.EMPTY and pred > highest_value:\n",
    "                highest_value = pred\n",
    "                highest_value_index = i\n",
    "        return highest_value_index\n",
    "    \n",
    "    def do_move(self, move, player):\n",
    "        self.board[move//3][move%3] = player\n",
    "        \n",
    "    def opposite_board(self):\n",
    "        return np.array([np.array([self.PLAYER_2 if self.board[row][col] == self.PLAYER_1\n",
    "                                   else self.PLAYER_1 if self.board[row][col] == self.PLAYER_2\n",
    "                                   else self.EMPTY for col in range(3)]) for row in range(3)])\n",
    "    \n",
    "    def play(self, agent_1, agent_2, interactive=False):\n",
    "        player_turn = self.PLAYER_1\n",
    "        \n",
    "        if interactive:\n",
    "            self.print_board() \n",
    "        \n",
    "        result = self.check_win()\n",
    "        while result == self.CONTINUE:\n",
    "            if player_turn == self.PLAYER_1:\n",
    "                prediction = agent_1.predict(self.board)\n",
    "            else:\n",
    "                prediction = agent_2.predict(self.opposite_board())\n",
    "              \n",
    "            move = self.extract_move(prediction)\n",
    "            self.do_move(move, player_turn)\n",
    "            \n",
    "            if interactive:\n",
    "                self.print_board()\n",
    "            \n",
    "            if player_turn == self.PLAYER_1:\n",
    "                player_turn = self.PLAYER_2\n",
    "            else:\n",
    "                player_turn = self.PLAYER_1\n",
    "                \n",
    "            result = self.check_win()\n",
    "            \n",
    "        if interactive:\n",
    "                self.print_board()\n",
    "                \n",
    "        opponent_result = self.PLAYER_2 if result == self.PLAYER_1 else self.PLAYER_1 if result == self.PLAYER_2 else self.DRAW\n",
    "        return result, opponent_result\n",
    "    \n",
    "    def print_board(self):\n",
    "        for row in self.board:\n",
    "            for cell in row:\n",
    "                print(cell, end=\" \")\n",
    "            print(\"\")\n",
    "        print(\"-\"*30)"
   ]
  },
  {
   "cell_type": "code",
   "execution_count": null,
   "metadata": {
    "scrolled": true
   },
   "outputs": [],
   "source": [
    "# Define global context\n",
    "context = recursively_default_dict()\n",
    "\n",
    "# Game\n",
    "game_creation_function = lambda context: Tris()\n",
    "game_creation_function = fwc.func_with_context(game_creation_function, context=context)\n",
    "\n",
    "# Model\n",
    "layer_sizes = [9, 5, 5, 9]\n",
    "get_model_func = lambda context: FeedForwardNetwork(layer_sizes, ActivationFunctions.get_sigmoid(), ActivationFunctions.get_sigmoid())\n",
    "get_model_func = fwc.func_with_context(get_model_func, context=context)\n",
    "\n",
    "# Game-Model interface\n",
    "def predict_func(model, inputs):\n",
    "    # In Tris, 'inputs' is a 3x3 np.array, thus we must flatten it to a 9x1 np.array\n",
    "    # output is a 9x1 vector, where the cell with highest value corresponding\n",
    "    # to a valid move will be the chosen move\n",
    "    return model.predict(inputs.flatten())[0]\n",
    "agent_wrapper_func = get_agent_wrapper_func(predict_func)\n",
    "\n",
    "# Reward function and update env function\n",
    "# Since Tris is a two-players game, we can compute the reward with a tournament against the current generation\n",
    "reward_function = RewardBuilderGame() \\\n",
    ".with_game_creation_function(game_creation_function) \\\n",
    ".with_agent_wrapper_func(agent_wrapper_func) \\\n",
    ".with_competitive_tournament(TournamentMode.VS_BEST_OF_EACH_GEN) \\\n",
    ".with_keep_only(20) \\\n",
    ".with_context(context) \\\n",
    ".get()\n",
    "\n",
    "# Update population function\n",
    "get_new_pop_f = PopulationUpdateBuilderStatic() \\\n",
    ".add_operator(\"es_1_mutation\", 0.2, 0.1, 0.1) \\\n",
    ".add_operator(\"es_1_mutation\", 0.2, 0.1, 0.5) \\\n",
    ".add_operator(\"es_1_mutation\", 0.2, 0.3, 0.3) \\\n",
    ".add_operator(\"es_1_mutation\", 0.2, 0.5, 0.5) \\\n",
    ".add_operator(\"es_1_mutation\", 0.2, 0.5, 0.1) \\\n",
    ".add_operator(\"es_2_crossover\", 0.1, 0.8) \\\n",
    ".add_operator(\"es_1_copy\", 0.1) \\\n",
    ".add_operator(\"es_n_rewards_gradient\", 0.1) \\\n",
    ".add_selector_f(SelectorFunctionFactory.get_geometric_selector_function(0.3)) \\\n",
    ".with_context(context) \\\n",
    ".get()\n",
    "\n",
    "# Population manager\n",
    "pop_size = 50\n",
    "pm = PopulationManager(pop_size, get_model_func, reward_function, get_new_pop_f, context)\n",
    "\n",
    "# Run population manager\n",
    "num_epochs = 300\n",
    "pm.run(num_epochs)"
   ]
  },
  {
   "cell_type": "code",
   "execution_count": null,
   "metadata": {
    "scrolled": true
   },
   "outputs": [],
   "source": [
    "fig_line, fig_scatter = plot_rewards(context)"
   ]
  },
  {
   "cell_type": "code",
   "execution_count": null,
   "metadata": {},
   "outputs": [],
   "source": [
    "fig_line"
   ]
  },
  {
   "cell_type": "code",
   "execution_count": null,
   "metadata": {},
   "outputs": [],
   "source": [
    "fig_scatter"
   ]
  },
  {
   "cell_type": "code",
   "execution_count": null,
   "metadata": {},
   "outputs": [],
   "source": [
    "class AgentHuman:\n",
    "    def __init__(self):\n",
    "        pass\n",
    "    \n",
    "    def predict(self, board):\n",
    "        move = int(input(\"Select move: \"))\n",
    "        prediction = [1 if i == move else 0 for i in range(9)]\n",
    "        return prediction"
   ]
  },
  {
   "cell_type": "code",
   "execution_count": null,
   "metadata": {},
   "outputs": [],
   "source": [
    "game = Tris()\n",
    "game.play(AgentHuman(), agent_wrapper_func(get_best_model_of_epoch(context, num_epochs)), interactive=True)"
   ]
  },
  {
   "cell_type": "markdown",
   "metadata": {},
   "source": [
    "# Play Tris, 18 inputs"
   ]
  },
  {
   "cell_type": "code",
   "execution_count": null,
   "metadata": {
    "scrolled": true
   },
   "outputs": [],
   "source": [
    "# Game\n",
    "game_creation_function = lambda: Tris()\n",
    "\n",
    "# Model\n",
    "layer_sizes = [18, 9, 9]\n",
    "get_model_func = lambda: FeedForwardNetwork(layer_sizes, ActivationFunctions.get_sigmoid(), ActivationFunctions.get_sigmoid())\n",
    "\n",
    "# Game-Model interface\n",
    "def predict_func(model, inputs):\n",
    "    # In Tris, 'inputs' is a 3x3 np.array\n",
    "    # output is a 9x1 vector, where the cell with highest value corresponding\n",
    "    # to a valid move will be the chosen move\n",
    "    board = inputs\n",
    "    inputs = []\n",
    "    for row in board:\n",
    "        for cell in row:\n",
    "            if cell == Tris.PLAYER_1:\n",
    "                inputs += [1, 0]\n",
    "            elif cell == Tris.PLAYER_2:\n",
    "                inputs += [0, 1]\n",
    "            else:\n",
    "                inputs += [0, 0]\n",
    "    return model.predict(np.array(inputs))[0]\n",
    "agent_wrapper_func = get_agent_wrapper_func(predict_func)\n",
    "\n",
    "# Reward function and update env function\n",
    "# Since Tris is a two-players game, we can compute the reward with a tournament against the current generation\n",
    "reward_function, update_env_f = RewardBuilderGame() \\\n",
    ".with_game_creation_function(game_creation_function) \\\n",
    ".with_agent_wrapper_func(agent_wrapper_func) \\\n",
    ".with_competitive_tournament(TournamentMode.VS_BEST_OF_EACH_GEN) \\\n",
    ".with_keep_only(30) \\\n",
    ".get()\n",
    "\n",
    "# Update population function\n",
    "get_new_pop_f = PopulationUpdateBuilderStatic() \\\n",
    ".add_operator(\"es_1_mutation\", 0.6, 0.3, 0.5) \\\n",
    ".add_operator(\"es_2_crossover\", 0.3, 0.1) \\\n",
    ".add_operator(\"es_1_copy\", 0.1) \\\n",
    ".add_selector_f(SelectorFunctionFactory.get_geometric_selector_function(0.3)) \\\n",
    ".get()\n",
    "\n",
    "# Population manager\n",
    "pop_size = 100\n",
    "pm = PopulationManager(pop_size, get_model_func, reward_function, update_env_f, get_new_pop_f)\n",
    "\n",
    "# Run population manager\n",
    "num_epochs = 300\n",
    "last_pop, env = pm.run(num_epochs)"
   ]
  },
  {
   "cell_type": "code",
   "execution_count": null,
   "metadata": {},
   "outputs": [],
   "source": [
    "plot_rewards(env)"
   ]
  },
  {
   "cell_type": "code",
   "execution_count": null,
   "metadata": {},
   "outputs": [],
   "source": [
    "class AgentHuman:\n",
    "    def __init__(self):\n",
    "        pass\n",
    "    \n",
    "    def predict(self, board):\n",
    "        move = int(input(\"Select move: \"))\n",
    "        prediction = [1 if i == move else 0 for i in range(9)]\n",
    "        return prediction"
   ]
  },
  {
   "cell_type": "code",
   "execution_count": null,
   "metadata": {
    "scrolled": true
   },
   "outputs": [],
   "source": [
    "game = Tris()\n",
    "game.play(AgentHuman(), agent_wrapper_func(last_pop[0]), interactive=True)"
   ]
  }
 ],
 "metadata": {
  "kernelspec": {
   "display_name": "Python 3",
   "language": "python",
   "name": "python3"
  },
  "language_info": {
   "codemirror_mode": {
    "name": "ipython",
    "version": 3
   },
   "file_extension": ".py",
   "mimetype": "text/x-python",
   "name": "python",
   "nbconvert_exporter": "python",
   "pygments_lexer": "ipython3",
   "version": "3.6.9"
  }
 },
 "nbformat": 4,
 "nbformat_minor": 2
}
