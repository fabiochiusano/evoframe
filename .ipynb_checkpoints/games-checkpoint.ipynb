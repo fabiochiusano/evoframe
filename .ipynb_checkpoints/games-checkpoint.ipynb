{
 "cells": [
  {
   "cell_type": "code",
   "execution_count": 1,
   "metadata": {},
   "outputs": [],
   "source": [
    "from evoframe import get_agent_wrapper_func\n",
    "from evoframe.reward_builders import RewardBuilderGame\n",
    "from evoframe.population_update_builders import PopulationUpdateBuilderStatic\n",
    "from evoframe.selector_function import SelectorFunctionFactory\n",
    "from evoframe import PopulationManager\n",
    "from evoframe.models import FeedForwardNetwork\n",
    "from evoframe.models import ActivationFunctions\n",
    "from evoframe.games import GuessPoint\n",
    "from evoframe.games import Game\n",
    "\n",
    "from itertools import product\n",
    "import numpy as np\n",
    "\n",
    "import matplotlib.pyplot as plt\n",
    "%matplotlib inline"
   ]
  },
  {
   "cell_type": "code",
   "execution_count": 2,
   "metadata": {},
   "outputs": [],
   "source": [
    "def plot_rewards(env):\n",
    "    num_epochs = len(env[\"rewards\"].keys())\n",
    "    xs = np.arange(num_epochs)\n",
    "    ys = [rs[0] for rs in env[\"rewards\"].values()]\n",
    "    plt.plot(xs, ys)"
   ]
  },
  {
   "cell_type": "markdown",
   "metadata": {},
   "source": [
    "# Guess the point"
   ]
  },
  {
   "cell_type": "code",
   "execution_count": 3,
   "metadata": {
    "scrolled": true
   },
   "outputs": [
    {
     "name": "stdout",
     "output_type": "stream",
     "text": [
      "Epoch 0, best reward is -5.934574159008548\n",
      "Epoch 1, best reward is -0.562415151595911\n",
      "Epoch 2, best reward is -0.08030961080370126\n",
      "Epoch 3, best reward is -0.024104134946410026\n",
      "Epoch 4, best reward is -0.003800656046104967\n",
      "Epoch 5, best reward is -0.0014403726775378386\n",
      "Epoch 6, best reward is -0.0014403726775378386\n",
      "Epoch 7, best reward is -0.0014403726775378386\n",
      "Epoch 8, best reward is -0.0014403726775378386\n",
      "Epoch 9, best reward is -0.0014403726775378386\n"
     ]
    }
   ],
   "source": [
    "# Game\n",
    "game_creation_function = lambda: GuessPoint(np.array([0.2,0.8,0.5]), np.array([0.4, 0.5, 10]))\n",
    "\n",
    "# Model\n",
    "layer_sizes = [3, 5, 3]\n",
    "get_model_func = lambda: FeedForwardNetwork(layer_sizes, ActivationFunctions.get_sigmoid(), ActivationFunctions.get_id())\n",
    "\n",
    "# Game-Model interface\n",
    "predict_func = lambda model, inputs: model.predict(inputs)\n",
    "agent_wrapper_func = get_agent_wrapper_func(predict_func)\n",
    "\n",
    "# Reward function and update env function\n",
    "reward_function, update_env_f = RewardBuilderGame() \\\n",
    ".with_game_creation_function(game_creation_function) \\\n",
    ".with_agent_wrapper_func(agent_wrapper_func) \\\n",
    ".get()\n",
    "\n",
    "# Update population function\n",
    "mutation_perc = 0.6\n",
    "crossover_perc = 0.3\n",
    "copy_perc = 0.1\n",
    "get_new_pop_f = PopulationUpdateBuilderStatic() \\\n",
    ".add_operator(\"es_1_mutation\", mutation_perc, 0.3, 0.3) \\\n",
    ".add_operator(\"es_2_crossover\", crossover_perc, 0.8) \\\n",
    ".add_operator(\"es_1_copy\", copy_perc) \\\n",
    ".add_selector_f(SelectorFunctionFactory.get_geometric_selector_function(0.3)) \\\n",
    ".get()\n",
    "\n",
    "# Population manager\n",
    "pop_size = 500\n",
    "pm = PopulationManager(pop_size, get_model_func, reward_function, update_env_f, get_new_pop_f)\n",
    "\n",
    "# Run population manager\n",
    "num_epochs = 10\n",
    "last_pop, env = pm.run(num_epochs)"
   ]
  },
  {
   "cell_type": "code",
   "execution_count": 4,
   "metadata": {
    "scrolled": false
   },
   "outputs": [
    {
     "data": {
      "image/png": "[encoded data removed]",
      "text/plain": [
       "<Figure size 432x288 with 1 Axes>"
      ]
     },
     "metadata": {
      "needs_background": "light"
     },
     "output_type": "display_data"
    }
   ],
   "source": [
    "plot_rewards(env)"
   ]
  },
  {
   "cell_type": "markdown",
   "metadata": {},
   "source": [
    "# Guess the function"
   ]
  },
  {
   "cell_type": "code",
   "execution_count": 5,
   "metadata": {},
   "outputs": [],
   "source": [
    "class GuessFunction(Game):\n",
    "    \"\"\"This game consists in learning a function from n dimensions to m dimensions, evaluating points\n",
    "        on a grid.\n",
    "\n",
    "        1 player game.\n",
    "\n",
    "        Agent interface:\n",
    "        - input: n-dimensional np.array filled with values\n",
    "        - output: m-dimensional np.array filled with values\n",
    "        \"\"\"\n",
    "    def __init__(self, func, input_dim, input_domains, sample_every):\n",
    "        self.func = func\n",
    "        self.input_dim = input_dim # input dimension\n",
    "        self.input_domains = input_domains # domain for each scalar in the input vector\n",
    "        self.sample_every = sample_every # sampling bin for each scalar in the input vector\n",
    "\n",
    "    def play(self, agent):\n",
    "        error = 0\n",
    "        ranges = []\n",
    "        for i in range(self.input_dim):\n",
    "            input_domain = self.input_domains[i]\n",
    "            sample_every = self.sample_every[i]\n",
    "            ranges.append(np.arange(input_domain[0], input_domain[1], sample_every))\n",
    "        for input_tuple in product(*ranges):\n",
    "            input_array = np.array(input_tuple)\n",
    "            predictions = agent.predict(input_array)\n",
    "            error += np.sum(np.square(self.func(input_array) - predictions))\n",
    "        reward = -error\n",
    "        return reward"
   ]
  },
  {
   "cell_type": "code",
   "execution_count": 6,
   "metadata": {
    "scrolled": true
   },
   "outputs": [
    {
     "name": "stdout",
     "output_type": "stream",
     "text": [
      "Epoch 0, best reward is -9534286.311560875\n",
      "Epoch 1, best reward is -6987648.383535875\n",
      "Epoch 2, best reward is -6490259.639731796\n",
      "Epoch 3, best reward is -5149225.19563386\n",
      "Epoch 4, best reward is -5149225.19563386\n",
      "Epoch 5, best reward is -4546022.682501136\n",
      "Epoch 6, best reward is -4397444.844161073\n",
      "Epoch 7, best reward is -3879111.808629941\n",
      "Epoch 8, best reward is -3474253.7502524913\n",
      "Epoch 9, best reward is -3087544.725461742\n",
      "Epoch 10, best reward is -3065338.4643886457\n",
      "Epoch 11, best reward is -2723143.559051935\n",
      "Epoch 12, best reward is -2296758.0713791284\n",
      "Epoch 13, best reward is -2149211.885071764\n",
      "Epoch 14, best reward is -1260881.9751794913\n",
      "Epoch 15, best reward is -1340910.6618442934\n",
      "Epoch 16, best reward is -959377.7539080535\n",
      "Epoch 17, best reward is -1083430.563539475\n",
      "Epoch 18, best reward is -823707.4236572549\n",
      "Epoch 19, best reward is -745784.9174229809\n",
      "Epoch 20, best reward is -609777.627201405\n",
      "Epoch 21, best reward is -490541.2056098271\n",
      "Epoch 22, best reward is -481059.4758902475\n",
      "Epoch 23, best reward is -480470.0559228678\n",
      "Epoch 24, best reward is -469833.3791156813\n",
      "Epoch 25, best reward is -459759.74355429097\n",
      "Epoch 26, best reward is -459759.74355429097\n",
      "Epoch 27, best reward is -445091.88516338135\n",
      "Epoch 28, best reward is -445091.88516338135\n",
      "Epoch 29, best reward is -445091.88516338135\n",
      "Epoch 30, best reward is -434782.30591324385\n",
      "Epoch 31, best reward is -434329.4320667924\n",
      "Epoch 32, best reward is -434742.0287970389\n",
      "Epoch 33, best reward is -439662.50646537414\n",
      "Epoch 34, best reward is -416025.0491202494\n",
      "Epoch 35, best reward is -412453.3197459045\n",
      "Epoch 36, best reward is -409164.316443055\n",
      "Epoch 37, best reward is -409164.316443055\n",
      "Epoch 38, best reward is -406373.8952363519\n",
      "Epoch 39, best reward is -406373.8952363519\n",
      "Epoch 40, best reward is -406373.8952363519\n",
      "Epoch 41, best reward is -401354.1369840748\n",
      "Epoch 42, best reward is -394508.85537381185\n",
      "Epoch 43, best reward is -395774.0511126736\n",
      "Epoch 44, best reward is -393262.86941213324\n",
      "Epoch 45, best reward is -388988.9420900723\n",
      "Epoch 46, best reward is -388963.62256833975\n",
      "Epoch 47, best reward is -388963.62256833975\n",
      "Epoch 48, best reward is -388963.62256833975\n",
      "Epoch 49, best reward is -388963.62256833975\n"
     ]
    }
   ],
   "source": [
    "# Game\n",
    "game_func = lambda i: np.array([2*i[0]-3*i[1]+4, i[1]-8*i[2]-5])\n",
    "input_dim = 3\n",
    "input_domains = [(-1,1),(-1,1),(3,7)]\n",
    "sample_every = [0.1, 0.1, 0.3]\n",
    "game_creation_function = lambda: GuessFunction(game_func, input_dim, input_domains, sample_every)\n",
    "\n",
    "# Model\n",
    "layer_sizes = [3, 5, 2]\n",
    "get_model_func = lambda: FeedForwardNetwork(layer_sizes, ActivationFunctions.get_arctan(), ActivationFunctions.get_id())\n",
    "\n",
    "# Game-Model interface\n",
    "predict_func = lambda model, inputs: model.predict(inputs)\n",
    "agent_wrapper_func = get_agent_wrapper_func(predict_func)\n",
    "\n",
    "# Reward function and update env function\n",
    "reward_function, update_env_f = RewardBuilderGame() \\\n",
    ".with_game_creation_function(game_creation_function) \\\n",
    ".with_agent_wrapper_func(agent_wrapper_func) \\\n",
    ".get()\n",
    "\n",
    "# Update population function\n",
    "get_new_pop_f = PopulationUpdateBuilderStatic() \\\n",
    ".add_operator(\"es_1_mutation\", 0.6, 0.3, 0.5) \\\n",
    ".add_operator(\"es_2_crossover\", 0.3, 0.1) \\\n",
    ".add_operator(\"es_1_copy\", 0.1) \\\n",
    ".add_selector_f(SelectorFunctionFactory.get_geometric_selector_function(0.3)) \\\n",
    ".get()\n",
    "\n",
    "# Population manager\n",
    "pop_size = 30\n",
    "pm = PopulationManager(pop_size, get_model_func, reward_function, update_env_f, get_new_pop_f)\n",
    "\n",
    "# Run population manager\n",
    "num_epochs = 50\n",
    "last_pop, env = pm.run(num_epochs)"
   ]
  },
  {
   "cell_type": "code",
   "execution_count": 7,
   "metadata": {},
   "outputs": [
    {
     "data": {
      "image/png": "[encoded data removed]",
      "text/plain": [
       "<Figure size 432x288 with 1 Axes>"
      ]
     },
     "metadata": {
      "needs_background": "light"
     },
     "output_type": "display_data"
    }
   ],
   "source": [
    "plot_rewards(env)"
   ]
  },
  {
   "cell_type": "code",
   "execution_count": 8,
   "metadata": {},
   "outputs": [
    {
     "data": {
      "text/plain": [
       "(array([[  4.65589344, -46.13080736]]), array([  3.5, -44.5]))"
      ]
     },
     "execution_count": 8,
     "metadata": {},
     "output_type": "execute_result"
    }
   ],
   "source": [
    "test_array = np.array([0.5,0.5,5])\n",
    "last_pop[0].predict(test_array), game_func(test_array)"
   ]
  },
  {
   "cell_type": "markdown",
   "metadata": {},
   "source": [
    "# Play Tris"
   ]
  },
  {
   "cell_type": "code",
   "execution_count": 27,
   "metadata": {},
   "outputs": [],
   "source": [
    "PLAYER_1 = 1\n",
    "PLAYER_2 = -1\n",
    "EMPTY = 0\n",
    "DRAW = 0\n",
    "CONTINUE = 2\n",
    "PLAYERS = [PLAYER_1, PLAYER_2]\n",
    "\n",
    "class Tris(Game):\n",
    "    def __init__(self):\n",
    "        self.board = np.array([np.array([EMPTY for i in range(3)]) for j in range(3)])\n",
    "        \n",
    "    def check_win(self):\n",
    "        # check rows\n",
    "        board = self.board\n",
    "        for row in board:\n",
    "            for player in PLAYERS:\n",
    "                if np.all(np.equal(row, np.full(3, player))):\n",
    "                    return player\n",
    "        \n",
    "        # check cols\n",
    "        board = self.board.transpose()\n",
    "        for row in board:\n",
    "            for player in PLAYERS:\n",
    "                if np.all(np.equal(row, np.full(3, player))):\n",
    "                    return player\n",
    "                \n",
    "        # check diagonals\n",
    "        diags = []\n",
    "        diags.append(np.array([board[i][i] for i in range(3)]))\n",
    "        diags.append(np.array([board[i][3 - i - 1] for i in range(3)]))\n",
    "        for row in diags:\n",
    "            for player in PLAYERS:\n",
    "                if np.all(np.equal(row, np.full(3, player))):\n",
    "                    return player\n",
    "        \n",
    "        # check draw\n",
    "        exist_empty = False\n",
    "        for row in self.board:\n",
    "            for cell in row:\n",
    "                if cell == EMPTY:\n",
    "                    exist_empty = True\n",
    "        if not exist_empty:\n",
    "            return DRAW\n",
    "        \n",
    "        return CONTINUE\n",
    "    \n",
    "    def extract_move(self, prediction):\n",
    "        highest_value = -100000\n",
    "        highest_value_index = -1\n",
    "        for i,pred in enumerate(prediction):\n",
    "            if self.board[i//3][i%3] == EMPTY and pred > highest_value:\n",
    "                highest_value = pred\n",
    "                highest_value_index = i\n",
    "        return highest_value_index\n",
    "    \n",
    "    def do_move(self, move, player):\n",
    "        self.board[move//3][move%3] = player\n",
    "        \n",
    "    def opposite_board(self):\n",
    "        return np.array([np.array([PLAYER_2 if self.board[row][col] == PLAYER_1\n",
    "                                   else PLAYER_1 if self.board[row][col] == PLAYER_2\n",
    "                                   else EMPTY for col in range(3)]) for row in range(3)])\n",
    "    \n",
    "    def play(self, agent_1, agent_2, interactive=False):\n",
    "        player_turn = np.random.choice(PLAYERS)\n",
    "        \n",
    "        if interactive:\n",
    "            self.print_board() \n",
    "        \n",
    "        result = self.check_win()\n",
    "        while result == CONTINUE:\n",
    "            if player_turn == PLAYER_1:\n",
    "                prediction = agent_1.predict(self.board)\n",
    "            else:\n",
    "                prediction = agent_2.predict(self.opposite_board())\n",
    "              \n",
    "            move = self.extract_move(prediction)\n",
    "            self.do_move(move, player_turn)\n",
    "            \n",
    "            if interactive:\n",
    "                self.print_board()\n",
    "            \n",
    "            if player_turn == PLAYER_1:\n",
    "                player_turn = PLAYER_2\n",
    "            else:\n",
    "                player_turn = PLAYER_1\n",
    "                \n",
    "            result = self.check_win()\n",
    "            \n",
    "        if interactive:\n",
    "                self.print_board()    \n",
    "        \n",
    "        return result\n",
    "    \n",
    "    def print_board(self):\n",
    "        for row in self.board:\n",
    "            for cell in row:\n",
    "                print(cell, end=\" \")\n",
    "            print(\"\")\n",
    "        print(\"-\"*30)"
   ]
  },
  {
   "cell_type": "code",
   "execution_count": 28,
   "metadata": {},
   "outputs": [],
   "source": [
    "from evoframe.reward_builders.reward_builder_game import TournamentMode"
   ]
  },
  {
   "cell_type": "code",
   "execution_count": 13,
   "metadata": {
    "scrolled": true
   },
   "outputs": [
    {
     "name": "stdout",
     "output_type": "stream",
     "text": [
      "Epoch 0, best reward is 1\n",
      "Epoch 1, best reward is 2\n",
      "Epoch 2, best reward is 3\n",
      "Epoch 3, best reward is 4\n",
      "Epoch 4, best reward is 5\n",
      "Epoch 5, best reward is 6\n",
      "Epoch 6, best reward is 7\n",
      "Epoch 7, best reward is 8\n",
      "Epoch 8, best reward is 9\n",
      "Epoch 9, best reward is 10\n",
      "Epoch 10, best reward is 11\n",
      "Epoch 11, best reward is 12\n",
      "Epoch 12, best reward is 13\n",
      "Epoch 13, best reward is 13\n",
      "Epoch 14, best reward is 12\n",
      "Epoch 15, best reward is 14\n",
      "Epoch 16, best reward is 15\n",
      "Epoch 17, best reward is 12\n",
      "Epoch 18, best reward is 15\n",
      "Epoch 19, best reward is 12\n",
      "Epoch 20, best reward is 15\n",
      "Epoch 21, best reward is 16\n",
      "Epoch 22, best reward is 16\n",
      "Epoch 23, best reward is 19\n",
      "Epoch 24, best reward is 20\n",
      "Epoch 25, best reward is 21\n",
      "Epoch 26, best reward is 22\n",
      "Epoch 27, best reward is 23\n",
      "Epoch 28, best reward is 23\n",
      "Epoch 29, best reward is 23\n",
      "Epoch 30, best reward is 25\n",
      "Epoch 31, best reward is 21\n",
      "Epoch 32, best reward is 22\n",
      "Epoch 33, best reward is 21\n",
      "Epoch 34, best reward is 23\n",
      "Epoch 35, best reward is 24\n",
      "Epoch 36, best reward is 27\n",
      "Epoch 37, best reward is 24\n",
      "Epoch 38, best reward is 24\n",
      "Epoch 39, best reward is 23\n",
      "Epoch 40, best reward is 24\n",
      "Epoch 41, best reward is 25\n",
      "Epoch 42, best reward is 27\n",
      "Epoch 43, best reward is 24\n",
      "Epoch 44, best reward is 26\n",
      "Epoch 45, best reward is 27\n",
      "Epoch 46, best reward is 28\n",
      "Epoch 47, best reward is 26\n",
      "Epoch 48, best reward is 24\n",
      "Epoch 49, best reward is 28\n",
      "Epoch 50, best reward is 26\n",
      "Epoch 51, best reward is 28\n",
      "Epoch 52, best reward is 26\n",
      "Epoch 53, best reward is 24\n",
      "Epoch 54, best reward is 26\n",
      "Epoch 55, best reward is 26\n",
      "Epoch 56, best reward is 26\n",
      "Epoch 57, best reward is 26\n",
      "Epoch 58, best reward is 26\n",
      "Epoch 59, best reward is 26\n",
      "Epoch 60, best reward is 22\n",
      "Epoch 61, best reward is 24\n",
      "Epoch 62, best reward is 28\n",
      "Epoch 63, best reward is 28\n",
      "Epoch 64, best reward is 28\n",
      "Epoch 65, best reward is 30\n",
      "Epoch 66, best reward is 27\n",
      "Epoch 67, best reward is 27\n",
      "Epoch 68, best reward is 29\n",
      "Epoch 69, best reward is 29\n",
      "Epoch 70, best reward is 27\n",
      "Epoch 71, best reward is 29\n",
      "Epoch 72, best reward is 27\n",
      "Epoch 73, best reward is 28\n",
      "Epoch 74, best reward is 29\n",
      "Epoch 75, best reward is 28\n",
      "Epoch 76, best reward is 27\n",
      "Epoch 77, best reward is 28\n",
      "Epoch 78, best reward is 27\n",
      "Epoch 79, best reward is 28\n",
      "Epoch 80, best reward is 25\n",
      "Epoch 81, best reward is 26\n",
      "Epoch 82, best reward is 26\n",
      "Epoch 83, best reward is 22\n",
      "Epoch 84, best reward is 22\n",
      "Epoch 85, best reward is 24\n",
      "Epoch 86, best reward is 23\n",
      "Epoch 87, best reward is 21\n",
      "Epoch 88, best reward is 20\n",
      "Epoch 89, best reward is 22\n",
      "Epoch 90, best reward is 19\n",
      "Epoch 91, best reward is 21\n",
      "Epoch 92, best reward is 21\n",
      "Epoch 93, best reward is 23\n",
      "Epoch 94, best reward is 24\n",
      "Epoch 95, best reward is 28\n",
      "Epoch 96, best reward is 25\n",
      "Epoch 97, best reward is 26\n",
      "Epoch 98, best reward is 27\n",
      "Epoch 99, best reward is 27\n"
     ]
    }
   ],
   "source": [
    "# Game\n",
    "game_creation_function = lambda: Tris()\n",
    "\n",
    "# Model\n",
    "layer_sizes = [9, 5, 5, 9]\n",
    "get_model_func = lambda: FeedForwardNetwork(layer_sizes, ActivationFunctions.get_sigmoid(), ActivationFunctions.get_sigmoid())\n",
    "\n",
    "# Game-Model interface\n",
    "def predict_func(model, inputs):\n",
    "    # In Tris, 'inputs' is a 3x3 np.array, thus we must flatten it to a 9x1 np.array\n",
    "    # output is a 9x1 vector, where the cell with highest value corresponding\n",
    "    # to a valid move will be the chosen move\n",
    "    return model.predict(inputs.flatten())[0]\n",
    "agent_wrapper_func = get_agent_wrapper_func(predict_func)\n",
    "\n",
    "# Reward function and update env function\n",
    "# Since Tris is a two-players game, we can compute the reward with a tournament against the current generation\n",
    "reward_function, update_env_f = RewardBuilderGame() \\\n",
    ".with_game_creation_function(game_creation_function) \\\n",
    ".with_agent_wrapper_func(agent_wrapper_func) \\\n",
    ".with_competitive_tournament(TournamentMode.VS_BEST_OF_EACH_GEN) \\\n",
    ".with_keep_only(30) \\\n",
    ".get()\n",
    "\n",
    "# Update population function\n",
    "get_new_pop_f = PopulationUpdateBuilderStatic() \\\n",
    ".add_operator(\"es_1_mutation\", 0.6, 0.3, 0.5) \\\n",
    ".add_operator(\"es_2_crossover\", 0.3, 0.1) \\\n",
    ".add_operator(\"es_1_copy\", 0.1) \\\n",
    ".add_selector_f(SelectorFunctionFactory.get_geometric_selector_function(0.3)) \\\n",
    ".get()\n",
    "\n",
    "# Population manager\n",
    "pop_size = 50\n",
    "pm = PopulationManager(pop_size, get_model_func, reward_function, update_env_f, get_new_pop_f)\n",
    "\n",
    "# Run population manager\n",
    "num_epochs = 100\n",
    "last_pop, env = pm.run(num_epochs)"
   ]
  },
  {
   "cell_type": "code",
   "execution_count": 15,
   "metadata": {},
   "outputs": [
    {
     "data": {
      "image/png": "[encoded data removed]",
      "text/plain": [
       "<Figure size 432x288 with 1 Axes>"
      ]
     },
     "metadata": {
      "needs_background": "light"
     },
     "output_type": "display_data"
    }
   ],
   "source": [
    "plot_rewards(env)"
   ]
  },
  {
   "cell_type": "code",
   "execution_count": null,
   "metadata": {
    "scrolled": true
   },
   "outputs": [
    {
     "name": "stdout",
     "output_type": "stream",
     "text": [
      "Epoch 0, best reward is 1\n",
      "Epoch 1, best reward is 2\n",
      "Epoch 2, best reward is 3\n",
      "Epoch 3, best reward is 4\n",
      "Epoch 4, best reward is 5\n",
      "Epoch 5, best reward is 5\n",
      "Epoch 6, best reward is 7\n",
      "Epoch 7, best reward is 8\n",
      "Epoch 8, best reward is 9\n",
      "Epoch 9, best reward is 10\n",
      "Epoch 10, best reward is 9\n",
      "Epoch 11, best reward is 9\n",
      "Epoch 12, best reward is 10\n",
      "Epoch 13, best reward is 10\n",
      "Epoch 14, best reward is 11\n",
      "Epoch 15, best reward is 12\n",
      "Epoch 16, best reward is 11\n",
      "Epoch 17, best reward is 10\n",
      "Epoch 18, best reward is 9\n",
      "Epoch 19, best reward is 12\n",
      "Epoch 20, best reward is 11\n",
      "Epoch 21, best reward is 12\n",
      "Epoch 22, best reward is 14\n",
      "Epoch 23, best reward is 15\n",
      "Epoch 24, best reward is 13\n",
      "Epoch 25, best reward is 14\n",
      "Epoch 26, best reward is 14\n",
      "Epoch 27, best reward is 15\n",
      "Epoch 28, best reward is 13\n",
      "Epoch 29, best reward is 20\n",
      "Epoch 30, best reward is 15\n",
      "Epoch 31, best reward is 16\n",
      "Epoch 32, best reward is 20\n",
      "Epoch 33, best reward is 13\n"
     ]
    }
   ],
   "source": [
    "# Game\n",
    "game_creation_function = lambda: Tris()\n",
    "\n",
    "# Model\n",
    "layer_sizes = [18, 9, 9]\n",
    "get_model_func = lambda: FeedForwardNetwork(layer_sizes, ActivationFunctions.get_sigmoid(), ActivationFunctions.get_sigmoid())\n",
    "\n",
    "# Game-Model interface\n",
    "def predict_func(model, inputs):\n",
    "    # In Tris, 'inputs' is a 3x3 np.array\n",
    "    # output is a 9x1 vector, where the cell with highest value corresponding\n",
    "    # to a valid move will be the chosen move\n",
    "    board = inputs\n",
    "    inputs = []\n",
    "    for row in board:\n",
    "        for cell in row:\n",
    "            if cell == PLAYER_1:\n",
    "                inputs += [1, 0]\n",
    "            elif cell == PLAYER_2:\n",
    "                inputs += [0, 1]\n",
    "            else:\n",
    "                inputs += [0, 0]\n",
    "    return model.predict(np.array(inputs))[0]\n",
    "agent_wrapper_func = get_agent_wrapper_func(predict_func)\n",
    "\n",
    "# Reward function and update env function\n",
    "# Since Tris is a two-players game, we can compute the reward with a tournament against the current generation\n",
    "reward_function, update_env_f = RewardBuilderGame() \\\n",
    ".with_game_creation_function(game_creation_function) \\\n",
    ".with_agent_wrapper_func(agent_wrapper_func) \\\n",
    ".with_competitive_tournament(TournamentMode.VS_BEST_OF_EACH_GEN) \\\n",
    ".with_keep_only(30) \\\n",
    ".get()\n",
    "\n",
    "# Update population function\n",
    "get_new_pop_f = PopulationUpdateBuilderStatic() \\\n",
    ".add_operator(\"es_1_mutation\", 0.6, 0.3, 0.5) \\\n",
    ".add_operator(\"es_2_crossover\", 0.3, 0.1) \\\n",
    ".add_operator(\"es_1_copy\", 0.1) \\\n",
    ".add_selector_f(SelectorFunctionFactory.get_geometric_selector_function(0.3)) \\\n",
    ".get()\n",
    "\n",
    "# Population manager\n",
    "pop_size = 100\n",
    "pm = PopulationManager(pop_size, get_model_func, reward_function, update_env_f, get_new_pop_f)\n",
    "\n",
    "# Run population manager\n",
    "num_epochs = 300\n",
    "last_pop, env = pm.run(num_epochs)"
   ]
  },
  {
   "cell_type": "code",
   "execution_count": 33,
   "metadata": {},
   "outputs": [
    {
     "data": {
      "image/png": "[encoded data removed]",
      "text/plain": [
       "<Figure size 432x288 with 1 Axes>"
      ]
     },
     "metadata": {
      "needs_background": "light"
     },
     "output_type": "display_data"
    }
   ],
   "source": [
    "plot_rewards(env)"
   ]
  },
  {
   "cell_type": "code",
   "execution_count": 34,
   "metadata": {},
   "outputs": [],
   "source": [
    "class AgentHuman:\n",
    "    def __init__(self):\n",
    "        pass\n",
    "    \n",
    "    def predict(self, board):\n",
    "        move = int(input(\"Select move: \"))\n",
    "        prediction = [1 if i == move else 0 for i in range(9)]\n",
    "        return prediction"
   ]
  },
  {
   "cell_type": "code",
   "execution_count": 36,
   "metadata": {
    "scrolled": true
   },
   "outputs": [
    {
     "name": "stdout",
     "output_type": "stream",
     "text": [
      "0 0 0 \n",
      "0 0 0 \n",
      "0 0 0 \n",
      "------------------------------\n",
      "0 0 0 \n",
      "0 0 0 \n",
      "0 0 -1 \n",
      "------------------------------\n",
      "Select move: 0\n",
      "1 0 0 \n",
      "0 0 0 \n",
      "0 0 -1 \n",
      "------------------------------\n",
      "1 0 0 \n",
      "0 0 0 \n",
      "0 -1 -1 \n",
      "------------------------------\n",
      "Select move: 4\n",
      "1 0 0 \n",
      "0 1 0 \n",
      "0 -1 -1 \n",
      "------------------------------\n",
      "1 0 0 \n",
      "0 1 -1 \n",
      "0 -1 -1 \n",
      "------------------------------\n",
      "Select move: 1\n",
      "1 1 0 \n",
      "0 1 -1 \n",
      "0 -1 -1 \n",
      "------------------------------\n",
      "1 1 -1 \n",
      "0 1 -1 \n",
      "0 -1 -1 \n",
      "------------------------------\n",
      "1 1 -1 \n",
      "0 1 -1 \n",
      "0 -1 -1 \n",
      "------------------------------\n"
     ]
    },
    {
     "data": {
      "text/plain": [
       "-1"
      ]
     },
     "execution_count": 36,
     "metadata": {},
     "output_type": "execute_result"
    }
   ],
   "source": [
    "game = Tris()\n",
    "game.play(AgentHuman(), agent_wrapper_func(last_pop[0]), interactive=True)"
   ]
  },
  {
   "cell_type": "code",
   "execution_count": null,
   "metadata": {},
   "outputs": [],
   "source": []
  }
 ],
 "metadata": {
  "kernelspec": {
   "display_name": "Python 3",
   "language": "python",
   "name": "python3"
  },
  "language_info": {
   "codemirror_mode": {
    "name": "ipython",
    "version": 3
   },
   "file_extension": ".py",
   "mimetype": "text/x-python",
   "name": "python",
   "nbconvert_exporter": "python",
   "pygments_lexer": "ipython3",
   "version": "3.6.9"
  }
 },
 "nbformat": 4,
 "nbformat_minor": 2
}
